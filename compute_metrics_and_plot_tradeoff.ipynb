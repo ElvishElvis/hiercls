{
 "cells": [
  {
   "cell_type": "code",
   "execution_count": null,
   "id": "c8ea8fb7",
   "metadata": {},
   "outputs": [],
   "source": [
    "import collections\n",
    "import itertools\n",
    "import pathlib\n",
    "import pickle\n",
    "from typing import Optional, Sequence, Tuple, Union\n",
    "\n",
    "import matplotlib\n",
    "import matplotlib.pyplot as plt\n",
    "import numpy as np\n",
    "\n",
    "import hier\n",
    "import main\n",
    "import metrics"
   ]
  },
  {
   "cell_type": "code",
   "execution_count": null,
   "id": "e8775613",
   "metadata": {},
   "outputs": [],
   "source": [
    "Experiment = collections.namedtuple('Experiment', ['dir', 'epoch'])"
   ]
  },
  {
   "cell_type": "code",
   "execution_count": null,
   "id": "795b8092",
   "metadata": {},
   "outputs": [],
   "source": [
    "# TINY IMAGENET\n",
    "experiment_root = pathlib.Path('/home/jack/projects/2022-01-hierarchical/experiments/2022-02-28-tiny-incomplete-lr0.1-b256/')\n",
    "with open('resources/hierarchy/tiny_imagenet_fiveai.csv') as f:\n",
    "    tree, names = hier.make_hierarchy_from_edges(hier.load_edges(f))\n",
    "experiments = {\n",
    "    'flat': Experiment(experiment_root / 'complete-flat', 100),\n",
    "    'hier': Experiment(experiment_root / 'complete-hier', 100),\n",
    "    'hxe-0.1': Experiment(experiment_root / 'complete-hxe-0.1', 100),\n",
    "    'hxe-0.2': Experiment(experiment_root / 'complete-hxe-0.2', 100),\n",
    "    'hxe-0.5': Experiment(experiment_root / 'complete-hxe-0.5', 100),\n",
    "    # 'multilabel': experiment_root / 'complete-multilabel-sum',\n",
    "}\n",
    "    \n",
    "# # TINY IMAGENET - HIERARCHY SUBSET\n",
    "# with open('resources/hierarchy/tiny_imagenet_fiveai.csv') as f:\n",
    "#     tree, names = hier.make_hierarchy_from_edges(hier.load_edges(f))\n",
    "# with open('resources/hierarchy/tiny_imagenet_fiveai_incomplete_subset.txt') as f:\n",
    "#     name_subset = list(map(str.strip, f.readlines()))\n",
    "# name_to_node = {name: i for i, name in enumerate(names)}\n",
    "# node_subset = [name_to_node[name] for name in name_subset]\n",
    "# tree, _, _ = hier.subtree(tree, node_subset)\n",
    "# experiment_dirs = {\n",
    "#     'flat': experiment_root / 'incomplete-flat',\n",
    "#     'hier': experiment_root / 'incomplete-hier',\n",
    "# }\n",
    "\n",
    "# CONDITIONAL NORMALIZATION EXPERIMENT - TINY IMAGENET\n",
    "# experiment_root = pathlib.Path(\n",
    "#     '/home/jack/projects/2022-01-hierarchical/experiments/2022-02-28-tiny-imagenet/')\n",
    "# experiments = {\n",
    "#     'flat': Experiment(experiment_root / 'flat', 100),\n",
    "#     'hier': Experiment(experiment_root / 'hier', 100),\n",
    "#     'hier-norm-parent': Experiment(experiment_root / 'hier-norm-parent', 100),\n",
    "#     'hier-norm-self': Experiment(experiment_root / 'hier-norm-self', 100),\n",
    "# }\n",
    "# with open('resources/hierarchy/tiny_imagenet_fiveai.csv') as f:\n",
    "#     tree, names = hier.make_hierarchy_from_edges(hier.load_edges(f))\n",
    "\n",
    "# # IMAGENET\n",
    "# experiment_root = pathlib.Path(\n",
    "#     '/home/jack/projects/2022-01-hierarchical/experiments/2022-03-05-imagenet-acc/')\n",
    "# with open('resources/hierarchy/imagenet_fiveai.csv') as f:\n",
    "#     tree, names = hier.make_hierarchy_from_edges(hier.load_edges(f))\n",
    "# experiments = {\n",
    "#     'flat': Experiment(experiment_root / 'flat-lr-0.01-wd-0.0003-ep-15', 15),\n",
    "#     'hier': Experiment(experiment_root / 'hier-lr-0.01-wd-0.0003-ep-15-b-64', 15),\n",
    "# }\n",
    "\n",
    "# # INATURALIST 2018\n",
    "# experiment_root = pathlib.Path(\n",
    "#     '/home/jack/projects/2022-01-hierarchical/experiments/2022-03-01-inat18-acc/')\n",
    "# with open('resources/hierarchy/inat18.csv') as f:\n",
    "#     tree, names = hier.make_hierarchy_from_edges(hier.load_edges(f))\n",
    "# experiments = {\n",
    "#     'flat-finetune': Experiment(experiment_root / '400px-finetune-lr-0.1-wd-0.0001-ep-20', 20),\n",
    "#     'hier-finetune': Experiment(experiment_root / '400px-hier-finetune-lr-0.1-wd-0.0001-ep-20', 20),\n",
    "#     'flat-scratch': Experiment(experiment_root / 'scratch-lr-0.1-wd-0.0001-ep-20', 20),\n",
    "# #     'hier-finetune': Experiment(experiment_root / '400px-hier-finetune-lr-0.1-wd-0.0001-ep-20', 20),\n",
    "# #     'hxe-0.1': experiment_root / 'complete-hxe-0.1',\n",
    "# #     'hxe-0.2': experiment_root / 'complete-hxe-0.2',\n",
    "# #     'hxe-0.5': experiment_root / 'complete-hxe-0.5',\n",
    "# #     'multilabel': experiment_root / 'complete-multilabel-sum',\n",
    "# }\n",
    "\n",
    "\n",
    "# # COARSE LABELS EXPERIMENT - TINY-IMAGENET, RESNET18\n",
    "# experiment_root = pathlib.Path(\n",
    "#     '/home/jack/projects/2022-01-hierarchical/experiments/2022-03-10-tiny-imagenet-coarsen/')\n",
    "# with open('resources/hierarchy/tiny_imagenet_fiveai.csv') as f:\n",
    "#     tree, names = hier.make_hierarchy_from_edges(hier.load_edges(f))\n",
    "# experiments = {\n",
    "#     k: Experiment(experiment_root / ('coarsen-' + k), 100) for k in [\n",
    "#         'beta-2-1-flat', 'beta-1-1-flat', # 'beta-1-2-flat',\n",
    "#         'beta-2-1-hier', 'beta-1-1-hier', # 'beta-1-2-hier',\n",
    "#     ]\n",
    "# }"
   ]
  },
  {
   "cell_type": "code",
   "execution_count": null,
   "id": "085308ad",
   "metadata": {},
   "outputs": [],
   "source": [
    "def load_results(experiment_dir, epoch):\n",
    "    epoch_str = '{:04d}'.format(epoch)\n",
    "    outputs_file = experiment_dir / f'predictions/output-epoch-{epoch_str}.pkl'\n",
    "    # operating_points_file = experiment_dir / f'predictions/operating-points-epoch-{epoch_str}.pkl'\n",
    "    full_outputs_file = experiment_dir / f'predictions/full-output-epoch-{epoch_str}.pkl'\n",
    "\n",
    "    with open(outputs_file, 'rb') as f:\n",
    "        outputs = pickle.load(f)\n",
    "    with open(full_outputs_file, 'rb') as f:\n",
    "        full_outputs = pickle.load(f)\n",
    "\n",
    "    outputs.update(full_outputs)\n",
    "    return outputs"
   ]
  },
  {
   "cell_type": "code",
   "execution_count": null,
   "id": "559c2353",
   "metadata": {},
   "outputs": [],
   "source": [
    "outputs = load_results(*experiments[sorted(experiments.keys())[0]])"
   ]
  },
  {
   "cell_type": "code",
   "execution_count": null,
   "id": "bb104b7f",
   "metadata": {},
   "outputs": [],
   "source": [
    "# Re-normalize.\n",
    "# outputs['prob'] = outputs['prob'] / outputs['prob'][:, [0]]"
   ]
  },
  {
   "cell_type": "code",
   "execution_count": null,
   "id": "666d14e7",
   "metadata": {},
   "outputs": [],
   "source": [
    "specificity = -tree.num_leaf_descendants()"
   ]
  },
  {
   "cell_type": "code",
   "execution_count": null,
   "id": "2933bc72",
   "metadata": {},
   "outputs": [],
   "source": [
    "# Minimize number of leaf descendants then maximize depth.\n",
    "node_mask = (tree.num_children() != 1)\n",
    "pred_seqs = [\n",
    "    main.prediction_sequence(specificity, p, threshold=0.5, condition=node_mask)\n",
    "    for p in outputs['prob']\n",
    "]\n",
    "prob_seqs = [outputs['prob'][i, pred_i] for i, pred_i in enumerate(pred_seqs)]"
   ]
  },
  {
   "cell_type": "code",
   "execution_count": null,
   "id": "028af761",
   "metadata": {},
   "outputs": [],
   "source": [
    "is_leaf = tree.leaf_mask()\n",
    "most_specific_pred = np.array([pr[-1] for pr in pred_seqs])\n",
    "np.all(is_leaf[most_specific_pred])"
   ]
  },
  {
   "cell_type": "code",
   "execution_count": null,
   "id": "52b3f071",
   "metadata": {},
   "outputs": [],
   "source": [
    "# Truncate at LCA.\n",
    "find_lca_fn = hier.FindLCA(tree)\n",
    "lca_seqs = [find_lca_fn(gt, pr) for gt, pr in zip(outputs['gt'], pred_seqs)]\n",
    "pred_seqs = [hier.truncate_given_lca(gt, pr, lca)\n",
    "             for gt, pr, lca in zip(outputs['gt'], pred_seqs, lca_seqs)]\n",
    "# TODO: Remove redundant elements from pred_seqs and scores?\n",
    "# How many examples were truncated?\n",
    "len([pr for pr in pred_seqs if len(set(pr)) != len(pr)]) / len(pred_seqs)"
   ]
  },
  {
   "cell_type": "code",
   "execution_count": null,
   "id": "4103a6bc",
   "metadata": {},
   "outputs": [],
   "source": [
    "info_metric = metrics.UniformLeafInfoMetric(tree)\n",
    "depth_metric = metrics.DepthMetric(tree)\n",
    "# depth_metric = metrics.LCAMetric(tree, tree.depths() + 1)\n",
    "metric_fns = {\n",
    "    'exact': lambda gt, pr: pr == gt,\n",
    "    'correct': metrics.IsCorrect(tree),\n",
    "    'info_deficient': info_metric.deficient,\n",
    "    'info_excess': info_metric.excess,\n",
    "    'info_recall': info_metric.recall,\n",
    "    'info_precision': info_metric.precision,\n",
    "    'info_f1': info_metric.f1,\n",
    "    'info_dist': info_metric.dist,\n",
    "    'info_lca': info_metric.value_at_lca,\n",
    "    'info_gt': info_metric.value_at_gt,\n",
    "    'info_pr': info_metric.value_at_pr,\n",
    "    'depth_deficient': depth_metric.deficient,\n",
    "    'depth_excess': depth_metric.excess,\n",
    "    'depth_recall': depth_metric.recall,\n",
    "    'depth_precision': depth_metric.precision,\n",
    "    'depth_f1': depth_metric.f1,\n",
    "    'depth_dist': depth_metric.dist,\n",
    "    'depth_lca': depth_metric.value_at_lca,\n",
    "    'depth_gt': depth_metric.value_at_gt,\n",
    "    'depth_pr': depth_metric.value_at_pr,\n",
    "}"
   ]
  },
  {
   "cell_type": "code",
   "execution_count": null,
   "id": "4a021cd5",
   "metadata": {},
   "outputs": [],
   "source": [
    "metric_seqs = {}\n",
    "for field in metric_fns:\n",
    "    metric_fn = metric_fns[field]\n",
    "    # TODO: Could vectorize if necessary.\n",
    "    metric_seqs[field] = [metric_fn(gt, pr) for gt, pr in zip(outputs['gt'], pred_seqs)]"
   ]
  },
  {
   "cell_type": "code",
   "execution_count": null,
   "id": "d7c864b0",
   "metadata": {},
   "outputs": [],
   "source": [
    "totals, thresholds = main.pool_operating_points(prob_seqs, metric_seqs)"
   ]
  },
  {
   "cell_type": "code",
   "execution_count": null,
   "id": "4d264b12",
   "metadata": {},
   "outputs": [],
   "source": [
    "_, first_index = np.unique(-thresholds, return_index=True)\n",
    "last_index = np.concatenate([first_index[1:], [len(thresholds)]]) - 1\n",
    "thresholds = thresholds[last_index]\n",
    "totals = {k: v[np.concatenate([[0], last_index])] for k, v in totals.items()}"
   ]
  },
  {
   "cell_type": "code",
   "execution_count": null,
   "id": "0f236102",
   "metadata": {},
   "outputs": [],
   "source": [
    "means = {k: v / len(outputs['gt']) for k, v in totals.items()}"
   ]
  },
  {
   "cell_type": "code",
   "execution_count": null,
   "id": "95a51e5c",
   "metadata": {},
   "outputs": [],
   "source": [
    "pred_leaf = main.argmax_where(outputs['prob'], tree.leaf_mask())\n",
    "metrics_leaf = {field: np.mean(metric_fn(outputs['gt'], pred_leaf)) for field, metric_fn in metric_fns.items()}"
   ]
  },
  {
   "cell_type": "code",
   "execution_count": null,
   "id": "0934d737",
   "metadata": {},
   "outputs": [],
   "source": [
    "# Evaluate predictions using majority rule.\n",
    "# Maximize specificity, then maximize confidence.\n",
    "pred_maj = main.arglexmin_where(\n",
    "    np.broadcast_arrays(-outputs['prob'], -specificity),\n",
    "    (outputs['prob'] > 0.5) & node_mask)\n",
    "metrics_maj = {field: np.mean(metric_fn(outputs['gt'], pred_maj)) for field, metric_fn in metric_fns.items()}"
   ]
  },
  {
   "cell_type": "code",
   "execution_count": null,
   "id": "17d05da2",
   "metadata": {},
   "outputs": [],
   "source": [
    "# means['info_recall'] = means['info_lca'] / means['info_gt']\n",
    "# means['info_precision'] = means['info_lca'] / means['info_pr']\n",
    "\n",
    "# # Add 1 to depth to count root node.\n",
    "# means['depth_recall'] = means['depth_lca'] / means['depth_gt']\n",
    "# means['depth_precision'] = means['depth_lca'] / means['depth_pr']\n",
    "\n",
    "# means['depth_recall'] = (means['depth_lca'] + 1) / (means['depth_gt'] + 1)\n",
    "# means['depth_precision'] = (means['depth_lca'] + 1) / (means['depth_pr'] + 1)"
   ]
  },
  {
   "cell_type": "code",
   "execution_count": null,
   "id": "e6b12a0d",
   "metadata": {},
   "outputs": [],
   "source": [
    "def plot_metrics(x, y):\n",
    "    plt.plot(means[x], means[y])\n",
    "    plt.plot(metrics_maj[x], metrics_maj[y], marker='o')\n",
    "    plt.plot(metrics_leaf[x], metrics_leaf[y], marker='s')\n",
    "    plt.xlabel(x)\n",
    "    plt.ylabel(y)\n",
    "    plt.grid()\n",
    "    plt.show()"
   ]
  },
  {
   "cell_type": "code",
   "execution_count": null,
   "id": "cb71fbbc",
   "metadata": {},
   "outputs": [],
   "source": [
    "plot_metrics('exact', 'correct')"
   ]
  },
  {
   "cell_type": "code",
   "execution_count": null,
   "id": "ded8c140",
   "metadata": {},
   "outputs": [],
   "source": [
    "plot_metrics('info_deficient', 'info_excess')"
   ]
  },
  {
   "cell_type": "code",
   "execution_count": null,
   "id": "bcc895ee",
   "metadata": {},
   "outputs": [],
   "source": [
    "plot_metrics('depth_recall', 'depth_precision')"
   ]
  },
  {
   "cell_type": "code",
   "execution_count": null,
   "id": "666679dc",
   "metadata": {},
   "outputs": [],
   "source": [
    "def add_metrics(means):\n",
    "    means = dict(means)\n",
    "#     means['info_recall'] = means['info_lca'] / means['info_gt']\n",
    "#     means['info_precision'] = means['info_lca'] / means['info_pr']\n",
    "#     means['depth_recall'] = means['depth_lca'] / means['depth_gt']\n",
    "#     means['depth_precision'] = means['depth_lca'] / means['depth_pr']\n",
    "    return means"
   ]
  },
  {
   "cell_type": "code",
   "execution_count": null,
   "id": "88d01c51",
   "metadata": {},
   "outputs": [],
   "source": [
    "risk_matrix = {\n",
    "    name: metric_fn(\n",
    "        np.arange(tree.num_nodes())[:, None],\n",
    "        tree.leaf_subset()[None, :])\n",
    "    for name, metric_fn in metric_fns.items()\n",
    "    if '_dist' in name or '_f1' in name\n",
    "}"
   ]
  },
  {
   "cell_type": "code",
   "execution_count": null,
   "id": "2b599d36",
   "metadata": {},
   "outputs": [],
   "source": [
    "def predict_and_evaluate(outputs):\n",
    "    pred = {}\n",
    "    pred['leaf'] = main.argmax_where(outputs['prob'], tree.leaf_mask(), axis=-1)\n",
    "    pred['majority'] = main.arglexmin_where(\n",
    "        np.broadcast_arrays(-outputs['prob'], -specificity),\n",
    "        (outputs['prob'] > 0.5) & node_mask,\n",
    "        axis=-1)\n",
    "\n",
    "    pred['crm_info_f1'] = np.argmax(\n",
    "        np.dot(outputs['prob'][:, tree.leaf_mask()], risk_matrix['info_f1'].T),\n",
    "        axis=-1)\n",
    "    pred['crm_info_dist'] = np.argmin(\n",
    "        np.dot(outputs['prob'][:, tree.leaf_mask()], risk_matrix['info_dist'].T),\n",
    "        axis=-1)\n",
    "    pred['crm_depth_f1'] = np.argmax(\n",
    "        np.dot(outputs['prob'][:, tree.leaf_mask()], risk_matrix['depth_f1'].T),\n",
    "        axis=-1)\n",
    "    pred['crm_depth_dist'] = np.argmin(\n",
    "        np.dot(outputs['prob'][:, tree.leaf_mask()], risk_matrix['depth_dist'].T),\n",
    "        axis=-1)\n",
    "\n",
    "    # Truncate at LCA.\n",
    "    pred = {\n",
    "        method: hier.truncate_given_lca(\n",
    "            outputs['gt'], pred[method],\n",
    "            hier.lca(tree, outputs['gt'], pred[method]))\n",
    "        for method in pred\n",
    "    }\n",
    "    means = {\n",
    "        method: add_metrics({\n",
    "            field: np.mean(fn(outputs['gt'], pred[method]))\n",
    "            for field, fn in metric_fns.items()\n",
    "        })\n",
    "        for method in pred\n",
    "    }\n",
    "    return means"
   ]
  },
  {
   "cell_type": "code",
   "execution_count": null,
   "id": "b0a47e8d",
   "metadata": {},
   "outputs": [],
   "source": [
    "predict_and_evaluate(outputs)"
   ]
  },
  {
   "cell_type": "code",
   "execution_count": null,
   "id": "697919b7",
   "metadata": {},
   "outputs": [],
   "source": [
    "def construct_curves(outputs, min_threshold=None):\n",
    "    pred_seqs = [main.prediction_sequence(specificity, p, threshold=min_threshold, condition=node_mask) for p in outputs['prob']]\n",
    "    prob_seqs = [outputs['prob'][i, pred_i] for i, pred_i in enumerate(pred_seqs)]\n",
    "\n",
    "    # Truncate at LCA.\n",
    "    find_lca_fn = hier.FindLCA(tree)\n",
    "    lca_seqs = [find_lca_fn(gt, pr) for gt, pr in zip(outputs['gt'], pred_seqs)]\n",
    "    pred_seqs = [hier.truncate_given_lca(gt, pr, lca)\n",
    "                 for gt, pr, lca in zip(outputs['gt'], pred_seqs, lca_seqs)]\n",
    "    \n",
    "    metric_seqs = {\n",
    "        field: [fn(gt, pr) for gt, pr in zip(outputs['gt'], pred_seqs)]\n",
    "        for field, fn in metric_fns.items()\n",
    "    }\n",
    "\n",
    "    totals, thresholds = main.pool_operating_points(prob_seqs, metric_seqs)\n",
    "\n",
    "    _, first_index = np.unique(-thresholds, return_index=True)\n",
    "    last_index = np.concatenate([first_index[1:], [len(thresholds)]]) - 1\n",
    "    thresholds = thresholds[last_index]\n",
    "    totals = {k: v[np.concatenate([[0], last_index + 1])] for k, v in totals.items()}\n",
    "\n",
    "    means = {k: v / len(outputs['gt']) for k, v in totals.items()}\n",
    "    means = add_metrics(means)\n",
    "    return means, thresholds"
   ]
  },
  {
   "cell_type": "code",
   "execution_count": null,
   "id": "92aeb371",
   "metadata": {},
   "outputs": [],
   "source": [
    "min_threshold = 0.5\n",
    "# min_threshold = 2 / tree.num_leaf_nodes()\n",
    "# min_threshold = None\n",
    "curves = {}\n",
    "points = {}\n",
    "for name, experiment in experiments.items():\n",
    "    outputs = load_results(*experiment)\n",
    "    curves[name], _ = construct_curves(outputs, min_threshold)\n",
    "    points[name] = predict_and_evaluate(outputs)\n",
    "    print('frac with a leaf node > 0.5:', name,\n",
    "          np.mean(np.max(outputs['prob'][:, tree.leaf_mask()], axis=-1) > 0.5))"
   ]
  },
  {
   "cell_type": "code",
   "execution_count": null,
   "id": "9672e1e3",
   "metadata": {},
   "outputs": [],
   "source": [
    "MARKERS = {\n",
    "    'leaf': 's',\n",
    "    'majority': 'o',\n",
    "}\n",
    "\n",
    "COLORS = dict(zip(experiments,\n",
    "                  map(matplotlib.cm.get_cmap('tab10'), itertools.count())))"
   ]
  },
  {
   "cell_type": "code",
   "execution_count": null,
   "id": "a078334c",
   "metadata": {},
   "outputs": [],
   "source": [
    "def plot_metrics(x, y, extra=None):\n",
    "    for name in curves:\n",
    "        plt.plot(curves[name][x], curves[name][y], label=name,\n",
    "                 color=COLORS[name])\n",
    "        for method in ['majority', 'leaf']:\n",
    "            plt.plot(points[name][method][x], points[name][method][y],\n",
    "                     marker=MARKERS[method], color=COLORS[name], markerfacecolor='none')\n",
    "        if extra is not None:\n",
    "            plt.plot(points[name][extra][x], points[name][extra][y],\n",
    "                     marker='*', color=COLORS[name])\n",
    "    plt.xlabel(x)\n",
    "    plt.ylabel(y)\n",
    "    plt.grid()\n",
    "    plt.legend()\n",
    "    plt.show()"
   ]
  },
  {
   "cell_type": "code",
   "execution_count": null,
   "id": "90956913",
   "metadata": {},
   "outputs": [],
   "source": [
    "plot_metrics('exact', 'correct')"
   ]
  },
  {
   "cell_type": "code",
   "execution_count": null,
   "id": "72cebb7e",
   "metadata": {},
   "outputs": [],
   "source": [
    "plot_metrics('depth_deficient', 'depth_excess', 'crm_depth_dist')"
   ]
  },
  {
   "cell_type": "code",
   "execution_count": null,
   "id": "5134a274",
   "metadata": {},
   "outputs": [],
   "source": [
    "plot_metrics('info_deficient', 'info_excess', 'crm_info_dist')"
   ]
  },
  {
   "cell_type": "code",
   "execution_count": null,
   "id": "18aa3b93",
   "metadata": {},
   "outputs": [],
   "source": [
    "plot_metrics('info_recall', 'info_precision', 'crm_info_f1')"
   ]
  },
  {
   "cell_type": "code",
   "execution_count": null,
   "id": "3721c9a9",
   "metadata": {},
   "outputs": [],
   "source": [
    "plot_metrics('depth_recall', 'depth_precision', 'crm_depth_f1')"
   ]
  },
  {
   "cell_type": "code",
   "execution_count": null,
   "id": "0f1c2ba1",
   "metadata": {},
   "outputs": [],
   "source": [
    "plot_metrics('exact', 'depth_dist', 'crm_depth_dist')"
   ]
  },
  {
   "cell_type": "code",
   "execution_count": null,
   "id": "4c38edc0",
   "metadata": {},
   "outputs": [],
   "source": [
    "plot_metrics('depth_recall', 'correct')"
   ]
  },
  {
   "cell_type": "code",
   "execution_count": null,
   "id": "97564029",
   "metadata": {},
   "outputs": [],
   "source": [
    "plot_metrics('exact', 'info_dist', 'crm_info_dist')"
   ]
  },
  {
   "cell_type": "code",
   "execution_count": null,
   "id": "7f1d1be2",
   "metadata": {},
   "outputs": [],
   "source": [
    "plot_metrics('info_deficient', 'info_excess', 'crm_info_dist')"
   ]
  }
 ],
 "metadata": {
  "kernelspec": {
   "display_name": "Python 3 (ipykernel)",
   "language": "python",
   "name": "python3"
  },
  "language_info": {
   "codemirror_mode": {
    "name": "ipython",
    "version": 3
   },
   "file_extension": ".py",
   "mimetype": "text/x-python",
   "name": "python",
   "nbconvert_exporter": "python",
   "pygments_lexer": "ipython3",
   "version": "3.8.10"
  }
 },
 "nbformat": 4,
 "nbformat_minor": 5
}
