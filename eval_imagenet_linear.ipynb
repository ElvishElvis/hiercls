{
 "cells": [
  {
   "cell_type": "code",
   "execution_count": 23,
   "id": "b16a5cf4",
   "metadata": {},
   "outputs": [],
   "source": [
    "import collections\n",
    "import itertools\n",
    "import json\n",
    "import pathlib\n",
    "\n",
    "from jax import tree_util\n",
    "import matplotlib\n",
    "from matplotlib import pyplot as plt\n",
    "import ml_collections\n",
    "import numpy as np\n",
    "import pandas as pd\n",
    "import torch\n",
    "\n",
    "import hier\n",
    "import hier_torch\n",
    "import infer\n",
    "import main\n",
    "import metrics\n",
    "import progmet"
   ]
  },
  {
   "cell_type": "code",
   "execution_count": 2,
   "id": "abbf1105",
   "metadata": {},
   "outputs": [],
   "source": [
    "device = torch.device('cuda')"
   ]
  },
  {
   "cell_type": "code",
   "execution_count": 3,
   "id": "06047af2",
   "metadata": {},
   "outputs": [],
   "source": [
    "import configs.imagenet_linear\n",
    "\n",
    "base_config = configs.imagenet_linear.get_config()\n",
    "base_config.dataset_root = './resources/features/imagenet_vitb32/'\n",
    "\n",
    "_, eval_dataset, tree, _, _, eval_label_map = main.make_datasets(base_config)"
   ]
  },
  {
   "cell_type": "code",
   "execution_count": 4,
   "id": "668d8497",
   "metadata": {},
   "outputs": [],
   "source": [
    "eval_loader = torch.utils.data.DataLoader(\n",
    "    dataset=eval_dataset,\n",
    "    batch_size=256,\n",
    "    shuffle=False,\n",
    "    num_workers=8)"
   ]
  },
  {
   "cell_type": "code",
   "execution_count": 34,
   "id": "562d30aa",
   "metadata": {},
   "outputs": [],
   "source": [
    "is_leaf = tree.leaf_mask()\n",
    "specificity = -tree.num_leaf_descendants()\n",
    "not_trivial = (tree.num_children() != 1)\n",
    "subtract_children_fn = hier_torch.SubtractChildren(tree)"
   ]
  },
  {
   "cell_type": "code",
   "execution_count": 35,
   "id": "40150867",
   "metadata": {},
   "outputs": [],
   "source": [
    "infer_fns = {\n",
    "    'leaf': lambda p: infer.argmax_where(p, is_leaf),\n",
    "    'majority': lambda p: infer.argmax_with_confidence(specificity, p, 0.5, not_trivial),\n",
    "    'exclusive': lambda p: np.argmax(subtract_children_fn(torch.from_numpy(p)).numpy(), axis=-1),\n",
    "}"
   ]
  },
  {
   "cell_type": "code",
   "execution_count": 36,
   "id": "8f9f0657",
   "metadata": {},
   "outputs": [],
   "source": [
    "info_metric = metrics.UniformLeafInfoMetric(tree)\n",
    "depth_metric = metrics.DepthMetric(tree)\n",
    "\n",
    "metric_fns = {\n",
    "    'exact': lambda gt, pr: pr == gt,\n",
    "    'correct': metrics.IsCorrect(tree),\n",
    "    'info_excess': info_metric.excess,\n",
    "    'info_deficient': info_metric.deficient,\n",
    "    'info_dist': info_metric.dist,\n",
    "    'info_recall': info_metric.recall,\n",
    "    'info_precision': info_metric.precision,\n",
    "    'depth_excess': depth_metric.excess,\n",
    "    'depth_deficient': depth_metric.deficient,\n",
    "    'depth_dist': depth_metric.dist,\n",
    "    'depth_recall': depth_metric.recall,\n",
    "    'depth_precision': depth_metric.precision,\n",
    "}"
   ]
  },
  {
   "cell_type": "code",
   "execution_count": 37,
   "id": "2602504e",
   "metadata": {},
   "outputs": [],
   "source": [
    "Experiment = collections.namedtuple('Experiment', ['config_file', 'model_file'])\n",
    "\n",
    "def standard_experiment(experiment_dir, epoch):\n",
    "    return Experiment(\n",
    "        config_file=pathlib.Path(experiment_dir) / 'config.json',\n",
    "        model_file=pathlib.Path(experiment_dir) / f'checkpoints/epoch-{epoch:04d}.pth',\n",
    "    )"
   ]
  },
  {
   "cell_type": "code",
   "execution_count": 38,
   "id": "36931a44",
   "metadata": {},
   "outputs": [],
   "source": [
    "results = {}"
   ]
  },
  {
   "cell_type": "code",
   "execution_count": 39,
   "id": "5581a10f",
   "metadata": {},
   "outputs": [],
   "source": [
    "# experiments = {\n",
    "#     'flat-lr{lr}-wd{wd}-ep{ep}': standard_experiment(\n",
    "#         experiment_dir=f'/mnt/ssd1/projects/2022-01-hierarchical/experiments/2022-04-25-imagenet-features/vitb32-linear-flat_softmax-lr{lr}-wd{wd}-ep{ep}/',\n",
    "#         epoch=int(ep))\n",
    "#     for lr, wd, ep in itertools.product(['0.1', '0.01', '0.001'], ['0.0001', '0.00001'], ['20', '100'])\n",
    "# }\n",
    "\n",
    "experiments = {\n",
    "    'flat': standard_experiment(\n",
    "        experiment_dir=f'/mnt/ssd1/projects/2022-01-hierarchical/experiments/2022-04-25-imagenet-features/vitb32-linear-flat_softmax-lr0.1-wd0.00001-ep20/',\n",
    "        epoch=20),\n",
    "    'soft-margin-incorrect-5': standard_experiment(\n",
    "        experiment_dir=f'/mnt/ssd1/projects/2022-01-hierarchical/experiments/2022-04-25-imagenet-features/vitb32-linear-soft_margin-incorrect-5-lr0.1-wd0.00001-ep20/',\n",
    "        epoch=20),\n",
    "}"
   ]
  },
  {
   "cell_type": "code",
   "execution_count": 40,
   "id": "2671b1f9",
   "metadata": {},
   "outputs": [
    {
     "data": {
      "text/plain": [
       "{'flat': True, 'soft-margin-incorrect-5': True}"
      ]
     },
     "execution_count": 40,
     "metadata": {},
     "output_type": "execute_result"
    }
   ],
   "source": [
    "{name: pathlib.Path(experiment.config_file).exists() for name, experiment in experiments.items()}"
   ]
  },
  {
   "cell_type": "code",
   "execution_count": 50,
   "id": "ba9e39e6",
   "metadata": {},
   "outputs": [],
   "source": [
    "markers = {\n",
    "    'leaf': 'x',\n",
    "    'majority': 's',\n",
    "    'exclusive': 'd',\n",
    "}\n",
    "\n",
    "colors = dict(zip(\n",
    "    experiments,\n",
    "    map(matplotlib.cm.get_cmap('tab10'), itertools.count())))"
   ]
  },
  {
   "cell_type": "code",
   "execution_count": 42,
   "id": "321bfc2b",
   "metadata": {},
   "outputs": [],
   "source": [
    "def apply_model(net, pred_fn, min_threshold):\n",
    "    # Per-example predictions.\n",
    "\n",
    "    outputs = {\n",
    "        'gt': [],  # Node in hierarchy.\n",
    "        'pred': {method: [] for method in infer_fns},\n",
    "    }\n",
    "    # Sequence-per-example predictions. Cannot be concatenated due to ragged shape.\n",
    "    seq_outputs = {\n",
    "        'pred': [],\n",
    "        'prob': [],\n",
    "    }\n",
    "\n",
    "    net.eval()\n",
    "    with torch.inference_mode():\n",
    "        meter = progmet.ProgressMeter('apply', interval_time=5)\n",
    "        for minibatch in itertools.islice(meter(eval_loader), None):\n",
    "            inputs, gt_labels = minibatch\n",
    "            theta = net(inputs.to(device))\n",
    "            prob = pred_fn(theta).cpu().numpy()\n",
    "            pred = {}\n",
    "            for name, infer_fn in infer_fns.items():\n",
    "                pred[name] = infer_fn(prob)\n",
    "            gt_node = eval_label_map.to_node[gt_labels]\n",
    "            pred_seqs = [\n",
    "                infer.pareto_optimal_predictions(specificity, p, min_threshold, not_trivial)\n",
    "                for p in prob\n",
    "            ]\n",
    "            prob_seqs = [prob[i, pred_i] for i, pred_i in enumerate(pred_seqs)]\n",
    "            # Caution: Predictions are *not* truncated.\n",
    "\n",
    "            outputs['gt'].append(gt_node)\n",
    "            for method in infer_fns:\n",
    "                outputs['pred'][method].append(pred[method])\n",
    "            seq_outputs['pred'].extend(pred_seqs)\n",
    "            seq_outputs['prob'].extend(prob_seqs)\n",
    "\n",
    "    # Concatenate results from minibatches.\n",
    "    leaf_predicate = lambda x: not isinstance(x, dict)  # Treat lists as values, not containers.\n",
    "    outputs = tree_util.tree_map(np.concatenate, outputs, is_leaf=leaf_predicate)\n",
    "\n",
    "    return outputs, seq_outputs"
   ]
  },
  {
   "cell_type": "code",
   "execution_count": 43,
   "id": "c6303cc3",
   "metadata": {},
   "outputs": [],
   "source": [
    "def assess_predictions(outputs, seq_outputs):\n",
    "    gt = outputs['gt']\n",
    "    pred = outputs['pred']\n",
    "    pred_seq = seq_outputs['pred']\n",
    "    prob_seq = seq_outputs['prob']\n",
    "\n",
    "    # Evaluate predictions for each method.\n",
    "    pred = {\n",
    "        method: hier.truncate_at_lca(tree, gt, pr)\n",
    "        for method, pr in pred.items()\n",
    "    }\n",
    "    pred_metrics = {\n",
    "        method: {field: np.mean(metric_fn(gt, pr))\n",
    "                 for field, metric_fn in metric_fns.items()}\n",
    "        for method, pr in pred.items()\n",
    "    }\n",
    "\n",
    "    # Evaluate predictions in Pareto sequence.\n",
    "    find_lca = hier.FindLCA(tree)\n",
    "    specificity_seq = [specificity[pr_i] for pr_i in pred_seq]\n",
    "    pred_seq = [hier.truncate_given_lca(gt_i, pr_i, find_lca(gt_i, pr_i)) for gt_i, pr_i in zip(gt, pred_seq)]\n",
    "    metric_values_seq = {\n",
    "        field: [metric_fn(gt_i, pr_i) for gt_i, pr_i in zip(gt, pred_seq)]\n",
    "        for field, metric_fn in metric_fns.items()\n",
    "    }\n",
    "    pareto_scores, pareto_totals = metrics.operating_curve(prob_seq, metric_values_seq)\n",
    "#     specificity_seq = [np.flip(seq) for seq in specificity_seq]\n",
    "#     metric_values_seq = {field: np.flip(seq) for field, seq in metric_values_seq.items()}\n",
    "#     pareto_scores, pareto_totals = metrics.operating_curve(specificity_seq, metric_values_seq)\n",
    "    pareto_means = {k: v / len(gt) for k, v in pareto_totals.items()}\n",
    "\n",
    "    return pred_metrics, pareto_scores, pareto_means"
   ]
  },
  {
   "cell_type": "code",
   "execution_count": 44,
   "id": "5951431b",
   "metadata": {
    "scrolled": true
   },
   "outputs": [
    {
     "name": "stderr",
     "output_type": "stream",
     "text": [
      "apply:  77% (150/196); T=0.0335 f=29.9; mean T=0.0335 f=29.9; elapsed 0:00:05; remaining 0:00:02 of 0:00:07\n",
      "apply: 100% (196/196); T=0.0354 f=28.2; mean T=0.0340 f=29.5; elapsed 0:00:07\n",
      "apply:  76% (148/196); T=0.0340 f=29.4; mean T=0.0340 f=29.4; elapsed 0:00:05; remaining 0:00:02 of 0:00:07\n",
      "apply: 100% (196/196); T=0.0311 f=32.2; mean T=0.0333 f=30.0; elapsed 0:00:07\n"
     ]
    }
   ],
   "source": [
    "MIN_THRESHOLD = 0.1  # Values less than 0.5 may increase runtime significantly.\n",
    "\n",
    "for name, (config_file, model_file) in experiments.items():\n",
    "    if name in results:\n",
    "        print('cached:', name)\n",
    "        continue\n",
    "\n",
    "    # Load model.\n",
    "    with open(config_file, 'r') as f:\n",
    "        config = ml_collections.ConfigDict(json.load(f))\n",
    "    num_outputs = main.get_num_outputs(config.predict, tree)\n",
    "    net = main.make_model(config.model, num_outputs)\n",
    "    missing_keys, unexpected_keys = net.load_state_dict(torch.load(model_file), strict=True)\n",
    "    assert not missing_keys\n",
    "    assert not unexpected_keys\n",
    "\n",
    "    net.to(device)\n",
    "    _, pred_fn = main.make_loss(config, tree, device)\n",
    "    outputs, seq_outputs = apply_model(net, pred_fn, min_threshold=MIN_THRESHOLD)\n",
    "    pred_metrics, pareto_scores, pareto_metrics = assess_predictions(outputs, seq_outputs)\n",
    "    results[name] = {\n",
    "        'pred_metrics': pred_metrics,\n",
    "        'pareto_scores': pareto_scores,\n",
    "        'pareto_metrics': pareto_metrics,\n",
    "    }"
   ]
  },
  {
   "cell_type": "code",
   "execution_count": 45,
   "id": "ecf94a6b",
   "metadata": {},
   "outputs": [
    {
     "data": {
      "text/html": [
       "<div>\n",
       "<style scoped>\n",
       "    .dataframe tbody tr th:only-of-type {\n",
       "        vertical-align: middle;\n",
       "    }\n",
       "\n",
       "    .dataframe tbody tr th {\n",
       "        vertical-align: top;\n",
       "    }\n",
       "\n",
       "    .dataframe thead th {\n",
       "        text-align: right;\n",
       "    }\n",
       "</style>\n",
       "<table border=\"1\" class=\"dataframe\">\n",
       "  <thead>\n",
       "    <tr style=\"text-align: right;\">\n",
       "      <th></th>\n",
       "      <th>∫ correct d(depth_recall)</th>\n",
       "      <th>∫ depth_precision d(depth_recall)</th>\n",
       "      <th>∫ info_precision d(info_recall)</th>\n",
       "      <th>∫ correct d(exact)</th>\n",
       "    </tr>\n",
       "  </thead>\n",
       "  <tbody>\n",
       "    <tr>\n",
       "      <th>flat</th>\n",
       "      <td>0.839986</td>\n",
       "      <td>0.851669</td>\n",
       "      <td>0.766619</td>\n",
       "      <td>0.711170</td>\n",
       "    </tr>\n",
       "    <tr>\n",
       "      <th>soft-margin-incorrect-5</th>\n",
       "      <td>0.841160</td>\n",
       "      <td>0.852454</td>\n",
       "      <td>0.771491</td>\n",
       "      <td>0.721322</td>\n",
       "    </tr>\n",
       "  </tbody>\n",
       "</table>\n",
       "</div>"
      ],
      "text/plain": [
       "                         ∫ correct d(depth_recall)  \\\n",
       "flat                                      0.839986   \n",
       "soft-margin-incorrect-5                   0.841160   \n",
       "\n",
       "                         ∫ depth_precision d(depth_recall)  \\\n",
       "flat                                              0.851669   \n",
       "soft-margin-incorrect-5                           0.852454   \n",
       "\n",
       "                         ∫ info_precision d(info_recall)  ∫ correct d(exact)  \n",
       "flat                                            0.766619            0.711170  \n",
       "soft-margin-incorrect-5                         0.771491            0.721322  "
      ]
     },
     "execution_count": 45,
     "metadata": {},
     "output_type": "execute_result"
    }
   ],
   "source": [
    "INTEGRALS = [\n",
    "    ('depth_recall', 'correct'),\n",
    "    ('depth_recall', 'depth_precision'),\n",
    "    ('info_recall', 'info_precision'),\n",
    "    ('exact', 'correct'),\n",
    "]\n",
    "\n",
    "auc = {\n",
    "    f'∫ {y} d({x})': {\n",
    "        name: metrics.pareto_integrate(\n",
    "            results[name]['pareto_metrics'][x],\n",
    "            results[name]['pareto_metrics'][y])\n",
    "        for name in results\n",
    "    } for x, y in INTEGRALS\n",
    "}\n",
    "\n",
    "pd.DataFrame(auc)"
   ]
  },
  {
   "cell_type": "code",
   "execution_count": 46,
   "id": "20042c9c",
   "metadata": {},
   "outputs": [
    {
     "data": {
      "text/html": [
       "<div>\n",
       "<style scoped>\n",
       "    .dataframe tbody tr th:only-of-type {\n",
       "        vertical-align: middle;\n",
       "    }\n",
       "\n",
       "    .dataframe tbody tr th {\n",
       "        vertical-align: top;\n",
       "    }\n",
       "\n",
       "    .dataframe thead th {\n",
       "        text-align: right;\n",
       "    }\n",
       "</style>\n",
       "<table border=\"1\" class=\"dataframe\">\n",
       "  <thead>\n",
       "    <tr style=\"text-align: right;\">\n",
       "      <th></th>\n",
       "      <th>depth_recall @ 0.9 correct</th>\n",
       "      <th>info_recall @ 0.9 correct</th>\n",
       "      <th>exact @ 0.9 correct</th>\n",
       "    </tr>\n",
       "  </thead>\n",
       "  <tbody>\n",
       "    <tr>\n",
       "      <th>flat</th>\n",
       "      <td>0.774084</td>\n",
       "      <td>0.654071</td>\n",
       "      <td>0.58170</td>\n",
       "    </tr>\n",
       "    <tr>\n",
       "      <th>soft-margin-incorrect-5</th>\n",
       "      <td>0.786067</td>\n",
       "      <td>0.685514</td>\n",
       "      <td>0.63084</td>\n",
       "    </tr>\n",
       "  </tbody>\n",
       "</table>\n",
       "</div>"
      ],
      "text/plain": [
       "                         depth_recall @ 0.9 correct  \\\n",
       "flat                                       0.774084   \n",
       "soft-margin-incorrect-5                    0.786067   \n",
       "\n",
       "                         info_recall @ 0.9 correct  exact @ 0.9 correct  \n",
       "flat                                      0.654071              0.58170  \n",
       "soft-margin-incorrect-5                   0.685514              0.63084  "
      ]
     },
     "execution_count": 46,
     "metadata": {},
     "output_type": "execute_result"
    }
   ],
   "source": [
    "INTERCEPTS = [\n",
    "    'depth_recall',\n",
    "    'info_recall',\n",
    "    'exact',\n",
    "]\n",
    "\n",
    "CORRECT = 0.9\n",
    "\n",
    "recalls = {\n",
    "    f'{y} @ {CORRECT} correct': {\n",
    "        name: metrics.pareto_intercept(\n",
    "            results[name]['pareto_metrics']['correct'],\n",
    "            results[name]['pareto_metrics'][y],\n",
    "            CORRECT)\n",
    "        for name in results\n",
    "    } for y in INTERCEPTS\n",
    "}\n",
    "\n",
    "pd.DataFrame(recalls)"
   ]
  },
  {
   "cell_type": "code",
   "execution_count": 51,
   "id": "19078a68",
   "metadata": {},
   "outputs": [],
   "source": [
    "def plot_metrics(x, y, threshold=0.5):\n",
    "    for name in results:\n",
    "        pred_metrics = results[name]['pred_metrics']\n",
    "        pareto_scores = results[name]['pareto_scores']\n",
    "        pareto_metrics = results[name]['pareto_metrics']\n",
    "        ge = np.concatenate(([True], pareto_scores >= threshold))\n",
    "        le = np.concatenate(([False], pareto_scores <= threshold))\n",
    "        plt.plot(pareto_metrics[x][ge], pareto_metrics[y][ge],\n",
    "                 color=colors[name], label=name)\n",
    "        plt.plot(pareto_metrics[x][le], pareto_metrics[y][le],\n",
    "                 color=colors[name], alpha=0.5)  # linestyle=':')\n",
    "        for method, method_metrics in pred_metrics.items():\n",
    "            plt.plot(method_metrics[x], method_metrics[y], color=colors[name],\n",
    "                     marker=markers[method], markerfacecolor='none')\n",
    "    plt.ylim(top=1)\n",
    "    plt.xlim(left=0)\n",
    "    # plt.axis('equal')\n",
    "    # plt.gca().set_aspect(1)markers = {\n",
    "    'leaf': 's',\n",
    "    'majority': 'o',\n",
    "}\n",
    "    plt.grid()\n",
    "    plt.xlabel(x)\n",
    "    plt.ylabel(y)\n",
    "    plt.legend()"
   ]
  },
  {
   "cell_type": "code",
   "execution_count": 52,
   "id": "295e6cba",
   "metadata": {},
   "outputs": [
    {
     "data": {
      "image/png": "[encoded data removed]",
      "text/plain": [
       "<Figure size 432x288 with 1 Axes>"
      ]
     },
     "metadata": {
      "needs_background": "light"
     },
     "output_type": "display_data"
    }
   ],
   "source": [
    "plot_metrics('exact', 'correct')"
   ]
  },
  {
   "cell_type": "code",
   "execution_count": 57,
   "id": "73ced6a8",
   "metadata": {},
   "outputs": [
    {
     "data": {
      "image/png": "[encoded data removed]",
      "text/plain": [
       "<Figure size 432x288 with 1 Axes>"
      ]
     },
     "metadata": {
      "needs_background": "light"
     },
     "output_type": "display_data"
    }
   ],
   "source": [
    "plot_metrics('depth_recall', 'correct')"
   ]
  },
  {
   "cell_type": "code",
   "execution_count": 56,
   "id": "3de93848",
   "metadata": {},
   "outputs": [
    {
     "data": {
      "image/png": "[encoded data removed]",
      "text/plain": [
       "<Figure size 432x288 with 1 Axes>"
      ]
     },
     "metadata": {
      "needs_background": "light"
     },
     "output_type": "display_data"
    }
   ],
   "source": [
    "plot_metrics('info_recall', 'correct')"
   ]
  },
  {
   "cell_type": "code",
   "execution_count": 54,
   "id": "c187ce11",
   "metadata": {},
   "outputs": [
    {
     "data": {
      "image/png": "[encoded data removed]",
      "text/plain": [
       "<Figure size 432x288 with 1 Axes>"
      ]
     },
     "metadata": {
      "needs_background": "light"
     },
     "output_type": "display_data"
    }
   ],
   "source": [
    "plot_metrics('depth_recall', 'depth_precision')"
   ]
  },
  {
   "cell_type": "code",
   "execution_count": 55,
   "id": "4cbf2628",
   "metadata": {},
   "outputs": [
    {
     "data": {
      "image/png": "[encoded data removed]",
      "text/plain": [
       "<Figure size 432x288 with 1 Axes>"
      ]
     },
     "metadata": {
      "needs_background": "light"
     },
     "output_type": "display_data"
    }
   ],
   "source": [
    "plot_metrics('info_recall', 'info_precision')"
   ]
  },
  {
   "cell_type": "code",
   "execution_count": null,
   "id": "7defbd73",
   "metadata": {},
   "outputs": [],
   "source": []
  }
 ],
 "metadata": {
  "kernelspec": {
   "display_name": "Python 3 (ipykernel)",
   "language": "python",
   "name": "python3"
  },
  "language_info": {
   "codemirror_mode": {
    "name": "ipython",
    "version": 3
   },
   "file_extension": ".py",
   "mimetype": "text/x-python",
   "name": "python",
   "nbconvert_exporter": "python",
   "pygments_lexer": "ipython3",
   "version": "3.8.10"
  }
 },
 "nbformat": 4,
 "nbformat_minor": 5
}
