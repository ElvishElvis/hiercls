{
 "cells": [
  {
   "cell_type": "code",
   "execution_count": 1,
   "id": "33d4366d",
   "metadata": {},
   "outputs": [],
   "source": [
    "import json\n",
    "import pprint\n",
    "\n",
    "import matplotlib.pyplot as plt\n",
    "import networkx as nx\n",
    "import numpy as np\n",
    "import scipy.stats\n",
    "import torchvision\n",
    "\n",
    "import datasets\n",
    "import hier"
   ]
  },
  {
   "cell_type": "code",
   "execution_count": 2,
   "id": "65799bc2",
   "metadata": {},
   "outputs": [],
   "source": [
    "with open('resources/hierarchy/inat21.csv') as f:\n",
    "    tree, node_names = hier.make_hierarchy_from_edges(hier.load_edges(f))\n",
    "\n",
    "label_order = [node_names[i] for i in tree.leaf_subset()]"
   ]
  },
  {
   "cell_type": "code",
   "execution_count": 3,
   "id": "052eed0f",
   "metadata": {},
   "outputs": [],
   "source": [
    "def find_mid_level_nodes(tree, min_size, max_size):\n",
    "    node_size = tree.num_leaf_descendants()\n",
    "    small_enough = (node_size <= max_size)\n",
    "    large_enough = (node_size >= min_size)\n",
    "    parent = tree.parents(root_loop=True)\n",
    "    # Require that parent is *not* small enough.\n",
    "    # If parent is small enough, we will use it instead.\n",
    "    mid_level_mask = (small_enough & ~small_enough[parent]) & large_enough\n",
    "    return np.flatnonzero(mid_level_mask)"
   ]
  },
  {
   "cell_type": "code",
   "execution_count": 4,
   "id": "1e21044d",
   "metadata": {},
   "outputs": [],
   "source": [
    "def summarize_cut(tree, min_size, max_size):\n",
    "    mid_level_subset = find_mid_level_nodes(tree, min_size, max_size)\n",
    "\n",
    "    # Find leaf descendents of each mid-level node.\n",
    "    is_leaf = tree.leaf_mask()\n",
    "    is_ancestor = tree.ancestor_mask()\n",
    "    leaf_descendants = {u: np.flatnonzero(is_leaf & is_ancestor[u, :]) for u in mid_level_subset}\n",
    "    leaf_subset = np.sort(np.concatenate(list(leaf_descendants.values())))\n",
    "    \n",
    "    # Take sub-tree down to mid-level nodes.\n",
    "    subtree, node_subset = hier.rooted_subtree_spanning(tree, mid_level_subset)\n",
    "\n",
    "    print('mid-level nodes:', len(mid_level_subset))\n",
    "    print('non-trivial internal nodes:', subtree.num_nodes() - np.sum(subtree.num_children() == 1))\n",
    "    print('total internal nodes:', subtree.num_nodes())\n",
    "    print('leaf nodes:', len(leaf_subset))\n",
    "\n",
    "    # Print subtree.\n",
    "    print()\n",
    "    print(hier.format_tree(subtree, [node_names[i] for i in node_subset], include_size=True))"
   ]
  },
  {
   "cell_type": "code",
   "execution_count": 5,
   "id": "457099ef",
   "metadata": {},
   "outputs": [
    {
     "name": "stdout",
     "output_type": "stream",
     "text": [
      "mid-level nodes: 3\n",
      "non-trivial internal nodes: 5\n",
      "total internal nodes: 10\n",
      "leaf nodes: 1890\n",
      "\n",
      "Life (3)\n",
      "├── Animalia\n",
      "│   └── Chordata\n",
      "│       └── Aves\n",
      "│           └── Passeriformes\n",
      "└── Plantae (2)\n",
      "    └── Tracheophyta (2)\n",
      "        ├── Liliopsida\n",
      "        └── Magnoliopsida\n",
      "            └── Asterales\n",
      "\n"
     ]
    }
   ],
   "source": [
    "# (500, 1000) keeps too few classes (< 20%).\n",
    "# Missing: Mammalia, Reptilia, Insecta\n",
    "summarize_cut(tree, 500, 1000)"
   ]
  },
  {
   "cell_type": "code",
   "execution_count": 6,
   "id": "664c7ebb",
   "metadata": {},
   "outputs": [
    {
     "name": "stdout",
     "output_type": "stream",
     "text": [
      "mid-level nodes: 13\n",
      "non-trivial internal nodes: 20\n",
      "total internal nodes: 24\n",
      "leaf nodes: 3756\n",
      "\n",
      "Life (13)\n",
      "├── Animalia (5)\n",
      "│   ├── Arthropoda (3)\n",
      "│   │   └── Insecta (3)\n",
      "│   │       ├── Coleoptera\n",
      "│   │       ├── Lepidoptera\n",
      "│   │       │   └── Nymphalidae\n",
      "│   │       └── Odonata\n",
      "│   └── Chordata (2)\n",
      "│       ├── Mammalia\n",
      "│       └── Reptilia\n",
      "├── Fungi\n",
      "└── Plantae (7)\n",
      "    └── Tracheophyta (7)\n",
      "        ├── Liliopsida (2)\n",
      "        │   ├── Asparagales\n",
      "        │   └── Poales\n",
      "        └── Magnoliopsida (5)\n",
      "            ├── Asterales\n",
      "            │   └── Asteraceae\n",
      "            ├── Caryophyllales\n",
      "            ├── Fabales\n",
      "            ├── Lamiales\n",
      "            └── Rosales\n",
      "\n"
     ]
    }
   ],
   "source": [
    "# (200, 500) is reasonable (~35%).\n",
    "summarize_cut(tree, 200, 500)"
   ]
  },
  {
   "cell_type": "code",
   "execution_count": 7,
   "id": "91b302d1",
   "metadata": {},
   "outputs": [
    {
     "name": "stdout",
     "output_type": "stream",
     "text": [
      "mid-level nodes: 23\n",
      "non-trivial internal nodes: 32\n",
      "total internal nodes: 42\n",
      "leaf nodes: 3427\n",
      "\n",
      "Life (23)\n",
      "├── Animalia (12)\n",
      "│   ├── Arthropoda (8)\n",
      "│   │   ├── Arachnida\n",
      "│   │   └── Insecta (7)\n",
      "│   │       ├── Hemiptera\n",
      "│   │       ├── Hymenoptera\n",
      "│   │       ├── Lepidoptera (4)\n",
      "│   │       │   ├── Erebidae\n",
      "│   │       │   ├── Geometridae\n",
      "│   │       │   ├── Lycaenidae\n",
      "│   │       │   └── Noctuidae\n",
      "│   │       └── Odonata\n",
      "│   │           └── Libellulidae\n",
      "│   ├── Chordata (3)\n",
      "│   │   ├── Actinopterygii\n",
      "│   │   ├── Amphibia\n",
      "│   │   └── Aves\n",
      "│   │       └── Charadriiformes\n",
      "│   └── Mollusca\n",
      "├── Fungi\n",
      "│   └── Basidiomycota\n",
      "│       └── Agaricomycetes\n",
      "│           └── Agaricales\n",
      "└── Plantae (10)\n",
      "    └── Tracheophyta (10)\n",
      "        ├── Liliopsida (2)\n",
      "        │   ├── Asparagales\n",
      "        │   │   └── Orchidaceae\n",
      "        │   └── Poales\n",
      "        │       └── Poaceae\n",
      "        ├── Magnoliopsida (7)\n",
      "        │   ├── Apiales\n",
      "        │   ├── Ericales\n",
      "        │   ├── Gentianales\n",
      "        │   ├── Lamiales\n",
      "        │   │   └── Lamiaceae\n",
      "        │   ├── Malpighiales\n",
      "        │   ├── Ranunculales\n",
      "        │   └── Rosales\n",
      "        │       └── Rosaceae\n",
      "        └── Polypodiopsida\n",
      "\n"
     ]
    }
   ],
   "source": [
    "# (100, 200) is similar (~35%).\n",
    "summarize_cut(tree, 100, 200)"
   ]
  },
  {
   "cell_type": "code",
   "execution_count": 8,
   "id": "71d80aea",
   "metadata": {},
   "outputs": [
    {
     "name": "stdout",
     "output_type": "stream",
     "text": [
      "mid-level nodes: 30\n",
      "non-trivial internal nodes: 39\n",
      "total internal nodes: 42\n",
      "leaf nodes: 6449\n",
      "\n",
      "Life (30)\n",
      "├── Animalia (16)\n",
      "│   ├── Arthropoda (10)\n",
      "│   │   ├── Arachnida\n",
      "│   │   └── Insecta (9)\n",
      "│   │       ├── Coleoptera\n",
      "│   │       ├── Hemiptera\n",
      "│   │       ├── Hymenoptera\n",
      "│   │       ├── Lepidoptera (5)\n",
      "│   │       │   ├── Erebidae\n",
      "│   │       │   ├── Geometridae\n",
      "│   │       │   ├── Lycaenidae\n",
      "│   │       │   ├── Noctuidae\n",
      "│   │       │   └── Nymphalidae\n",
      "│   │       └── Odonata\n",
      "│   ├── Chordata (5)\n",
      "│   │   ├── Actinopterygii\n",
      "│   │   ├── Amphibia\n",
      "│   │   ├── Aves\n",
      "│   │   │   └── Charadriiformes\n",
      "│   │   ├── Mammalia\n",
      "│   │   └── Reptilia\n",
      "│   └── Mollusca\n",
      "├── Fungi\n",
      "└── Plantae (13)\n",
      "    └── Tracheophyta (13)\n",
      "        ├── Liliopsida (2)\n",
      "        │   ├── Asparagales\n",
      "        │   └── Poales\n",
      "        ├── Magnoliopsida (10)\n",
      "        │   ├── Apiales\n",
      "        │   ├── Asterales\n",
      "        │   │   └── Asteraceae\n",
      "        │   ├── Caryophyllales\n",
      "        │   ├── Ericales\n",
      "        │   ├── Fabales\n",
      "        │   ├── Gentianales\n",
      "        │   ├── Lamiales\n",
      "        │   ├── Malpighiales\n",
      "        │   ├── Ranunculales\n",
      "        │   └── Rosales\n",
      "        └── Polypodiopsida\n",
      "\n"
     ]
    }
   ],
   "source": [
    "# (100, 500) includes many more classes (~65%).\n",
    "summarize_cut(tree, 100, 500)"
   ]
  },
  {
   "cell_type": "code",
   "execution_count": 9,
   "id": "38751f3e",
   "metadata": {
    "scrolled": false
   },
   "outputs": [
    {
     "name": "stdout",
     "output_type": "stream",
     "text": [
      "mid-level nodes: 29\n",
      "non-trivial internal nodes: 38\n",
      "total internal nodes: 43\n",
      "leaf nodes: 5577\n",
      "\n",
      "Life (29)\n",
      "├── Animalia (16)\n",
      "│   ├── Arthropoda (10)\n",
      "│   │   ├── Arachnida\n",
      "│   │   └── Insecta (9)\n",
      "│   │       ├── Coleoptera\n",
      "│   │       ├── Hemiptera\n",
      "│   │       ├── Hymenoptera\n",
      "│   │       ├── Lepidoptera (5)\n",
      "│   │       │   ├── Erebidae\n",
      "│   │       │   ├── Geometridae\n",
      "│   │       │   ├── Lycaenidae\n",
      "│   │       │   ├── Noctuidae\n",
      "│   │       │   └── Nymphalidae\n",
      "│   │       └── Odonata\n",
      "│   ├── Chordata (5)\n",
      "│   │   ├── Actinopterygii\n",
      "│   │   ├── Amphibia\n",
      "│   │   ├── Aves\n",
      "│   │   │   └── Charadriiformes\n",
      "│   │   ├── Mammalia\n",
      "│   │   └── Reptilia\n",
      "│   │       └── Squamata\n",
      "│   └── Mollusca\n",
      "├── Fungi\n",
      "│   └── Basidiomycota\n",
      "└── Plantae (12)\n",
      "    └── Tracheophyta (12)\n",
      "        ├── Liliopsida (2)\n",
      "        │   ├── Asparagales\n",
      "        │   └── Poales\n",
      "        ├── Magnoliopsida (9)\n",
      "        │   ├── Apiales\n",
      "        │   ├── Caryophyllales\n",
      "        │   ├── Ericales\n",
      "        │   ├── Fabales\n",
      "        │   ├── Gentianales\n",
      "        │   ├── Lamiales\n",
      "        │   │   └── Lamiaceae\n",
      "        │   ├── Malpighiales\n",
      "        │   ├── Ranunculales\n",
      "        │   └── Rosales\n",
      "        └── Polypodiopsida\n",
      "\n"
     ]
    }
   ],
   "source": [
    "# (100, 300) keeps almost as many classes (~55%) with less severe imbalance.\n",
    "# Missing: Asterales (includes sunflower).\n",
    "summarize_cut(tree, 100, 300)"
   ]
  },
  {
   "cell_type": "code",
   "execution_count": 10,
   "id": "77cbb915",
   "metadata": {},
   "outputs": [
    {
     "name": "stdout",
     "output_type": "stream",
     "text": [
      "mid-level nodes: 9\n",
      "non-trivial internal nodes: 14\n",
      "total internal nodes: 18\n",
      "leaf nodes: 3713\n",
      "\n",
      "Life (9)\n",
      "├── Animalia (3)\n",
      "│   ├── Arthropoda\n",
      "│   │   └── Insecta\n",
      "│   │       └── Odonata\n",
      "│   └── Chordata (2)\n",
      "│       ├── Aves\n",
      "│       │   └── Passeriformes\n",
      "│       └── Reptilia\n",
      "├── Fungi\n",
      "└── Plantae (5)\n",
      "    └── Tracheophyta (5)\n",
      "        ├── Liliopsida\n",
      "        └── Magnoliopsida (4)\n",
      "            ├── Asterales\n",
      "            ├── Caryophyllales\n",
      "            ├── Fabales\n",
      "            └── Lamiales\n",
      "\n"
     ]
    }
   ],
   "source": [
    "# (250, 750) keep many fewer classes (~35%).\n",
    "summarize_cut(tree, 250, 750)"
   ]
  },
  {
   "cell_type": "code",
   "execution_count": 11,
   "id": "63d5c7c5",
   "metadata": {},
   "outputs": [
    {
     "name": "stdout",
     "output_type": "stream",
     "text": [
      "mid-level nodes: 13\n",
      "non-trivial internal nodes: 19\n",
      "total internal nodes: 23\n",
      "leaf nodes: 4660\n",
      "\n",
      "Life (13)\n",
      "├── Animalia (6)\n",
      "│   ├── Arthropoda (3)\n",
      "│   │   └── Insecta (3)\n",
      "│   │       ├── Coleoptera\n",
      "│   │       ├── Lepidoptera\n",
      "│   │       │   └── Nymphalidae\n",
      "│   │       └── Odonata\n",
      "│   └── Chordata (3)\n",
      "│       ├── Aves\n",
      "│       │   └── Passeriformes\n",
      "│       ├── Mammalia\n",
      "│       └── Reptilia\n",
      "├── Fungi\n",
      "└── Plantae (6)\n",
      "    └── Tracheophyta (6)\n",
      "        ├── Liliopsida\n",
      "        └── Magnoliopsida (5)\n",
      "            ├── Asterales\n",
      "            ├── Caryophyllales\n",
      "            ├── Fabales\n",
      "            ├── Lamiales\n",
      "            └── Rosales\n",
      "\n"
     ]
    }
   ],
   "source": [
    "# (200, 1000) is somewhere in between. Keeps ~45% of classes.\n",
    "summarize_cut(tree, 200, 1000)"
   ]
  },
  {
   "cell_type": "code",
   "execution_count": 12,
   "id": "196e30a4",
   "metadata": {},
   "outputs": [],
   "source": [
    "def make_two_level_tree(tree, node_names, mid_level_subset):\n",
    "    is_leaf = tree.leaf_mask()\n",
    "    is_ancestor = tree.ancestor_mask()\n",
    "\n",
    "    # Construct graph that contains root -> mid -> leaf.\n",
    "    g = nx.DiGraph()\n",
    "    for u in mid_level_subset:\n",
    "        g.add_edge(node_names[0], node_names[u])\n",
    "        # Find leaf descendents of node.\n",
    "        leaf_descendants = np.flatnonzero(is_leaf & is_ancestor[u, :])\n",
    "        for v in leaf_descendants:\n",
    "            g.add_edge(node_names[u], node_names[v])\n",
    "\n",
    "    return g"
   ]
  },
  {
   "cell_type": "code",
   "execution_count": 13,
   "id": "f2178523",
   "metadata": {},
   "outputs": [],
   "source": [
    "def flatten_beyond(tree, node_names, mid_level_subset):\n",
    "    is_leaf = tree.leaf_mask()\n",
    "    is_ancestor = tree.ancestor_mask()\n",
    "\n",
    "    # Construct graph that contains root -> ... -> mid -> leaf.\n",
    "    g = nx.DiGraph()\n",
    "\n",
    "    # Take sub-tree down to mid-level nodes.\n",
    "    subtree, node_subset = hier.rooted_subtree_spanning(tree, mid_level_subset)\n",
    "    for u, v in subtree.edges():\n",
    "        g.add_edge(node_names[node_subset[u]], node_names[node_subset[v]])\n",
    "\n",
    "    for u in mid_level_subset:\n",
    "        # Find leaf descendents of node.\n",
    "        leaf_descendants = np.flatnonzero(is_leaf & is_ancestor[u, :])\n",
    "        for v in leaf_descendants:\n",
    "            g.add_edge(node_names[u], node_names[v])\n",
    "\n",
    "    return g"
   ]
  },
  {
   "cell_type": "code",
   "execution_count": 14,
   "id": "018f54ca",
   "metadata": {},
   "outputs": [],
   "source": [
    "# import prepare_hierarchy.util"
   ]
  },
  {
   "cell_type": "code",
   "execution_count": 15,
   "id": "f342a0e5",
   "metadata": {
    "scrolled": false
   },
   "outputs": [],
   "source": [
    "# mid_level_nodes = find_mid_level_nodes(tree, 100, 200)\n",
    "# subg = make_two_level_tree(tree, node_names, mid_level_nodes)\n",
    "# label_subset = [x for x in label_order if x in subg]\n",
    "# subg_edges = prepare_hierarchy.util.dfs_edges_with_order(subg, label_subset)"
   ]
  },
  {
   "cell_type": "code",
   "execution_count": 16,
   "id": "baff2910",
   "metadata": {},
   "outputs": [],
   "source": [
    "# mid_level_nodes = find_mid_level_nodes(tree, 100, 200)\n",
    "# subg = flatten_beyond(tree, node_names, mid_level_nodes)\n",
    "# label_subset = [x for x in label_order if x in subg]\n",
    "# subg_edges = prepare_hierarchy.util.dfs_edges_with_order(subg, label_subset)"
   ]
  },
  {
   "cell_type": "code",
   "execution_count": null,
   "id": "39c3e959",
   "metadata": {},
   "outputs": [],
   "source": []
  }
 ],
 "metadata": {
  "kernelspec": {
   "display_name": "Python 3 (ipykernel)",
   "language": "python",
   "name": "python3"
  },
  "language_info": {
   "codemirror_mode": {
    "name": "ipython",
    "version": 3
   },
   "file_extension": ".py",
   "mimetype": "text/x-python",
   "name": "python",
   "nbconvert_exporter": "python",
   "pygments_lexer": "ipython3",
   "version": "3.8.10"
  }
 },
 "nbformat": 4,
 "nbformat_minor": 5
}
