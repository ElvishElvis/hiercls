{
 "cells": [
  {
   "cell_type": "code",
   "execution_count": 1,
   "id": "78a40757",
   "metadata": {},
   "outputs": [],
   "source": [
    "import pathlib\n",
    "\n",
    "import numpy as np\n",
    "import pandas as pd\n",
    "\n",
    "import hier\n",
    "import metrics"
   ]
  },
  {
   "cell_type": "code",
   "execution_count": 10,
   "id": "1fd07f85",
   "metadata": {},
   "outputs": [],
   "source": [
    "exp_dirs = {\n",
    "    3: '/mnt/ssd1/projects/2022-01-hierarchical/experiments/2022-04-07-inat21-trunc/flat-depth-3/',\n",
    "    4: '/mnt/ssd1/projects/2022-01-hierarchical/experiments/2022-04-07-inat21-trunc/flat-depth-4/',\n",
    "    5: '/mnt/ssd1/projects/2022-01-hierarchical/experiments/2022-04-07-inat21-trunc/flat-depth-5/',\n",
    "    6: '/mnt/ssd1/projects/2022-01-hierarchical/experiments/2022-04-07-inat21-trunc/flat-depth-6/',\n",
    "    # 7: '/mnt/ssd1/projects/2022-01-hierarchical/experiments/2022-04-07-inat21-trunc/flat/',\n",
    "    # 7: '/mnt/ssd1/projects/2022-01-hierarchical/experiments/2022-03-31-inat21mini/flat_softmax-lr-0.01-b-64-wd-0.0003-ep-20',\n",
    "}"
   ]
  },
  {
   "cell_type": "code",
   "execution_count": 11,
   "id": "f48de350",
   "metadata": {},
   "outputs": [],
   "source": [
    "with open('resources/hierarchy/inat21.csv') as f:\n",
    "    tree, names = hier.make_hierarchy_from_edges(hier.load_edges(f))"
   ]
  },
  {
   "cell_type": "code",
   "execution_count": 12,
   "id": "9190a59d",
   "metadata": {},
   "outputs": [],
   "source": [
    "subtrees = {}\n",
    "node_subsets = {}\n",
    "projections = {}\n",
    "\n",
    "for depth in exp_dirs:\n",
    "    if depth == 7:\n",
    "        subtree = tree\n",
    "        node_subset = np.arange(tree.num_nodes())\n",
    "        projection = np.arange(tree.num_nodes())\n",
    "    else:\n",
    "        subtree_file = f'resources/subtree/inat21_max_depth_{depth}.csv'\n",
    "        with open(subtree_file) as f:\n",
    "            subtree, subtree_names = hier.make_hierarchy_from_edges(hier.load_edges(f))\n",
    "        node_subset = hier.find_subset_index(names, subtree_names)\n",
    "        projection = hier.find_projection(tree, node_subset)\n",
    "\n",
    "    subtrees[depth] = subtree\n",
    "    node_subsets[depth] = node_subset\n",
    "    projections[depth] = projection"
   ]
  },
  {
   "cell_type": "code",
   "execution_count": 13,
   "id": "4d50b794",
   "metadata": {},
   "outputs": [],
   "source": [
    "err = {}\n",
    "\n",
    "for train_depth in exp_dirs:\n",
    "    output_file = pathlib.Path(exp_dirs[train_depth]) / 'predictions/output-epoch-0020.pkl'\n",
    "    outputs = np.load(output_file, allow_pickle=True)\n",
    "\n",
    "    # To use 'leaf' predictions, we should load the full probability vector\n",
    "    # and do max-leaf inference within the sub-tree.\n",
    "    # On the other hand, 'majority' inference can be projected post-hoc.\n",
    "    pred_subtree = outputs['pred']['majority']\n",
    "    gt_subtree = outputs['gt']\n",
    "    train_node_subset = node_subsets[train_depth]\n",
    "    pred = train_node_subset[pred_subtree]\n",
    "    gt = train_node_subset[gt_subtree]\n",
    "\n",
    "    for test_depth in exp_dirs:\n",
    "        if test_depth > train_depth:\n",
    "            continue\n",
    "        # Project ground-truth to test\n",
    "        project = projections[test_depth]\n",
    "        gt_proj = project[gt]\n",
    "        pred_proj = project[pred]\n",
    "        err[train_depth, test_depth] = np.mean(gt_proj == pred_proj)"
   ]
  },
  {
   "cell_type": "code",
   "execution_count": 14,
   "id": "5c035617",
   "metadata": {},
   "outputs": [
    {
     "data": {
      "text/html": [
       "<div>\n",
       "<style scoped>\n",
       "    .dataframe tbody tr th:only-of-type {\n",
       "        vertical-align: middle;\n",
       "    }\n",
       "\n",
       "    .dataframe tbody tr th {\n",
       "        vertical-align: top;\n",
       "    }\n",
       "\n",
       "    .dataframe thead th {\n",
       "        text-align: right;\n",
       "    }\n",
       "</style>\n",
       "<table border=\"1\" class=\"dataframe\">\n",
       "  <thead>\n",
       "    <tr style=\"text-align: right;\">\n",
       "      <th></th>\n",
       "      <th>3</th>\n",
       "      <th>4</th>\n",
       "      <th>5</th>\n",
       "      <th>6</th>\n",
       "      <th>7</th>\n",
       "    </tr>\n",
       "  </thead>\n",
       "  <tbody>\n",
       "    <tr>\n",
       "      <th>3</th>\n",
       "      <td>0.78844</td>\n",
       "      <td>NaN</td>\n",
       "      <td>NaN</td>\n",
       "      <td>NaN</td>\n",
       "      <td>NaN</td>\n",
       "    </tr>\n",
       "    <tr>\n",
       "      <th>4</th>\n",
       "      <td>0.81713</td>\n",
       "      <td>0.48301</td>\n",
       "      <td>NaN</td>\n",
       "      <td>NaN</td>\n",
       "      <td>NaN</td>\n",
       "    </tr>\n",
       "    <tr>\n",
       "      <th>5</th>\n",
       "      <td>0.83108</td>\n",
       "      <td>0.52361</td>\n",
       "      <td>0.35589</td>\n",
       "      <td>NaN</td>\n",
       "      <td>NaN</td>\n",
       "    </tr>\n",
       "    <tr>\n",
       "      <th>6</th>\n",
       "      <td>0.83270</td>\n",
       "      <td>0.55167</td>\n",
       "      <td>0.40487</td>\n",
       "      <td>0.26763</td>\n",
       "      <td>NaN</td>\n",
       "    </tr>\n",
       "    <tr>\n",
       "      <th>7</th>\n",
       "      <td>0.88844</td>\n",
       "      <td>0.68037</td>\n",
       "      <td>0.55616</td>\n",
       "      <td>0.42105</td>\n",
       "      <td>0.31846</td>\n",
       "    </tr>\n",
       "  </tbody>\n",
       "</table>\n",
       "</div>"
      ],
      "text/plain": [
       "         3        4        5        6        7\n",
       "3  0.78844      NaN      NaN      NaN      NaN\n",
       "4  0.81713  0.48301      NaN      NaN      NaN\n",
       "5  0.83108  0.52361  0.35589      NaN      NaN\n",
       "6  0.83270  0.55167  0.40487  0.26763      NaN\n",
       "7  0.88844  0.68037  0.55616  0.42105  0.31846"
      ]
     },
     "execution_count": 14,
     "metadata": {},
     "output_type": "execute_result"
    }
   ],
   "source": [
    "pd.Series(err).unstack()"
   ]
  },
  {
   "cell_type": "code",
   "execution_count": null,
   "id": "6610fa1d",
   "metadata": {},
   "outputs": [],
   "source": []
  }
 ],
 "metadata": {
  "kernelspec": {
   "display_name": "Python 3 (ipykernel)",
   "language": "python",
   "name": "python3"
  },
  "language_info": {
   "codemirror_mode": {
    "name": "ipython",
    "version": 3
   },
   "file_extension": ".py",
   "mimetype": "text/x-python",
   "name": "python",
   "nbconvert_exporter": "python",
   "pygments_lexer": "ipython3",
   "version": "3.8.10"
  }
 },
 "nbformat": 4,
 "nbformat_minor": 5
}
