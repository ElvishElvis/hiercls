{
 "cells": [
  {
   "cell_type": "code",
   "execution_count": 1,
   "id": "33d4366d",
   "metadata": {},
   "outputs": [],
   "source": [
    "import json\n",
    "\n",
    "import matplotlib.pyplot as plt\n",
    "import numpy as np\n",
    "import scipy.stats\n",
    "import torchvision\n",
    "\n",
    "import datasets\n",
    "import hier"
   ]
  },
  {
   "cell_type": "code",
   "execution_count": 2,
   "id": "65799bc2",
   "metadata": {},
   "outputs": [],
   "source": [
    "with open('resources/hierarchy/tiny_imagenet_fiveai.csv') as f:\n",
    "    tree, node_keys = hier.make_hierarchy_from_edges(hier.load_edges(f))\n",
    "\n",
    "with open('resources/class_names/imagenet_fiveai.json') as f:\n",
    "    key_to_name = json.load(f)"
   ]
  },
  {
   "cell_type": "code",
   "execution_count": 3,
   "id": "b86af763",
   "metadata": {},
   "outputs": [
    {
     "name": "stdout",
     "output_type": "stream",
     "text": [
      "min leaf desc 2: leaf nodes 48\n",
      "['domestic_cat.n.01', 'mechanical_device.n.01', 'ball.n.01', 'furniture.n.01', 'citrus.n.01', 'frog.n.01', 'tool.n.01', 'timer.n.01', 'butterfly.n.01', 'bus.n.01', 'dish.n.02', 'shelter.n.02', 'musical_instrument.n.01', 'support.n.10', 'shore.n.01', 'electronic_equipment.n.01', 'frozen_dessert.n.01', 'gastropod.n.01', 'natural_elevation.n.01', 'seabird.n.01', 'retriever.n.01', 'bread.n.01', 'spider.n.01', 'bottle.n.01', 'hosiery.n.01', 'dictyopterous_insect.n.01', 'weapon.n.01', 'great_ape.n.01', 'overgarment.n.01', 'source_of_illumination.n.01', 'machine.n.01', 'van.n.05', 'bovid.n.01', 'gown.n.05', 'pan.n.01', 'barrier.n.01', 'lobster.n.02', 'coelenterate.n.01', 'shop.n.01', 'vegetable.n.01', 'optical_instrument.n.01', 'car.n.01', 'bridge.n.01', 'home_appliance.n.01', 'swimsuit.n.01', 'stick.n.01', 'diapsid.n.01', 'boat.n.01']\n",
      "\n",
      "min leaf desc 5: leaf nodes 15\n",
      "['feline.n.01', 'equipment.n.01', 'fruit.n.01', 'geological_formation.n.01', 'implement.n.01', 'instrument.n.01', 'dog.n.01', 'insect.n.01', 'nutriment.n.01', 'protective_covering.n.01', 'even-toed_ungulate.n.01', 'garment.n.01', 'vessel.n.03', 'motor_vehicle.n.01', 'structure.n.01']\n",
      "\n",
      "min leaf desc 10: leaf nodes 8\n",
      "['carnivore.n.01', 'device.n.01', 'matter.n.03', 'insect.n.01', 'clothing.n.01', 'container.n.01', 'wheeled_vehicle.n.01', 'structure.n.01']\n",
      "\n"
     ]
    }
   ],
   "source": [
    "for min_leaf_desc in [2, 5, 10]:\n",
    "    node_mask = (tree.num_leaf_descendants() >= min_leaf_desc)\n",
    "    key_subset = [name for i, name in enumerate(node_keys) if node_mask[i]]\n",
    "\n",
    "    with open(f'resources/class_subset/tiny_imagenet_fiveai_min_leaf_{min_leaf_desc}.txt', 'w') as f:\n",
    "        f.writelines([x + '\\n' for x in key_subset])\n",
    "\n",
    "    subtree, _, _ = hier.subtree(tree, np.flatnonzero(node_mask))\n",
    "    leaf_keys = [key_subset[i] for i in subtree.leaf_subset()]\n",
    "    print('min leaf desc {}: leaf nodes {}'.format(min_leaf_desc, subtree.num_leaf_nodes()))\n",
    "    print([key_to_name[k] for k in leaf_keys])\n",
    "    print()"
   ]
  },
  {
   "cell_type": "code",
   "execution_count": 4,
   "id": "42d323d9",
   "metadata": {},
   "outputs": [
    {
     "name": "stdout",
     "output_type": "stream",
     "text": [
      "max depth 3: leaf nodes 13\n",
      "['organism.n.01', 'artifact.n.01', 'natural_object.n.01', 'cliff.n.01', 'beverage.n.01', 'nutriment.n.01', 'shore.n.01', 'natural_elevation.n.01', 'foodstuff.n.02', 'mushroom.n.05', 'mashed_potato.n.01', 'bell_pepper.n.02', 'cruciferous_vegetable.n.01']\n",
      "\n",
      "max depth 4: leaf nodes 23\n",
      "['animal.n.01', 'instrumentality.n.03', 'fruit.n.01', 'cliff.n.01', 'espresso.n.01', 'dish.n.02', 'covering.n.02', 'seashore.n.01', 'course.n.07', 'commodity.n.01', 'coral_reef.n.01', 'bread.n.01', 'condiment.n.01', 'lakeside.n.01', 'mountain.n.01', 'structure.n.01', 'mushroom.n.05', 'tableware.n.01', 'teddy.n.01', 'mashed_potato.n.01', 'comic_book.n.01', 'bell_pepper.n.02', 'cauliflower.n.02']\n",
      "\n",
      "max depth 5: leaf nodes 46\n",
      "['vertebrate.n.01', 'device.n.01', 'equipment.n.01', 'furnishing.n.02', 'edible_fruit.n.01', 'cliff.n.01', 'espresso.n.01', 'implement.n.01', 'invertebrate.n.01', 'conveyance.n.03', 'pizza.n.01', 'protective_covering.n.01', 'potpie.n.01', 'seashore.n.01', 'dessert.n.01', 'consumer_goods.n.01', 'coral_reef.n.01', 'container.n.01', 'pretzel.n.01', 'guacamole.n.01', 'lakeside.n.01', 'alp.n.01', 'triumphal_arch.n.01', 'barrier.n.01', 'beacon.n.03', 'footwear.n.02', 'establishment.n.04', 'mushroom.n.05', 'bridge.n.01', 'wooden_spoon.n.02', 'building.n.01', 'fountain.n.01', 'plate.n.08', 'teddy.n.01', 'signboard.n.01', 'memorial.n.03', 'dwelling.n.01', 'mashed_potato.n.01', 'chain.n.03', 'comic_book.n.01', 'altar.n.02', 'obelisk.n.01', 'bell_pepper.n.02', 'loaf_of_bread.n.01', 'acorn.n.01', 'cauliflower.n.02']\n",
      "\n"
     ]
    }
   ],
   "source": [
    "for max_depth in [3, 4, 5]:\n",
    "    node_mask = (tree.depths() <= max_depth)\n",
    "    key_subset = [name for i, name in enumerate(node_keys) if node_mask[i]]\n",
    "\n",
    "    with open(f'resources/class_subset/tiny_imagenet_fiveai_max_depth_{max_depth}.txt', 'w') as f:\n",
    "        f.writelines([x + '\\n' for x in key_subset])\n",
    "\n",
    "    subtree, _, _ = hier.subtree(tree, np.flatnonzero(node_mask))\n",
    "    leaf_keys = [key_subset[i] for i in subtree.leaf_subset()]\n",
    "    print(f'max depth {max_depth}: leaf nodes {len(leaf_keys)}')\n",
    "    print([key_to_name[k] for k in leaf_keys])\n",
    "    print()"
   ]
  },
  {
   "cell_type": "code",
   "execution_count": null,
   "id": "39c3e959",
   "metadata": {},
   "outputs": [],
   "source": []
  }
 ],
 "metadata": {
  "kernelspec": {
   "display_name": "Python 3 (ipykernel)",
   "language": "python",
   "name": "python3"
  },
  "language_info": {
   "codemirror_mode": {
    "name": "ipython",
    "version": 3
   },
   "file_extension": ".py",
   "mimetype": "text/x-python",
   "name": "python",
   "nbconvert_exporter": "python",
   "pygments_lexer": "ipython3",
   "version": "3.8.10"
  }
 },
 "nbformat": 4,
 "nbformat_minor": 5
}
