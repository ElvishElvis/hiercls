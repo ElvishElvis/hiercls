{
 "cells": [
  {
   "cell_type": "code",
   "execution_count": 1,
   "id": "33d4366d",
   "metadata": {},
   "outputs": [],
   "source": [
    "import json\n",
    "\n",
    "import matplotlib.pyplot as plt\n",
    "import numpy as np\n",
    "import scipy.stats\n",
    "import torchvision\n",
    "\n",
    "import datasets\n",
    "import hier"
   ]
  },
  {
   "cell_type": "code",
   "execution_count": 2,
   "id": "65799bc2",
   "metadata": {},
   "outputs": [],
   "source": [
    "with open('resources/hierarchy/tiny_imagenet_fiveai.csv') as f:\n",
    "    tree, node_keys = hier.make_hierarchy_from_edges(hier.load_edges(f))\n",
    "\n",
    "with open('resources/class_names/imagenet_fiveai.json') as f:\n",
    "    key_to_name = json.load(f)"
   ]
  },
  {
   "cell_type": "code",
   "execution_count": 3,
   "id": "b86af763",
   "metadata": {
    "scrolled": false
   },
   "outputs": [
    {
     "name": "stdout",
     "output_type": "stream",
     "text": [
      "max leaf size 10: leaf nodes 72\n",
      "['feline.n.01', 'mechanism.n.05', 'equipment.n.01', 'furnishing.n.02', 'natural_object.n.01', 'amphibian.n.03', 'geological_formation.n.01', 'substance.n.01', 'implement.n.01', 'instrument.n.01', 'canine.n.02', 'insect.n.01', 'bear.n.01', 'public_transport.n.01', 'food.n.01', 'rodent.n.01', 'covering.n.02', 'musical_instrument.n.01', 'support.n.10', 'fish.n.01', 'ungulate.n.01', 'restraint.n.06', 'heater.n.01', 'garment.n.01', 'primate.n.02', 'mollusk.n.01', 'bird.n.01', 'trap.n.01', 'echinoderm.n.01', 'bag.n.01', 'arachnid.n.01', 'procyonid.n.01', 'vessel.n.03', 'hosiery.n.01', 'wheeled_vehicle.n.01', 'remote_control.n.01', 'source_of_illumination.n.01', 'machine.n.01', 'marsupial.n.01', 'gown.n.05', 'triumphal_arch.n.01', 'headdress.n.01', 'barrier.n.01', 'crustacean.n.01', 'beacon.n.03', 'coelenterate.n.01', 'establishment.n.04', 'crane.n.04', 'vegetable.n.01', 'box.n.01', 'breathing_device.n.01', 'aquatic_mammal.n.01', 'bridge.n.01', 'tableware.n.01', 'appliance.n.02', 'building.n.01', 'protective_garment.n.01', 'fountain.n.01', 'teddy.n.01', 'signboard.n.01', 'memorial.n.03', 'reptile.n.01', 'centipede.n.01', 'dwelling.n.01', 'military_uniform.n.01', 'chain.n.03', 'comic_book.n.01', 'trilobite.n.01', 'altar.n.02', 'obelisk.n.01', 'craft.n.02', 'elephant.n.01']\n",
      "\n",
      "max leaf size 20: leaf nodes 42\n",
      "['carnivore.n.01', 'mechanism.n.05', 'equipment.n.01', 'furnishing.n.02', 'natural_object.n.01', 'amphibian.n.03', 'geological_formation.n.01', 'matter.n.03', 'implement.n.01', 'instrument.n.01', 'arthropod.n.01', 'conveyance.n.03', 'rodent.n.01', 'covering.n.02', 'musical_instrument.n.01', 'support.n.10', 'fish.n.01', 'ungulate.n.01', 'restraint.n.06', 'heater.n.01', 'commodity.n.01', 'primate.n.02', 'mollusk.n.01', 'bird.n.01', 'trap.n.01', 'echinoderm.n.01', 'container.n.01', 'remote_control.n.01', 'source_of_illumination.n.01', 'machine.n.01', 'marsupial.n.01', 'structure.n.01', 'coelenterate.n.01', 'crane.n.04', 'breathing_device.n.01', 'aquatic_mammal.n.01', 'tableware.n.01', 'teddy.n.01', 'reptile.n.01', 'chain.n.03', 'comic_book.n.01', 'elephant.n.01']\n",
      "\n",
      "max leaf size 50: leaf nodes 18\n",
      "['vertebrate.n.01', 'device.n.01', 'equipment.n.01', 'furnishing.n.02', 'natural_object.n.01', 'geological_formation.n.01', 'matter.n.03', 'implement.n.01', 'invertebrate.n.01', 'conveyance.n.03', 'covering.n.02', 'commodity.n.01', 'container.n.01', 'structure.n.01', 'tableware.n.01', 'teddy.n.01', 'chain.n.03', 'comic_book.n.01']\n",
      "\n"
     ]
    }
   ],
   "source": [
    "for max_leaf_size in [10, 20, 50]:\n",
    "    # Truncate graph such that all leaf nodes have size <= max_leaf_size.\n",
    "    # Ensure that leaf nodes map to leaf nodes.\n",
    "    node_size = tree.num_leaf_descendants()\n",
    "    can_be_leaf = (node_size <= max_leaf_size)\n",
    "    parent = tree.parents(root_loop=True)\n",
    "    keep = (~can_be_leaf[parent])\n",
    "\n",
    "    key_subset = [name for i, name in enumerate(node_keys) if keep[i]]\n",
    "    with open(f'resources/class_subset/tiny_imagenet_fiveai_max_leaf_size_{max_leaf_size}.txt', 'w') as f:\n",
    "        f.writelines([x + '\\n' for x in key_subset])\n",
    "\n",
    "    subtree, node_subset, project = hier.subtree(tree, np.flatnonzero(keep))\n",
    "    assert np.all(subtree.leaf_mask()[project[tree.leaf_subset()]])\n",
    "    print(f'max leaf size {max_leaf_size}: leaf nodes {subtree.num_leaf_nodes()}')\n",
    "    leaf_keys = [node_keys[node_subset[i]] for i in subtree.leaf_subset()]\n",
    "    print([key_to_name[k] for k in leaf_keys])\n",
    "    print()"
   ]
  },
  {
   "cell_type": "code",
   "execution_count": 4,
   "id": "42d323d9",
   "metadata": {},
   "outputs": [
    {
     "name": "stdout",
     "output_type": "stream",
     "text": [
      "max depth 3: leaf nodes 13\n",
      "['organism.n.01', 'artifact.n.01', 'natural_object.n.01', 'cliff.n.01', 'beverage.n.01', 'nutriment.n.01', 'shore.n.01', 'natural_elevation.n.01', 'foodstuff.n.02', 'mushroom.n.05', 'mashed_potato.n.01', 'bell_pepper.n.02', 'cruciferous_vegetable.n.01']\n",
      "\n",
      "max depth 4: leaf nodes 23\n",
      "['animal.n.01', 'instrumentality.n.03', 'fruit.n.01', 'cliff.n.01', 'espresso.n.01', 'dish.n.02', 'covering.n.02', 'seashore.n.01', 'course.n.07', 'commodity.n.01', 'coral_reef.n.01', 'bread.n.01', 'condiment.n.01', 'lakeside.n.01', 'mountain.n.01', 'structure.n.01', 'mushroom.n.05', 'tableware.n.01', 'teddy.n.01', 'mashed_potato.n.01', 'comic_book.n.01', 'bell_pepper.n.02', 'cauliflower.n.02']\n",
      "\n",
      "max depth 5: leaf nodes 46\n",
      "['vertebrate.n.01', 'device.n.01', 'equipment.n.01', 'furnishing.n.02', 'edible_fruit.n.01', 'cliff.n.01', 'espresso.n.01', 'implement.n.01', 'invertebrate.n.01', 'conveyance.n.03', 'pizza.n.01', 'protective_covering.n.01', 'potpie.n.01', 'seashore.n.01', 'dessert.n.01', 'consumer_goods.n.01', 'coral_reef.n.01', 'container.n.01', 'pretzel.n.01', 'guacamole.n.01', 'lakeside.n.01', 'alp.n.01', 'triumphal_arch.n.01', 'barrier.n.01', 'beacon.n.03', 'footwear.n.02', 'establishment.n.04', 'mushroom.n.05', 'bridge.n.01', 'wooden_spoon.n.02', 'building.n.01', 'fountain.n.01', 'plate.n.08', 'teddy.n.01', 'signboard.n.01', 'memorial.n.03', 'dwelling.n.01', 'mashed_potato.n.01', 'chain.n.03', 'comic_book.n.01', 'altar.n.02', 'obelisk.n.01', 'bell_pepper.n.02', 'loaf_of_bread.n.01', 'acorn.n.01', 'cauliflower.n.02']\n",
      "\n"
     ]
    }
   ],
   "source": [
    "for max_depth in [3, 4, 5]:\n",
    "    keep = (tree.depths() <= max_depth)\n",
    "    key_subset = [name for i, name in enumerate(node_keys) if keep[i]]\n",
    "\n",
    "    with open(f'resources/class_subset/tiny_imagenet_fiveai_max_depth_{max_depth}.txt', 'w') as f:\n",
    "        f.writelines([x + '\\n' for x in key_subset])\n",
    "\n",
    "    subtree, node_subset, project = hier.subtree(tree, np.flatnonzero(keep))\n",
    "    assert np.all(subtree.leaf_mask()[project[tree.leaf_subset()]])\n",
    "    print(f'max depth {max_depth}: leaf nodes {subtree.num_leaf_nodes()}')\n",
    "    leaf_keys = [node_keys[node_subset[i]] for i in subtree.leaf_subset()]\n",
    "    print([key_to_name[k] for k in leaf_keys])\n",
    "    print()"
   ]
  },
  {
   "cell_type": "code",
   "execution_count": null,
   "id": "39c3e959",
   "metadata": {},
   "outputs": [],
   "source": []
  }
 ],
 "metadata": {
  "kernelspec": {
   "display_name": "Python 3 (ipykernel)",
   "language": "python",
   "name": "python3"
  },
  "language_info": {
   "codemirror_mode": {
    "name": "ipython",
    "version": 3
   },
   "file_extension": ".py",
   "mimetype": "text/x-python",
   "name": "python",
   "nbconvert_exporter": "python",
   "pygments_lexer": "ipython3",
   "version": "3.8.10"
  }
 },
 "nbformat": 4,
 "nbformat_minor": 5
}
