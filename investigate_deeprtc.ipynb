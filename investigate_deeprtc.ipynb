{
 "cells": [
  {
   "cell_type": "code",
   "execution_count": 1,
   "id": "78a40757",
   "metadata": {},
   "outputs": [],
   "source": [
    "import json\n",
    "import pathlib\n",
    "\n",
    "import matplotlib\n",
    "from matplotlib import pyplot as plt\n",
    "import ml_collections\n",
    "import numpy as np\n",
    "import torch\n",
    "\n",
    "import hier\n",
    "import infer\n",
    "import main\n",
    "import metrics\n",
    "import progmet\n",
    "import tree_util"
   ]
  },
  {
   "cell_type": "code",
   "execution_count": 2,
   "id": "f4b96da2",
   "metadata": {},
   "outputs": [],
   "source": [
    "hierarchy_file = 'resources/hierarchy/inat21.csv'\n",
    "\n",
    "config_file = '/mnt/ssd1/projects/2022-01-hierarchical/experiments/2022-03-31-inat21mini/share_random_cut-0.1-lr-0.01-b-64-wd-0.0003-ep-20/config.json'\n",
    "model_file = '/mnt/ssd1/projects/2022-01-hierarchical/experiments/2022-03-31-inat21mini/share_random_cut-0.1-lr-0.01-b-64-wd-0.0003-ep-20/checkpoints/epoch-0020.pth'\n",
    "\n",
    "with open(config_file, 'r') as f:\n",
    "    config = ml_collections.ConfigDict(json.load(f))\n",
    "\n",
    "with open(hierarchy_file, 'r') as f:\n",
    "    tree, node_keys = hier.make_hierarchy_from_edges(hier.load_edges(f))"
   ]
  },
  {
   "cell_type": "code",
   "execution_count": 3,
   "id": "93349565",
   "metadata": {
    "scrolled": true
   },
   "outputs": [],
   "source": [
    "num_outputs = main.get_num_outputs(config.predict, tree)\n",
    "net = main.make_model(config.model, num_outputs)\n",
    "missing_keys, unexpected_keys = net.load_state_dict(torch.load(model_file), strict=True)"
   ]
  },
  {
   "cell_type": "code",
   "execution_count": 4,
   "id": "054831d7",
   "metadata": {},
   "outputs": [
    {
     "data": {
      "text/plain": [
       "[]"
      ]
     },
     "execution_count": 4,
     "metadata": {},
     "output_type": "execute_result"
    }
   ],
   "source": [
    "missing_keys"
   ]
  },
  {
   "cell_type": "code",
   "execution_count": 5,
   "id": "d6cb8a01",
   "metadata": {},
   "outputs": [
    {
     "data": {
      "text/plain": [
       "[]"
      ]
     },
     "execution_count": 5,
     "metadata": {},
     "output_type": "execute_result"
    }
   ],
   "source": [
    "unexpected_keys"
   ]
  },
  {
   "cell_type": "code",
   "execution_count": 6,
   "id": "52d0666a",
   "metadata": {},
   "outputs": [],
   "source": [
    "device = torch.device('cuda')\n",
    "net.to(device)\n",
    "loss_fn, pred_fn = main.make_loss(config, tree, device)"
   ]
  },
  {
   "cell_type": "code",
   "execution_count": 7,
   "id": "6d05ea75",
   "metadata": {},
   "outputs": [],
   "source": [
    "train_dataset, eval_dataset, tree, _, train_label_map, eval_label_map = main.make_datasets(config)"
   ]
  },
  {
   "cell_type": "code",
   "execution_count": 8,
   "id": "c8b00952",
   "metadata": {},
   "outputs": [],
   "source": [
    "eval_loader = torch.utils.data.DataLoader(\n",
    "    dataset=eval_dataset,\n",
    "    batch_size=256,\n",
    "    shuffle=False,\n",
    "    num_workers=0)"
   ]
  },
  {
   "cell_type": "code",
   "execution_count": 9,
   "id": "cce55204",
   "metadata": {},
   "outputs": [],
   "source": [
    "is_leaf = tree.leaf_mask()\n",
    "specificity = -tree.num_leaf_descendants()\n",
    "not_trivial = (tree.num_children() != 1)"
   ]
  },
  {
   "cell_type": "code",
   "execution_count": 10,
   "id": "0415e1f8",
   "metadata": {},
   "outputs": [],
   "source": [
    "infer_fns = {\n",
    "    'leaf': lambda p: infer.argmax_where(p, is_leaf),\n",
    "    'majority': lambda p: infer.argmax_with_confidence(specificity, p, 0.5, not_trivial),\n",
    "}"
   ]
  },
  {
   "cell_type": "code",
   "execution_count": 14,
   "id": "0657a1dd",
   "metadata": {},
   "outputs": [],
   "source": [
    "net.eval()\n",
    "with torch.inference_mode():\n",
    "    for minibatch in eval_loader:\n",
    "        inputs, gt_labels = minibatch\n",
    "        theta = net(inputs.to(device))\n",
    "        prob = pred_fn(theta).cpu().numpy()\n",
    "\n",
    "#         pred = {}\n",
    "#         for name, infer_fn in infer_fns.items():\n",
    "#             pred[name] = infer_fn(prob)\n",
    "#         gt_node = eval_label_map.to_node[gt_labels]\n",
    "#         pred_seqs = [\n",
    "#             infer.pareto_optimal_predictions(specificity, p, 0., not_trivial)\n",
    "#             for p in prob\n",
    "#         ]\n",
    "#         prob_seqs = [prob[i, pred_i] for i, pred_i in enumerate(pred_seqs)]\n",
    "#         # Caution: Predictions are *not* truncated.\n",
    "\n",
    "        break"
   ]
  },
  {
   "cell_type": "code",
   "execution_count": 21,
   "id": "1687ced8",
   "metadata": {},
   "outputs": [],
   "source": [
    "import hier_torch"
   ]
  },
  {
   "cell_type": "code",
   "execution_count": 26,
   "id": "481875c6",
   "metadata": {},
   "outputs": [],
   "source": [
    "torch.set_printoptions(sci_mode=False)"
   ]
  },
  {
   "cell_type": "code",
   "execution_count": 31,
   "id": "6610fa1d",
   "metadata": {},
   "outputs": [
    {
     "data": {
      "text/plain": [
       "tensor([[  0.0000,   8.6953,  -0.6484,  ..., -11.5918, -12.1372, -12.6753],\n",
       "        [  0.0000,   6.6484,  -1.1562,  ...,  -8.7016,  -8.5163,  -8.3366],\n",
       "        [  0.0000,  -0.0764,  -7.9904,  ...,  -9.4089, -10.1082, -10.7209],\n",
       "        ...,\n",
       "        [  0.0000,   2.5156,  -6.3516,  ...,  -9.4768, -10.1394, -10.7942],\n",
       "        [  0.0000,   6.3203,  -1.6562,  ..., -11.7842, -12.4482, -13.0137],\n",
       "        [  0.0000,   4.8398,  -3.8711,  ...,  -9.2546,  -9.4617,  -9.6505]],\n",
       "       device='cuda:0')"
      ]
     },
     "execution_count": 31,
     "metadata": {},
     "output_type": "execute_result"
    }
   ],
   "source": [
    "cumsum_theta = hier_torch.SumAncestors(tree, exclude_root=True).to(device)(theta)\n",
    "cumsum_theta"
   ]
  },
  {
   "cell_type": "code",
   "execution_count": 33,
   "id": "7c15f2b5",
   "metadata": {},
   "outputs": [
    {
     "data": {
      "text/plain": [
       "torch.return_types.max(\n",
       "values=tensor([11.5344,  9.4092,  3.9820, 14.9359,  3.2108, 11.4448,  6.3154, 10.5169,\n",
       "         6.5687, 11.0928,  8.6688, 23.4878, 15.7400, 11.1978,  5.2783,  7.5959,\n",
       "        13.3012, 13.4761, 19.1018, 10.8657,  7.7310, 11.2949,  0.6331,  5.9296,\n",
       "        11.7687,  4.2833, 35.6245, 14.0425,  1.8423, 16.8071, 11.6873, 14.0469,\n",
       "        18.6725,  6.4614,  9.8580,  3.1846,  6.3537, 13.8838, 11.7275,  9.2106,\n",
       "        12.6653,  3.7393, 14.5012, 15.0444,  9.9788, 13.6125,  7.0927, 11.2204,\n",
       "        15.0648, 27.5705, 10.7206,  2.1573,  0.9351, 11.4608,  7.7632,  7.2695,\n",
       "         5.4991,  8.7581, 20.7783,  9.9878,  1.5166,  9.7607,  4.1229, 12.8275,\n",
       "        12.7468, 11.0901,  6.9628,  8.8615, 12.2487,  4.0459,  1.2185, 13.0119,\n",
       "         9.9775,  2.4891, 14.7791, 16.5249, 10.6653,  5.1162,  9.3907,  9.4849,\n",
       "         4.6335, 15.8599, 11.5303,  5.2402,  2.8973, 14.4236, 18.4309,  6.4275,\n",
       "        18.1780,  9.7974,  6.2887,  1.2339,  0.4567, 12.3842,  1.6608,  8.0033,\n",
       "         6.4907,  9.8053, 14.2737,  7.9998,  7.4356, 14.0991,  6.5737, 14.0056,\n",
       "        16.7522,  1.8438, 11.3056, 10.9194, -0.9756, 23.4355, 13.1006, 11.3721,\n",
       "        17.4136,  7.0369, 10.4380, -0.8652, 14.2861, 23.9170, 17.9863,  5.9613,\n",
       "         2.6246,  6.5808, 15.9398, 14.8315, 10.2206, 10.9369, 10.5561, 15.4478,\n",
       "         6.0170, 10.2469, 18.5659,  9.9934, 11.5723,  3.9318,  9.2125, 13.7112,\n",
       "         3.7139,  7.6729,  1.0780,  3.6021, -0.2376,  3.9368, 12.4385,  7.1799,\n",
       "        23.3884, 19.1841,  8.1868,  1.0516,  2.2880,  3.1735,  7.2047,  9.6226,\n",
       "         1.3794,  6.1411, 17.3015,  6.2714, 14.8496,  9.8843,  9.5325,  2.0975,\n",
       "         9.1246, 19.9429, 13.2139, -0.3884,  3.9386,  6.8555,  8.8339, 14.9243,\n",
       "        12.2276, 18.5569, 11.5709, 13.5544,  6.7195,  7.4149, 17.0748, 11.6939,\n",
       "        13.8065,  7.8961,  2.5181,  2.8118,  7.9468,  1.7603,  9.6078,  1.3407,\n",
       "         9.1406, 13.0247, 13.9137,  8.1045,  8.1299, 10.0056,  9.3080, 20.7041,\n",
       "         8.3179,  9.1010, 19.0059,  2.0959, 16.8286, 11.8167, 12.9263,  7.7684,\n",
       "         0.5335,  2.6487,  7.9220, 21.1885, 11.8699,  0.2607, 16.6091, 13.1672,\n",
       "         3.9173,  6.9373, 11.5109,  9.1253, 14.7979,  9.1612,  2.8152, 13.8301,\n",
       "        12.7891, -1.2877, 21.3135,  3.2754, 11.5549, 17.7217, 14.1050,  7.3033,\n",
       "         3.2256, 19.6389, 13.7546, 15.3398,  2.7700, 23.3540, 11.5325, 10.6743,\n",
       "         2.8611, 12.2992,  5.7532,  7.3098, 17.9131, 16.3804, 16.4395, 12.3457,\n",
       "         4.1357,  9.4351, 10.7305, 10.9000,  2.4921, -1.7466,  7.4973,  8.2264,\n",
       "        10.4724,  1.3896, 16.9773,  7.7644,  8.7245,  7.0527,  8.3552,  5.2198],\n",
       "       device='cuda:0'),\n",
       "indices=tensor([3845, 3915, 5585, 4494, 5159, 3253, 5813, 5521, 9531, 9170, 4626, 3512,\n",
       "        3022, 4478, 7184, 9330, 3249, 5090, 3492, 3203, 3507, 4869, 4895, 5000,\n",
       "        4537, 9294, 5122, 4422, 5188, 5117, 2970, 3047, 3080, 4443, 9094, 8179,\n",
       "        7036, 8837, 3150, 7161, 8282, 6546, 5960, 9765, 8528,  277, 8481, 2172,\n",
       "        5074, 3225, 8132, 9223, 8018, 8909, 5965, 5895, 5063, 4922, 2670, 5885,\n",
       "        9301, 9174, 7618, 6435, 2734, 4537, 9408, 8895, 8916, 6556, 9051, 4491,\n",
       "        5384, 5819, 1405, 1954, 6696, 6722, 4632, 5201, 5371, 3397, 5718, 6359,\n",
       "        6120, 2829, 4233, 7522, 4298, 6000, 3340, 9807, 2694, 2350, 6367, 7517,\n",
       "        6878, 6624, 9696, 8976, 8630, 4207, 4216, 4545, 6076, 8591, 7531, 9347,\n",
       "        4761, 1184,  781,  783, 1504, 3771, 3459, 8321,  490, 2509, 2430, 9868,\n",
       "        5332, 7696, 2227, 9898, 1330,  990, 4996, 4790, 3276, 3494, 3732, 8853,\n",
       "        2678, 4472,  989, 1959, 7252, 4426, 5312, 8562, 3085, 9844, 6027, 8158,\n",
       "        3421, 1171, 8179,  651, 8841, 8143, 5563,  543, 5510, 1771, 3091, 5621,\n",
       "        4890, 2783, 3920, 6581, 2775, 5093,   53, 3595, 2398, 5833, 3139, 3633,\n",
       "        3572, 2989, 5613, 3057, 4857, 4602, 4241, 4061, 7346, 3382, 6223, 5161,\n",
       "        6189, 6563,  430, 8199, 2981, 4941, 3198, 4392, 7077, 6710, 7327, 3198,\n",
       "        4148, 3387, 3742, 8852, 3397, 3530, 4516, 3071, 5191, 8139, 6645, 4217,\n",
       "        3397, 2465, 5578, 5616,  835,  769, 3829, 4539, 3316, 6838, 5456, 3979,\n",
       "        3585, 6565, 3454, 4525, 7301, 4075, 4143, 6185, 5283, 4093, 3163, 3891,\n",
       "        5661, 1935, 4294, 4308, 6032, 8625,  774, 8311, 4220, 2187, 4094, 3826,\n",
       "        3005, 4909, 4755, 6854, 2788, 5578, 9067, 7437, 6665, 9774, 3851, 4901,\n",
       "        4957, 9637,  850, 1762], device='cuda:0'))"
      ]
     },
     "execution_count": 33,
     "metadata": {},
     "output_type": "execute_result"
    }
   ],
   "source": [
    "cumsum_theta[:, tree.leaf_subset()].max(axis=-1)"
   ]
  },
  {
   "cell_type": "code",
   "execution_count": 29,
   "id": "99c247f2",
   "metadata": {},
   "outputs": [
    {
     "data": {
      "text/plain": [
       "tensor([[    0.9933,     1.0000,     0.9873,  ...,     0.0014,     0.0008,\n",
       "             0.0005],\n",
       "        [    0.9933,     1.0000,     0.9790,  ...,     0.0241,     0.0289,\n",
       "             0.0343],\n",
       "        [    0.9933,     0.9928,     0.0479,  ...,     0.0120,     0.0060,\n",
       "             0.0033],\n",
       "        ...,\n",
       "        [    0.9933,     0.9995,     0.2056,  ...,     0.0112,     0.0058,\n",
       "             0.0030],\n",
       "        [    0.9933,     1.0000,     0.9659,  ...,     0.0011,     0.0006,\n",
       "             0.0003],\n",
       "        [    0.9933,     0.9999,     0.7556,  ...,     0.0140,     0.0114,\n",
       "             0.0095]], device='cuda:0')"
      ]
     },
     "execution_count": 29,
     "metadata": {},
     "output_type": "execute_result"
    }
   ],
   "source": [
    "torch.sigmoid(5 + hier_torch.SumAncestors(tree, exclude_root=True).to(device)(theta))"
   ]
  },
  {
   "cell_type": "code",
   "execution_count": null,
   "id": "f4f05d8f",
   "metadata": {},
   "outputs": [],
   "source": []
  }
 ],
 "metadata": {
  "kernelspec": {
   "display_name": "Python 3 (ipykernel)",
   "language": "python",
   "name": "python3"
  },
  "language_info": {
   "codemirror_mode": {
    "name": "ipython",
    "version": 3
   },
   "file_extension": ".py",
   "mimetype": "text/x-python",
   "name": "python",
   "nbconvert_exporter": "python",
   "pygments_lexer": "ipython3",
   "version": "3.8.10"
  }
 },
 "nbformat": 4,
 "nbformat_minor": 5
}
