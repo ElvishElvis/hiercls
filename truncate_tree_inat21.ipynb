{
 "cells": [
  {
   "cell_type": "code",
   "execution_count": 1,
   "id": "33d4366d",
   "metadata": {},
   "outputs": [],
   "source": [
    "import csv\n",
    "\n",
    "import numpy as np\n",
    "\n",
    "import hier"
   ]
  },
  {
   "cell_type": "code",
   "execution_count": 2,
   "id": "65799bc2",
   "metadata": {},
   "outputs": [],
   "source": [
    "with open('resources/hierarchy/inat21.csv') as f:\n",
    "    tree, node_names = hier.make_hierarchy_from_edges(hier.load_edges(f))"
   ]
  },
  {
   "cell_type": "code",
   "execution_count": 4,
   "id": "607bc1d8",
   "metadata": {},
   "outputs": [
    {
     "name": "stdout",
     "output_type": "stream",
     "text": [
      "max depth 3: leaf nodes 51\n",
      "max depth 4: leaf nodes 273\n",
      "max depth 5: leaf nodes 1103\n",
      "max depth 6: leaf nodes 4900\n",
      "max depth 7: leaf nodes 10000\n"
     ]
    }
   ],
   "source": [
    "for max_depth in [3, 4, 5, 6, 7]:\n",
    "    node_subset = np.flatnonzero(tree.depths() <= max_depth)\n",
    "    subtree = hier.rooted_subtree(tree, node_subset)\n",
    "    subtree_names = [node_names[i] for i in node_subset]\n",
    "    print(f'max depth {max_depth}: leaf nodes {subtree.num_leaf_nodes()}')\n",
    "\n",
    "    # Write subtree to file.\n",
    "    subtree_edges = [(subtree_names[i], subtree_names[j]) for i, j in subtree.edges()]\n",
    "    with open(f'resources/subtree/inat21_max_depth_{max_depth}.csv', 'w') as f:\n",
    "        csv.writer(f).writerows(subtree_edges)"
   ]
  },
  {
   "cell_type": "code",
   "execution_count": null,
   "id": "e10ec823",
   "metadata": {},
   "outputs": [],
   "source": []
  }
 ],
 "metadata": {
  "kernelspec": {
   "display_name": "Python 3 (ipykernel)",
   "language": "python",
   "name": "python3"
  },
  "language_info": {
   "codemirror_mode": {
    "name": "ipython",
    "version": 3
   },
   "file_extension": ".py",
   "mimetype": "text/x-python",
   "name": "python",
   "nbconvert_exporter": "python",
   "pygments_lexer": "ipython3",
   "version": "3.8.10"
  }
 },
 "nbformat": 4,
 "nbformat_minor": 5
}
