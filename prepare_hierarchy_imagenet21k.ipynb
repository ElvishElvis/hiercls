{
 "cells": [
  {
   "cell_type": "code",
   "execution_count": 1,
   "id": "aa12ae31",
   "metadata": {},
   "outputs": [],
   "source": [
    "import csv\n",
    "\n",
    "import networkx as nx\n",
    "import numpy as np\n",
    "import torch"
   ]
  },
  {
   "cell_type": "code",
   "execution_count": 2,
   "id": "ed68792a",
   "metadata": {},
   "outputs": [],
   "source": [
    "tree = torch.load('resources/hierarchy_raw/imagenet21k/winter21/imagenet21k_miil_tree.pth')\n",
    "# tree = torch.load('resources/hierarchy_raw/imagenet21k/fall11/imagenet21k_miil_tree.pth')"
   ]
  },
  {
   "cell_type": "code",
   "execution_count": 3,
   "id": "bf63b6de",
   "metadata": {},
   "outputs": [],
   "source": [
    "order = tree['class_list'].tolist()"
   ]
  },
  {
   "cell_type": "code",
   "execution_count": 4,
   "id": "009a2bdb",
   "metadata": {},
   "outputs": [
    {
     "data": {
      "text/plain": [
       "(11925, 11924)"
      ]
     },
     "execution_count": 4,
     "metadata": {},
     "output_type": "execute_result"
    }
   ],
   "source": [
    "g = nx.DiGraph()\n",
    "visited = set()\n",
    "\n",
    "def add_node_and_ancestors(node):\n",
    "    if node not in tree['child_2_parent']:\n",
    "        return\n",
    "    if node in visited:\n",
    "        return\n",
    "    visited.add(node)\n",
    "    parent = tree['child_2_parent'][node]\n",
    "    g.add_edge(parent, node)\n",
    "    add_node_and_ancestors(parent)\n",
    "\n",
    "for node in order:\n",
    "    add_node_and_ancestors(node)\n",
    "\n",
    "len(g), len(g.edges)"
   ]
  },
  {
   "cell_type": "code",
   "execution_count": 5,
   "id": "c2ae0ac7",
   "metadata": {},
   "outputs": [
    {
     "data": {
      "text/plain": [
       "['n00001740']"
      ]
     },
     "execution_count": 5,
     "metadata": {},
     "output_type": "execute_result"
    }
   ],
   "source": [
    "# Check unique root node.\n",
    "[x for x in g if g.in_degree[x] == 0]"
   ]
  },
  {
   "cell_type": "code",
   "execution_count": 6,
   "id": "4f6f3fdf",
   "metadata": {},
   "outputs": [
    {
     "data": {
      "text/plain": [
       "8152"
      ]
     },
     "execution_count": 6,
     "metadata": {},
     "output_type": "execute_result"
    }
   ],
   "source": [
    "# Check number of leaf nodes.\n",
    "sum(1 for x in g if g.out_degree[x] == 0)"
   ]
  },
  {
   "cell_type": "code",
   "execution_count": 7,
   "id": "705ff64b",
   "metadata": {},
   "outputs": [
    {
     "data": {
      "text/plain": [
       "[]"
      ]
     },
     "execution_count": 7,
     "metadata": {},
     "output_type": "execute_result"
    }
   ],
   "source": [
    "# Ensure no nodes with multiple parents.\n",
    "[x for x in g if g.in_degree[x] > 1]"
   ]
  },
  {
   "cell_type": "code",
   "execution_count": 8,
   "id": "89db8e39",
   "metadata": {},
   "outputs": [
    {
     "data": {
      "text/plain": [
       "['n09450163']"
      ]
     },
     "execution_count": 8,
     "metadata": {},
     "output_type": "execute_result"
    }
   ],
   "source": [
    "# Check that all classes are present in the graph.\n",
    "[x for x in order if x not in g]"
   ]
  },
  {
   "cell_type": "code",
   "execution_count": 9,
   "id": "cdd8c613",
   "metadata": {},
   "outputs": [],
   "source": [
    "# Add a direct edge from the root to any orphan nodes.\n",
    "# https://github.com/Alibaba-MIIL/ImageNet21K/issues/54\n",
    "root, = [x for x in g if g.in_degree[x] == 0]\n",
    "for x in order:\n",
    "    if x not in g:\n",
    "        g.add_edge(root, x)"
   ]
  },
  {
   "cell_type": "code",
   "execution_count": 10,
   "id": "49e756fa",
   "metadata": {},
   "outputs": [],
   "source": [
    "# TODO: Avoid duplication with inat.\n",
    "\n",
    "def dfs_edges_with_order(g, order):\n",
    "    visited = set()\n",
    "    edges = []\n",
    "\n",
    "    def visit(node):\n",
    "        if node in visited:\n",
    "            return\n",
    "        visited.add(node)\n",
    "        if not g.in_degree[node]:\n",
    "            return\n",
    "        parents = list(g.predecessors(node))\n",
    "        if len(parents) > 1:\n",
    "            raise ValueError('multiple parents', node, parents)\n",
    "        parent, = parents\n",
    "        visit(parent)\n",
    "        edges.append((parent, node))\n",
    "    \n",
    "    for leaf in order:\n",
    "        visit(leaf)\n",
    "\n",
    "    return edges"
   ]
  },
  {
   "cell_type": "code",
   "execution_count": 11,
   "id": "ba43a742",
   "metadata": {},
   "outputs": [],
   "source": [
    "edges = dfs_edges_with_order(g, order)"
   ]
  },
  {
   "cell_type": "code",
   "execution_count": 12,
   "id": "cbc5150a",
   "metadata": {},
   "outputs": [],
   "source": [
    "with open('resources/hierarchy/imagenet21k_winter21.csv', 'w') as f:\n",
    "    w = csv.writer(f)\n",
    "    for edge in edges:\n",
    "        w.writerow(edge)"
   ]
  },
  {
   "cell_type": "code",
   "execution_count": null,
   "id": "f52d11e8",
   "metadata": {},
   "outputs": [],
   "source": []
  }
 ],
 "metadata": {
  "kernelspec": {
   "display_name": "Python 3 (ipykernel)",
   "language": "python",
   "name": "python3"
  },
  "language_info": {
   "codemirror_mode": {
    "name": "ipython",
    "version": 3
   },
   "file_extension": ".py",
   "mimetype": "text/x-python",
   "name": "python",
   "nbconvert_exporter": "python",
   "pygments_lexer": "ipython3",
   "version": "3.8.10"
  }
 },
 "nbformat": 4,
 "nbformat_minor": 5
}
