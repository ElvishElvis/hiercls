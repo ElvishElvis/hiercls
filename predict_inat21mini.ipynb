{
 "cells": [
  {
   "cell_type": "code",
   "execution_count": 1,
   "id": "78a40757",
   "metadata": {},
   "outputs": [],
   "source": [
    "import json\n",
    "import pathlib\n",
    "\n",
    "import matplotlib\n",
    "from matplotlib import pyplot as plt\n",
    "import ml_collections\n",
    "import numpy as np\n",
    "import torch\n",
    "\n",
    "import hier\n",
    "import infer\n",
    "import main\n",
    "import metrics\n",
    "import progmet\n",
    "import tree_util"
   ]
  },
  {
   "cell_type": "code",
   "execution_count": 2,
   "id": "f4b96da2",
   "metadata": {},
   "outputs": [],
   "source": [
    "hierarchy_file = 'resources/hierarchy/inat21.csv'\n",
    "\n",
    "# config_file = '/mnt/ssd1/projects/2022-01-hierarchical/experiments/2022-03-31-inat21mini/flat_softmax-lr-0.01-b-64-wd-0.0003-ep-20/config.json'\n",
    "# model_file = '/mnt/ssd1/projects/2022-01-hierarchical/experiments/2022-03-31-inat21mini/flat_softmax-lr-0.01-b-64-wd-0.0003-ep-20/checkpoints/epoch-0020.pth'\n",
    "\n",
    "config_file = '/mnt/ssd1/projects/2022-01-hierarchical/experiments/2022-03-31-inat21mini/share_random_cut-0.1-lr-0.01-b-64-wd-0.0003-ep-20/config.json'\n",
    "model_file = '/mnt/ssd1/projects/2022-01-hierarchical/experiments/2022-03-31-inat21mini/share_random_cut-0.1-lr-0.01-b-64-wd-0.0003-ep-20/checkpoints/epoch-0020.pth'\n",
    "\n",
    "with open(config_file, 'r') as f:\n",
    "    config = ml_collections.ConfigDict(json.load(f))\n",
    "\n",
    "with open(hierarchy_file, 'r') as f:\n",
    "    tree, node_keys = hier.make_hierarchy_from_edges(hier.load_edges(f))"
   ]
  },
  {
   "cell_type": "code",
   "execution_count": 3,
   "id": "93349565",
   "metadata": {
    "scrolled": true
   },
   "outputs": [],
   "source": [
    "num_outputs = main.get_num_outputs(config.predict, tree)\n",
    "net = main.make_model(config.model, num_outputs)\n",
    "missing_keys, unexpected_keys = net.load_state_dict(torch.load(model_file), strict=True)"
   ]
  },
  {
   "cell_type": "code",
   "execution_count": 4,
   "id": "054831d7",
   "metadata": {},
   "outputs": [
    {
     "data": {
      "text/plain": [
       "[]"
      ]
     },
     "execution_count": 4,
     "metadata": {},
     "output_type": "execute_result"
    }
   ],
   "source": [
    "missing_keys"
   ]
  },
  {
   "cell_type": "code",
   "execution_count": 5,
   "id": "d6cb8a01",
   "metadata": {},
   "outputs": [
    {
     "data": {
      "text/plain": [
       "[]"
      ]
     },
     "execution_count": 5,
     "metadata": {},
     "output_type": "execute_result"
    }
   ],
   "source": [
    "unexpected_keys"
   ]
  },
  {
   "cell_type": "code",
   "execution_count": 6,
   "id": "52d0666a",
   "metadata": {},
   "outputs": [],
   "source": [
    "device = torch.device('cuda')\n",
    "net.to(device)\n",
    "loss_fn, pred_fn = main.make_loss(config, tree, device)"
   ]
  },
  {
   "cell_type": "code",
   "execution_count": 7,
   "id": "6d05ea75",
   "metadata": {},
   "outputs": [],
   "source": [
    "train_dataset, eval_dataset, tree, _, train_label_map, eval_label_map = main.make_datasets(config)"
   ]
  },
  {
   "cell_type": "code",
   "execution_count": 8,
   "id": "c8b00952",
   "metadata": {},
   "outputs": [],
   "source": [
    "eval_loader = torch.utils.data.DataLoader(\n",
    "    dataset=eval_dataset,\n",
    "    batch_size=256,\n",
    "    shuffle=False,\n",
    "    num_workers=0)"
   ]
  },
  {
   "cell_type": "code",
   "execution_count": 9,
   "id": "cce55204",
   "metadata": {},
   "outputs": [],
   "source": [
    "is_leaf = tree.leaf_mask()\n",
    "specificity = -tree.num_leaf_descendants()\n",
    "not_trivial = (tree.num_children() != 1)"
   ]
  },
  {
   "cell_type": "code",
   "execution_count": 10,
   "id": "0415e1f8",
   "metadata": {},
   "outputs": [],
   "source": [
    "infer_fns = {\n",
    "    'leaf': lambda p: infer.argmax_where(p, is_leaf),\n",
    "    'majority': lambda p: infer.argmax_with_confidence(specificity, p, 0.5, not_trivial),\n",
    "}"
   ]
  },
  {
   "cell_type": "code",
   "execution_count": 11,
   "id": "0657a1dd",
   "metadata": {},
   "outputs": [
    {
     "name": "stderr",
     "output_type": "stream",
     "text": [
      "eval:   1% (4/391); T=1.38 f=0.725; mean T=1.38 f=0.725; elapsed 0:00:06; remaining 0:08:53 of 0:08:59\n",
      "eval:   2% (8/391); T=1.39 f=0.719; mean T=1.38 f=0.722; elapsed 0:00:11; remaining 0:08:50 of 0:09:01\n",
      "eval:   3% (12/391); T=1.37 f=0.728; mean T=1.38 f=0.724; elapsed 0:00:17; remaining 0:08:43 of 0:09:00\n",
      "eval:   4% (16/391); T=1.39 f=0.720; mean T=1.38 f=0.723; elapsed 0:00:22; remaining 0:08:39 of 0:09:01\n",
      "eval:   5% (20/391); T=1.39 f=0.721; mean T=1.38 f=0.723; elapsed 0:00:28; remaining 0:08:33 of 0:09:01\n",
      "eval:   6% (24/391); T=1.42 f=0.704; mean T=1.39 f=0.719; elapsed 0:00:33; remaining 0:08:30 of 0:09:04\n",
      "eval:   7% (28/391); T=1.44 f=0.694; mean T=1.40 f=0.716; elapsed 0:00:39; remaining 0:08:27 of 0:09:06\n",
      "eval:   8% (32/391); T=1.45 f=0.689; mean T=1.40 f=0.712; elapsed 0:00:45; remaining 0:08:24 of 0:09:09\n",
      "eval:   9% (36/391); T=1.40 f=0.713; mean T=1.40 f=0.712; elapsed 0:00:51; remaining 0:08:18 of 0:09:09\n",
      "eval:  10% (40/391); T=1.42 f=0.707; mean T=1.41 f=0.712; elapsed 0:00:56; remaining 0:08:13 of 0:09:09\n",
      "eval:  11% (44/391); T=1.41 f=0.707; mean T=1.41 f=0.711; elapsed 0:01:02; remaining 0:08:08 of 0:09:10\n",
      "eval:  12% (48/391); T=1.42 f=0.706; mean T=1.41 f=0.711; elapsed 0:01:08; remaining 0:08:03 of 0:09:10\n",
      "eval:  13% (52/391); T=1.44 f=0.695; mean T=1.41 f=0.710; elapsed 0:01:13; remaining 0:07:58 of 0:09:11\n",
      "eval:  14% (56/391); T=1.39 f=0.721; mean T=1.41 f=0.710; elapsed 0:01:19; remaining 0:07:52 of 0:09:10\n",
      "eval:  15% (60/391); T=1.39 f=0.718; mean T=1.41 f=0.711; elapsed 0:01:24; remaining 0:07:46 of 0:09:10\n",
      "eval:  16% (64/391); T=1.38 f=0.724; mean T=1.41 f=0.712; elapsed 0:01:30; remaining 0:07:39 of 0:09:09\n",
      "eval:  17% (68/391); T=1.40 f=0.714; mean T=1.40 f=0.712; elapsed 0:01:36; remaining 0:07:34 of 0:09:09\n",
      "eval:  18% (72/391); T=1.42 f=0.702; mean T=1.41 f=0.711; elapsed 0:01:41; remaining 0:07:29 of 0:09:10\n",
      "eval:  19% (76/391); T=1.52 f=0.657; mean T=1.41 f=0.708; elapsed 0:01:47; remaining 0:07:25 of 0:09:12\n",
      "eval:  20% (79/391); T=1.38 f=0.725; mean T=1.41 f=0.709; elapsed 0:01:51; remaining 0:07:20 of 0:09:12\n",
      "eval:  21% (83/391); T=1.46 f=0.685; mean T=1.41 f=0.708; elapsed 0:01:57; remaining 0:07:15 of 0:09:13\n",
      "eval:  22% (87/391); T=1.44 f=0.694; mean T=1.41 f=0.707; elapsed 0:02:03; remaining 0:07:10 of 0:09:13\n",
      "eval:  23% (91/391); T=1.45 f=0.691; mean T=1.42 f=0.706; elapsed 0:02:09; remaining 0:07:05 of 0:09:14\n",
      "eval:  24% (95/391); T=1.41 f=0.708; mean T=1.42 f=0.706; elapsed 0:02:15; remaining 0:06:59 of 0:09:14\n",
      "eval:  25% (99/391); T=1.39 f=0.718; mean T=1.41 f=0.707; elapsed 0:02:20; remaining 0:06:53 of 0:09:13\n",
      "eval:  26% (103/391); T=1.42 f=0.703; mean T=1.42 f=0.707; elapsed 0:02:26; remaining 0:06:48 of 0:09:13\n",
      "eval:  27% (107/391); T=1.42 f=0.702; mean T=1.42 f=0.706; elapsed 0:02:31; remaining 0:06:42 of 0:09:13\n",
      "eval:  28% (111/391); T=1.37 f=0.728; mean T=1.41 f=0.707; elapsed 0:02:37; remaining 0:06:36 of 0:09:13\n",
      "eval:  29% (115/391); T=1.37 f=0.729; mean T=1.41 f=0.708; elapsed 0:02:42; remaining 0:06:30 of 0:09:12\n",
      "eval:  30% (119/391); T=1.47 f=0.682; mean T=1.41 f=0.707; elapsed 0:02:48; remaining 0:06:25 of 0:09:13\n",
      "eval:  31% (123/391); T=1.41 f=0.710; mean T=1.41 f=0.707; elapsed 0:02:54; remaining 0:06:19 of 0:09:13\n",
      "eval:  32% (127/391); T=1.38 f=0.725; mean T=1.41 f=0.708; elapsed 0:02:59; remaining 0:06:13 of 0:09:13\n",
      "eval:  34% (131/391); T=1.36 f=0.737; mean T=1.41 f=0.709; elapsed 0:03:05; remaining 0:06:07 of 0:09:12\n",
      "eval:  35% (135/391); T=1.37 f=0.730; mean T=1.41 f=0.709; elapsed 0:03:10; remaining 0:06:01 of 0:09:11\n",
      "eval:  36% (139/391); T=1.39 f=0.719; mean T=1.41 f=0.709; elapsed 0:03:16; remaining 0:05:55 of 0:09:11\n",
      "eval:  37% (143/391); T=1.37 f=0.732; mean T=1.41 f=0.710; elapsed 0:03:21; remaining 0:05:49 of 0:09:11\n",
      "eval:  38% (147/391); T=1.40 f=0.713; mean T=1.41 f=0.710; elapsed 0:03:27; remaining 0:05:44 of 0:09:11\n",
      "eval:  39% (151/391); T=1.44 f=0.693; mean T=1.41 f=0.710; elapsed 0:03:33; remaining 0:05:38 of 0:09:11\n",
      "eval:  40% (155/391); T=1.54 f=0.651; mean T=1.41 f=0.708; elapsed 0:03:39; remaining 0:05:33 of 0:09:12\n",
      "eval:  40% (157/391); T=1.85 f=0.541; mean T=1.42 f=0.705; elapsed 0:03:43; remaining 0:05:32 of 0:09:14\n",
      "eval:  41% (160/391); T=1.95 f=0.513; mean T=1.43 f=0.700; elapsed 0:03:48; remaining 0:05:30 of 0:09:18\n",
      "eval:  42% (164/391); T=1.43 f=0.698; mean T=1.43 f=0.700; elapsed 0:03:54; remaining 0:05:24 of 0:09:18\n",
      "eval:  43% (168/391); T=1.39 f=0.717; mean T=1.43 f=0.701; elapsed 0:04:00; remaining 0:05:18 of 0:09:18\n",
      "eval:  44% (172/391); T=1.35 f=0.743; mean T=1.43 f=0.702; elapsed 0:04:05; remaining 0:05:12 of 0:09:17\n",
      "eval:  45% (176/391); T=1.42 f=0.703; mean T=1.43 f=0.702; elapsed 0:04:11; remaining 0:05:06 of 0:09:17\n",
      "eval:  46% (180/391); T=1.44 f=0.693; mean T=1.43 f=0.701; elapsed 0:04:17; remaining 0:05:01 of 0:09:17\n",
      "eval:  47% (184/391); T=1.43 f=0.700; mean T=1.43 f=0.701; elapsed 0:04:22; remaining 0:04:55 of 0:09:17\n",
      "eval:  48% (188/391); T=1.41 f=0.711; mean T=1.43 f=0.702; elapsed 0:04:28; remaining 0:04:49 of 0:09:17\n",
      "eval:  49% (192/391); T=1.42 f=0.702; mean T=1.43 f=0.702; elapsed 0:04:34; remaining 0:04:44 of 0:09:17\n",
      "eval:  50% (196/391); T=1.42 f=0.703; mean T=1.43 f=0.702; elapsed 0:04:39; remaining 0:04:38 of 0:09:17\n",
      "eval:  51% (200/391); T=1.59 f=0.630; mean T=1.43 f=0.700; elapsed 0:04:46; remaining 0:04:33 of 0:09:19\n",
      "eval:  52% (204/391); T=1.45 f=0.688; mean T=1.43 f=0.700; elapsed 0:04:52; remaining 0:04:27 of 0:09:19\n",
      "eval:  53% (208/391); T=1.40 f=0.713; mean T=1.43 f=0.700; elapsed 0:04:57; remaining 0:04:21 of 0:09:19\n",
      "eval:  54% (212/391); T=1.44 f=0.695; mean T=1.43 f=0.700; elapsed 0:05:03; remaining 0:04:16 of 0:09:19\n",
      "eval:  55% (216/391); T=1.45 f=0.691; mean T=1.43 f=0.700; elapsed 0:05:09; remaining 0:04:10 of 0:09:19\n",
      "eval:  56% (220/391); T=1.42 f=0.704; mean T=1.43 f=0.700; elapsed 0:05:14; remaining 0:04:04 of 0:09:19\n",
      "eval:  57% (224/391); T=1.45 f=0.690; mean T=1.43 f=0.700; elapsed 0:05:20; remaining 0:03:59 of 0:09:19\n",
      "eval:  58% (228/391); T=1.42 f=0.704; mean T=1.43 f=0.700; elapsed 0:05:26; remaining 0:03:53 of 0:09:19\n",
      "eval:  59% (232/391); T=1.43 f=0.698; mean T=1.43 f=0.700; elapsed 0:05:32; remaining 0:03:47 of 0:09:19\n",
      "eval:  60% (235/391); T=1.40 f=0.713; mean T=1.43 f=0.700; elapsed 0:05:36; remaining 0:03:43 of 0:09:19\n",
      "eval:  61% (239/391); T=1.50 f=0.667; mean T=1.43 f=0.699; elapsed 0:05:42; remaining 0:03:37 of 0:09:19\n",
      "eval:  62% (243/391); T=1.53 f=0.656; mean T=1.43 f=0.699; elapsed 0:05:48; remaining 0:03:32 of 0:09:20\n",
      "eval:  63% (247/391); T=1.44 f=0.692; mean T=1.43 f=0.698; elapsed 0:05:54; remaining 0:03:26 of 0:09:20\n",
      "eval:  64% (251/391); T=1.40 f=0.716; mean T=1.43 f=0.699; elapsed 0:05:59; remaining 0:03:20 of 0:09:20\n",
      "eval:  65% (255/391); T=1.46 f=0.683; mean T=1.43 f=0.698; elapsed 0:06:05; remaining 0:03:15 of 0:09:20\n",
      "eval:  66% (259/391); T=1.40 f=0.713; mean T=1.43 f=0.699; elapsed 0:06:11; remaining 0:03:09 of 0:09:20\n",
      "eval:  67% (262/391); T=2.08 f=0.481; mean T=1.44 f=0.695; elapsed 0:06:17; remaining 0:03:06 of 0:09:23\n",
      "eval:  68% (266/391); T=1.42 f=0.703; mean T=1.44 f=0.695; elapsed 0:06:23; remaining 0:03:00 of 0:09:22\n",
      "eval:  69% (270/391); T=1.32 f=0.756; mean T=1.44 f=0.696; elapsed 0:06:28; remaining 0:02:54 of 0:09:22\n",
      "eval:  70% (274/391); T=1.45 f=0.689; mean T=1.44 f=0.696; elapsed 0:06:34; remaining 0:02:48 of 0:09:22\n",
      "eval:  71% (277/391); T=2.05 f=0.488; mean T=1.44 f=0.693; elapsed 0:06:40; remaining 0:02:45 of 0:09:24\n",
      "eval:  72% (281/391); T=1.49 f=0.671; mean T=1.44 f=0.692; elapsed 0:06:46; remaining 0:02:39 of 0:09:25\n",
      "eval:  73% (285/391); T=1.38 f=0.727; mean T=1.44 f=0.693; elapsed 0:06:51; remaining 0:02:33 of 0:09:24\n",
      "eval:  74% (289/391); T=1.38 f=0.726; mean T=1.44 f=0.693; elapsed 0:06:57; remaining 0:02:27 of 0:09:24\n",
      "eval:  75% (293/391); T=1.38 f=0.725; mean T=1.44 f=0.694; elapsed 0:07:02; remaining 0:02:21 of 0:09:24\n",
      "eval:  76% (297/391); T=1.37 f=0.733; mean T=1.44 f=0.694; elapsed 0:07:08; remaining 0:02:15 of 0:09:23\n",
      "eval:  77% (301/391); T=1.35 f=0.740; mean T=1.44 f=0.695; elapsed 0:07:13; remaining 0:02:10 of 0:09:23\n",
      "eval:  78% (305/391); T=1.33 f=0.753; mean T=1.44 f=0.696; elapsed 0:07:19; remaining 0:02:04 of 0:09:22\n",
      "eval:  79% (309/391); T=1.34 f=0.748; mean T=1.44 f=0.696; elapsed 0:07:24; remaining 0:01:58 of 0:09:22\n"
     ]
    },
    {
     "name": "stderr",
     "output_type": "stream",
     "text": [
      "eval:  80% (313/391); T=1.30 f=0.772; mean T=1.43 f=0.697; elapsed 0:07:29; remaining 0:01:52 of 0:09:21\n",
      "eval:  81% (317/391); T=1.37 f=0.732; mean T=1.43 f=0.697; elapsed 0:07:35; remaining 0:01:46 of 0:09:21\n",
      "eval:  82% (321/391); T=1.33 f=0.750; mean T=1.43 f=0.698; elapsed 0:07:40; remaining 0:01:40 of 0:09:20\n",
      "eval:  83% (325/391); T=1.46 f=0.684; mean T=1.43 f=0.698; elapsed 0:07:46; remaining 0:01:35 of 0:09:20\n",
      "eval:  84% (329/391); T=1.41 f=0.711; mean T=1.43 f=0.698; elapsed 0:07:51; remaining 0:01:29 of 0:09:20\n",
      "eval:  85% (333/391); T=1.45 f=0.690; mean T=1.43 f=0.698; elapsed 0:07:57; remaining 0:01:23 of 0:09:20\n",
      "eval:  86% (337/391); T=1.29 f=0.776; mean T=1.43 f=0.699; elapsed 0:08:02; remaining 0:01:17 of 0:09:20\n",
      "eval:  87% (341/391); T=1.30 f=0.771; mean T=1.43 f=0.700; elapsed 0:08:07; remaining 0:01:11 of 0:09:19\n",
      "eval:  88% (345/391); T=1.26 f=0.793; mean T=1.43 f=0.700; elapsed 0:08:13; remaining 0:01:06 of 0:09:18\n",
      "eval:  90% (350/391); T=1.26 f=0.796; mean T=1.43 f=0.702; elapsed 0:08:19; remaining 0:00:58 of 0:09:17\n",
      "eval:  91% (354/391); T=1.39 f=0.721; mean T=1.42 f=0.702; elapsed 0:08:24; remaining 0:00:53 of 0:09:17\n",
      "eval:  92% (358/391); T=1.33 f=0.755; mean T=1.42 f=0.702; elapsed 0:08:30; remaining 0:00:47 of 0:09:17\n",
      "eval:  93% (362/391); T=1.32 f=0.759; mean T=1.42 f=0.703; elapsed 0:08:35; remaining 0:00:41 of 0:09:16\n",
      "eval:  94% (366/391); T=1.35 f=0.742; mean T=1.42 f=0.703; elapsed 0:08:40; remaining 0:00:36 of 0:09:16\n",
      "eval:  95% (370/391); T=1.46 f=0.684; mean T=1.42 f=0.703; elapsed 0:08:46; remaining 0:00:30 of 0:09:16\n",
      "eval:  96% (374/391); T=1.35 f=0.742; mean T=1.42 f=0.704; elapsed 0:08:52; remaining 0:00:24 of 0:09:16\n",
      "eval:  97% (378/391); T=1.31 f=0.764; mean T=1.42 f=0.704; elapsed 0:08:57; remaining 0:00:18 of 0:09:15\n",
      "eval:  98% (382/391); T=1.30 f=0.768; mean T=1.42 f=0.705; elapsed 0:09:02; remaining 0:00:13 of 0:09:15\n",
      "eval:  99% (386/391); T=1.32 f=0.755; mean T=1.42 f=0.705; elapsed 0:09:07; remaining 0:00:07 of 0:09:14\n",
      "eval: 100% (390/391); T=1.35 f=0.740; mean T=1.42 f=0.706; elapsed 0:09:13; remaining 0:00:01 of 0:09:14\n",
      "eval: 100% (391/391); T=0.774 f=1.29; mean T=1.42 f=0.706; elapsed 0:09:13\n"
     ]
    }
   ],
   "source": [
    "# Per-example predictions.\n",
    "outputs = {\n",
    "    'gt': [],  # Node in hierarchy.\n",
    "    'pred': {method: [] for method in infer_fns},\n",
    "}\n",
    "# Sequence-per-example predictions. Cannot be concatenated due to ragged shape.\n",
    "seq_outputs = {\n",
    "    'pred': [],\n",
    "    'prob': [],\n",
    "}\n",
    "\n",
    "net.eval()\n",
    "with torch.inference_mode():\n",
    "    meter = progmet.ProgressMeter(f'eval', interval_time=5, num_div=5)\n",
    "    for minibatch in meter(eval_loader):\n",
    "        inputs, gt_labels = minibatch\n",
    "        theta = net(inputs.to(device))\n",
    "        prob = pred_fn(theta).cpu().numpy()\n",
    "        pred = {}\n",
    "        for name, infer_fn in infer_fns.items():\n",
    "            pred[name] = infer_fn(prob)\n",
    "        gt_node = eval_label_map.to_node[gt_labels]\n",
    "        pred_seqs = [\n",
    "            infer.pareto_optimal_predictions(specificity, p, 0., not_trivial)\n",
    "            for p in prob\n",
    "        ]\n",
    "        prob_seqs = [prob[i, pred_i] for i, pred_i in enumerate(pred_seqs)]\n",
    "        # Caution: Predictions are *not* truncated.\n",
    "\n",
    "        outputs['gt'].append(gt_node)\n",
    "        for method in infer_fns:\n",
    "            outputs['pred'][method].append(pred[method])\n",
    "        seq_outputs['pred'].extend(pred_seqs)\n",
    "        seq_outputs['prob'].extend(prob_seqs)\n",
    "\n",
    "# Concatenate results from minibatches.\n",
    "leaf_predicate = lambda x: not isinstance(x, dict)  # Treat lists as values, not containers.\n",
    "outputs = tree_util.tree_map(np.concatenate, outputs, is_leaf=leaf_predicate)"
   ]
  },
  {
   "cell_type": "code",
   "execution_count": 12,
   "id": "65066968",
   "metadata": {},
   "outputs": [],
   "source": [
    "info_metric = metrics.UniformLeafInfoMetric(tree)\n",
    "depth_metric = metrics.DepthMetric(tree)\n",
    "\n",
    "metric_fns = {\n",
    "    'exact': lambda gt, pr: pr == gt,\n",
    "    'correct': metrics.IsCorrect(tree),\n",
    "    'info_excess': info_metric.excess,\n",
    "    'info_deficient': info_metric.deficient,\n",
    "    'info_dist': info_metric.dist,\n",
    "    'info_recall': info_metric.recall,\n",
    "    'info_precision': info_metric.precision,\n",
    "    'depth_excess': depth_metric.excess,\n",
    "    'depth_deficient': depth_metric.deficient,\n",
    "    'depth_dist': depth_metric.dist,\n",
    "    'depth_recall': depth_metric.recall,\n",
    "    'depth_precision': depth_metric.precision,\n",
    "}"
   ]
  },
  {
   "cell_type": "code",
   "execution_count": 13,
   "id": "ccbfbfbe",
   "metadata": {},
   "outputs": [],
   "source": [
    "gt = outputs['gt']\n",
    "pred = outputs['pred']\n",
    "pred_seq = seq_outputs['pred']\n",
    "prob_seq = seq_outputs['prob']"
   ]
  },
  {
   "cell_type": "code",
   "execution_count": 14,
   "id": "28bbd2f9",
   "metadata": {},
   "outputs": [],
   "source": [
    "# Evaluate metrics for each inference method.\n",
    "\n",
    "# First truncate predictions at LCA with ground-truth.\n",
    "# (No impact if gt are all leaf nodes.)\n",
    "pred = {\n",
    "    method: hier.truncate_at_lca(tree, gt, pr)\n",
    "    for method, pr in pred.items()\n",
    "}\n",
    "\n",
    "metric_values = {\n",
    "    method: {field: np.mean(metric_fn(gt, pr))\n",
    "             for field, metric_fn in metric_fns.items()}\n",
    "    for method, pr in pred.items()\n",
    "}"
   ]
  },
  {
   "cell_type": "code",
   "execution_count": 15,
   "id": "4f22a4bd",
   "metadata": {},
   "outputs": [],
   "source": [
    "# Evaluate metrics for Pareto sequence.\n",
    "find_lca = hier.FindLCA(tree)\n",
    "pred_seq = [hier.truncate_given_lca(gt_i, pr_i, find_lca(gt_i, pr_i)) for gt_i, pr_i in zip(gt, pred_seq)]\n",
    "metric_values_seq = {\n",
    "    field: [metric_fn(gt_i, pr_i) for gt_i, pr_i in zip(gt, pred_seq)]\n",
    "    for field, metric_fn in metric_fns.items()\n",
    "}"
   ]
  },
  {
   "cell_type": "code",
   "execution_count": 16,
   "id": "f2056c8b",
   "metadata": {},
   "outputs": [],
   "source": [
    "step_scores, step_totals = metrics.operating_curve(prob_seq, metric_values_seq)\n",
    "step_means = {k: v / len(gt) for k, v in step_totals.items()}"
   ]
  },
  {
   "cell_type": "code",
   "execution_count": 18,
   "id": "4fafdae2",
   "metadata": {},
   "outputs": [
    {
     "data": {
      "text/plain": [
       "[<matplotlib.lines.Line2D at 0x7f29d0c6b880>]"
      ]
     },
     "execution_count": 18,
     "metadata": {},
     "output_type": "execute_result"
    },
    {
     "data": {
      "image/png": "[encoded data removed]",
      "text/plain": [
       "<Figure size 432x288 with 1 Axes>"
      ]
     },
     "metadata": {
      "needs_background": "light"
     },
     "output_type": "display_data"
    }
   ],
   "source": [
    "plt.plot(step_means['exact'], step_means['correct'])"
   ]
  },
  {
   "cell_type": "code",
   "execution_count": null,
   "id": "6610fa1d",
   "metadata": {},
   "outputs": [],
   "source": []
  }
 ],
 "metadata": {
  "kernelspec": {
   "display_name": "Python 3 (ipykernel)",
   "language": "python",
   "name": "python3"
  },
  "language_info": {
   "codemirror_mode": {
    "name": "ipython",
    "version": 3
   },
   "file_extension": ".py",
   "mimetype": "text/x-python",
   "name": "python",
   "nbconvert_exporter": "python",
   "pygments_lexer": "ipython3",
   "version": "3.8.10"
  }
 },
 "nbformat": 4,
 "nbformat_minor": 5
}
