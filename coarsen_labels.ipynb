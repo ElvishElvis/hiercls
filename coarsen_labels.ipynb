{
 "cells": [
  {
   "cell_type": "code",
   "execution_count": 1,
   "id": "33d4366d",
   "metadata": {},
   "outputs": [],
   "source": [
    "import matplotlib.pyplot as plt\n",
    "import numpy as np\n",
    "import scipy.stats\n",
    "import torchvision\n",
    "\n",
    "import datasets\n",
    "import hier"
   ]
  },
  {
   "cell_type": "code",
   "execution_count": 2,
   "id": "6606b6dc",
   "metadata": {},
   "outputs": [],
   "source": [
    "dataset = torchvision.datasets.ImageNet('/home/jack/data/torchvision/imagenet/', 'train')"
   ]
  },
  {
   "cell_type": "code",
   "execution_count": 3,
   "id": "49fdcee9",
   "metadata": {},
   "outputs": [],
   "source": [
    "with open('resources/hierarchy/imagenet_fiveai.csv') as f:\n",
    "    tree, names = hier.make_hierarchy_from_edges(hier.load_edges(f))"
   ]
  },
  {
   "cell_type": "code",
   "execution_count": 4,
   "id": "c46858f1",
   "metadata": {},
   "outputs": [],
   "source": [
    "node_spec = -np.log(tree.num_leaf_descendants() / tree.num_leaf_nodes())"
   ]
  },
  {
   "cell_type": "code",
   "execution_count": 5,
   "id": "8abf32db",
   "metadata": {},
   "outputs": [],
   "source": [
    "label_order = tree.leaf_subset()"
   ]
  },
  {
   "cell_type": "code",
   "execution_count": 6,
   "id": "7ac1a2ed",
   "metadata": {},
   "outputs": [],
   "source": [
    "paths = tree.paths()\n",
    "paths = [paths[i] for i in label_order]"
   ]
  },
  {
   "cell_type": "code",
   "execution_count": 7,
   "id": "41effdd9",
   "metadata": {},
   "outputs": [],
   "source": [
    "# Simplify paths! Remove nodes that have 1 child.\n",
    "is_valid = (tree.num_children() != 1)\n",
    "if not np.all(is_valid):\n",
    "    len_before = np.mean(list(map(len, paths)))\n",
    "    paths = [path[is_valid[path]] for path in paths]\n",
    "    len_after = np.mean(list(map(len, paths)))\n",
    "    print('exclude trivial nodes, mean len', len_before, '->', len_after)"
   ]
  },
  {
   "cell_type": "code",
   "execution_count": 8,
   "id": "6e7b5751",
   "metadata": {},
   "outputs": [],
   "source": [
    "specs = [node_spec[path] for path in paths]"
   ]
  },
  {
   "cell_type": "code",
   "execution_count": 9,
   "id": "5021748d",
   "metadata": {},
   "outputs": [],
   "source": [
    "spec_fracs = [spec / spec[-1] for spec in specs]\n",
    "out = np.full([len(paths), max(map(len, paths))], np.nan)\n",
    "for i, x in enumerate(spec_fracs):\n",
    "    out[i, :len(x)] = x\n",
    "spec_fracs = out\n",
    "del out"
   ]
  },
  {
   "cell_type": "code",
   "execution_count": 10,
   "id": "1e14b28f",
   "metadata": {},
   "outputs": [],
   "source": [
    "a, b = 2, 1\n",
    "\n",
    "rng = np.random.default_rng(0)\n",
    "# r = rng.beta(a, b, size=[len(dataset)])\n",
    "u = rng.uniform(size=[len(dataset)])\n",
    "r = scipy.stats.beta.ppf(u, a, b)"
   ]
  },
  {
   "cell_type": "code",
   "execution_count": 11,
   "id": "02d575db",
   "metadata": {},
   "outputs": [
    {
     "data": {
      "image/png": "[encoded data removed]",
      "text/plain": [
       "<Figure size 432x288 with 1 Axes>"
      ]
     },
     "metadata": {
      "needs_background": "light"
     },
     "output_type": "display_data"
    }
   ],
   "source": [
    "plt.hist(r, range=(0, 1), bins=100);"
   ]
  },
  {
   "cell_type": "code",
   "execution_count": 12,
   "id": "9321a55c",
   "metadata": {},
   "outputs": [],
   "source": [
    "def first(condition, axis=-1):\n",
    "    assert np.all(np.any(condition, axis=axis))\n",
    "    return np.argmax(condition, axis=axis)"
   ]
  },
  {
   "cell_type": "code",
   "execution_count": 13,
   "id": "8f6c9b95",
   "metadata": {},
   "outputs": [],
   "source": [
    "# first_ge = np.array([first(spec_fracs[y_i] >= r_i) for y_i, r_i in zip(dataset.targets, r)])\n",
    "# coarse_target = np.array([path[index] for path, index in zip(paths, first_ge)])\n",
    "\n",
    "index_first_ge = first(spec_fracs[dataset.targets] >= r[:, None])"
   ]
  },
  {
   "cell_type": "code",
   "execution_count": 14,
   "id": "ae046df5",
   "metadata": {},
   "outputs": [],
   "source": [
    "coarse_target = np.asarray([paths[label][index] for label, index in zip(dataset.targets, index_first_ge)])"
   ]
  },
  {
   "cell_type": "code",
   "execution_count": 15,
   "id": "6dba1096",
   "metadata": {},
   "outputs": [],
   "source": [
    "depths = np.array(list(map(len, paths)))"
   ]
  },
  {
   "cell_type": "code",
   "execution_count": 16,
   "id": "76b1f9a9",
   "metadata": {},
   "outputs": [
    {
     "data": {
      "image/png": "[encoded data removed]",
      "text/plain": [
       "<Figure size 432x288 with 1 Axes>"
      ]
     },
     "metadata": {
      "needs_background": "light"
     },
     "output_type": "display_data"
    }
   ],
   "source": [
    "def hist(int_vals, **kwargs):\n",
    "    a = np.min(int_vals)\n",
    "    b = np.max(int_vals)\n",
    "    plt.hist(int_vals, bins=np.arange(a, b+2), **kwargs)\n",
    "\n",
    "hist(depths[dataset.targets], alpha=0.5)\n",
    "hist(index_first_ge + 1, alpha=0.5)\n",
    "plt.show()"
   ]
  },
  {
   "cell_type": "code",
   "execution_count": 17,
   "id": "181e444a",
   "metadata": {},
   "outputs": [],
   "source": [
    "%reset -f"
   ]
  },
  {
   "cell_type": "code",
   "execution_count": 18,
   "id": "13c03e1b",
   "metadata": {},
   "outputs": [],
   "source": [
    "import matplotlib.pyplot as plt\n",
    "import numpy as np\n",
    "import scipy.stats\n",
    "import torchvision\n",
    "\n",
    "import datasets\n",
    "import hier"
   ]
  },
  {
   "cell_type": "code",
   "execution_count": 19,
   "id": "ef96f9b5",
   "metadata": {},
   "outputs": [],
   "source": [
    "dataset = torchvision.datasets.ImageNet('/home/jack/data/torchvision/imagenet/', 'train')"
   ]
  },
  {
   "cell_type": "code",
   "execution_count": 20,
   "id": "8f9c28ab",
   "metadata": {},
   "outputs": [],
   "source": [
    "with open('resources/hierarchy/imagenet_fiveai.csv') as f:\n",
    "    tree, node_names = hier.make_hierarchy_from_edges(hier.load_edges(f))"
   ]
  },
  {
   "cell_type": "code",
   "execution_count": 21,
   "id": "d0a60d55",
   "metadata": {},
   "outputs": [],
   "source": [
    "def first(condition, axis=-1):\n",
    "    assert np.all(np.any(condition, axis=axis))\n",
    "    return np.argmax(condition, axis=axis)\n",
    "\n",
    "\n",
    "def hist(int_vals, **kwargs):\n",
    "    a = np.min(int_vals)\n",
    "    b = np.max(int_vals)\n",
    "    plt.hist(int_vals, bins=np.arange(a, b+2), **kwargs)\n",
    "\n",
    "\n",
    "def degrade_labels(tree, label_nodes, targets, a, b, seed=0):\n",
    "    node_spec = -np.log(tree.num_leaf_descendants() / tree.num_leaf_nodes())\n",
    "    paths = tree.paths()\n",
    "\n",
    "    # Take subset of paths for labels.\n",
    "    paths = [paths[i] for i in label_nodes]\n",
    "\n",
    "    # Simplify paths! Remove nodes that have 1 child.\n",
    "    is_valid = (tree.num_children() != 1)\n",
    "    if not np.all(is_valid):\n",
    "        len_before = np.mean(list(map(len, paths)))\n",
    "        paths = [path[is_valid[path]] for path in paths]\n",
    "        len_after = np.mean(list(map(len, paths)))\n",
    "        print('exclude trivial nodes, mean len', len_before, '->', len_after)\n",
    "\n",
    "    specs = [node_spec[path] for path in paths]\n",
    "    spec_fracs = [spec / spec[-1] for spec in specs]\n",
    "    out = np.full([len(paths), max(map(len, paths))], np.nan)\n",
    "    for i, x in enumerate(spec_fracs):\n",
    "        out[i, :len(x)] = x\n",
    "    spec_fracs = out\n",
    "\n",
    "    rng = np.random.default_rng(seed)\n",
    "    u = rng.uniform(size=[len(targets)])\n",
    "    r = scipy.stats.beta.ppf(u, a, b)\n",
    "\n",
    "    # plt.hist(r, range=(0, 1), bins=100)\n",
    "    # plt.show()\n",
    "\n",
    "    depths = np.array(list(map(len, paths)))\n",
    "\n",
    "    index_first_ge = first(spec_fracs[targets] >= r[:, None])\n",
    "    coarse = np.asarray([paths[label][index] for label, index in zip(targets, index_first_ge)])\n",
    "\n",
    "    hist(depths[targets], alpha=0.5)\n",
    "    hist(index_first_ge + 1, alpha=0.5)\n",
    "    plt.show()\n",
    "    \n",
    "    return coarse"
   ]
  },
  {
   "cell_type": "code",
   "execution_count": 22,
   "id": "509860c7",
   "metadata": {},
   "outputs": [
    {
     "data": {
      "image/png": "[encoded data removed]",
      "text/plain": [
       "<Figure size 432x288 with 1 Axes>"
      ]
     },
     "metadata": {
      "needs_background": "light"
     },
     "output_type": "display_data"
    },
    {
     "data": {
      "text/plain": [
       "array([  10,   10,    6, ..., 1073, 1281,  309])"
      ]
     },
     "execution_count": 22,
     "metadata": {},
     "output_type": "execute_result"
    }
   ],
   "source": [
    "degrade_labels(tree, tree.leaf_subset(), dataset.targets, 2, 1)"
   ]
  },
  {
   "cell_type": "code",
   "execution_count": 29,
   "id": "fd36d856",
   "metadata": {},
   "outputs": [
    {
     "name": "stdout",
     "output_type": "stream",
     "text": [
      "exclude trivial nodes, mean len 9.0 -> 7.85\n"
     ]
    },
    {
     "data": {
      "image/png": "[encoded data removed]",
      "text/plain": [
       "<Figure size 432x288 with 1 Axes>"
      ]
     },
     "metadata": {
      "needs_background": "light"
     },
     "output_type": "display_data"
    },
    {
     "name": "stdout",
     "output_type": "stream",
     "text": [
      "write: resources/override_labels/tiny_imagenet-train-beta-3-1-seed-0.csv.gz\n",
      "exclude trivial nodes, mean len 9.0 -> 7.85\n"
     ]
    },
    {
     "data": {
      "image/png": "[encoded data removed]",
      "text/plain": [
       "<Figure size 432x288 with 1 Axes>"
      ]
     },
     "metadata": {
      "needs_background": "light"
     },
     "output_type": "display_data"
    },
    {
     "name": "stdout",
     "output_type": "stream",
     "text": [
      "write: resources/override_labels/tiny_imagenet-train-beta-2-1-seed-0.csv.gz\n",
      "exclude trivial nodes, mean len 9.0 -> 7.85\n"
     ]
    },
    {
     "data": {
      "image/png": "[encoded data removed]",
      "text/plain": [
       "<Figure size 432x288 with 1 Axes>"
      ]
     },
     "metadata": {
      "needs_background": "light"
     },
     "output_type": "display_data"
    },
    {
     "name": "stdout",
     "output_type": "stream",
     "text": [
      "write: resources/override_labels/tiny_imagenet-train-beta-1.5-1-seed-0.csv.gz\n",
      "exclude trivial nodes, mean len 9.0 -> 7.85\n"
     ]
    },
    {
     "data": {
      "image/png": "[encoded data removed]",
      "text/plain": [
       "<Figure size 432x288 with 1 Axes>"
      ]
     },
     "metadata": {
      "needs_background": "light"
     },
     "output_type": "display_data"
    },
    {
     "name": "stdout",
     "output_type": "stream",
     "text": [
      "write: resources/override_labels/tiny_imagenet-train-beta-1-1-seed-0.csv.gz\n",
      "exclude trivial nodes, mean len 9.0 -> 7.85\n"
     ]
    },
    {
     "data": {
      "image/png": "[encoded data removed]",
      "text/plain": [
       "<Figure size 432x288 with 1 Axes>"
      ]
     },
     "metadata": {
      "needs_background": "light"
     },
     "output_type": "display_data"
    },
    {
     "name": "stdout",
     "output_type": "stream",
     "text": [
      "write: resources/override_labels/tiny_imagenet-train-beta-1-1.5-seed-0.csv.gz\n",
      "exclude trivial nodes, mean len 9.0 -> 7.85\n"
     ]
    },
    {
     "data": {
      "image/png": "[encoded data removed]",
      "text/plain": [
       "<Figure size 432x288 with 1 Axes>"
      ]
     },
     "metadata": {
      "needs_background": "light"
     },
     "output_type": "display_data"
    },
    {
     "name": "stdout",
     "output_type": "stream",
     "text": [
      "write: resources/override_labels/tiny_imagenet-train-beta-1-2-seed-0.csv.gz\n"
     ]
    }
   ],
   "source": [
    "import csv\n",
    "import gzip\n",
    "import pathlib\n",
    "\n",
    "out_dir = pathlib.Path('resources/override_labels')\n",
    "out_dir.mkdir(parents=True, exist_ok=True)\n",
    "\n",
    "seed = 0\n",
    "\n",
    "beta_params = [\n",
    "    (3, 1),  # Quadratic bias toward leaves.\n",
    "    (2, 1),  # Linear bias toward leaves.\n",
    "    (1.5, 1),\n",
    "    (1, 1),  # Uniform.\n",
    "    (1, 1.5),\n",
    "    (1, 2),  # Linear bias toward root.\n",
    "]\n",
    "\n",
    "# with open('resources/hierarchy/imagenet_fiveai.csv') as f:\n",
    "#     tree, node_names = hier.make_hierarchy_from_edges(hier.load_edges(f))\n",
    "# dataset = torchvision.datasets.ImageNet('/home/jack/data/torchvision/imagenet/', 'train')\n",
    "# name = 'imagenet-train'\n",
    "\n",
    "with open('resources/hierarchy/tiny_imagenet_fiveai.csv') as f:\n",
    "    tree, node_names = hier.make_hierarchy_from_edges(hier.load_edges(f))\n",
    "dataset = datasets.TinyImageNet('/home/jack/data/manual/tiny_imagenet/', 'train')\n",
    "name = 'tiny_imagenet-train'\n",
    "\n",
    "# with open('resources/hierarchy/inat18_anon.csv') as f:\n",
    "#     tree, node_names = hier.make_hierarchy_from_edges(hier.load_edges(f))\n",
    "# dataset = datasets.INaturalist2018('/home/jack/data/manual/inaturalist2018/', 'train')\n",
    "# name = 'inat18-train'\n",
    "\n",
    "for a, b in beta_params:\n",
    "    label_order = tree.leaf_subset()\n",
    "    coarse_targets = degrade_labels(tree, label_order, dataset.targets, a, b, seed=seed)\n",
    "\n",
    "    fname = out_dir / f'{name}-beta-{a}-{b}-seed-{seed}.csv.gz'\n",
    "    print('write:', fname)\n",
    "    with gzip.open(fname, 'wt') as f:\n",
    "        w = csv.writer(f)\n",
    "        for i in range(len(dataset)):\n",
    "            coarse = coarse_targets[i]\n",
    "            original = label_order[dataset.targets[i]]\n",
    "            # Write coarse label and original label for sanity check.\n",
    "            w.writerow((node_names[coarse], node_names[original]))\n",
    "\n",
    "    # fname = out_dir / f'{name}-beta-{a}-{b}-seed-{seed}.npy'\n",
    "    # print('write:', fname)\n",
    "    # np.save(fname, coarse_targets)"
   ]
  },
  {
   "cell_type": "code",
   "execution_count": null,
   "id": "39c3e959",
   "metadata": {},
   "outputs": [],
   "source": []
  }
 ],
 "metadata": {
  "kernelspec": {
   "display_name": "Python 3 (ipykernel)",
   "language": "python",
   "name": "python3"
  },
  "language_info": {
   "codemirror_mode": {
    "name": "ipython",
    "version": 3
   },
   "file_extension": ".py",
   "mimetype": "text/x-python",
   "name": "python",
   "nbconvert_exporter": "python",
   "pygments_lexer": "ipython3",
   "version": "3.8.10"
  }
 },
 "nbformat": 4,
 "nbformat_minor": 5
}
