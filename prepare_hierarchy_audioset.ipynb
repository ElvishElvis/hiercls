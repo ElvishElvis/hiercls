{
 "cells": [
  {
   "cell_type": "code",
   "execution_count": 1,
   "id": "ba5174a5",
   "metadata": {},
   "outputs": [],
   "source": [
    "import json\n",
    "\n",
    "import networkx as nx"
   ]
  },
  {
   "cell_type": "code",
   "execution_count": 2,
   "id": "b1f54277",
   "metadata": {},
   "outputs": [],
   "source": [
    "with open('resources/hierarchy_raw/audioset/ontology.json') as f:\n",
    "    categories = json.load(f)"
   ]
  },
  {
   "cell_type": "code",
   "execution_count": 3,
   "id": "90caaf71",
   "metadata": {},
   "outputs": [
    {
     "data": {
      "text/plain": [
       "632"
      ]
     },
     "execution_count": 3,
     "metadata": {},
     "output_type": "execute_result"
    }
   ],
   "source": [
    "len(categories)"
   ]
  },
  {
   "cell_type": "code",
   "execution_count": 4,
   "id": "36231437",
   "metadata": {},
   "outputs": [],
   "source": [
    "# Build index by name.\n",
    "node_to_cat = {x['id']: x for x in categories}\n",
    "\n",
    "def format_node(node):\n",
    "    return '\"{name}\" ({id})'.format(id=node, name=node_to_cat[node]['name'])"
   ]
  },
  {
   "cell_type": "code",
   "execution_count": 5,
   "id": "5f4f9d2f",
   "metadata": {},
   "outputs": [],
   "source": [
    "g = nx.DiGraph()\n",
    "for x in categories:\n",
    "    node = x['id']\n",
    "    for child in x['child_ids']:\n",
    "        g.add_edge(node, child)"
   ]
  },
  {
   "cell_type": "code",
   "execution_count": 6,
   "id": "f130436a",
   "metadata": {},
   "outputs": [
    {
     "name": "stdout",
     "output_type": "stream",
     "text": [
      "\"Children shouting\" (/t/dd00135) has multiple parents: \"Shout\" (/m/07p6fty), \"Human group actions\" (/t/dd00012)\n",
      "\"Choir\" (/m/0l14jd) has multiple parents: \"Singing\" (/m/015lz1), \"Musical instrument\" (/m/04szw)\n",
      "\"Chant\" (/m/02bk07) has multiple parents: \"Singing\" (/m/015lz1), \"Vocal music\" (/m/0y4f8)\n",
      "\"Clapping\" (/m/0l15bq) has multiple parents: \"Hands\" (/m/0k65p), \"Human group actions\" (/t/dd00012)\n",
      "\"Hubbub, speech noise, speech babble\" (/m/07qfr4h) has multiple parents: \"Human group actions\" (/t/dd00012), \"Noise\" (/m/096m7z)\n",
      "\"Howl\" (/m/07qf0zm) has multiple parents: \"Dog\" (/m/0bt9lr), \"Canidae, dogs, wolves\" (/m/01z5f)\n",
      "\"Growling\" (/m/0ghcn6) has multiple parents: \"Dog\" (/m/0bt9lr), \"Cat\" (/m/01yrx), \"Roaring cats (lions, tigers)\" (/m/0cdnk), \"Canidae, dogs, wolves\" (/m/01z5f)\n",
      "\"Hiss\" (/m/07rjwbb) has multiple parents: \"Cat\" (/m/01yrx), \"Snake\" (/m/078jl), \"Steam\" (/m/06wzb), \"Onomatopoeia\" (/m/05n1m)\n",
      "\"Clip-clop\" (/m/07rv9rh) has multiple parents: \"Horse\" (/m/03k3r), \"Clicking\" (/m/07qc9xj)\n",
      "\"Cowbell\" (/m/0239kh) has multiple parents: \"Cattle, bovinae\" (/m/01xq0k1), \"Percussion\" (/m/0l14md), \"Bell\" (/m/0395lw)\n",
      "\"Bleat\" (/m/07q0h5t) has multiple parents: \"Goat\" (/m/03fwl), \"Sheep\" (/m/07bgp)\n",
      "\"Chirp, tweet\" (/m/07pggtn) has multiple parents: \"Bird vocalization, bird call, bird song\" (/m/020bb7), \"Brief tone\" (/t/dd000138)\n",
      "\"Buzz\" (/m/07pjwq1) has multiple parents: \"Fly, housefly\" (/m/0h2mp), \"Bee, wasp, etc.\" (/m/01h3n), \"Brief tone\" (/t/dd000138)\n",
      "\"Rattle\" (/m/07qn4z3) has multiple parents: \"Snake\" (/m/078jl), \"Onomatopoeia\" (/m/05n1m)\n",
      "\"Bell\" (/m/0395lw) has multiple parents: \"Musical instrument\" (/m/04szw), \"Sounds of things\" (/t/dd00041)\n",
      "\"Bicycle bell\" (/m/0gy1t2s) has multiple parents: \"Bell\" (/m/0395lw), \"Bicycle\" (/m/0199g), \"Alarm\" (/m/07pp_mv)\n",
      "\"Beatboxing\" (/m/02cz_7) has multiple parents: \"Hip hop music\" (/m/0glt670), \"Vocal music\" (/m/0y4f8)\n",
      "\"Wind noise (microphone)\" (/t/dd00092) has multiple parents: \"Wind\" (/m/03m9d0z), \"Microphone\" (/m/0hg7b)\n",
      "\"Crackle\" (/m/07pzfmf) has multiple parents: \"Fire\" (/m/02_41), \"Onomatopoeia\" (/m/05n1m)\n",
      "\"Vehicle horn, car horn, honking\" (/m/0912c9) has multiple parents: \"Car\" (/m/0k4j), \"Alarm\" (/m/07pp_mv)\n",
      "\"Car alarm\" (/m/02mfyn) has multiple parents: \"Car\" (/m/0k4j), \"Alarm\" (/m/07pp_mv)\n",
      "\"Air horn, truck horn\" (/m/05x_td) has multiple parents: \"Truck\" (/m/07r04), \"Alarm\" (/m/07pp_mv)\n",
      "\"Police car (siren)\" (/m/04qvtq) has multiple parents: \"Emergency vehicle\" (/m/03j1ly), \"Siren\" (/m/03kmc9)\n",
      "\"Ambulance (siren)\" (/m/012n7d) has multiple parents: \"Emergency vehicle\" (/m/03j1ly), \"Siren\" (/m/03kmc9)\n",
      "\"Fire engine, fire truck (siren)\" (/m/012ndj) has multiple parents: \"Emergency vehicle\" (/m/03j1ly), \"Siren\" (/m/03kmc9)\n",
      "\"Jet engine\" (/m/04229) has multiple parents: \"Aircraft engine\" (/m/014yck), \"Engine\" (/m/02mk9)\n",
      "\"Dental drill, dentist's drill\" (/m/08j51y) has multiple parents: \"Light engine (high frequency)\" (/t/dd00065), \"Drill\" (/m/01d380)\n",
      "\"Kettle whistle\" (/g/11b630rrvh) has multiple parents: \"Domestic sounds, home sounds\" (/t/dd00071), \"Whistle\" (/m/0l156k)\n",
      "\"Doorbell\" (/m/03wwcy) has multiple parents: \"Door\" (/m/02dgv), \"Alarm\" (/m/07pp_mv)\n",
      "\"Knock\" (/m/07r4wb8) has multiple parents: \"Door\" (/m/02dgv), \"Generic impact sounds\" (/t/dd00099)\n",
      "\"Tap\" (/m/07qcpgn) has multiple parents: \"Door\" (/m/02dgv), \"Generic impact sounds\" (/t/dd00099)\n",
      "\"Squeak\" (/m/07q6cd_) has multiple parents: \"Door\" (/m/02dgv), \"Brief tone\" (/t/dd000138)\n",
      "\"Tick\" (/m/07qjznt) has multiple parents: \"Clock\" (/m/01x3z), \"Clicking\" (/m/07qc9xj)\n",
      "\"Crack\" (/m/07qs1cx) has multiple parents: \"Wood\" (/m/083vt), \"Onomatopoeia\" (/m/05n1m)\n",
      "\"Snap\" (/m/07pc8l3) has multiple parents: \"Wood\" (/m/083vt), \"Onomatopoeia\" (/m/05n1m)\n",
      "\"Squish\" (/m/07qlwh6) has multiple parents: \"Liquid\" (/m/04k94), \"Onomatopoeia\" (/m/05n1m)\n",
      "\"Whoosh, swoosh, swish\" (/m/07rqsjt) has multiple parents: \"Arrow\" (/m/0dl83), \"Onomatopoeia\" (/m/05n1m)\n",
      "\"Thump, thud\" (/m/07qnq_y) has multiple parents: \"Arrow\" (/m/0dl83), \"Generic impact sounds\" (/t/dd00099)\n"
     ]
    }
   ],
   "source": [
    "# Check for nodes with multiple parents.\n",
    "for node in g:\n",
    "    if g.in_degree[node] > 1:\n",
    "        print('{} has multiple parents: {}'.format(\n",
    "            format_node(node),\n",
    "            ', '.join(format_node(x) for x in g.predecessors(node))))"
   ]
  },
  {
   "cell_type": "code",
   "execution_count": null,
   "id": "90254097",
   "metadata": {},
   "outputs": [],
   "source": []
  }
 ],
 "metadata": {
  "kernelspec": {
   "display_name": "Python 3 (ipykernel)",
   "language": "python",
   "name": "python3"
  },
  "language_info": {
   "codemirror_mode": {
    "name": "ipython",
    "version": 3
   },
   "file_extension": ".py",
   "mimetype": "text/x-python",
   "name": "python",
   "nbconvert_exporter": "python",
   "pygments_lexer": "ipython3",
   "version": "3.8.10"
  }
 },
 "nbformat": 4,
 "nbformat_minor": 5
}
