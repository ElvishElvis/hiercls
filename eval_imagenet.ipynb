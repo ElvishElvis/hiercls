{
 "cells": [
  {
   "cell_type": "code",
   "execution_count": 90,
   "id": "b16a5cf4",
   "metadata": {},
   "outputs": [],
   "source": [
    "import collections\n",
    "import itertools\n",
    "import json\n",
    "import pathlib\n",
    "\n",
    "import matplotlib\n",
    "from matplotlib import pyplot as plt\n",
    "from matplotlib import ticker\n",
    "import ml_collections\n",
    "import numpy as np\n",
    "import pandas as pd\n",
    "import torch\n",
    "\n",
    "import hier\n",
    "import hier_torch\n",
    "import infer\n",
    "import main\n",
    "import metrics\n",
    "import progmet\n",
    "import tree_util"
   ]
  },
  {
   "cell_type": "code",
   "execution_count": 3,
   "id": "abbf1105",
   "metadata": {},
   "outputs": [],
   "source": [
    "device = torch.device('cuda')"
   ]
  },
  {
   "cell_type": "code",
   "execution_count": 5,
   "id": "06047af2",
   "metadata": {},
   "outputs": [],
   "source": [
    "import configs.imagenet\n",
    "\n",
    "base_config = configs.imagenet.get_config()\n",
    "base_config.dataset_root = '/home/jack/data/torchvision/imagenet/'\n",
    "\n",
    "_, eval_dataset, tree, _, _, eval_label_map = main.make_datasets(base_config)"
   ]
  },
  {
   "cell_type": "code",
   "execution_count": 6,
   "id": "668d8497",
   "metadata": {},
   "outputs": [],
   "source": [
    "eval_loader = torch.utils.data.DataLoader(\n",
    "    dataset=eval_dataset,\n",
    "    batch_size=256,\n",
    "    shuffle=False,\n",
    "    num_workers=8)"
   ]
  },
  {
   "cell_type": "code",
   "execution_count": 7,
   "id": "562d30aa",
   "metadata": {},
   "outputs": [],
   "source": [
    "is_leaf = tree.leaf_mask()\n",
    "specificity = -tree.num_leaf_descendants()\n",
    "not_trivial = (tree.num_children() != 1)\n",
    "subtract_children_fn = hier_torch.SubtractChildren(tree)"
   ]
  },
  {
   "cell_type": "code",
   "execution_count": 8,
   "id": "40150867",
   "metadata": {},
   "outputs": [],
   "source": [
    "infer_fns = {\n",
    "    'leaf': lambda p: infer.argmax_where(p, is_leaf),\n",
    "    'majority': lambda p: infer.argmax_with_confidence(specificity, p, 0.5, not_trivial),\n",
    "    'exclusive': lambda p: np.argmax(subtract_children_fn(torch.from_numpy(p)).numpy(), axis=-1),\n",
    "}"
   ]
  },
  {
   "cell_type": "code",
   "execution_count": 64,
   "id": "8f9f0657",
   "metadata": {},
   "outputs": [],
   "source": [
    "info_metric = metrics.UniformLeafInfoMetric(tree)\n",
    "depth_metric = metrics.DepthMetric(tree)\n",
    "\n",
    "metric_fns = {\n",
    "    'exact': lambda gt, pr: pr == gt,\n",
    "    'correct': metrics.IsCorrect(tree),\n",
    "    'info_excess': info_metric.excess,\n",
    "    'info_deficient': info_metric.deficient,\n",
    "    'info_dist': info_metric.dist,\n",
    "    'info_recall': info_metric.recall,\n",
    "    'info_precision': info_metric.precision,\n",
    "    'depth_excess': depth_metric.excess,\n",
    "    'depth_deficient': depth_metric.deficient,\n",
    "    'depth_dist': depth_metric.dist,\n",
    "    'depth_recall': depth_metric.recall,\n",
    "    'depth_precision': depth_metric.precision,\n",
    "}\n",
    "\n",
    "metric_titles = {\n",
    "    'exact': 'Exact',\n",
    "    'correct': 'Correct',\n",
    "    'info_recall': 'Information Recall',\n",
    "    'info_precision': 'Information Precision',\n",
    "    'depth_recall': 'Depth Recall',\n",
    "    'depth_precision': 'Depth Precision',\n",
    "    'info_lca': 'LCA Information',\n",
    "    'depth_lca': 'LCA Depth',\n",
    "}"
   ]
  },
  {
   "cell_type": "code",
   "execution_count": 47,
   "id": "2602504e",
   "metadata": {},
   "outputs": [],
   "source": [
    "Experiment = collections.namedtuple('Experiment', ['config_file', 'model_file', 'title'])\n",
    "\n",
    "def standard_experiment(experiment_dir, epoch, title=None):\n",
    "    return Experiment(\n",
    "        config_file=pathlib.Path(experiment_dir) / 'config.json',\n",
    "        model_file=pathlib.Path(experiment_dir) / f'checkpoints/epoch-{epoch:04d}.pth',\n",
    "        title=title,\n",
    "    )"
   ]
  },
  {
   "cell_type": "code",
   "execution_count": 112,
   "id": "5581a10f",
   "metadata": {},
   "outputs": [],
   "source": [
    "# experiments = {\n",
    "#     'flat-lr{lr}-wd{wd}-ep{ep}': standard_experiment(\n",
    "#         experiment_dir=f'/mnt/ssd1/projects/2022-01-hierarchical/experiments/2022-04-25-imagenet-features/vitb32-linear-flat_softmax-lr{lr}-wd{wd}-ep{ep}/',\n",
    "#         epoch=int(ep))\n",
    "#     for lr, wd, ep in itertools.product(['0.1', '0.01', '0.001'], ['0.0001', '0.00001'], ['20', '100'])\n",
    "# }\n",
    "\n",
    "PLOT_DIR = 'output/plots/imagenet-res50-ep15'\n",
    "experiments = {\n",
    "    'flat': standard_experiment(\n",
    "        title='Flat',\n",
    "        experiment_dir='/mnt/ssd1/projects/2022-01-hierarchical/experiments/2022-03-05-imagenet-acc/flat-lr-0.01-wd-0.0003-ep-15/',\n",
    "        epoch=15),\n",
    "    'hier': standard_experiment(\n",
    "        title='Cond softmax',\n",
    "        experiment_dir='/mnt/ssd1/projects/2022-01-hierarchical/experiments/2022-03-05-imagenet-acc/hier-lr-0.01-wd-0.0003-ep-15-b-64/',\n",
    "        epoch=15),\n",
    "#     'soft-margin-incorrect-1': standard_experiment(\n",
    "#         experiment_dir='/mnt/ssd1/projects/2022-01-hierarchical/experiments/2022-04-25-imagenet-features/vitb32-linear-soft_margin-incorrect-1-lr0.1-wd0.00001-ep20/',\n",
    "#         epoch=15),\n",
    "    'soft-margin-incorrect-5': standard_experiment(\n",
    "        title='Soft-max-margin (τ = 5)',\n",
    "        experiment_dir='/mnt/ssd1/projects/2022-01-hierarchical/experiments/2022-03-05-imagenet-acc/soft_margin-incorrect-5-lr-0.01-wd-0.0003-ep-15-b-64/',\n",
    "        epoch=15),\n",
    "}"
   ]
  },
  {
   "cell_type": "code",
   "execution_count": 53,
   "id": "2671b1f9",
   "metadata": {},
   "outputs": [
    {
     "data": {
      "text/plain": [
       "{'flat': True, 'hier': True, 'soft-margin-incorrect-5': True}"
      ]
     },
     "execution_count": 53,
     "metadata": {},
     "output_type": "execute_result"
    }
   ],
   "source": [
    "{name: pathlib.Path(experiment.config_file).exists() for name, experiment in experiments.items()}"
   ]
  },
  {
   "cell_type": "code",
   "execution_count": 140,
   "id": "ba9e39e6",
   "metadata": {},
   "outputs": [],
   "source": [
    "markers = {\n",
    "    'leaf': 'o',\n",
    "    'majority': '^',\n",
    "    # 'exclusive': 'd',\n",
    "}\n",
    "\n",
    "colors = dict(zip(\n",
    "    experiments,\n",
    "    map(matplotlib.cm.get_cmap('tab10'), itertools.count())))"
   ]
  },
  {
   "cell_type": "code",
   "execution_count": 141,
   "id": "321bfc2b",
   "metadata": {},
   "outputs": [],
   "source": [
    "def apply_model(net, pred_fn, min_threshold):\n",
    "    # Per-example predictions.\n",
    "\n",
    "    outputs = {\n",
    "        'gt': [],  # Node in hierarchy.\n",
    "        'pred': {method: [] for method in infer_fns},\n",
    "    }\n",
    "    # Sequence-per-example predictions. Cannot be concatenated due to ragged shape.\n",
    "    seq_outputs = {\n",
    "        'pred': [],\n",
    "        'prob': [],\n",
    "    }\n",
    "\n",
    "    net.eval()\n",
    "    with torch.inference_mode():\n",
    "        meter = progmet.ProgressMeter('apply', interval_time=5)\n",
    "        for minibatch in itertools.islice(meter(eval_loader), None):\n",
    "            inputs, gt_labels = minibatch\n",
    "            theta = net(inputs.to(device))\n",
    "            prob = pred_fn(theta).cpu().numpy()\n",
    "            pred = {}\n",
    "            for name, infer_fn in infer_fns.items():\n",
    "                pred[name] = infer_fn(prob)\n",
    "            gt_node = eval_label_map.to_node[gt_labels]\n",
    "            pred_seqs = [\n",
    "                infer.pareto_optimal_predictions(specificity, p, min_threshold, not_trivial)\n",
    "                for p in prob\n",
    "            ]\n",
    "            prob_seqs = [prob[i, pred_i] for i, pred_i in enumerate(pred_seqs)]\n",
    "            # Caution: Predictions are *not* truncated.\n",
    "\n",
    "            outputs['gt'].append(gt_node)\n",
    "            for method in infer_fns:\n",
    "                outputs['pred'][method].append(pred[method])\n",
    "            seq_outputs['pred'].extend(pred_seqs)\n",
    "            seq_outputs['prob'].extend(prob_seqs)\n",
    "\n",
    "    # Concatenate results from minibatches.\n",
    "    leaf_predicate = lambda x: not isinstance(x, dict)  # Treat lists as values, not containers.\n",
    "    outputs = tree_util.tree_map(np.concatenate, outputs, is_leaf=leaf_predicate)\n",
    "\n",
    "    return outputs, seq_outputs"
   ]
  },
  {
   "cell_type": "code",
   "execution_count": 142,
   "id": "c6303cc3",
   "metadata": {},
   "outputs": [],
   "source": [
    "def assess_predictions(outputs, seq_outputs):\n",
    "    gt = outputs['gt']\n",
    "    pred = outputs['pred']\n",
    "    pred_seq = seq_outputs['pred']\n",
    "    prob_seq = seq_outputs['prob']\n",
    "\n",
    "    # Evaluate predictions for each method.\n",
    "    pred = {\n",
    "        method: hier.truncate_at_lca(tree, gt, pr)\n",
    "        for method, pr in pred.items()\n",
    "    }\n",
    "    pred_metrics = {\n",
    "        method: {field: np.mean(metric_fn(gt, pr))\n",
    "                 for field, metric_fn in metric_fns.items()}\n",
    "        for method, pr in pred.items()\n",
    "    }\n",
    "\n",
    "    # Evaluate predictions in Pareto sequence.\n",
    "    find_lca = hier.FindLCA(tree)\n",
    "    specificity_seq = [specificity[pr_i] for pr_i in pred_seq]\n",
    "    pred_seq = [hier.truncate_given_lca(gt_i, pr_i, find_lca(gt_i, pr_i)) for gt_i, pr_i in zip(gt, pred_seq)]\n",
    "    metric_values_seq = {\n",
    "        field: [metric_fn(gt_i, pr_i) for gt_i, pr_i in zip(gt, pred_seq)]\n",
    "        for field, metric_fn in metric_fns.items()\n",
    "    }\n",
    "    pareto_scores, pareto_totals = metrics.operating_curve(prob_seq, metric_values_seq)\n",
    "#     specificity_seq = [np.flip(seq) for seq in specificity_seq]\n",
    "#     metric_values_seq = {field: np.flip(seq) for field, seq in metric_values_seq.items()}\n",
    "#     pareto_scores, pareto_totals = metrics.operating_curve(specificity_seq, metric_values_seq)\n",
    "    pareto_means = {k: v / len(gt) for k, v in pareto_totals.items()}\n",
    "\n",
    "    return pred_metrics, pareto_scores, pareto_means"
   ]
  },
  {
   "cell_type": "code",
   "execution_count": 143,
   "id": "36931a44",
   "metadata": {},
   "outputs": [],
   "source": [
    "# Initialize results if not defined.\n",
    "try:\n",
    "    results\n",
    "except NameError:\n",
    "    results = {}  # Not defined."
   ]
  },
  {
   "cell_type": "code",
   "execution_count": 144,
   "id": "5951431b",
   "metadata": {
    "scrolled": false
   },
   "outputs": [
    {
     "name": "stdout",
     "output_type": "stream",
     "text": [
      "cached: flat\n",
      "cached: hier\n",
      "cached: soft-margin-incorrect-5\n"
     ]
    }
   ],
   "source": [
    "# MIN_THRESHOLD = 0.1  # Values less than 0.5 may increase runtime significantly.\n",
    "MIN_THRESHOLD = None\n",
    "\n",
    "def _update_config(config):\n",
    "    # Perform necessary changes to adapt old configs.\n",
    "    # ** Modifies config in-place! **\n",
    "    setattr(config, 'train_with_leaf_targets', getattr(config, 'train_with_leaf_targets', True))\n",
    "    return config\n",
    "\n",
    "for name, (config_file, model_file, _) in experiments.items():\n",
    "    if name in results:\n",
    "        print('cached:', name)\n",
    "        continue\n",
    "    config = _update_config(config)\n",
    "    # Load model.\n",
    "    with open(config_file, 'r') as f:\n",
    "        config = ml_collections.ConfigDict(json.load(f))\n",
    "    config = _update_config(config)\n",
    "    num_outputs = main.get_num_outputs(config.predict, tree)\n",
    "    net = main.make_model(config.model, num_outputs)\n",
    "    missing_keys, unexpected_keys = net.load_state_dict(torch.load(model_file), strict=True)\n",
    "    assert not missing_keys\n",
    "    assert not unexpected_keys\n",
    "\n",
    "    net.to(device)\n",
    "    _, pred_fn = main.make_loss(config, tree, device)\n",
    "    outputs, seq_outputs = apply_model(net, pred_fn, min_threshold=MIN_THRESHOLD)\n",
    "    pred_metrics, pareto_scores, pareto_metrics = assess_predictions(outputs, seq_outputs)\n",
    "    results[name] = {\n",
    "        'pred_metrics': pred_metrics,\n",
    "        'pareto_scores': pareto_scores,\n",
    "        'pareto_metrics': pareto_metrics,\n",
    "    }"
   ]
  },
  {
   "cell_type": "code",
   "execution_count": 155,
   "id": "ecf94a6b",
   "metadata": {},
   "outputs": [
    {
     "name": "stdout",
     "output_type": "stream",
     "text": [
      "\\begin{tabular}{lrrrrr}\n",
      " & AC(depth) & AC(info) & AP(depth) & AP(info) & AC(exact) \\\\\n",
      "flat & 79.3 & 69.4 & 80.7 & 70.2 & 64.2 \\\\\n",
      "hier & 76.5 & 65.4 & 78.4 & 66.4 & 59.1 \\\\\n",
      "soft-margin-incorrect-5 & 79.5 & 70.6 & 80.9 & 71.2 & 66.1 \\\\\n",
      "\\end{tabular}\n",
      "\n"
     ]
    },
    {
     "data": {
      "text/html": [
       "<style type=\"text/css\">\n",
       "</style>\n",
       "<table id=\"T_e2657\">\n",
       "  <thead>\n",
       "    <tr>\n",
       "      <th class=\"blank level0\" >&nbsp;</th>\n",
       "      <th id=\"T_e2657_level0_col0\" class=\"col_heading level0 col0\" >AC(depth)</th>\n",
       "      <th id=\"T_e2657_level0_col1\" class=\"col_heading level0 col1\" >AC(info)</th>\n",
       "      <th id=\"T_e2657_level0_col2\" class=\"col_heading level0 col2\" >AP(depth)</th>\n",
       "      <th id=\"T_e2657_level0_col3\" class=\"col_heading level0 col3\" >AP(info)</th>\n",
       "      <th id=\"T_e2657_level0_col4\" class=\"col_heading level0 col4\" >AC(exact)</th>\n",
       "    </tr>\n",
       "  </thead>\n",
       "  <tbody>\n",
       "    <tr>\n",
       "      <th id=\"T_e2657_level0_row0\" class=\"row_heading level0 row0\" >flat</th>\n",
       "      <td id=\"T_e2657_row0_col0\" class=\"data row0 col0\" >79.3</td>\n",
       "      <td id=\"T_e2657_row0_col1\" class=\"data row0 col1\" >69.4</td>\n",
       "      <td id=\"T_e2657_row0_col2\" class=\"data row0 col2\" >80.7</td>\n",
       "      <td id=\"T_e2657_row0_col3\" class=\"data row0 col3\" >70.2</td>\n",
       "      <td id=\"T_e2657_row0_col4\" class=\"data row0 col4\" >64.2</td>\n",
       "    </tr>\n",
       "    <tr>\n",
       "      <th id=\"T_e2657_level0_row1\" class=\"row_heading level0 row1\" >hier</th>\n",
       "      <td id=\"T_e2657_row1_col0\" class=\"data row1 col0\" >76.5</td>\n",
       "      <td id=\"T_e2657_row1_col1\" class=\"data row1 col1\" >65.4</td>\n",
       "      <td id=\"T_e2657_row1_col2\" class=\"data row1 col2\" >78.4</td>\n",
       "      <td id=\"T_e2657_row1_col3\" class=\"data row1 col3\" >66.4</td>\n",
       "      <td id=\"T_e2657_row1_col4\" class=\"data row1 col4\" >59.1</td>\n",
       "    </tr>\n",
       "    <tr>\n",
       "      <th id=\"T_e2657_level0_row2\" class=\"row_heading level0 row2\" >soft-margin-incorrect-5</th>\n",
       "      <td id=\"T_e2657_row2_col0\" class=\"data row2 col0\" >79.5</td>\n",
       "      <td id=\"T_e2657_row2_col1\" class=\"data row2 col1\" >70.6</td>\n",
       "      <td id=\"T_e2657_row2_col2\" class=\"data row2 col2\" >80.9</td>\n",
       "      <td id=\"T_e2657_row2_col3\" class=\"data row2 col3\" >71.2</td>\n",
       "      <td id=\"T_e2657_row2_col4\" class=\"data row2 col4\" >66.1</td>\n",
       "    </tr>\n",
       "  </tbody>\n",
       "</table>\n"
      ],
      "text/plain": [
       "<pandas.io.formats.style.Styler at 0x7f6ce96f4bb0>"
      ]
     },
     "execution_count": 155,
     "metadata": {},
     "output_type": "execute_result"
    }
   ],
   "source": [
    "INTEGRALS = {\n",
    "    'AC(depth)': ('depth_recall', 'correct'),\n",
    "    'AC(info)': ('info_recall', 'correct'),\n",
    "    'AP(depth)': ('depth_recall', 'depth_precision'),\n",
    "    'AP(info)': ('info_recall', 'info_precision'),\n",
    "    'AC(exact)': ('exact', 'correct'),\n",
    "}\n",
    "\n",
    "auc = {\n",
    "    key: {\n",
    "        name: metrics.pareto_integrate(\n",
    "            results[name]['pareto_metrics'][x],\n",
    "            results[name]['pareto_metrics'][y])\n",
    "        for name in experiments if name in results\n",
    "    } for key, (x, y) in INTEGRALS.items()\n",
    "}\n",
    "\n",
    "table = pd.DataFrame(auc).style.format(lambda x: f'{100 * x:.1f}')\n",
    "print(table.to_latex())\n",
    "table"
   ]
  },
  {
   "cell_type": "code",
   "execution_count": 156,
   "id": "20042c9c",
   "metadata": {},
   "outputs": [
    {
     "name": "stdout",
     "output_type": "stream",
     "text": [
      "\\begin{tabular}{lrrrrrr}\n",
      " & \\multicolumn{3}{r}{0.950000} & \\multicolumn{3}{r}{0.900000} \\\\\n",
      " & depth_recall & info_recall & exact & depth_recall & info_recall & exact \\\\\n",
      "flat & 64.2 & 48.4 & 41.2 & 70.9 & 56.9 & 49.9 \\\\\n",
      "hier & 59.8 & 42.8 & 34.0 & 66.7 & 51.0 & 42.5 \\\\\n",
      "soft-margin-incorrect-5 & 64.5 & 53.3 & 49.0 & 72.5 & 61.3 & 56.8 \\\\\n",
      "\\end{tabular}\n",
      "\n"
     ]
    },
    {
     "data": {
      "text/html": [
       "<style type=\"text/css\">\n",
       "</style>\n",
       "<table id=\"T_02a08\">\n",
       "  <thead>\n",
       "    <tr>\n",
       "      <th class=\"blank level0\" >&nbsp;</th>\n",
       "      <th id=\"T_02a08_level0_col0\" class=\"col_heading level0 col0\" colspan=\"3\">0.950000</th>\n",
       "      <th id=\"T_02a08_level0_col3\" class=\"col_heading level0 col3\" colspan=\"3\">0.900000</th>\n",
       "    </tr>\n",
       "    <tr>\n",
       "      <th class=\"blank level1\" >&nbsp;</th>\n",
       "      <th id=\"T_02a08_level1_col0\" class=\"col_heading level1 col0\" >depth_recall</th>\n",
       "      <th id=\"T_02a08_level1_col1\" class=\"col_heading level1 col1\" >info_recall</th>\n",
       "      <th id=\"T_02a08_level1_col2\" class=\"col_heading level1 col2\" >exact</th>\n",
       "      <th id=\"T_02a08_level1_col3\" class=\"col_heading level1 col3\" >depth_recall</th>\n",
       "      <th id=\"T_02a08_level1_col4\" class=\"col_heading level1 col4\" >info_recall</th>\n",
       "      <th id=\"T_02a08_level1_col5\" class=\"col_heading level1 col5\" >exact</th>\n",
       "    </tr>\n",
       "  </thead>\n",
       "  <tbody>\n",
       "    <tr>\n",
       "      <th id=\"T_02a08_level0_row0\" class=\"row_heading level0 row0\" >flat</th>\n",
       "      <td id=\"T_02a08_row0_col0\" class=\"data row0 col0\" >64.2</td>\n",
       "      <td id=\"T_02a08_row0_col1\" class=\"data row0 col1\" >48.4</td>\n",
       "      <td id=\"T_02a08_row0_col2\" class=\"data row0 col2\" >41.2</td>\n",
       "      <td id=\"T_02a08_row0_col3\" class=\"data row0 col3\" >70.9</td>\n",
       "      <td id=\"T_02a08_row0_col4\" class=\"data row0 col4\" >56.9</td>\n",
       "      <td id=\"T_02a08_row0_col5\" class=\"data row0 col5\" >49.9</td>\n",
       "    </tr>\n",
       "    <tr>\n",
       "      <th id=\"T_02a08_level0_row1\" class=\"row_heading level0 row1\" >hier</th>\n",
       "      <td id=\"T_02a08_row1_col0\" class=\"data row1 col0\" >59.8</td>\n",
       "      <td id=\"T_02a08_row1_col1\" class=\"data row1 col1\" >42.8</td>\n",
       "      <td id=\"T_02a08_row1_col2\" class=\"data row1 col2\" >34.0</td>\n",
       "      <td id=\"T_02a08_row1_col3\" class=\"data row1 col3\" >66.7</td>\n",
       "      <td id=\"T_02a08_row1_col4\" class=\"data row1 col4\" >51.0</td>\n",
       "      <td id=\"T_02a08_row1_col5\" class=\"data row1 col5\" >42.5</td>\n",
       "    </tr>\n",
       "    <tr>\n",
       "      <th id=\"T_02a08_level0_row2\" class=\"row_heading level0 row2\" >soft-margin-incorrect-5</th>\n",
       "      <td id=\"T_02a08_row2_col0\" class=\"data row2 col0\" >64.5</td>\n",
       "      <td id=\"T_02a08_row2_col1\" class=\"data row2 col1\" >53.3</td>\n",
       "      <td id=\"T_02a08_row2_col2\" class=\"data row2 col2\" >49.0</td>\n",
       "      <td id=\"T_02a08_row2_col3\" class=\"data row2 col3\" >72.5</td>\n",
       "      <td id=\"T_02a08_row2_col4\" class=\"data row2 col4\" >61.3</td>\n",
       "      <td id=\"T_02a08_row2_col5\" class=\"data row2 col5\" >56.8</td>\n",
       "    </tr>\n",
       "  </tbody>\n",
       "</table>\n"
      ],
      "text/plain": [
       "<pandas.io.formats.style.Styler at 0x7f6cc68e5160>"
      ]
     },
     "execution_count": 156,
     "metadata": {},
     "output_type": "execute_result"
    }
   ],
   "source": [
    "INTERCEPTS = [\n",
    "    'depth_recall',\n",
    "    'info_recall',\n",
    "    'exact',\n",
    "]\n",
    "\n",
    "CORRECT = [0.95, 0.9]\n",
    "\n",
    "recalls = {\n",
    "    (c, y): {\n",
    "        name: metrics.pareto_intercept(\n",
    "            results[name]['pareto_metrics']['correct'],\n",
    "            results[name]['pareto_metrics'][y],\n",
    "            c)\n",
    "        for name in results\n",
    "    } for c in CORRECT for y in INTERCEPTS\n",
    "}\n",
    "\n",
    "table = pd.DataFrame(recalls).style.format(lambda x: f'{100 * x:.1f}')\n",
    "print(table.to_latex())\n",
    "table"
   ]
  },
  {
   "cell_type": "code",
   "execution_count": 148,
   "id": "19078a68",
   "metadata": {},
   "outputs": [],
   "source": [
    "def plot_metrics(x, y, tickres=None, is_pr=True, save=False):\n",
    "    plt.figure(figsize=(5, 4))\n",
    "    for name in experiments:\n",
    "        if name not in results:\n",
    "            continue\n",
    "        pred_metrics = results[name]['pred_metrics']\n",
    "        pareto_scores = results[name]['pareto_scores']\n",
    "        pareto_metrics = results[name]['pareto_metrics']\n",
    "        ge = np.concatenate(([True], pareto_scores >= 0.5))\n",
    "        le = np.concatenate(([False], pareto_scores <= 0.5))\n",
    "        plt.plot(pareto_metrics[x][ge], pareto_metrics[y][ge],\n",
    "                 color=colors[name], label=experiments[name].title or name)\n",
    "        plt.plot(pareto_metrics[x][le], pareto_metrics[y][le],\n",
    "                 color=colors[name], linestyle='--')\n",
    "        for method in ['leaf', 'majority']:  # pred_metrics.items():\n",
    "            plt.plot(pred_metrics[method][x], pred_metrics[method][y],\n",
    "                     color=colors[name], marker=markers[method],\n",
    "                     markerfacecolor='none')\n",
    "\n",
    "    ax = plt.gca()\n",
    "    if is_pr:\n",
    "        plt.xlim(left=0)\n",
    "        plt.ylim(top=1)\n",
    "        # plt.ylim(np.clip(plt.ylim(), 0, 1))\n",
    "        # plt.xlim(np.clip(plt.xlim(), 0, 1))\n",
    "    if tickres:\n",
    "        ax.xaxis.set_major_locator(ticker.MultipleLocator(tickres))\n",
    "        ax.yaxis.set_major_locator(ticker.MultipleLocator(tickres))\n",
    "    # plt.axis('equal')\n",
    "    # plt.gca().set_aspect(1)\n",
    "    plt.grid()\n",
    "    plt.xlabel(metric_titles.get(x, x))\n",
    "    plt.ylabel(metric_titles.get(y, y))\n",
    "    plt.legend()\n",
    "\n",
    "    if save:\n",
    "        pathlib.Path(PLOT_DIR).mkdir(parents=True, exist_ok=True)\n",
    "        plt.savefig(pathlib.Path(PLOT_DIR) / f'{x}-{y}.pdf')"
   ]
  },
  {
   "cell_type": "code",
   "execution_count": 149,
   "id": "295e6cba",
   "metadata": {},
   "outputs": [
    {
     "data": {
      "image/png": "[encoded data removed]",
      "text/plain": [
       "<Figure size 360x288 with 1 Axes>"
      ]
     },
     "metadata": {
      "needs_background": "light"
     },
     "output_type": "display_data"
    }
   ],
   "source": [
    "plot_metrics('exact', 'correct', tickres=0.1, save=True)"
   ]
  },
  {
   "cell_type": "code",
   "execution_count": 150,
   "id": "73ced6a8",
   "metadata": {},
   "outputs": [
    {
     "data": {
      "image/png": "[encoded data removed]",
      "text/plain": [
       "<Figure size 360x288 with 1 Axes>"
      ]
     },
     "metadata": {
      "needs_background": "light"
     },
     "output_type": "display_data"
    }
   ],
   "source": [
    "plot_metrics('depth_recall', 'correct', tickres=0.1, save=True)"
   ]
  },
  {
   "cell_type": "code",
   "execution_count": 151,
   "id": "3de93848",
   "metadata": {},
   "outputs": [
    {
     "data": {
      "image/png": "[encoded data removed]",
      "text/plain": [
       "<Figure size 360x288 with 1 Axes>"
      ]
     },
     "metadata": {
      "needs_background": "light"
     },
     "output_type": "display_data"
    }
   ],
   "source": [
    "plot_metrics('info_recall', 'correct', tickres=0.1, save=True)"
   ]
  },
  {
   "cell_type": "code",
   "execution_count": 152,
   "id": "c187ce11",
   "metadata": {},
   "outputs": [
    {
     "data": {
      "image/png": "[encoded data removed]",
      "text/plain": [
       "<Figure size 360x288 with 1 Axes>"
      ]
     },
     "metadata": {
      "needs_background": "light"
     },
     "output_type": "display_data"
    }
   ],
   "source": [
    "plot_metrics('depth_recall', 'depth_precision', tickres=0.1, save=True)"
   ]
  },
  {
   "cell_type": "code",
   "execution_count": 153,
   "id": "4cbf2628",
   "metadata": {},
   "outputs": [
    {
     "data": {
      "image/png": "[encoded data removed]",
      "text/plain": [
       "<Figure size 360x288 with 1 Axes>"
      ]
     },
     "metadata": {
      "needs_background": "light"
     },
     "output_type": "display_data"
    }
   ],
   "source": [
    "plot_metrics('info_recall', 'info_precision', tickres=0.1, save=True)"
   ]
  },
  {
   "cell_type": "code",
   "execution_count": null,
   "id": "7defbd73",
   "metadata": {},
   "outputs": [],
   "source": []
  }
 ],
 "metadata": {
  "kernelspec": {
   "display_name": "Python 3 (ipykernel)",
   "language": "python",
   "name": "python3"
  },
  "language_info": {
   "codemirror_mode": {
    "name": "ipython",
    "version": 3
   },
   "file_extension": ".py",
   "mimetype": "text/x-python",
   "name": "python",
   "nbconvert_exporter": "python",
   "pygments_lexer": "ipython3",
   "version": "3.8.10"
  }
 },
 "nbformat": 4,
 "nbformat_minor": 5
}
