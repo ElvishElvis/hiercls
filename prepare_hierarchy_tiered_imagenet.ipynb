{
 "cells": [
  {
   "cell_type": "code",
   "execution_count": 1,
   "id": "aa12ae31",
   "metadata": {},
   "outputs": [],
   "source": [
    "import csv\n",
    "\n",
    "import networkx as nx\n",
    "import numpy as np\n",
    "import scipy.io"
   ]
  },
  {
   "cell_type": "code",
   "execution_count": 2,
   "id": "7dc1a138",
   "metadata": {},
   "outputs": [],
   "source": [
    "paths = [\n",
    "    'resources/hierarchy_raw/tiered_imagenet/train.csv',\n",
    "    'resources/hierarchy_raw/tiered_imagenet/val.csv',\n",
    "    'resources/hierarchy_raw/tiered_imagenet/test.csv',\n",
    "]"
   ]
  },
  {
   "cell_type": "code",
   "execution_count": 3,
   "id": "85d53a4b",
   "metadata": {},
   "outputs": [],
   "source": [
    "rows = []\n",
    "for path in paths:\n",
    "    with open(path) as f:\n",
    "        rows.extend(csv.reader(f))"
   ]
  },
  {
   "cell_type": "code",
   "execution_count": 4,
   "id": "29e3f65b",
   "metadata": {},
   "outputs": [],
   "source": [
    "root = 'root'"
   ]
  },
  {
   "cell_type": "code",
   "execution_count": 5,
   "id": "d0a01430",
   "metadata": {},
   "outputs": [],
   "source": [
    "edges = []\n",
    "visited = set()\n",
    "for leaf, middle in rows:\n",
    "    if middle not in visited:\n",
    "        edges.append((root, middle))\n",
    "        visited.add(middle)\n",
    "    edges.append((middle, leaf))"
   ]
  },
  {
   "cell_type": "code",
   "execution_count": 6,
   "id": "b5328e56",
   "metadata": {},
   "outputs": [],
   "source": [
    "with open('resources/hierarchy/tiered_imagenet.csv', 'w') as f:\n",
    "    w = csv.writer(f)\n",
    "    for edge in edges:\n",
    "        w.writerow(edge)"
   ]
  },
  {
   "cell_type": "code",
   "execution_count": null,
   "id": "f52d11e8",
   "metadata": {},
   "outputs": [],
   "source": []
  }
 ],
 "metadata": {
  "kernelspec": {
   "display_name": "Python 3 (ipykernel)",
   "language": "python",
   "name": "python3"
  },
  "language_info": {
   "codemirror_mode": {
    "name": "ipython",
    "version": 3
   },
   "file_extension": ".py",
   "mimetype": "text/x-python",
   "name": "python",
   "nbconvert_exporter": "python",
   "pygments_lexer": "ipython3",
   "version": "3.8.10"
  }
 },
 "nbformat": 4,
 "nbformat_minor": 5
}
