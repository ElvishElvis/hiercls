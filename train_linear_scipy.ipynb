{
 "cells": [
  {
   "cell_type": "code",
   "execution_count": null,
   "id": "5aa05724",
   "metadata": {},
   "outputs": [],
   "source": [
    "import sklearn.linear_model\n",
    "import torch\n",
    "\n",
    "import hier\n",
    "import hier_torch\n",
    "import main"
   ]
  },
  {
   "cell_type": "code",
   "execution_count": null,
   "id": "694b3ede",
   "metadata": {},
   "outputs": [],
   "source": [
    "import configs.imagenet_linear\n",
    "config = configs.imagenet_linear.get_config()\n",
    "config.dataset_root = 'resources/features/imagenet_vitb32/'"
   ]
  },
  {
   "cell_type": "code",
   "execution_count": null,
   "id": "16adf2a3",
   "metadata": {},
   "outputs": [],
   "source": [
    "train_dataset, eval_dataset, tree, node_names, train_label_map, eval_label_map = main.make_datasets(config)"
   ]
  },
  {
   "cell_type": "code",
   "execution_count": null,
   "id": "8e5c2118",
   "metadata": {},
   "outputs": [],
   "source": [
    "x, y = zip(*list(eval_dataset))\n",
    "x = torch.stack(x, axis=0)\n",
    "y = torch.stack(y, axis=0)\n",
    "x.shape, y.shape"
   ]
  },
  {
   "cell_type": "code",
   "execution_count": null,
   "id": "19ee77fa",
   "metadata": {},
   "outputs": [],
   "source": [
    "x.mean(axis=0).abs().max()"
   ]
  },
  {
   "cell_type": "code",
   "execution_count": null,
   "id": "8846d185",
   "metadata": {},
   "outputs": [],
   "source": [
    "model = sklearn.linear_model.LogisticRegression(\n",
    "    multi_class='multinomial',\n",
    "    solver='sag',\n",
    "    verbose=1,\n",
    ")"
   ]
  },
  {
   "cell_type": "code",
   "execution_count": null,
   "id": "8c3c1ff1",
   "metadata": {},
   "outputs": [],
   "source": [
    "model.fit(x, y)"
   ]
  },
  {
   "cell_type": "code",
   "execution_count": null,
   "id": "b5d023f9",
   "metadata": {},
   "outputs": [],
   "source": [
    "x.shape"
   ]
  }
 ],
 "metadata": {
  "kernelspec": {
   "display_name": "Python 3 (ipykernel)",
   "language": "python",
   "name": "python3"
  },
  "language_info": {
   "codemirror_mode": {
    "name": "ipython",
    "version": 3
   },
   "file_extension": ".py",
   "mimetype": "text/x-python",
   "name": "python",
   "nbconvert_exporter": "python",
   "pygments_lexer": "ipython3",
   "version": "3.8.10"
  }
 },
 "nbformat": 4,
 "nbformat_minor": 5
}
