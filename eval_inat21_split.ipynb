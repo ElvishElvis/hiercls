{
 "cells": [
  {
   "cell_type": "markdown",
   "id": "a35142d7",
   "metadata": {},
   "source": [
    "The purpose of this notebook is to see how training on half of the classes affects the accuracy.\n",
    "\n",
    "First, check the accuracy of the flat classifier relative to the baseline.\n",
    "\n",
    "Second, check the accuracy of the hierarchical classifier in case it did better (probably not due to high-level classes being learnt poorly).\n",
    "\n",
    "Third, check whether training at a higher level of the hierarchy works better. (This will require training at a coarse level and excluding some classes.)"
   ]
  },
  {
   "cell_type": "code",
   "execution_count": 1,
   "id": "78a40757",
   "metadata": {},
   "outputs": [],
   "source": [
    "import pathlib\n",
    "\n",
    "import numpy as np\n",
    "import pandas as pd\n",
    "\n",
    "import hier\n",
    "import metrics"
   ]
  },
  {
   "cell_type": "code",
   "execution_count": 2,
   "id": "64fcec72",
   "metadata": {},
   "outputs": [],
   "source": [
    "full_dir = '/mnt/ssd1/projects/2022-01-hierarchical/experiments/2022-03-31-inat21mini/flat_softmax-lr-0.01-b-64-wd-0.0003-ep-20'\n",
    "\n",
    "# Subset of classes, leaf nodes, flat softmax.\n",
    "partition_dirs = {\n",
    "    7: '/mnt/ssd1/projects/2022-01-hierarchical/experiments/2022-04-20-inat21mini-partition/d7_n2_i0_c',\n",
    "    6: '/mnt/ssd1/projects/2022-01-hierarchical/experiments/2022-04-20-inat21mini-partition/d6_n2_i0_c',\n",
    "    5: '/mnt/ssd1/projects/2022-01-hierarchical/experiments/2022-04-20-inat21mini-partition/d5_n2_i0_c',\n",
    "    4: '/mnt/ssd1/projects/2022-01-hierarchical/experiments/2022-04-20-inat21mini-partition/d4_n2_i0_c',\n",
    "}\n",
    "\n",
    "# Subset of classes, internal nodes, flat softmax.\n",
    "partition_coarse_dirs = {\n",
    "    (7, 6): '/mnt/ssd1/projects/2022-01-hierarchical/experiments/2022-04-11-inat21mini-partition/d7_n2_i0_c-max_depth_6/',\n",
    "    (6, 5): '/mnt/ssd1/projects/2022-01-hierarchical/experiments/2022-04-11-inat21mini-partition/d6_n2_i0_c-max_depth_5/',\n",
    "}\n",
    "\n",
    "# Subset of classes, leaf nodes, hierarchical loss.\n",
    "hier_partition_dirs = {\n",
    "    7: '/mnt/ssd1/projects/2022-01-hierarchical/experiments/2022-04-20-inat21mini-partition/d7_n2_i0_c-descendant_softmax-bal',\n",
    "    6: '/mnt/ssd1/projects/2022-01-hierarchical/experiments/2022-04-20-inat21mini-partition/d6_n2_i0_c-descendant_softmax-bal',\n",
    "    5: '/mnt/ssd1/projects/2022-01-hierarchical/experiments/2022-04-20-inat21mini-partition/d5_n2_i0_c-descendant_softmax-bal',\n",
    "    4: '/mnt/ssd1/projects/2022-01-hierarchical/experiments/2022-04-20-inat21mini-partition/d4_n2_i0_c-descendant_softmax-bal',\n",
    "}\n",
    "\n",
    "partition_subtrees = {\n",
    "    7: 'partition_d7_n2_i0_c',\n",
    "    6: 'partition_d6_n2_i0_c',\n",
    "    5: 'partition_d5_n2_i0_c',\n",
    "    4: 'partition_d4_n2_i0_c',\n",
    "}\n",
    "\n",
    "coarse_subtrees = {\n",
    "    6: 'max_depth_6',\n",
    "    5: 'max_depth_5',\n",
    "    4: 'max_depth_4',\n",
    "    3: 'max_depth_5',\n",
    "}\n",
    "\n",
    "# partition_dir = '/mnt/ssd1/projects/2022-01-hierarchical/experiments/2022-04-20-inat21mini-partition/d7_n2_i0_c'\n",
    "# hier_dir = '/mnt/ssd1/projects/2022-01-hierarchical/experiments/2022-04-11-inat21mini-partition/d7_n2_i0_c-hier'\n",
    "# coarse_dir = '/mnt/ssd1/projects/2022-01-hierarchical/experiments/2022-04-11-inat21mini-partition/d7_n2_i0_c-max_depth_6/'"
   ]
  },
  {
   "cell_type": "code",
   "execution_count": 3,
   "id": "f879a07b",
   "metadata": {},
   "outputs": [],
   "source": [
    "partition_level = 6\n",
    "coarse_level = partition_level - 1"
   ]
  },
  {
   "cell_type": "code",
   "execution_count": 4,
   "id": "c68da392",
   "metadata": {},
   "outputs": [],
   "source": [
    "with open('resources/hierarchy/inat21.csv') as f:\n",
    "    tree, tree_names = hier.make_hierarchy_from_edges(hier.load_edges(f))\n",
    "\n",
    "with open(f'resources/subtree/inat21_{partition_subtrees[partition_level]}.csv') as f:\n",
    "    train_subtree, train_subtree_names = hier.make_hierarchy_from_edges(hier.load_edges(f))\n",
    "\n",
    "with open(f'resources/subtree/inat21_{coarse_subtrees[coarse_level]}.csv') as f:\n",
    "    eval_subtree, eval_subtree_names = hier.make_hierarchy_from_edges(hier.load_edges(f))"
   ]
  },
  {
   "cell_type": "code",
   "execution_count": 5,
   "id": "0b9b87db",
   "metadata": {},
   "outputs": [],
   "source": [
    "outputs = np.load(pathlib.Path(full_dir) / 'predictions/output-epoch-0020.pkl', allow_pickle=True)\n",
    "pred_full = outputs['pred']\n",
    "gt = outputs['gt']"
   ]
  },
  {
   "cell_type": "code",
   "execution_count": 6,
   "id": "68ee0e7f",
   "metadata": {},
   "outputs": [],
   "source": [
    "outputs = np.load(pathlib.Path(partition_dirs[partition_level]) / 'predictions/output-epoch-0020.pkl', allow_pickle=True)\n",
    "# Change to full node index.\n",
    "train_node_subset = hier.find_subset_index(tree_names, train_subtree_names)\n",
    "pred_fold = {k: train_node_subset[v] for k, v in outputs['pred'].items()}"
   ]
  },
  {
   "cell_type": "code",
   "execution_count": 7,
   "id": "9ef971b0",
   "metadata": {},
   "outputs": [],
   "source": [
    "# Project everything to evaluation subtree.\n",
    "# Not *strictly* correct to project leaf prediction, but good enough for now.\n",
    "\n",
    "eval_node_subset = hier.find_subset_index(tree_names, eval_subtree_names)\n",
    "eval_projection = hier.find_projection(tree, eval_node_subset)\n",
    "\n",
    "gt_proj = eval_projection[gt]\n",
    "pred_full_proj = {k: eval_projection[v] for k, v in pred_full.items()}\n",
    "pred_fold_proj = {k: eval_projection[v] for k, v in pred_fold.items()}"
   ]
  },
  {
   "cell_type": "code",
   "execution_count": 8,
   "id": "7988736f",
   "metadata": {},
   "outputs": [
    {
     "data": {
      "text/plain": [
       "(0.69642, 0.49967)"
      ]
     },
     "execution_count": 8,
     "metadata": {},
     "output_type": "execute_result"
    }
   ],
   "source": [
    "# Compare (projected) accuracy of full- and subset-trained models.\n",
    "np.mean(gt_proj == pred_full_proj['leaf']), np.mean(gt_proj == pred_fold_proj['leaf'])"
   ]
  },
  {
   "cell_type": "code",
   "execution_count": 9,
   "id": "91a3aeb9",
   "metadata": {},
   "outputs": [],
   "source": [
    "def split_by_value(x):\n",
    "    order = np.argsort(x)\n",
    "    values, first_index = np.unique(x[order], return_index=True)\n",
    "    return values, np.split(order, first_index[1:])"
   ]
  },
  {
   "cell_type": "code",
   "execution_count": 10,
   "id": "86301aec",
   "metadata": {},
   "outputs": [
    {
     "data": {
      "text/plain": [
       "(50810, 49190)"
      ]
     },
     "execution_count": 10,
     "metadata": {},
     "output_type": "execute_result"
    }
   ],
   "source": [
    "values, groups = split_by_value(gt)\n",
    "seen = np.concatenate([groups[i] for i in np.flatnonzero(np.isin(values, train_node_subset))])\n",
    "unseen = np.concatenate([groups[i] for i in np.flatnonzero(np.isin(values, train_node_subset, invert=True))])\n",
    "len(seen), len(unseen)"
   ]
  },
  {
   "cell_type": "code",
   "execution_count": 12,
   "id": "0fcfe6ba",
   "metadata": {},
   "outputs": [
    {
     "data": {
      "text/plain": [
       "(0.6904939972446369, 0.7082464081873647)"
      ]
     },
     "execution_count": 12,
     "metadata": {},
     "output_type": "execute_result"
    }
   ],
   "source": [
    "# Compare (projected) accuracy of full- and subset-trained models on seen and unseen classes.\n",
    "\n",
    "np.mean(gt_proj[seen] == pred_full_proj['leaf'][seen]), np.mean(gt_proj[seen] == pred_fold_proj['leaf'][seen])"
   ]
  },
  {
   "cell_type": "code",
   "execution_count": 13,
   "id": "44ee29ea",
   "metadata": {},
   "outputs": [
    {
     "data": {
      "text/plain": [
       "(0.7025411669038423, 0.28422443586094737)"
      ]
     },
     "execution_count": 13,
     "metadata": {},
     "output_type": "execute_result"
    }
   ],
   "source": [
    "np.mean(gt_proj[unseen] == pred_full_proj['leaf'][unseen]), np.mean(gt_proj[unseen] == pred_fold_proj['leaf'][unseen])"
   ]
  },
  {
   "cell_type": "code",
   "execution_count": 38,
   "id": "aa27810a",
   "metadata": {},
   "outputs": [
    {
     "name": "stdout",
     "output_type": "stream",
     "text": [
      "overall: 50.0%, 51.2%\n",
      "seen:    70.8%, 66.8%\n",
      "unseen:  28.4%, 35.2%\n"
     ]
    }
   ],
   "source": [
    "# Compare against training at coarse level.\n",
    "\n",
    "outputs = np.load(pathlib.Path(partition_coarse_dirs[partition_level, coarse_level]) / 'predictions/output-epoch-0020.pkl', allow_pickle=True)\n",
    "pred_coarse = {k: eval_node_subset[v] for k, v in outputs['pred'].items()}\n",
    "pred_coarse_proj = {k: eval_projection[v] for k, v in pred_coarse.items()}\n",
    "\n",
    "print('overall: {:.1%}, {:.1%}'.format(\n",
    "    np.mean((gt_proj == pred_fold_proj['leaf'])),\n",
    "    np.mean((gt_proj == pred_coarse_proj['leaf']))))\n",
    "print('seen:    {:.1%}, {:.1%}'.format(\n",
    "    np.mean((gt_proj == pred_fold_proj['leaf'])[seen]),\n",
    "    np.mean((gt_proj == pred_coarse_proj['leaf'])[seen])))\n",
    "print('unseen:  {:.1%}, {:.1%}'.format(\n",
    "    np.mean((gt_proj == pred_fold_proj['leaf'])[unseen]),\n",
    "    np.mean((gt_proj == pred_coarse_proj['leaf'])[unseen])))"
   ]
  },
  {
   "cell_type": "code",
   "execution_count": 39,
   "id": "1f1dba1e",
   "metadata": {},
   "outputs": [
    {
     "name": "stdout",
     "output_type": "stream",
     "text": [
      "overall: 40.4%, 41.9%\n",
      "seen:    59.3%, 56.0%\n",
      "unseen:  20.8%, 27.3%\n"
     ]
    }
   ],
   "source": [
    "# Majority-inference instead.\n",
    "print('overall: {:.1%}, {:.1%}'.format(\n",
    "    np.mean((gt_proj == pred_fold_proj['majority'])),\n",
    "    np.mean((gt_proj == pred_coarse_proj['majority']))))\n",
    "print('seen:    {:.1%}, {:.1%}'.format(\n",
    "    np.mean((gt_proj == pred_fold_proj['majority'])[seen]),\n",
    "    np.mean((gt_proj == pred_coarse_proj['majority'])[seen])))\n",
    "print('unseen:  {:.1%}, {:.1%}'.format(\n",
    "    np.mean((gt_proj == pred_fold_proj['majority'])[unseen]),\n",
    "    np.mean((gt_proj == pred_coarse_proj['majority'])[unseen])))"
   ]
  },
  {
   "cell_type": "code",
   "execution_count": 17,
   "id": "8493fef1",
   "metadata": {},
   "outputs": [
    {
     "data": {
      "text/plain": [
       "(0.5488880141704389, 0.5602637276126746)"
      ]
     },
     "execution_count": 17,
     "metadata": {},
     "output_type": "execute_result"
    }
   ],
   "source": [
    "np.mean(gt_proj[seen] == pred_full_proj['majority'][seen]), np.mean(gt_proj[seen] == pred_coarse_proj['majority'][seen])"
   ]
  },
  {
   "cell_type": "code",
   "execution_count": 19,
   "id": "86837aed",
   "metadata": {},
   "outputs": [
    {
     "data": {
      "text/plain": [
       "(0.20815206342752593, 0.2732872535068103)"
      ]
     },
     "execution_count": 19,
     "metadata": {},
     "output_type": "execute_result"
    }
   ],
   "source": [
    "# Check unseen-accuracy from coarse training.\n",
    "np.mean(gt_proj[unseen] == pred_fold_proj['majority'][unseen]), np.mean(gt_proj[unseen] == pred_coarse_proj['majority'][unseen])"
   ]
  },
  {
   "cell_type": "code",
   "execution_count": 14,
   "id": "9e0136eb",
   "metadata": {},
   "outputs": [],
   "source": [
    "# Check whether the hierarchical model did better on the unseen classes.\n",
    "outputs = np.load(pathlib.Path(hier_partition_dirs[partition_level]) / 'predictions/output-epoch-0020.pkl', allow_pickle=True)\n",
    "pred_hier = {k: train_node_subset[v] for k, v in outputs['pred'].items()}\n",
    "pred_hier_proj = {k: eval_projection[v] for k, v in pred_hier.items()}"
   ]
  },
  {
   "cell_type": "code",
   "execution_count": null,
   "id": "1c3e15ba",
   "metadata": {},
   "outputs": [],
   "source": [
    "# About the same really.\n",
    "np.mean(gt_proj[unseen] == pred_fold_proj['leaf'][unseen]), np.mean(gt_proj[unseen] == pred_hier_proj['leaf'][unseen])"
   ]
  },
  {
   "cell_type": "code",
   "execution_count": null,
   "id": "51962468",
   "metadata": {
    "scrolled": true
   },
   "outputs": [],
   "source": [
    "# How about correctness of majority prediction? Should be better.\n",
    "(np.mean(metrics.correct(eval_subtree, gt_proj[unseen], pred_fold_proj['majority'][unseen])),\n",
    " np.mean(metrics.correct(eval_subtree, gt_proj[unseen], pred_hier_proj['majority'][unseen])))"
   ]
  },
  {
   "cell_type": "code",
   "execution_count": null,
   "id": "aee209f9",
   "metadata": {},
   "outputs": [],
   "source": []
  }
 ],
 "metadata": {
  "kernelspec": {
   "display_name": "Python 3 (ipykernel)",
   "language": "python",
   "name": "python3"
  },
  "language_info": {
   "codemirror_mode": {
    "name": "ipython",
    "version": 3
   },
   "file_extension": ".py",
   "mimetype": "text/x-python",
   "name": "python",
   "nbconvert_exporter": "python",
   "pygments_lexer": "ipython3",
   "version": "3.8.10"
  }
 },
 "nbformat": 4,
 "nbformat_minor": 5
}
