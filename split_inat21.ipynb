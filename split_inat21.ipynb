{
 "cells": [
  {
   "cell_type": "code",
   "execution_count": 1,
   "id": "188873bc",
   "metadata": {},
   "outputs": [],
   "source": [
    "import csv\n",
    "\n",
    "import numpy as np\n",
    "\n",
    "import hier"
   ]
  },
  {
   "cell_type": "code",
   "execution_count": 2,
   "id": "bee95792",
   "metadata": {},
   "outputs": [],
   "source": [
    "with open('resources/hierarchy/inat21.csv') as f:\n",
    "    tree, node_names = hier.make_hierarchy_from_edges(hier.load_edges(f))"
   ]
  },
  {
   "cell_type": "code",
   "execution_count": 3,
   "id": "3df22717",
   "metadata": {},
   "outputs": [],
   "source": [
    "def split_level(rng, depth, num_folds):\n",
    "    node_to_children = tree.children()\n",
    "    sizes = tree.num_leaf_descendants()\n",
    "    parent_nodes = np.flatnonzero(tree.depths() == depth - 1)\n",
    "\n",
    "    fold_subsets = [list() for _ in range(num_folds)]\n",
    "    for parent in parent_nodes:\n",
    "        # Shuffle the child nodes.\n",
    "        children = node_to_children[parent]\n",
    "        order = rng.permutation(len(children))\n",
    "        children = children[order]\n",
    "        child_sizes = sizes[children]\n",
    "        cumsum = np.concatenate(([0], np.cumsum(child_sizes)))\n",
    "        center_size = (cumsum[:-1] + cumsum[1:]) / 2\n",
    "        center_bin = center_size * num_folds / np.sum(child_sizes)\n",
    "        nearest_bin = np.round(-0.5 + center_bin).astype(int)\n",
    "        bins = [children[nearest_bin == i] for i in range(num_folds)]\n",
    "        # Permute the bins too, to avoid rounding bias.\n",
    "        bins = [bins[i] for i in rng.permutation(num_folds)]\n",
    "        for i in range(num_folds):\n",
    "            fold_subsets[i].extend(bins[i])\n",
    "\n",
    "    return [np.sort(subset) for subset in fold_subsets]"
   ]
  },
  {
   "cell_type": "code",
   "execution_count": 4,
   "id": "9f028466",
   "metadata": {},
   "outputs": [
    {
     "name": "stdout",
     "output_type": "stream",
     "text": [
      "folds 2, depth 4: [4839, 5161]\n",
      "folds 2, depth 5: [5062, 4938]\n",
      "folds 2, depth 6: [4919, 5081]\n",
      "folds 2, depth 7: [4981, 5019]\n",
      "folds 3, depth 4: [2767, 3011, 4222]\n",
      "folds 3, depth 5: [2919, 3212, 3869]\n",
      "folds 3, depth 6: [3345, 3365, 3290]\n",
      "folds 3, depth 7: [3304, 3349, 3347]\n"
     ]
    }
   ],
   "source": [
    "seed = 0\n",
    "\n",
    "sizes = tree.num_leaf_descendants()\n",
    "\n",
    "for num_folds in [2, 3]:\n",
    "    for depth in [4, 5, 6, 7]:\n",
    "        partitions = split_level(np.random.default_rng(seed), depth, num_folds)\n",
    "        print(f'folds {num_folds}, depth {depth}:', [np.sum(sizes[nodes]) for nodes in partitions])\n",
    "\n",
    "        for i in range(num_folds):\n",
    "            # Take subtree using partition.\n",
    "            subtree, node_subset = hier.rooted_subtree_spanning(tree, partitions[i])\n",
    "            subtree_names = [node_names[i] for i in node_subset]\n",
    "            # Write subtree to file.\n",
    "            subtree_edges = [(subtree_names[i], subtree_names[j]) for i, j in subtree.edges()]\n",
    "            with open(f'resources/subtree/inat21_partition_d{depth}_n{num_folds}_i{i}.csv', 'w') as f:\n",
    "                csv.writer(f).writerows(subtree_edges)\n",
    "\n",
    "            # if num_folds > 2:\n",
    "            # Do same for complement.\n",
    "            complement = np.concatenate(partitions[:i] + partitions[i+1:])\n",
    "            subtree, node_subset = hier.rooted_subtree_spanning(tree, complement)\n",
    "            subtree_names = [node_names[i] for i in node_subset]\n",
    "            # Write subtree to file.\n",
    "            subtree_edges = [(subtree_names[i], subtree_names[j]) for i, j in subtree.edges()]\n",
    "            with open(f'resources/subtree/inat21_partition_d{depth}_n{num_folds}_i{i}_c.csv', 'w') as f:\n",
    "                csv.writer(f).writerows(subtree_edges)"
   ]
  },
  {
   "cell_type": "code",
   "execution_count": null,
   "id": "59742bd7",
   "metadata": {},
   "outputs": [],
   "source": []
  }
 ],
 "metadata": {
  "kernelspec": {
   "display_name": "Python 3 (ipykernel)",
   "language": "python",
   "name": "python3"
  },
  "language_info": {
   "codemirror_mode": {
    "name": "ipython",
    "version": 3
   },
   "file_extension": ".py",
   "mimetype": "text/x-python",
   "name": "python",
   "nbconvert_exporter": "python",
   "pygments_lexer": "ipython3",
   "version": "3.8.10"
  }
 },
 "nbformat": 4,
 "nbformat_minor": 5
}
