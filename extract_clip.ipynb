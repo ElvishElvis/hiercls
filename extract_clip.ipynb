{
 "cells": [
  {
   "cell_type": "code",
   "execution_count": 1,
   "id": "649055e4",
   "metadata": {},
   "outputs": [],
   "source": [
    "import pathlib\n",
    "\n",
    "import clip\n",
    "import ml_collections\n",
    "import numpy as np\n",
    "import torch\n",
    "import tqdm\n",
    "\n",
    "import main"
   ]
  },
  {
   "cell_type": "code",
   "execution_count": 2,
   "id": "8f697a9c",
   "metadata": {},
   "outputs": [],
   "source": [
    "device = torch.device('cuda')"
   ]
  },
  {
   "cell_type": "code",
   "execution_count": 3,
   "id": "38be8af1",
   "metadata": {},
   "outputs": [],
   "source": [
    "model, preprocess = clip.load('ViT-B/32', device=device)\n",
    "model_name = 'vitb32'"
   ]
  },
  {
   "cell_type": "code",
   "execution_count": 4,
   "id": "c94b3317",
   "metadata": {},
   "outputs": [],
   "source": [
    "# import configs.inaturalist2021mini\n",
    "# config = configs.inaturalist2021mini.get_config()\n",
    "# config.dataset_root = '/home/jack/data/manual/inaturalist2021/'\n",
    "# dataset_name = 'inat21'\n",
    "\n",
    "import configs.imagenet\n",
    "config = configs.imagenet.get_config()\n",
    "config.dataset_root = '/home/jack/data/torchvision/imagenet/'\n",
    "dataset_name = 'imagenet'"
   ]
  },
  {
   "cell_type": "code",
   "execution_count": 5,
   "id": "0927a592",
   "metadata": {},
   "outputs": [],
   "source": [
    "datasets = {}\n",
    "datasets[config.train_split], datasets[config.eval_split], tree, node_names, _, _ = main.make_datasets(config)"
   ]
  },
  {
   "cell_type": "code",
   "execution_count": 6,
   "id": "1a986904",
   "metadata": {},
   "outputs": [
    {
     "data": {
      "text/plain": [
       "{'train': 1281167, 'val': 50000}"
      ]
     },
     "execution_count": 6,
     "metadata": {},
     "output_type": "execute_result"
    }
   ],
   "source": [
    "{k: len(datasets[k]) for k in datasets}"
   ]
  },
  {
   "cell_type": "code",
   "execution_count": 7,
   "id": "08727dfd",
   "metadata": {},
   "outputs": [],
   "source": [
    "for k in datasets:\n",
    "    datasets[k].transform = preprocess"
   ]
  },
  {
   "cell_type": "code",
   "execution_count": 8,
   "id": "a2b29b72",
   "metadata": {},
   "outputs": [],
   "source": [
    "def extract_features(dataset):\n",
    "    loader = torch.utils.data.DataLoader(\n",
    "        dataset=dataset,\n",
    "        batch_size=256,\n",
    "        shuffle=False,\n",
    "        pin_memory=False,\n",
    "        num_workers=8,\n",
    "        prefetch_factor=2)\n",
    "\n",
    "    feature_batches = []\n",
    "    label_batches = []\n",
    "\n",
    "    model.eval()\n",
    "    with torch.inference_mode():\n",
    "        for image_batch, label_batch in tqdm.tqdm(loader):\n",
    "            image_batch = image_batch.to(device)\n",
    "            feature_batch = model.encode_image(image_batch)\n",
    "            feature_batches.append(np.array(feature_batch.cpu()))\n",
    "            # Important not to keep output of DataLoader. Perform deep copy.\n",
    "            # https://github.com/pytorch/pytorch/issues/11201#issuecomment-486232056\n",
    "            label_batches.append(np.array(label_batch.numpy()))\n",
    "\n",
    "    features = np.concatenate(feature_batches, axis=0)\n",
    "    labels = np.concatenate(label_batches, axis=0)\n",
    "    return features, labels"
   ]
  },
  {
   "cell_type": "code",
   "execution_count": 9,
   "id": "65d2694e",
   "metadata": {},
   "outputs": [
    {
     "name": "stderr",
     "output_type": "stream",
     "text": [
      "100%|██████████████████████████████████████████████████████████████████████████████████████████████| 5005/5005 [20:30<00:00,  4.07it/s]\n",
      "100%|████████████████████████████████████████████████████████████████████████████████████████████████| 196/196 [00:51<00:00,  3.77it/s]\n"
     ]
    }
   ],
   "source": [
    "out_dir = pathlib.Path(f'resources/features/{dataset_name}_{model_name}')\n",
    "out_dir.mkdir(exist_ok=True)\n",
    "\n",
    "for k in datasets:\n",
    "    features, labels = extract_features(datasets[k])\n",
    "    np.savez(out_dir / f'{k}.npz', features=features, labels=labels)"
   ]
  },
  {
   "cell_type": "code",
   "execution_count": null,
   "id": "2d5d86ef",
   "metadata": {},
   "outputs": [],
   "source": []
  }
 ],
 "metadata": {
  "kernelspec": {
   "display_name": "Python 3 (ipykernel)",
   "language": "python",
   "name": "python3"
  },
  "language_info": {
   "codemirror_mode": {
    "name": "ipython",
    "version": 3
   },
   "file_extension": ".py",
   "mimetype": "text/x-python",
   "name": "python",
   "nbconvert_exporter": "python",
   "pygments_lexer": "ipython3",
   "version": "3.8.10"
  }
 },
 "nbformat": 4,
 "nbformat_minor": 5
}
