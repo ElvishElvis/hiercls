{
 "cells": [
  {
   "cell_type": "code",
   "execution_count": 1,
   "id": "b16a5cf4",
   "metadata": {},
   "outputs": [],
   "source": [
    "import collections\n",
    "import itertools\n",
    "import json\n",
    "import pathlib\n",
    "\n",
    "import matplotlib\n",
    "from matplotlib import pyplot as plt\n",
    "from matplotlib import ticker\n",
    "import ml_collections\n",
    "import numpy as np\n",
    "import pandas as pd\n",
    "import torch\n",
    "\n",
    "import hier\n",
    "import hier_torch\n",
    "import infer\n",
    "import main\n",
    "import metrics\n",
    "import progmet\n",
    "import tree_util"
   ]
  },
  {
   "cell_type": "code",
   "execution_count": 2,
   "id": "2602504e",
   "metadata": {},
   "outputs": [],
   "source": [
    "Trial = collections.namedtuple('Trial', ['root', 'config_file', 'model_file'])"
   ]
  },
  {
   "cell_type": "code",
   "execution_count": 101,
   "id": "de4e169b",
   "metadata": {},
   "outputs": [],
   "source": [
    "# # Flat softmax with label smoothing.\n",
    "# PLOT_DIR = 'output/plots/sweep_label_smoothing'\n",
    "# EXP_DIR = pathlib.Path('/mnt/ssd1/projects/2022-01-hierarchical/experiments/2022-03-31-inat21mini')\n",
    "# EXPERIMENT_PATTERNS = [\n",
    "#     'flat_softmax-lr-0.01-b-64-wd-0.0003-ep-20',\n",
    "#     'flat_softmax-ls-*-lr-0.01-b-64-wd-0.0003-ep-20',\n",
    "# ]\n",
    "# config_to_hparams = lambda c: (c.train.label_smoothing,)\n",
    "# predicate = lambda ls: ls < 0.6\n",
    "\n",
    "\n",
    "# # Multilabel focal loss.\n",
    "# PLOT_DIR = 'output/plots/sweep_multilabel_focal'\n",
    "# EXP_DIR = pathlib.Path('/mnt/ssd1/projects/2022-01-hierarchical/experiments')\n",
    "# EXPERIMENT_PATTERNS = [\n",
    "#     '2022-03-31-inat21mini-dgx/multilabel_focal-*-*-lr-0.01-b-64-wd-0.0003-ep-20',\n",
    "#     '2022-03-31-inat21mini/multilabel_focal-0.*-0-lr-0.01-b-64-wd-0.0003-ep-20',\n",
    "#     '2022-03-31-inat21mini/multilabel_focal-none-*-0-lr-0.01-b-64-wd-0.0003-ep-20',\n",
    "# ]\n",
    "# config_to_hparams = lambda c: (c.train.focal_gamma, c.train.focal_alpha)\n",
    "# predicate = lambda gamma, alpha: alpha >= 0.4 and gamma > 0\n",
    "\n",
    "\n",
    "# # Multilabel focal loss, including `loss_weighting`.\n",
    "# PLOT_DIR = 'output/plots/sweep_multilabel_focal'\n",
    "# EXP_DIR = pathlib.Path('/mnt/ssd1/projects/2022-01-hierarchical/experiments')\n",
    "# EXPERIMENT_PATTERNS = [\n",
    "#     '2022-03-31-inat21mini-dgx/multilabel_focal-*-*-lr-0.01-b-64-wd-0.0003-ep-20',\n",
    "#     '2022-03-31-inat21mini/multilabel_focal-inv_sqrt-*-*-lr-0.01-b-64-wd-0.0003-ep-20',\n",
    "# ]\n",
    "# config_to_hparams = lambda c: (c.train.focal_gamma, c.train.focal_alpha, c.train.loss_weighting)\n",
    "# predicate = lambda gamma, alpha, loss_weighting: True\n",
    "\n",
    "\n",
    "# # Bertinetto HXE loss.\n",
    "# PLOT_DIR = 'output/plots/sweep_hxe'\n",
    "# EXP_DIR = pathlib.Path('/mnt/ssd1/projects/2022-01-hierarchical/experiments')\n",
    "# EXPERIMENT_PATTERNS = [\n",
    "#     '2022-03-31-inat21mini/flat_softmax-lr-0.01-b-64-wd-0.0003-ep-20',\n",
    "#     # '2022-03-31-inat21mini/flat_bertinetto-*-lr-0.01-b-64-wd-0.0003-ep-20',\n",
    "#     '2022-05-12-hxe-sweep/flat_bertinetto-*-lr-0.01-b-64-wd-0.0003-ep-20',\n",
    "# ]\n",
    "# config_to_hparams = lambda c: (c.train.hxe_alpha,)\n",
    "# predicate = lambda alpha: True\n",
    "\n",
    "\n",
    "# Deep RTC (cut prob).\n",
    "PLOT_DIR = 'output/plots/sweep_deep_rtc'\n",
    "EXP_DIR = pathlib.Path('/mnt/ssd1/projects/2022-01-hierarchical/experiments/2022-03-31-inat21mini')\n",
    "EXPERIMENT_PATTERNS = [\n",
    "    'share_random_cut-0.01-lr-0.01-b-64-wd-0.0003-ep-20',\n",
    "    'share_random_cut-0.02-lr-0.01-b-64-wd-0.0003-ep-20',\n",
    "    'share_random_cut-0.05-lr-0.01-b-64-wd-0.0003-ep-20',\n",
    "    'share_random_cut-0.1-lr-0.01-b-64-wd-0.0003-ep-20',\n",
    "    'share_random_cut-0-lr-0.01-b-64-wd-0.0003-ep-20',\n",
    "]\n",
    "config_to_hparams = lambda c: (c.train.random_cut_prob,)\n",
    "predicate = lambda alpha: True\n",
    "\n",
    "\n",
    "# # Margin (scale).\n",
    "# PLOT_DIR = 'output/plots/sweep_soft_margin'\n",
    "# EXP_DIR = pathlib.Path('/mnt/ssd1/projects/2022-01-hierarchical/experiments/2022-03-31-inat21mini')\n",
    "# EXPERIMENT_PATTERNS = [\n",
    "#     'soft_margin-incorrect-*lr-0.01-b-64-wd-0.0003-ep-20',\n",
    "# ]\n",
    "# config_to_hparams = lambda c: (c.train.margin_tau,)\n",
    "# predicate = lambda tau: True"
   ]
  },
  {
   "cell_type": "code",
   "execution_count": 102,
   "id": "05c68418",
   "metadata": {},
   "outputs": [],
   "source": [
    "def update_config(config):\n",
    "    if not hasattr(config.train, 'loss_weighting'):\n",
    "        setattr(config.train, 'loss_weighting', 'none')\n",
    "    if not hasattr(config.train, 'margin_tau'):\n",
    "        setattr(config.train, 'margin_tau', 1.0)\n",
    "    return config  # For convenience."
   ]
  },
  {
   "cell_type": "code",
   "execution_count": 103,
   "id": "751b344b",
   "metadata": {},
   "outputs": [
    {
     "data": {
      "text/plain": [
       "['share_random_cut-0-lr-0.01-b-64-wd-0.0003-ep-20',\n",
       " 'share_random_cut-0.01-lr-0.01-b-64-wd-0.0003-ep-20',\n",
       " 'share_random_cut-0.02-lr-0.01-b-64-wd-0.0003-ep-20',\n",
       " 'share_random_cut-0.05-lr-0.01-b-64-wd-0.0003-ep-20',\n",
       " 'share_random_cut-0.1-lr-0.01-b-64-wd-0.0003-ep-20']"
      ]
     },
     "execution_count": 103,
     "metadata": {},
     "output_type": "execute_result"
    }
   ],
   "source": [
    "experiments = {\n",
    "    path.name: Trial(\n",
    "        root=path,\n",
    "        config_file=path / 'config.json',\n",
    "        model_file=path / 'checkpoints/epoch-0020.pth')\n",
    "    for path in sorted(itertools.chain.from_iterable(\n",
    "        pathlib.Path(EXP_DIR).glob(pattern) for pattern in EXPERIMENT_PATTERNS))\n",
    "    if (path / 'checkpoints/epoch-0020.pth').exists()\n",
    "}\n",
    "list(experiments)"
   ]
  },
  {
   "cell_type": "code",
   "execution_count": 104,
   "id": "fdca2bb7",
   "metadata": {},
   "outputs": [
    {
     "data": {
      "text/plain": [
       "{'share_random_cut-0-lr-0.01-b-64-wd-0.0003-ep-20': (0.0,),\n",
       " 'share_random_cut-0.01-lr-0.01-b-64-wd-0.0003-ep-20': (0.01,),\n",
       " 'share_random_cut-0.02-lr-0.01-b-64-wd-0.0003-ep-20': (0.02,),\n",
       " 'share_random_cut-0.05-lr-0.01-b-64-wd-0.0003-ep-20': (0.05,),\n",
       " 'share_random_cut-0.1-lr-0.01-b-64-wd-0.0003-ep-20': (0.1,)}"
      ]
     },
     "execution_count": 104,
     "metadata": {},
     "output_type": "execute_result"
    }
   ],
   "source": [
    "# Get params from JSON file not filename (less prone to human error).\n",
    "\n",
    "configs = {}\n",
    "for k, experiment in experiments.items():\n",
    "    with open(experiment.config_file) as f:\n",
    "        configs[k] = update_config(ml_collections.ConfigDict(json.load(f)))\n",
    "\n",
    "experiment_hparams = {k: config_to_hparams(c) for k, c in configs.items()}\n",
    "experiment_hparams"
   ]
  },
  {
   "cell_type": "code",
   "execution_count": 105,
   "id": "3be67576",
   "metadata": {},
   "outputs": [
    {
     "data": {
      "text/plain": [
       "{'share_random_cut-0-lr-0.01-b-64-wd-0.0003-ep-20': (0.0,),\n",
       " 'share_random_cut-0.01-lr-0.01-b-64-wd-0.0003-ep-20': (0.01,),\n",
       " 'share_random_cut-0.02-lr-0.01-b-64-wd-0.0003-ep-20': (0.02,),\n",
       " 'share_random_cut-0.05-lr-0.01-b-64-wd-0.0003-ep-20': (0.05,),\n",
       " 'share_random_cut-0.1-lr-0.01-b-64-wd-0.0003-ep-20': (0.1,)}"
      ]
     },
     "execution_count": 105,
     "metadata": {},
     "output_type": "execute_result"
    }
   ],
   "source": [
    "# Filter using predicate.\n",
    "\n",
    "experiment_hparams = {k: hparams for k, hparams in experiment_hparams.items() if predicate(*hparams)}\n",
    "experiments = {k: experiments[k] for k in experiment_hparams}\n",
    "experiment_hparams"
   ]
  },
  {
   "cell_type": "code",
   "execution_count": 106,
   "id": "05ed6032",
   "metadata": {},
   "outputs": [
    {
     "data": {
      "text/plain": [
       "{(0.0,): 'share_random_cut-0-lr-0.01-b-64-wd-0.0003-ep-20',\n",
       " (0.01,): 'share_random_cut-0.01-lr-0.01-b-64-wd-0.0003-ep-20',\n",
       " (0.02,): 'share_random_cut-0.02-lr-0.01-b-64-wd-0.0003-ep-20',\n",
       " (0.05,): 'share_random_cut-0.05-lr-0.01-b-64-wd-0.0003-ep-20',\n",
       " (0.1,): 'share_random_cut-0.1-lr-0.01-b-64-wd-0.0003-ep-20'}"
      ]
     },
     "execution_count": 106,
     "metadata": {},
     "output_type": "execute_result"
    }
   ],
   "source": [
    "# Arrange by key, ensure unique.\n",
    "\n",
    "hparams_to_key = dict(sorted((v, k) for k, v in experiment_hparams.items()))\n",
    "assert len(hparams_to_key) == len(experiment_hparams), 'hparams not unique'\n",
    "\n",
    "colors = dict(zip(\n",
    "    hparams_to_key,\n",
    "    map(matplotlib.cm.get_cmap('tab10'), itertools.count())))\n",
    "\n",
    "hparams_to_key"
   ]
  },
  {
   "cell_type": "code",
   "execution_count": 107,
   "id": "abbf1105",
   "metadata": {},
   "outputs": [],
   "source": [
    "device = torch.device('cuda')"
   ]
  },
  {
   "cell_type": "code",
   "execution_count": 108,
   "id": "06047af2",
   "metadata": {},
   "outputs": [],
   "source": [
    "import configs.inaturalist2021mini\n",
    "\n",
    "base_config = configs.inaturalist2021mini.get_config()\n",
    "base_config.dataset_root = '/home/jack/data/manual/inaturalist2021/'\n",
    "\n",
    "_, eval_dataset, tree, _, _, eval_label_map = main.make_datasets(base_config)\n",
    "\n",
    "eval_loader = torch.utils.data.DataLoader(\n",
    "    dataset=eval_dataset,\n",
    "    batch_size=64,\n",
    "    shuffle=False,\n",
    "    num_workers=2)"
   ]
  },
  {
   "cell_type": "code",
   "execution_count": 109,
   "id": "562d30aa",
   "metadata": {},
   "outputs": [],
   "source": [
    "is_leaf = tree.leaf_mask()\n",
    "specificity = -tree.num_leaf_descendants()\n",
    "not_trivial = (tree.num_children() != 1)\n",
    "subtract_children_fn = hier_torch.SubtractChildren(tree)"
   ]
  },
  {
   "cell_type": "code",
   "execution_count": 110,
   "id": "40150867",
   "metadata": {},
   "outputs": [],
   "source": [
    "infer_fns = {\n",
    "    'leaf': lambda p: infer.argmax_where(p, is_leaf),\n",
    "    'majority': lambda p: infer.argmax_with_confidence(specificity, p, 0.5, not_trivial),\n",
    "    # 'exclusive': lambda p: np.argmax(subtract_children_fn(torch.from_numpy(p)).numpy(), axis=-1),\n",
    "}\n",
    "\n",
    "markers = {\n",
    "    'leaf': 'o',\n",
    "    'majority': '^',\n",
    "    # 'exclusive': 'd',\n",
    "}"
   ]
  },
  {
   "cell_type": "code",
   "execution_count": 111,
   "id": "8f9f0657",
   "metadata": {},
   "outputs": [],
   "source": [
    "info_metric = metrics.UniformLeafInfoMetric(tree)\n",
    "depth_metric = metrics.DepthMetric(tree)\n",
    "\n",
    "metric_fns = {\n",
    "    'exact': lambda gt, pr: pr == gt,\n",
    "    'correct': metrics.IsCorrect(tree),\n",
    "    'info_excess': info_metric.excess,\n",
    "    'info_deficient': info_metric.deficient,\n",
    "    'info_dist': info_metric.dist,\n",
    "    'info_recall': info_metric.recall,\n",
    "    'info_precision': info_metric.precision,\n",
    "    'depth_excess': depth_metric.excess,\n",
    "    'depth_deficient': depth_metric.deficient,\n",
    "    'depth_dist': depth_metric.dist,\n",
    "    'depth_recall': depth_metric.recall,\n",
    "    'depth_precision': depth_metric.precision,\n",
    "}\n",
    "\n",
    "metric_titles = {\n",
    "    'exact': 'Exact',\n",
    "    'correct': 'Correct',\n",
    "    'info_recall': 'Information Recall',\n",
    "    'info_precision': 'Information Precision',\n",
    "    'depth_recall': 'Depth Recall',\n",
    "    'depth_precision': 'Depth Precision',\n",
    "    'info_lca': 'LCA Information',\n",
    "    'depth_lca': 'LCA Depth',\n",
    "}"
   ]
  },
  {
   "cell_type": "code",
   "execution_count": 112,
   "id": "321bfc2b",
   "metadata": {},
   "outputs": [],
   "source": [
    "def apply_model(net, pred_fn, min_threshold, limit=None, temperature=None):\n",
    "    # Per-example predictions.\n",
    "\n",
    "    outputs = {\n",
    "        'gt': [],  # Node in hierarchy.\n",
    "        'pred': {method: [] for method in infer_fns},\n",
    "    }\n",
    "    # Sequence-per-example predictions. Cannot be concatenated due to ragged shape.\n",
    "    seq_outputs = {\n",
    "        'pred': [],\n",
    "        'prob': [],\n",
    "    }\n",
    "\n",
    "    net.eval()\n",
    "    with torch.inference_mode():\n",
    "        meter = progmet.ProgressMeter('apply', interval_time=5)\n",
    "        for minibatch in itertools.islice(meter(eval_loader), limit):\n",
    "            inputs, gt_labels = minibatch\n",
    "            theta = net(inputs.to(device))\n",
    "            if temperature:\n",
    "                theta = theta / temperature\n",
    "            prob = pred_fn(theta).cpu().numpy()\n",
    "            pred = {}\n",
    "            for name, infer_fn in infer_fns.items():\n",
    "                pred[name] = infer_fn(prob)\n",
    "            gt_node = eval_label_map.to_node[gt_labels]\n",
    "            pred_seqs = [\n",
    "                infer.pareto_optimal_predictions(specificity, p, min_threshold, not_trivial)\n",
    "                for p in prob\n",
    "            ]\n",
    "            prob_seqs = [prob[i, pred_i] for i, pred_i in enumerate(pred_seqs)]\n",
    "            # Caution: Predictions are *not* truncated.\n",
    "\n",
    "            outputs['gt'].append(gt_node)\n",
    "            for method in infer_fns:\n",
    "                outputs['pred'][method].append(pred[method])\n",
    "            seq_outputs['pred'].extend(pred_seqs)\n",
    "            seq_outputs['prob'].extend(prob_seqs)\n",
    "\n",
    "    # Concatenate results from minibatches.\n",
    "    leaf_predicate = lambda x: not isinstance(x, dict)  # Treat lists as values, not containers.\n",
    "    outputs = tree_util.tree_map(np.concatenate, outputs, is_leaf=leaf_predicate)\n",
    "\n",
    "    return outputs, seq_outputs"
   ]
  },
  {
   "cell_type": "code",
   "execution_count": 113,
   "id": "c6303cc3",
   "metadata": {},
   "outputs": [],
   "source": [
    "def assess_predictions(outputs, seq_outputs):\n",
    "    gt = outputs['gt']\n",
    "    pred = outputs['pred']\n",
    "    pred_seq = seq_outputs['pred']\n",
    "    prob_seq = seq_outputs['prob']\n",
    "\n",
    "    # Evaluate predictions for each method.\n",
    "    pred = {\n",
    "        method: hier.truncate_at_lca(tree, gt, pr)\n",
    "        for method, pr in pred.items()\n",
    "    }\n",
    "    pred_metrics = {\n",
    "        method: {field: np.mean(metric_fn(gt, pr))\n",
    "                 for field, metric_fn in metric_fns.items()}\n",
    "        for method, pr in pred.items()\n",
    "    }\n",
    "\n",
    "    # Evaluate predictions in Pareto sequence.\n",
    "    find_lca = hier.FindLCA(tree)\n",
    "    specificity_seq = [specificity[pr_i] for pr_i in pred_seq]\n",
    "    pred_seq = [hier.truncate_given_lca(gt_i, pr_i, find_lca(gt_i, pr_i)) for gt_i, pr_i in zip(gt, pred_seq)]\n",
    "    metric_values_seq = {\n",
    "        field: [metric_fn(gt_i, pr_i) for gt_i, pr_i in zip(gt, pred_seq)]\n",
    "        for field, metric_fn in metric_fns.items()\n",
    "    }\n",
    "    pareto_scores, pareto_totals = metrics.operating_curve(prob_seq, metric_values_seq)\n",
    "    pareto_means = {k: v / len(gt) for k, v in pareto_totals.items()}\n",
    "\n",
    "    return pred_metrics, pareto_scores, pareto_means"
   ]
  },
  {
   "cell_type": "code",
   "execution_count": 114,
   "id": "73aec057",
   "metadata": {},
   "outputs": [],
   "source": [
    "def resample_threshold(scores, metric, x):\n",
    "    return metric[np.searchsorted(-scores, -x)]"
   ]
  },
  {
   "cell_type": "code",
   "execution_count": 115,
   "id": "36931a44",
   "metadata": {},
   "outputs": [],
   "source": [
    "# Initialize results if not defined.\n",
    "try:\n",
    "    results\n",
    "except NameError:\n",
    "    results = {}  # Not defined."
   ]
  },
  {
   "cell_type": "code",
   "execution_count": 116,
   "id": "5951431b",
   "metadata": {
    "scrolled": false
   },
   "outputs": [
    {
     "name": "stdout",
     "output_type": "stream",
     "text": [
      "cached: share_random_cut-0-lr-0.01-b-64-wd-0.0003-ep-20\n",
      "cached: share_random_cut-0.01-lr-0.01-b-64-wd-0.0003-ep-20\n",
      "cached: share_random_cut-0.02-lr-0.01-b-64-wd-0.0003-ep-20\n",
      "cached: share_random_cut-0.05-lr-0.01-b-64-wd-0.0003-ep-20\n",
      "cached: share_random_cut-0.1-lr-0.01-b-64-wd-0.0003-ep-20\n"
     ]
    }
   ],
   "source": [
    "MIN_THRESHOLD = None  # Values less than 0.5 may increase runtime significantly.\n",
    "LIMIT = None\n",
    "TEMPERATURE = 10.0  # None\n",
    "\n",
    "score_grid = np.flip(np.linspace(0, 1, 10001))\n",
    "\n",
    "for name, experiment in experiments.items():\n",
    "    if name in results:\n",
    "        print('cached:', name)\n",
    "        continue\n",
    "\n",
    "    # Load model.\n",
    "    with open(experiment.config_file, 'r') as f:\n",
    "        config = update_config(ml_collections.ConfigDict(json.load(f)))\n",
    "    num_outputs = main.get_num_outputs(config.predict, tree)\n",
    "    net = main.make_model(config.model, num_outputs)\n",
    "    missing_keys, unexpected_keys = net.load_state_dict(torch.load(experiment.model_file), strict=True)\n",
    "    assert not missing_keys\n",
    "    assert not unexpected_keys\n",
    "\n",
    "    net.to(device)\n",
    "    _, pred_fn = main.make_loss(config, tree, device)\n",
    "    outputs, seq_outputs = apply_model(\n",
    "        net, pred_fn, min_threshold=MIN_THRESHOLD, limit=LIMIT, temperature=TEMPERATURE)\n",
    "    pred_metrics, pareto_scores, pareto_metrics = assess_predictions(outputs, seq_outputs)\n",
    "    trial_results = {\n",
    "        'pred_metrics': pred_metrics,\n",
    "        'pareto_scores': pareto_scores,\n",
    "        'pareto_metrics': pareto_metrics,\n",
    "    }\n",
    "\n",
    "    # Re-sample the Pareto front; also keeps the memory footprint down.\n",
    "    trial_results.update({\n",
    "        'pareto_scores': score_grid[1:],\n",
    "        'pareto_metrics': {\n",
    "            field: resample_threshold(\n",
    "                trial_results['pareto_scores'],\n",
    "                trial_results['pareto_metrics'][field],\n",
    "                score_grid)\n",
    "            for field in trial_results['pareto_metrics']\n",
    "        },\n",
    "    })\n",
    "    results[name] = trial_results"
   ]
  },
  {
   "cell_type": "code",
   "execution_count": 117,
   "id": "ecf94a6b",
   "metadata": {},
   "outputs": [
    {
     "data": {
      "text/html": [
       "<style type=\"text/css\">\n",
       "</style>\n",
       "<table id=\"T_8135c\">\n",
       "  <thead>\n",
       "    <tr>\n",
       "      <th class=\"blank level0\" >&nbsp;</th>\n",
       "      <th id=\"T_8135c_level0_col0\" class=\"col_heading level0 col0\" >AC(depth)</th>\n",
       "      <th id=\"T_8135c_level0_col1\" class=\"col_heading level0 col1\" >AC(info)</th>\n",
       "      <th id=\"T_8135c_level0_col2\" class=\"col_heading level0 col2\" >AP(depth)</th>\n",
       "      <th id=\"T_8135c_level0_col3\" class=\"col_heading level0 col3\" >AP(info)</th>\n",
       "      <th id=\"T_8135c_level0_col4\" class=\"col_heading level0 col4\" >AC(exact)</th>\n",
       "    </tr>\n",
       "  </thead>\n",
       "  <tbody>\n",
       "    <tr>\n",
       "      <th id=\"T_8135c_level0_row0\" class=\"row_heading level0 row0\" >0.000000</th>\n",
       "      <td id=\"T_8135c_row0_col0\" class=\"data row0 col0\" >66.6%</td>\n",
       "      <td id=\"T_8135c_row0_col1\" class=\"data row0 col1\" >61.0%</td>\n",
       "      <td id=\"T_8135c_row0_col2\" class=\"data row0 col2\" >74.6%</td>\n",
       "      <td id=\"T_8135c_row0_col3\" class=\"data row0 col3\" >66.2%</td>\n",
       "      <td id=\"T_8135c_row0_col4\" class=\"data row0 col4\" >46.2%</td>\n",
       "    </tr>\n",
       "    <tr>\n",
       "      <th id=\"T_8135c_level0_row1\" class=\"row_heading level0 row1\" >0.010000</th>\n",
       "      <td id=\"T_8135c_row1_col0\" class=\"data row1 col0\" >66.3%</td>\n",
       "      <td id=\"T_8135c_row1_col1\" class=\"data row1 col1\" >60.4%</td>\n",
       "      <td id=\"T_8135c_row1_col2\" class=\"data row1 col2\" >74.6%</td>\n",
       "      <td id=\"T_8135c_row1_col3\" class=\"data row1 col3\" >66.0%</td>\n",
       "      <td id=\"T_8135c_row1_col4\" class=\"data row1 col4\" >45.0%</td>\n",
       "    </tr>\n",
       "    <tr>\n",
       "      <th id=\"T_8135c_level0_row2\" class=\"row_heading level0 row2\" >0.020000</th>\n",
       "      <td id=\"T_8135c_row2_col0\" class=\"data row2 col0\" >65.8%</td>\n",
       "      <td id=\"T_8135c_row2_col1\" class=\"data row2 col1\" >59.8%</td>\n",
       "      <td id=\"T_8135c_row2_col2\" class=\"data row2 col2\" >74.2%</td>\n",
       "      <td id=\"T_8135c_row2_col3\" class=\"data row2 col3\" >65.6%</td>\n",
       "      <td id=\"T_8135c_row2_col4\" class=\"data row2 col4\" >44.2%</td>\n",
       "    </tr>\n",
       "    <tr>\n",
       "      <th id=\"T_8135c_level0_row3\" class=\"row_heading level0 row3\" >0.050000</th>\n",
       "      <td id=\"T_8135c_row3_col0\" class=\"data row3 col0\" >64.4%</td>\n",
       "      <td id=\"T_8135c_row3_col1\" class=\"data row3 col1\" >58.1%</td>\n",
       "      <td id=\"T_8135c_row3_col2\" class=\"data row3 col2\" >73.2%</td>\n",
       "      <td id=\"T_8135c_row3_col3\" class=\"data row3 col3\" >64.1%</td>\n",
       "      <td id=\"T_8135c_row3_col4\" class=\"data row3 col4\" >42.0%</td>\n",
       "    </tr>\n",
       "    <tr>\n",
       "      <th id=\"T_8135c_level0_row4\" class=\"row_heading level0 row4\" >0.100000</th>\n",
       "      <td id=\"T_8135c_row4_col0\" class=\"data row4 col0\" >61.5%</td>\n",
       "      <td id=\"T_8135c_row4_col1\" class=\"data row4 col1\" >54.8%</td>\n",
       "      <td id=\"T_8135c_row4_col2\" class=\"data row4 col2\" >71.1%</td>\n",
       "      <td id=\"T_8135c_row4_col3\" class=\"data row4 col3\" >61.1%</td>\n",
       "      <td id=\"T_8135c_row4_col4\" class=\"data row4 col4\" >37.6%</td>\n",
       "    </tr>\n",
       "  </tbody>\n",
       "</table>\n"
      ],
      "text/plain": [
       "<pandas.io.formats.style.Styler at 0x7f6f70743250>"
      ]
     },
     "execution_count": 117,
     "metadata": {},
     "output_type": "execute_result"
    }
   ],
   "source": [
    "INTEGRALS = {\n",
    "    'AC(depth)': ('depth_recall', 'correct'),\n",
    "    'AC(info)': ('info_recall', 'correct'),\n",
    "    'AP(depth)': ('depth_recall', 'depth_precision'),\n",
    "    'AP(info)': ('info_recall', 'info_precision'),\n",
    "    'AC(exact)': ('exact', 'correct'),\n",
    "}\n",
    "\n",
    "auc = {\n",
    "    integral_key: {\n",
    "        name: metrics.pareto_integrate(\n",
    "            results[name]['pareto_metrics'][x],\n",
    "            results[name]['pareto_metrics'][y])\n",
    "        for name in experiments if name in results\n",
    "    } for integral_key, (x, y) in INTEGRALS.items()\n",
    "}\n",
    "\n",
    "auc = pd.DataFrame(auc)\n",
    "auc = auc.set_index(auc.index.map(experiment_hparams)).sort_index()\n",
    "auc.style.format('{:.1%}'.format)"
   ]
  },
  {
   "cell_type": "code",
   "execution_count": 118,
   "id": "05a3e2f5",
   "metadata": {},
   "outputs": [
    {
     "data": {
      "text/html": [
       "<style type=\"text/css\">\n",
       "</style>\n",
       "<table id=\"T_6ecac\">\n",
       "  <thead>\n",
       "    <tr>\n",
       "      <th class=\"blank level0\" >&nbsp;</th>\n",
       "      <th id=\"T_6ecac_level0_col0\" class=\"col_heading level0 col0\" >AC(depth)</th>\n",
       "      <th id=\"T_6ecac_level0_col1\" class=\"col_heading level0 col1\" >AC(info)</th>\n",
       "      <th id=\"T_6ecac_level0_col2\" class=\"col_heading level0 col2\" >AP(depth)</th>\n",
       "      <th id=\"T_6ecac_level0_col3\" class=\"col_heading level0 col3\" >AP(info)</th>\n",
       "      <th id=\"T_6ecac_level0_col4\" class=\"col_heading level0 col4\" >AC(exact)</th>\n",
       "    </tr>\n",
       "  </thead>\n",
       "  <tbody>\n",
       "    <tr>\n",
       "      <th id=\"T_6ecac_level0_row0\" class=\"row_heading level0 row0\" >0.000000</th>\n",
       "      <td id=\"T_6ecac_row0_col0\" class=\"data row0 col0\" >66.6%</td>\n",
       "      <td id=\"T_6ecac_row0_col1\" class=\"data row0 col1\" >61.0%</td>\n",
       "      <td id=\"T_6ecac_row0_col2\" class=\"data row0 col2\" >74.6%</td>\n",
       "      <td id=\"T_6ecac_row0_col3\" class=\"data row0 col3\" >66.2%</td>\n",
       "      <td id=\"T_6ecac_row0_col4\" class=\"data row0 col4\" >46.2%</td>\n",
       "    </tr>\n",
       "    <tr>\n",
       "      <th id=\"T_6ecac_level0_row1\" class=\"row_heading level0 row1\" >0.010000</th>\n",
       "      <td id=\"T_6ecac_row1_col0\" class=\"data row1 col0\" >66.3%</td>\n",
       "      <td id=\"T_6ecac_row1_col1\" class=\"data row1 col1\" >60.4%</td>\n",
       "      <td id=\"T_6ecac_row1_col2\" class=\"data row1 col2\" >74.6%</td>\n",
       "      <td id=\"T_6ecac_row1_col3\" class=\"data row1 col3\" >66.0%</td>\n",
       "      <td id=\"T_6ecac_row1_col4\" class=\"data row1 col4\" >45.0%</td>\n",
       "    </tr>\n",
       "    <tr>\n",
       "      <th id=\"T_6ecac_level0_row2\" class=\"row_heading level0 row2\" >0.020000</th>\n",
       "      <td id=\"T_6ecac_row2_col0\" class=\"data row2 col0\" >65.8%</td>\n",
       "      <td id=\"T_6ecac_row2_col1\" class=\"data row2 col1\" >59.8%</td>\n",
       "      <td id=\"T_6ecac_row2_col2\" class=\"data row2 col2\" >74.2%</td>\n",
       "      <td id=\"T_6ecac_row2_col3\" class=\"data row2 col3\" >65.6%</td>\n",
       "      <td id=\"T_6ecac_row2_col4\" class=\"data row2 col4\" >44.2%</td>\n",
       "    </tr>\n",
       "    <tr>\n",
       "      <th id=\"T_6ecac_level0_row3\" class=\"row_heading level0 row3\" >0.050000</th>\n",
       "      <td id=\"T_6ecac_row3_col0\" class=\"data row3 col0\" >64.4%</td>\n",
       "      <td id=\"T_6ecac_row3_col1\" class=\"data row3 col1\" >58.1%</td>\n",
       "      <td id=\"T_6ecac_row3_col2\" class=\"data row3 col2\" >73.2%</td>\n",
       "      <td id=\"T_6ecac_row3_col3\" class=\"data row3 col3\" >64.1%</td>\n",
       "      <td id=\"T_6ecac_row3_col4\" class=\"data row3 col4\" >42.0%</td>\n",
       "    </tr>\n",
       "    <tr>\n",
       "      <th id=\"T_6ecac_level0_row4\" class=\"row_heading level0 row4\" >0.100000</th>\n",
       "      <td id=\"T_6ecac_row4_col0\" class=\"data row4 col0\" >61.5%</td>\n",
       "      <td id=\"T_6ecac_row4_col1\" class=\"data row4 col1\" >54.8%</td>\n",
       "      <td id=\"T_6ecac_row4_col2\" class=\"data row4 col2\" >71.1%</td>\n",
       "      <td id=\"T_6ecac_row4_col3\" class=\"data row4 col3\" >61.1%</td>\n",
       "      <td id=\"T_6ecac_row4_col4\" class=\"data row4 col4\" >37.6%</td>\n",
       "    </tr>\n",
       "  </tbody>\n",
       "</table>\n"
      ],
      "text/plain": [
       "<pandas.io.formats.style.Styler at 0x7f6f71b29c10>"
      ]
     },
     "execution_count": 118,
     "metadata": {},
     "output_type": "execute_result"
    }
   ],
   "source": [
    "auc.sort_values('AP(info)', ascending=False).style.format('{:.1%}'.format)"
   ]
  },
  {
   "cell_type": "code",
   "execution_count": 119,
   "id": "20042c9c",
   "metadata": {},
   "outputs": [
    {
     "data": {
      "text/html": [
       "<style type=\"text/css\">\n",
       "</style>\n",
       "<table id=\"T_5c126\">\n",
       "  <thead>\n",
       "    <tr>\n",
       "      <th class=\"blank level0\" >&nbsp;</th>\n",
       "      <th id=\"T_5c126_level0_col0\" class=\"col_heading level0 col0\" colspan=\"3\">95</th>\n",
       "      <th id=\"T_5c126_level0_col3\" class=\"col_heading level0 col3\" colspan=\"3\">90</th>\n",
       "    </tr>\n",
       "    <tr>\n",
       "      <th class=\"blank level1\" >&nbsp;</th>\n",
       "      <th id=\"T_5c126_level1_col0\" class=\"col_heading level1 col0\" >depth_recall</th>\n",
       "      <th id=\"T_5c126_level1_col1\" class=\"col_heading level1 col1\" >info_recall</th>\n",
       "      <th id=\"T_5c126_level1_col2\" class=\"col_heading level1 col2\" >exact</th>\n",
       "      <th id=\"T_5c126_level1_col3\" class=\"col_heading level1 col3\" >depth_recall</th>\n",
       "      <th id=\"T_5c126_level1_col4\" class=\"col_heading level1 col4\" >info_recall</th>\n",
       "      <th id=\"T_5c126_level1_col5\" class=\"col_heading level1 col5\" >exact</th>\n",
       "    </tr>\n",
       "  </thead>\n",
       "  <tbody>\n",
       "    <tr>\n",
       "      <th id=\"T_5c126_level0_row0\" class=\"row_heading level0 row0\" >(0.0,)</th>\n",
       "      <td id=\"T_5c126_row0_col0\" class=\"data row0 col0\" >19.0%</td>\n",
       "      <td id=\"T_5c126_row0_col1\" class=\"data row0 col1\" >18.4%</td>\n",
       "      <td id=\"T_5c126_row0_col2\" class=\"data row0 col2\" >15.3%</td>\n",
       "      <td id=\"T_5c126_row0_col3\" class=\"data row0 col3\" >33.2%</td>\n",
       "      <td id=\"T_5c126_row0_col4\" class=\"data row0 col4\" >31.7%</td>\n",
       "      <td id=\"T_5c126_row0_col5\" class=\"data row0 col5\" >26.1%</td>\n",
       "    </tr>\n",
       "    <tr>\n",
       "      <th id=\"T_5c126_level0_row1\" class=\"row_heading level0 row1\" >(0.01,)</th>\n",
       "      <td id=\"T_5c126_row1_col0\" class=\"data row1 col0\" >17.2%</td>\n",
       "      <td id=\"T_5c126_row1_col1\" class=\"data row1 col1\" >16.6%</td>\n",
       "      <td id=\"T_5c126_row1_col2\" class=\"data row1 col2\" >13.4%</td>\n",
       "      <td id=\"T_5c126_row1_col3\" class=\"data row1 col3\" >31.3%</td>\n",
       "      <td id=\"T_5c126_row1_col4\" class=\"data row1 col4\" >29.8%</td>\n",
       "      <td id=\"T_5c126_row1_col5\" class=\"data row1 col5\" >23.7%</td>\n",
       "    </tr>\n",
       "    <tr>\n",
       "      <th id=\"T_5c126_level0_row2\" class=\"row_heading level0 row2\" >(0.02,)</th>\n",
       "      <td id=\"T_5c126_row2_col0\" class=\"data row2 col0\" >16.6%</td>\n",
       "      <td id=\"T_5c126_row2_col1\" class=\"data row2 col1\" >15.9%</td>\n",
       "      <td id=\"T_5c126_row2_col2\" class=\"data row2 col2\" >12.6%</td>\n",
       "      <td id=\"T_5c126_row2_col3\" class=\"data row2 col3\" >30.6%</td>\n",
       "      <td id=\"T_5c126_row2_col4\" class=\"data row2 col4\" >29.1%</td>\n",
       "      <td id=\"T_5c126_row2_col5\" class=\"data row2 col5\" >22.7%</td>\n",
       "    </tr>\n",
       "    <tr>\n",
       "      <th id=\"T_5c126_level0_row3\" class=\"row_heading level0 row3\" >(0.05,)</th>\n",
       "      <td id=\"T_5c126_row3_col0\" class=\"data row3 col0\" >15.2%</td>\n",
       "      <td id=\"T_5c126_row3_col1\" class=\"data row3 col1\" >14.4%</td>\n",
       "      <td id=\"T_5c126_row3_col2\" class=\"data row3 col2\" >10.7%</td>\n",
       "      <td id=\"T_5c126_row3_col3\" class=\"data row3 col3\" >28.1%</td>\n",
       "      <td id=\"T_5c126_row3_col4\" class=\"data row3 col4\" >26.5%</td>\n",
       "      <td id=\"T_5c126_row3_col5\" class=\"data row3 col5\" >19.7%</td>\n",
       "    </tr>\n",
       "    <tr>\n",
       "      <th id=\"T_5c126_level0_row4\" class=\"row_heading level0 row4\" >(0.1,)</th>\n",
       "      <td id=\"T_5c126_row4_col0\" class=\"data row4 col0\" >13.5%</td>\n",
       "      <td id=\"T_5c126_row4_col1\" class=\"data row4 col1\" >12.6%</td>\n",
       "      <td id=\"T_5c126_row4_col2\" class=\"data row4 col2\" >8.7%</td>\n",
       "      <td id=\"T_5c126_row4_col3\" class=\"data row4 col3\" >24.3%</td>\n",
       "      <td id=\"T_5c126_row4_col4\" class=\"data row4 col4\" >22.6%</td>\n",
       "      <td id=\"T_5c126_row4_col5\" class=\"data row4 col5\" >15.6%</td>\n",
       "    </tr>\n",
       "    <tr>\n",
       "      <th id=\"T_5c126_level0_row5\" class=\"row_heading level0 row5\" >nan</th>\n",
       "      <td id=\"T_5c126_row5_col0\" class=\"data row5 col0\" >17.7%</td>\n",
       "      <td id=\"T_5c126_row5_col1\" class=\"data row5 col1\" >17.1%</td>\n",
       "      <td id=\"T_5c126_row5_col2\" class=\"data row5 col2\" >14.0%</td>\n",
       "      <td id=\"T_5c126_row5_col3\" class=\"data row5 col3\" >31.8%</td>\n",
       "      <td id=\"T_5c126_row5_col4\" class=\"data row5 col4\" >30.4%</td>\n",
       "      <td id=\"T_5c126_row5_col5\" class=\"data row5 col5\" >24.6%</td>\n",
       "    </tr>\n",
       "  </tbody>\n",
       "</table>\n"
      ],
      "text/plain": [
       "<pandas.io.formats.style.Styler at 0x7f6f706d0d60>"
      ]
     },
     "execution_count": 119,
     "metadata": {},
     "output_type": "execute_result"
    }
   ],
   "source": [
    "INTERCEPTS = [\n",
    "    'depth_recall',\n",
    "    'info_recall',\n",
    "    'exact',\n",
    "]\n",
    "\n",
    "CORRECT = [95, 90]\n",
    "\n",
    "recalls = {\n",
    "    (c, y): {\n",
    "        name: metrics.pareto_intercept(\n",
    "            results[name]['pareto_metrics']['correct'],\n",
    "            results[name]['pareto_metrics'][y],\n",
    "            c / 100)\n",
    "        for name in results\n",
    "    } for c in CORRECT for y in INTERCEPTS\n",
    "}\n",
    "\n",
    "recalls = pd.DataFrame(recalls)\n",
    "recalls = recalls.set_index(recalls.index.map(experiment_hparams)).sort_index()\n",
    "recalls.style.format('{:.1%}'.format)"
   ]
  },
  {
   "cell_type": "code",
   "execution_count": 120,
   "id": "2bf939a2",
   "metadata": {},
   "outputs": [
    {
     "data": {
      "text/html": [
       "<style type=\"text/css\">\n",
       "</style>\n",
       "<table id=\"T_24446\">\n",
       "  <thead>\n",
       "    <tr>\n",
       "      <th class=\"blank level0\" >&nbsp;</th>\n",
       "      <th id=\"T_24446_level0_col0\" class=\"col_heading level0 col0\" colspan=\"3\">95</th>\n",
       "      <th id=\"T_24446_level0_col3\" class=\"col_heading level0 col3\" colspan=\"3\">90</th>\n",
       "    </tr>\n",
       "    <tr>\n",
       "      <th class=\"blank level1\" >&nbsp;</th>\n",
       "      <th id=\"T_24446_level1_col0\" class=\"col_heading level1 col0\" >depth_recall</th>\n",
       "      <th id=\"T_24446_level1_col1\" class=\"col_heading level1 col1\" >info_recall</th>\n",
       "      <th id=\"T_24446_level1_col2\" class=\"col_heading level1 col2\" >exact</th>\n",
       "      <th id=\"T_24446_level1_col3\" class=\"col_heading level1 col3\" >depth_recall</th>\n",
       "      <th id=\"T_24446_level1_col4\" class=\"col_heading level1 col4\" >info_recall</th>\n",
       "      <th id=\"T_24446_level1_col5\" class=\"col_heading level1 col5\" >exact</th>\n",
       "    </tr>\n",
       "  </thead>\n",
       "  <tbody>\n",
       "    <tr>\n",
       "      <th id=\"T_24446_level0_row0\" class=\"row_heading level0 row0\" >(0.0,)</th>\n",
       "      <td id=\"T_24446_row0_col0\" class=\"data row0 col0\" >19.0%</td>\n",
       "      <td id=\"T_24446_row0_col1\" class=\"data row0 col1\" >18.4%</td>\n",
       "      <td id=\"T_24446_row0_col2\" class=\"data row0 col2\" >15.3%</td>\n",
       "      <td id=\"T_24446_row0_col3\" class=\"data row0 col3\" >33.2%</td>\n",
       "      <td id=\"T_24446_row0_col4\" class=\"data row0 col4\" >31.7%</td>\n",
       "      <td id=\"T_24446_row0_col5\" class=\"data row0 col5\" >26.1%</td>\n",
       "    </tr>\n",
       "    <tr>\n",
       "      <th id=\"T_24446_level0_row1\" class=\"row_heading level0 row1\" >nan</th>\n",
       "      <td id=\"T_24446_row1_col0\" class=\"data row1 col0\" >17.7%</td>\n",
       "      <td id=\"T_24446_row1_col1\" class=\"data row1 col1\" >17.1%</td>\n",
       "      <td id=\"T_24446_row1_col2\" class=\"data row1 col2\" >14.0%</td>\n",
       "      <td id=\"T_24446_row1_col3\" class=\"data row1 col3\" >31.8%</td>\n",
       "      <td id=\"T_24446_row1_col4\" class=\"data row1 col4\" >30.4%</td>\n",
       "      <td id=\"T_24446_row1_col5\" class=\"data row1 col5\" >24.6%</td>\n",
       "    </tr>\n",
       "    <tr>\n",
       "      <th id=\"T_24446_level0_row2\" class=\"row_heading level0 row2\" >(0.01,)</th>\n",
       "      <td id=\"T_24446_row2_col0\" class=\"data row2 col0\" >17.2%</td>\n",
       "      <td id=\"T_24446_row2_col1\" class=\"data row2 col1\" >16.6%</td>\n",
       "      <td id=\"T_24446_row2_col2\" class=\"data row2 col2\" >13.4%</td>\n",
       "      <td id=\"T_24446_row2_col3\" class=\"data row2 col3\" >31.3%</td>\n",
       "      <td id=\"T_24446_row2_col4\" class=\"data row2 col4\" >29.8%</td>\n",
       "      <td id=\"T_24446_row2_col5\" class=\"data row2 col5\" >23.7%</td>\n",
       "    </tr>\n",
       "    <tr>\n",
       "      <th id=\"T_24446_level0_row3\" class=\"row_heading level0 row3\" >(0.02,)</th>\n",
       "      <td id=\"T_24446_row3_col0\" class=\"data row3 col0\" >16.6%</td>\n",
       "      <td id=\"T_24446_row3_col1\" class=\"data row3 col1\" >15.9%</td>\n",
       "      <td id=\"T_24446_row3_col2\" class=\"data row3 col2\" >12.6%</td>\n",
       "      <td id=\"T_24446_row3_col3\" class=\"data row3 col3\" >30.6%</td>\n",
       "      <td id=\"T_24446_row3_col4\" class=\"data row3 col4\" >29.1%</td>\n",
       "      <td id=\"T_24446_row3_col5\" class=\"data row3 col5\" >22.7%</td>\n",
       "    </tr>\n",
       "    <tr>\n",
       "      <th id=\"T_24446_level0_row4\" class=\"row_heading level0 row4\" >(0.05,)</th>\n",
       "      <td id=\"T_24446_row4_col0\" class=\"data row4 col0\" >15.2%</td>\n",
       "      <td id=\"T_24446_row4_col1\" class=\"data row4 col1\" >14.4%</td>\n",
       "      <td id=\"T_24446_row4_col2\" class=\"data row4 col2\" >10.7%</td>\n",
       "      <td id=\"T_24446_row4_col3\" class=\"data row4 col3\" >28.1%</td>\n",
       "      <td id=\"T_24446_row4_col4\" class=\"data row4 col4\" >26.5%</td>\n",
       "      <td id=\"T_24446_row4_col5\" class=\"data row4 col5\" >19.7%</td>\n",
       "    </tr>\n",
       "    <tr>\n",
       "      <th id=\"T_24446_level0_row5\" class=\"row_heading level0 row5\" >(0.1,)</th>\n",
       "      <td id=\"T_24446_row5_col0\" class=\"data row5 col0\" >13.5%</td>\n",
       "      <td id=\"T_24446_row5_col1\" class=\"data row5 col1\" >12.6%</td>\n",
       "      <td id=\"T_24446_row5_col2\" class=\"data row5 col2\" >8.7%</td>\n",
       "      <td id=\"T_24446_row5_col3\" class=\"data row5 col3\" >24.3%</td>\n",
       "      <td id=\"T_24446_row5_col4\" class=\"data row5 col4\" >22.6%</td>\n",
       "      <td id=\"T_24446_row5_col5\" class=\"data row5 col5\" >15.6%</td>\n",
       "    </tr>\n",
       "  </tbody>\n",
       "</table>\n"
      ],
      "text/plain": [
       "<pandas.io.formats.style.Styler at 0x7f6f6e639520>"
      ]
     },
     "execution_count": 120,
     "metadata": {},
     "output_type": "execute_result"
    }
   ],
   "source": [
    "recalls.sort_values((90, 'info_recall'), ascending=False).style.format('{:.1%}'.format)"
   ]
  },
  {
   "cell_type": "code",
   "execution_count": 121,
   "id": "19078a68",
   "metadata": {},
   "outputs": [],
   "source": [
    "def plot_metrics(x, y, tickres=None, is_pr=True, save=False):\n",
    "    plt.figure(figsize=(5, 4))\n",
    "    for hparams, name in hparams_to_key.items():\n",
    "        pred_metrics = results[name]['pred_metrics']\n",
    "        pareto_scores = results[name]['pareto_scores']\n",
    "        pareto_metrics = results[name]['pareto_metrics']\n",
    "        ge = np.concatenate(([True], pareto_scores >= 0.5))\n",
    "        le = np.concatenate(([False], pareto_scores <= 0.5))\n",
    "        plt.plot(pareto_metrics[x][ge], pareto_metrics[y][ge],\n",
    "                 color=colors[hparams], label=', '.join(map(str, hparams)))\n",
    "        plt.plot(pareto_metrics[x][le], pareto_metrics[y][le],\n",
    "                 color=colors[hparams], linestyle='--')\n",
    "        for method in ['leaf', 'majority']:  # pred_metrics.items():\n",
    "            plt.plot(pred_metrics[method][x], pred_metrics[method][y],\n",
    "                     color=colors[hparams], marker=markers[method],\n",
    "                     markerfacecolor='none')\n",
    "\n",
    "    ax = plt.gca()\n",
    "    if is_pr:\n",
    "        plt.xlim(left=0)\n",
    "        plt.ylim(top=1)\n",
    "        # plt.ylim(np.clip(plt.ylim(), 0, 1))\n",
    "        # plt.xlim(np.clip(plt.xlim(), 0, 1))\n",
    "    if tickres:\n",
    "        ax.xaxis.set_major_locator(ticker.MultipleLocator(tickres))\n",
    "        ax.yaxis.set_major_locator(ticker.MultipleLocator(tickres))\n",
    "    # plt.axis('equal')\n",
    "    # plt.gca().set_aspect(1)\n",
    "    plt.grid()\n",
    "    plt.xlabel(metric_titles.get(x, x))\n",
    "    plt.ylabel(metric_titles.get(y, y))\n",
    "    plt.legend()\n",
    "\n",
    "    if save:\n",
    "        pathlib.Path(PLOT_DIR).mkdir(parents=True, exist_ok=True)\n",
    "        plt.savefig(pathlib.Path(PLOT_DIR) / f'{x}-{y}.pdf')"
   ]
  },
  {
   "cell_type": "code",
   "execution_count": 122,
   "id": "295e6cba",
   "metadata": {},
   "outputs": [
    {
     "data": {
      "image/png": "[encoded data removed]",
      "text/plain": [
       "<Figure size 360x288 with 1 Axes>"
      ]
     },
     "metadata": {
      "needs_background": "light"
     },
     "output_type": "display_data"
    }
   ],
   "source": [
    "plot_metrics('exact', 'correct', save=True)"
   ]
  },
  {
   "cell_type": "code",
   "execution_count": 123,
   "id": "7917e2b6",
   "metadata": {},
   "outputs": [
    {
     "data": {
      "image/png": "[encoded data removed]",
      "text/plain": [
       "<Figure size 360x288 with 1 Axes>"
      ]
     },
     "metadata": {
      "needs_background": "light"
     },
     "output_type": "display_data"
    }
   ],
   "source": [
    "plot_metrics('info_recall', 'correct', save=True)"
   ]
  },
  {
   "cell_type": "code",
   "execution_count": 124,
   "id": "4cbf2628",
   "metadata": {},
   "outputs": [
    {
     "data": {
      "image/png": "[encoded data removed]",
      "text/plain": [
       "<Figure size 360x288 with 1 Axes>"
      ]
     },
     "metadata": {
      "needs_background": "light"
     },
     "output_type": "display_data"
    }
   ],
   "source": [
    "plot_metrics('info_recall', 'info_precision', save=True)"
   ]
  },
  {
   "cell_type": "code",
   "execution_count": 125,
   "id": "3de93848",
   "metadata": {},
   "outputs": [
    {
     "data": {
      "image/png": "[encoded data removed]",
      "text/plain": [
       "<Figure size 360x288 with 1 Axes>"
      ]
     },
     "metadata": {
      "needs_background": "light"
     },
     "output_type": "display_data"
    }
   ],
   "source": [
    "plot_metrics('depth_recall', 'correct', save=True)"
   ]
  },
  {
   "cell_type": "code",
   "execution_count": 126,
   "id": "c187ce11",
   "metadata": {},
   "outputs": [
    {
     "data": {
      "image/png": "[encoded data removed]",
      "text/plain": [
       "<Figure size 360x288 with 1 Axes>"
      ]
     },
     "metadata": {
      "needs_background": "light"
     },
     "output_type": "display_data"
    }
   ],
   "source": [
    "plot_metrics('depth_recall', 'depth_precision', save=True)"
   ]
  },
  {
   "cell_type": "code",
   "execution_count": null,
   "id": "7defbd73",
   "metadata": {},
   "outputs": [],
   "source": []
  }
 ],
 "metadata": {
  "kernelspec": {
   "display_name": "Python 3 (ipykernel)",
   "language": "python",
   "name": "python3"
  },
  "language_info": {
   "codemirror_mode": {
    "name": "ipython",
    "version": 3
   },
   "file_extension": ".py",
   "mimetype": "text/x-python",
   "name": "python",
   "nbconvert_exporter": "python",
   "pygments_lexer": "ipython3",
   "version": "3.8.10"
  }
 },
 "nbformat": 4,
 "nbformat_minor": 5
}
