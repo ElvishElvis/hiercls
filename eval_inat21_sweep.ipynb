{
 "cells": [
  {
   "cell_type": "code",
   "execution_count": 1,
   "id": "b16a5cf4",
   "metadata": {},
   "outputs": [],
   "source": [
    "import collections\n",
    "import itertools\n",
    "import json\n",
    "import pathlib\n",
    "\n",
    "import matplotlib\n",
    "from matplotlib import pyplot as plt\n",
    "from matplotlib import ticker\n",
    "import ml_collections\n",
    "import numpy as np\n",
    "import pandas as pd\n",
    "import torch\n",
    "\n",
    "import hier\n",
    "import hier_torch\n",
    "import infer\n",
    "import main\n",
    "import metrics\n",
    "import progmet\n",
    "import tree_util"
   ]
  },
  {
   "cell_type": "code",
   "execution_count": 2,
   "id": "2602504e",
   "metadata": {},
   "outputs": [],
   "source": [
    "Trial = collections.namedtuple('Trial', ['root', 'config_file', 'model_file'])"
   ]
  },
  {
   "cell_type": "code",
   "execution_count": 167,
   "id": "de4e169b",
   "metadata": {},
   "outputs": [],
   "source": [
    "# # Flat softmax with label smoothing.\n",
    "# PLOT_DIR = 'output/plots/sweep_label_smoothing'\n",
    "# EXP_DIR = pathlib.Path('/mnt/ssd1/projects/2022-01-hierarchical/experiments/2022-03-31-inat21mini')\n",
    "# EXPERIMENT_PATTERNS = [\n",
    "#     'flat_softmax-lr-0.01-b-64-wd-0.0003-ep-20',\n",
    "#     'flat_softmax-ls-*-lr-0.01-b-64-wd-0.0003-ep-20',\n",
    "# ]\n",
    "# config_to_hparams = lambda c: (c.train.label_smoothing,)\n",
    "# predicate = lambda ls: ls < 0.6\n",
    "\n",
    "\n",
    "# # Multilabel focal loss.\n",
    "# PLOT_DIR = 'output/plots/sweep_multilabel_focal'\n",
    "# EXP_DIR = pathlib.Path('/mnt/ssd1/projects/2022-01-hierarchical/experiments')\n",
    "# EXPERIMENT_PATTERNS = [\n",
    "#     '2022-03-31-inat21mini-dgx/multilabel_focal-*-*-lr-0.01-b-64-wd-0.0003-ep-20',\n",
    "#     '2022-03-31-inat21mini/multilabel_focal-0.*-0-lr-0.01-b-64-wd-0.0003-ep-20',\n",
    "#     # '2022-03-31-inat21mini/multilabel_focal-none-*-0-lr-0.01-b-64-wd-0.0003-ep-20',\n",
    "# ]\n",
    "# config_to_hparams = lambda c: (c.train.focal_gamma, c.train.focal_alpha)\n",
    "# predicate = lambda gamma, alpha: alpha >= 0.4  # and gamma > 0\n",
    "\n",
    "\n",
    "# Multilabel focal loss (alpha = 0.9).\n",
    "PLOT_DIR = 'output/plots/sweep_multilabel_focal_alpha_0.9'\n",
    "EXP_DIR = pathlib.Path('/mnt/ssd1/projects/2022-01-hierarchical/experiments')\n",
    "EXPERIMENT_PATTERNS = [\n",
    "    '2022-03-31-inat21mini-dgx/multilabel_focal-*-*-lr-0.01-b-64-wd-0.0003-ep-20',\n",
    "    '2022-03-31-inat21mini/multilabel_focal-0.*-0-lr-0.01-b-64-wd-0.0003-ep-20',\n",
    "    # '2022-03-31-inat21mini/multilabel_focal-none-*-0-lr-0.01-b-64-wd-0.0003-ep-20',\n",
    "]\n",
    "config_to_hparams = lambda c: (c.train.focal_gamma, c.train.focal_alpha)\n",
    "predicate = lambda gamma, alpha: round(alpha * 100) == 90\n",
    "\n",
    "\n",
    "# # Multilabel focal loss (gamma = 1).\n",
    "# PLOT_DIR = 'output/plots/sweep_multilabel_focal_gamma_1'\n",
    "# EXP_DIR = pathlib.Path('/mnt/ssd1/projects/2022-01-hierarchical/experiments')\n",
    "# EXPERIMENT_PATTERNS = [\n",
    "#     '2022-03-31-inat21mini-dgx/multilabel_focal-*-*-lr-0.01-b-64-wd-0.0003-ep-20',\n",
    "#     '2022-03-31-inat21mini/multilabel_focal-0.*-0-lr-0.01-b-64-wd-0.0003-ep-20',\n",
    "#     # '2022-03-31-inat21mini/multilabel_focal-none-*-0-lr-0.01-b-64-wd-0.0003-ep-20',\n",
    "# ]\n",
    "# config_to_hparams = lambda c: (c.train.focal_gamma, c.train.focal_alpha)\n",
    "# predicate = lambda gamma, alpha: gamma == 1\n",
    "\n",
    "\n",
    "# # Multilabel focal loss, including `loss_weighting`.\n",
    "# PLOT_DIR = 'output/plots/sweep_multilabel_focal_weighting'\n",
    "# EXP_DIR = pathlib.Path('/mnt/ssd1/projects/2022-01-hierarchical/experiments')\n",
    "# EXPERIMENT_PATTERNS = [\n",
    "#     '2022-03-31-inat21mini-dgx/multilabel_focal-*-*-lr-0.01-b-64-wd-0.0003-ep-20',\n",
    "#     '2022-03-31-inat21mini/multilabel_focal-inv_sqrt-*-*-lr-0.01-b-64-wd-0.0003-ep-20',\n",
    "# ]\n",
    "# config_to_hparams = lambda c: (c.train.focal_gamma, c.train.focal_alpha, c.train.loss_weighting)\n",
    "# predicate = lambda gamma, alpha, loss_weighting: True\n",
    "\n",
    "\n",
    "# # Bertinetto HXE loss.\n",
    "# PLOT_DIR = 'output/plots/sweep_hxe'\n",
    "# EXP_DIR = pathlib.Path('/mnt/ssd1/projects/2022-01-hierarchical/experiments')\n",
    "# EXPERIMENT_PATTERNS = [\n",
    "#     '2022-03-31-inat21mini/flat_softmax-lr-0.01-b-64-wd-0.0003-ep-20',\n",
    "#     # '2022-03-31-inat21mini/flat_bertinetto-*-lr-0.01-b-64-wd-0.0003-ep-20',\n",
    "#     '2022-05-12-hxe-sweep/flat_bertinetto-*-lr-0.01-b-64-wd-0.0003-ep-20',\n",
    "# ]\n",
    "# config_to_hparams = lambda c: (c.train.hxe_alpha,)\n",
    "# predicate = lambda alpha: True\n",
    "\n",
    "\n",
    "# # Deep RTC (cut prob).\n",
    "# PLOT_DIR = 'output/plots/sweep_deep_rtc'\n",
    "# EXP_DIR = pathlib.Path('/mnt/ssd1/projects/2022-01-hierarchical/experiments/2022-03-31-inat21mini')\n",
    "# EXPERIMENT_PATTERNS = [\n",
    "#     'share_random_cut-0.01-lr-0.01-b-64-wd-0.0003-ep-20',\n",
    "#     'share_random_cut-0.02-lr-0.01-b-64-wd-0.0003-ep-20',\n",
    "#     'share_random_cut-0.05-lr-0.01-b-64-wd-0.0003-ep-20',\n",
    "#     'share_random_cut-0.1-lr-0.01-b-64-wd-0.0003-ep-20',\n",
    "#     'share_random_cut-0-lr-0.01-b-64-wd-0.0003-ep-20',\n",
    "# ]\n",
    "# config_to_hparams = lambda c: (c.train.random_cut_prob,)\n",
    "# predicate = lambda alpha: True\n",
    "\n",
    "\n",
    "# # Margin (scale).\n",
    "# PLOT_DIR = 'output/plots/sweep_soft_margin'\n",
    "# EXP_DIR = pathlib.Path('/mnt/ssd1/projects/2022-01-hierarchical/experiments/2022-03-31-inat21mini')\n",
    "# EXPERIMENT_PATTERNS = [\n",
    "#     'soft_margin-incorrect-*lr-0.01-b-64-wd-0.0003-ep-20',\n",
    "# ]\n",
    "# config_to_hparams = lambda c: (c.train.margin_tau,)\n",
    "# predicate = lambda tau: True"
   ]
  },
  {
   "cell_type": "code",
   "execution_count": 168,
   "id": "05c68418",
   "metadata": {},
   "outputs": [],
   "source": [
    "def update_config(config):\n",
    "    if not hasattr(config.train, 'loss_weighting'):\n",
    "        setattr(config.train, 'loss_weighting', 'none')\n",
    "    if not hasattr(config.train, 'margin_tau'):\n",
    "        setattr(config.train, 'margin_tau', 1.0)\n",
    "    return config  # For convenience."
   ]
  },
  {
   "cell_type": "code",
   "execution_count": 169,
   "id": "751b344b",
   "metadata": {},
   "outputs": [
    {
     "data": {
      "text/plain": [
       "['multilabel_focal-0.5-0-lr-0.01-b-64-wd-0.0003-ep-20',\n",
       " 'multilabel_focal-0.9-0-lr-0.01-b-64-wd-0.0003-ep-20',\n",
       " 'multilabel_focal-0.5-1-lr-0.01-b-64-wd-0.0003-ep-20',\n",
       " 'multilabel_focal-0.5-2-lr-0.01-b-64-wd-0.0003-ep-20',\n",
       " 'multilabel_focal-0.8-0-lr-0.01-b-64-wd-0.0003-ep-20',\n",
       " 'multilabel_focal-0.8-1-lr-0.01-b-64-wd-0.0003-ep-20',\n",
       " 'multilabel_focal-0.8-2-lr-0.01-b-64-wd-0.0003-ep-20',\n",
       " 'multilabel_focal-0.9-1-lr-0.01-b-64-wd-0.0003-ep-20',\n",
       " 'multilabel_focal-0.9-2-lr-0.01-b-64-wd-0.0003-ep-20',\n",
       " 'multilabel_focal-0.95-0-lr-0.01-b-64-wd-0.0003-ep-20',\n",
       " 'multilabel_focal-0.95-1-lr-0.01-b-64-wd-0.0003-ep-20',\n",
       " 'multilabel_focal-0.95-2-lr-0.01-b-64-wd-0.0003-ep-20']"
      ]
     },
     "execution_count": 169,
     "metadata": {},
     "output_type": "execute_result"
    }
   ],
   "source": [
    "experiments = {\n",
    "    path.name: Trial(\n",
    "        root=path,\n",
    "        config_file=path / 'config.json',\n",
    "        model_file=path / 'checkpoints/epoch-0020.pth')\n",
    "    for path in sorted(itertools.chain.from_iterable(\n",
    "        pathlib.Path(EXP_DIR).glob(pattern) for pattern in EXPERIMENT_PATTERNS))\n",
    "    if (path / 'checkpoints/epoch-0020.pth').exists()\n",
    "}\n",
    "list(experiments)"
   ]
  },
  {
   "cell_type": "code",
   "execution_count": 170,
   "id": "fdca2bb7",
   "metadata": {},
   "outputs": [
    {
     "data": {
      "text/plain": [
       "{'multilabel_focal-0.5-0-lr-0.01-b-64-wd-0.0003-ep-20': (2.0, 0.25),\n",
       " 'multilabel_focal-0.9-0-lr-0.01-b-64-wd-0.0003-ep-20': (0.0, 0.9),\n",
       " 'multilabel_focal-0.5-1-lr-0.01-b-64-wd-0.0003-ep-20': (1.0, 0.5),\n",
       " 'multilabel_focal-0.5-2-lr-0.01-b-64-wd-0.0003-ep-20': (2.0, 0.5),\n",
       " 'multilabel_focal-0.8-0-lr-0.01-b-64-wd-0.0003-ep-20': (0.0, 0.8),\n",
       " 'multilabel_focal-0.8-1-lr-0.01-b-64-wd-0.0003-ep-20': (1.0, 0.8),\n",
       " 'multilabel_focal-0.8-2-lr-0.01-b-64-wd-0.0003-ep-20': (2.0, 0.8),\n",
       " 'multilabel_focal-0.9-1-lr-0.01-b-64-wd-0.0003-ep-20': (1.0, 0.9),\n",
       " 'multilabel_focal-0.9-2-lr-0.01-b-64-wd-0.0003-ep-20': (2.0, 0.9),\n",
       " 'multilabel_focal-0.95-0-lr-0.01-b-64-wd-0.0003-ep-20': (0.0, 0.95),\n",
       " 'multilabel_focal-0.95-1-lr-0.01-b-64-wd-0.0003-ep-20': (1.0, 0.95),\n",
       " 'multilabel_focal-0.95-2-lr-0.01-b-64-wd-0.0003-ep-20': (2.0, 0.95)}"
      ]
     },
     "execution_count": 170,
     "metadata": {},
     "output_type": "execute_result"
    }
   ],
   "source": [
    "# Get params from JSON file not filename (less prone to human error).\n",
    "\n",
    "configs = {}\n",
    "for k, experiment in experiments.items():\n",
    "    with open(experiment.config_file) as f:\n",
    "        configs[k] = update_config(ml_collections.ConfigDict(json.load(f)))\n",
    "\n",
    "experiment_hparams = {k: config_to_hparams(c) for k, c in configs.items()}\n",
    "experiment_hparams"
   ]
  },
  {
   "cell_type": "code",
   "execution_count": 171,
   "id": "3be67576",
   "metadata": {},
   "outputs": [
    {
     "data": {
      "text/plain": [
       "{'multilabel_focal-0.9-0-lr-0.01-b-64-wd-0.0003-ep-20': (0.0, 0.9),\n",
       " 'multilabel_focal-0.9-1-lr-0.01-b-64-wd-0.0003-ep-20': (1.0, 0.9),\n",
       " 'multilabel_focal-0.9-2-lr-0.01-b-64-wd-0.0003-ep-20': (2.0, 0.9)}"
      ]
     },
     "execution_count": 171,
     "metadata": {},
     "output_type": "execute_result"
    }
   ],
   "source": [
    "# Filter using predicate.\n",
    "\n",
    "experiment_hparams = {k: hparams for k, hparams in experiment_hparams.items() if predicate(*hparams)}\n",
    "experiments = {k: experiments[k] for k in experiment_hparams}\n",
    "experiment_hparams"
   ]
  },
  {
   "cell_type": "code",
   "execution_count": 172,
   "id": "05ed6032",
   "metadata": {},
   "outputs": [
    {
     "data": {
      "text/plain": [
       "{(0.0, 0.9): 'multilabel_focal-0.9-0-lr-0.01-b-64-wd-0.0003-ep-20',\n",
       " (1.0, 0.9): 'multilabel_focal-0.9-1-lr-0.01-b-64-wd-0.0003-ep-20',\n",
       " (2.0, 0.9): 'multilabel_focal-0.9-2-lr-0.01-b-64-wd-0.0003-ep-20'}"
      ]
     },
     "execution_count": 172,
     "metadata": {},
     "output_type": "execute_result"
    }
   ],
   "source": [
    "# Arrange by key, ensure unique.\n",
    "\n",
    "hparams_to_key = dict(sorted((v, k) for k, v in experiment_hparams.items()))\n",
    "assert len(hparams_to_key) == len(experiment_hparams), 'hparams not unique'\n",
    "\n",
    "colors = dict(zip(\n",
    "    hparams_to_key,\n",
    "    map(matplotlib.cm.get_cmap('tab10'), itertools.count())))\n",
    "\n",
    "hparams_to_key"
   ]
  },
  {
   "cell_type": "code",
   "execution_count": 173,
   "id": "abbf1105",
   "metadata": {},
   "outputs": [],
   "source": [
    "device = torch.device('cuda')"
   ]
  },
  {
   "cell_type": "code",
   "execution_count": 174,
   "id": "06047af2",
   "metadata": {},
   "outputs": [],
   "source": [
    "import configs.inaturalist2021mini\n",
    "\n",
    "base_config = configs.inaturalist2021mini.get_config()\n",
    "base_config.dataset_root = '/home/jack/data/manual/inaturalist2021/'\n",
    "\n",
    "_, eval_dataset, tree, _, _, eval_label_map = main.make_datasets(base_config)\n",
    "\n",
    "eval_loader = torch.utils.data.DataLoader(\n",
    "    dataset=eval_dataset,\n",
    "    batch_size=64,\n",
    "    shuffle=False,\n",
    "    num_workers=2)"
   ]
  },
  {
   "cell_type": "code",
   "execution_count": 175,
   "id": "562d30aa",
   "metadata": {},
   "outputs": [],
   "source": [
    "is_leaf = tree.leaf_mask()\n",
    "specificity = -tree.num_leaf_descendants()\n",
    "not_trivial = (tree.num_children() != 1)\n",
    "subtract_children_fn = hier_torch.SubtractChildren(tree)"
   ]
  },
  {
   "cell_type": "code",
   "execution_count": 176,
   "id": "40150867",
   "metadata": {},
   "outputs": [],
   "source": [
    "infer_fns = {\n",
    "    'leaf': lambda p: infer.argmax_where(p, is_leaf),\n",
    "    'majority': lambda p: infer.argmax_with_confidence(specificity, p, 0.5, not_trivial),\n",
    "    # 'exclusive': lambda p: np.argmax(subtract_children_fn(torch.from_numpy(p)).numpy(), axis=-1),\n",
    "}\n",
    "\n",
    "markers = {\n",
    "    'leaf': 'o',\n",
    "    'majority': '^',\n",
    "    # 'exclusive': 'd',\n",
    "}"
   ]
  },
  {
   "cell_type": "code",
   "execution_count": 177,
   "id": "8f9f0657",
   "metadata": {},
   "outputs": [],
   "source": [
    "info_metric = metrics.UniformLeafInfoMetric(tree)\n",
    "depth_metric = metrics.DepthMetric(tree)\n",
    "\n",
    "metric_fns = {\n",
    "    'exact': lambda gt, pr: pr == gt,\n",
    "    'correct': metrics.IsCorrect(tree),\n",
    "    'info_excess': info_metric.excess,\n",
    "    'info_deficient': info_metric.deficient,\n",
    "    'info_dist': info_metric.dist,\n",
    "    'info_recall': info_metric.recall,\n",
    "    'info_precision': info_metric.precision,\n",
    "    'depth_excess': depth_metric.excess,\n",
    "    'depth_deficient': depth_metric.deficient,\n",
    "    'depth_dist': depth_metric.dist,\n",
    "    'depth_recall': depth_metric.recall,\n",
    "    'depth_precision': depth_metric.precision,\n",
    "}\n",
    "\n",
    "metric_titles = {\n",
    "    'exact': 'Exact',\n",
    "    'correct': 'Correct',\n",
    "    'info_recall': 'Information Recall',\n",
    "    'info_precision': 'Information Precision',\n",
    "    'depth_recall': 'Depth Recall',\n",
    "    'depth_precision': 'Depth Precision',\n",
    "    'info_lca': 'LCA Information',\n",
    "    'depth_lca': 'LCA Depth',\n",
    "}"
   ]
  },
  {
   "cell_type": "code",
   "execution_count": 178,
   "id": "321bfc2b",
   "metadata": {},
   "outputs": [],
   "source": [
    "def apply_model(net, pred_fn, min_threshold, limit=None, temperature=None):\n",
    "    # Per-example predictions.\n",
    "\n",
    "    outputs = {\n",
    "        'gt': [],  # Node in hierarchy.\n",
    "        'pred': {method: [] for method in infer_fns},\n",
    "    }\n",
    "    # Sequence-per-example predictions. Cannot be concatenated due to ragged shape.\n",
    "    seq_outputs = {\n",
    "        'pred': [],\n",
    "        'prob': [],\n",
    "    }\n",
    "\n",
    "    net.eval()\n",
    "    with torch.inference_mode():\n",
    "        meter = progmet.ProgressMeter('apply', interval_time=5)\n",
    "        for minibatch in itertools.islice(meter(eval_loader), limit):\n",
    "            inputs, gt_labels = minibatch\n",
    "            theta = net(inputs.to(device))\n",
    "            if temperature:\n",
    "                theta = theta / temperature\n",
    "            prob = pred_fn(theta).cpu().numpy()\n",
    "            pred = {}\n",
    "            for name, infer_fn in infer_fns.items():\n",
    "                pred[name] = infer_fn(prob)\n",
    "            gt_node = eval_label_map.to_node[gt_labels]\n",
    "            pred_seqs = [\n",
    "                infer.pareto_optimal_predictions(specificity, p, min_threshold, not_trivial)\n",
    "                for p in prob\n",
    "            ]\n",
    "            prob_seqs = [prob[i, pred_i] for i, pred_i in enumerate(pred_seqs)]\n",
    "            # Caution: Predictions are *not* truncated.\n",
    "\n",
    "            outputs['gt'].append(gt_node)\n",
    "            for method in infer_fns:\n",
    "                outputs['pred'][method].append(pred[method])\n",
    "            seq_outputs['pred'].extend(pred_seqs)\n",
    "            seq_outputs['prob'].extend(prob_seqs)\n",
    "\n",
    "    # Concatenate results from minibatches.\n",
    "    leaf_predicate = lambda x: not isinstance(x, dict)  # Treat lists as values, not containers.\n",
    "    outputs = tree_util.tree_map(np.concatenate, outputs, is_leaf=leaf_predicate)\n",
    "\n",
    "    return outputs, seq_outputs"
   ]
  },
  {
   "cell_type": "code",
   "execution_count": 179,
   "id": "c6303cc3",
   "metadata": {},
   "outputs": [],
   "source": [
    "def assess_predictions(outputs, seq_outputs):\n",
    "    gt = outputs['gt']\n",
    "    pred = outputs['pred']\n",
    "    pred_seq = seq_outputs['pred']\n",
    "    prob_seq = seq_outputs['prob']\n",
    "\n",
    "    # Evaluate predictions for each method.\n",
    "    pred = {\n",
    "        method: hier.truncate_at_lca(tree, gt, pr)\n",
    "        for method, pr in pred.items()\n",
    "    }\n",
    "    pred_metrics = {\n",
    "        method: {field: np.mean(metric_fn(gt, pr))\n",
    "                 for field, metric_fn in metric_fns.items()}\n",
    "        for method, pr in pred.items()\n",
    "    }\n",
    "\n",
    "    # Evaluate predictions in Pareto sequence.\n",
    "    find_lca = hier.FindLCA(tree)\n",
    "    specificity_seq = [specificity[pr_i] for pr_i in pred_seq]\n",
    "    pred_seq = [hier.truncate_given_lca(gt_i, pr_i, find_lca(gt_i, pr_i)) for gt_i, pr_i in zip(gt, pred_seq)]\n",
    "    metric_values_seq = {\n",
    "        field: [metric_fn(gt_i, pr_i) for gt_i, pr_i in zip(gt, pred_seq)]\n",
    "        for field, metric_fn in metric_fns.items()\n",
    "    }\n",
    "    pareto_scores, pareto_totals = metrics.operating_curve(prob_seq, metric_values_seq)\n",
    "    pareto_means = {k: v / len(gt) for k, v in pareto_totals.items()}\n",
    "\n",
    "    return pred_metrics, pareto_scores, pareto_means"
   ]
  },
  {
   "cell_type": "code",
   "execution_count": 180,
   "id": "73aec057",
   "metadata": {},
   "outputs": [],
   "source": [
    "def resample_threshold(scores, metric, x):\n",
    "    return metric[np.searchsorted(-scores, -x)]"
   ]
  },
  {
   "cell_type": "code",
   "execution_count": 181,
   "id": "36931a44",
   "metadata": {},
   "outputs": [],
   "source": [
    "# Initialize results if not defined.\n",
    "try:\n",
    "    results\n",
    "except NameError:\n",
    "    results = {}  # Not defined."
   ]
  },
  {
   "cell_type": "code",
   "execution_count": 182,
   "id": "5951431b",
   "metadata": {
    "scrolled": false
   },
   "outputs": [
    {
     "name": "stdout",
     "output_type": "stream",
     "text": [
      "cached: multilabel_focal-0.9-0-lr-0.01-b-64-wd-0.0003-ep-20\n",
      "cached: multilabel_focal-0.9-1-lr-0.01-b-64-wd-0.0003-ep-20\n",
      "cached: multilabel_focal-0.9-2-lr-0.01-b-64-wd-0.0003-ep-20\n"
     ]
    }
   ],
   "source": [
    "MIN_THRESHOLD = None  # Values less than 0.5 may increase runtime significantly.\n",
    "LIMIT = None\n",
    "TEMPERATURE = None\n",
    "\n",
    "score_grid = np.flip(np.linspace(0, 1, 10001))\n",
    "\n",
    "for name, experiment in experiments.items():\n",
    "    if name in results:\n",
    "        print('cached:', name)\n",
    "        continue\n",
    "\n",
    "    # Load model.\n",
    "    with open(experiment.config_file, 'r') as f:\n",
    "        config = update_config(ml_collections.ConfigDict(json.load(f)))\n",
    "    num_outputs = main.get_num_outputs(config.predict, tree)\n",
    "    net = main.make_model(config.model, num_outputs)\n",
    "    missing_keys, unexpected_keys = net.load_state_dict(torch.load(experiment.model_file), strict=True)\n",
    "    assert not missing_keys\n",
    "    assert not unexpected_keys\n",
    "\n",
    "    net.to(device)\n",
    "    _, pred_fn = main.make_loss(config, tree, device)\n",
    "    outputs, seq_outputs = apply_model(\n",
    "        net, pred_fn, min_threshold=MIN_THRESHOLD, limit=LIMIT, temperature=TEMPERATURE)\n",
    "    pred_metrics, pareto_scores, pareto_metrics = assess_predictions(outputs, seq_outputs)\n",
    "    trial_results = {\n",
    "        'pred_metrics': pred_metrics,\n",
    "        'pareto_scores': pareto_scores,\n",
    "        'pareto_metrics': pareto_metrics,\n",
    "    }\n",
    "\n",
    "    # Re-sample the Pareto front; also keeps the memory footprint down.\n",
    "    trial_results.update({\n",
    "        'pareto_scores': score_grid[1:],\n",
    "        'pareto_metrics': {\n",
    "            field: resample_threshold(\n",
    "                trial_results['pareto_scores'],\n",
    "                trial_results['pareto_metrics'][field],\n",
    "                score_grid)\n",
    "            for field in trial_results['pareto_metrics']\n",
    "        },\n",
    "    })\n",
    "    results[name] = trial_results"
   ]
  },
  {
   "cell_type": "code",
   "execution_count": 183,
   "id": "ecf94a6b",
   "metadata": {},
   "outputs": [
    {
     "data": {
      "text/html": [
       "<style type=\"text/css\">\n",
       "</style>\n",
       "<table id=\"T_e6679\">\n",
       "  <thead>\n",
       "    <tr>\n",
       "      <th class=\"blank\" >&nbsp;</th>\n",
       "      <th class=\"blank level0\" >&nbsp;</th>\n",
       "      <th id=\"T_e6679_level0_col0\" class=\"col_heading level0 col0\" >AC(depth)</th>\n",
       "      <th id=\"T_e6679_level0_col1\" class=\"col_heading level0 col1\" >AC(info)</th>\n",
       "      <th id=\"T_e6679_level0_col2\" class=\"col_heading level0 col2\" >AP(depth)</th>\n",
       "      <th id=\"T_e6679_level0_col3\" class=\"col_heading level0 col3\" >AP(info)</th>\n",
       "      <th id=\"T_e6679_level0_col4\" class=\"col_heading level0 col4\" >AC(exact)</th>\n",
       "    </tr>\n",
       "  </thead>\n",
       "  <tbody>\n",
       "    <tr>\n",
       "      <th id=\"T_e6679_level0_row0\" class=\"row_heading level0 row0\" >0.000000</th>\n",
       "      <th id=\"T_e6679_level1_row0\" class=\"row_heading level1 row0\" >0.900000</th>\n",
       "      <td id=\"T_e6679_row0_col0\" class=\"data row0 col0\" >64.0%</td>\n",
       "      <td id=\"T_e6679_row0_col1\" class=\"data row0 col1\" >51.1%</td>\n",
       "      <td id=\"T_e6679_row0_col2\" class=\"data row0 col2\" >68.3%</td>\n",
       "      <td id=\"T_e6679_row0_col3\" class=\"data row0 col3\" >55.4%</td>\n",
       "      <td id=\"T_e6679_row0_col4\" class=\"data row0 col4\" >25.9%</td>\n",
       "    </tr>\n",
       "    <tr>\n",
       "      <th id=\"T_e6679_level0_row1\" class=\"row_heading level0 row1\" >1.000000</th>\n",
       "      <th id=\"T_e6679_level1_row1\" class=\"row_heading level1 row1\" >0.900000</th>\n",
       "      <td id=\"T_e6679_row1_col0\" class=\"data row1 col0\" >65.7%</td>\n",
       "      <td id=\"T_e6679_row1_col1\" class=\"data row1 col1\" >53.3%</td>\n",
       "      <td id=\"T_e6679_row1_col2\" class=\"data row1 col2\" >70.0%</td>\n",
       "      <td id=\"T_e6679_row1_col3\" class=\"data row1 col3\" >57.6%</td>\n",
       "      <td id=\"T_e6679_row1_col4\" class=\"data row1 col4\" >27.5%</td>\n",
       "    </tr>\n",
       "    <tr>\n",
       "      <th id=\"T_e6679_level0_row2\" class=\"row_heading level0 row2\" >2.000000</th>\n",
       "      <th id=\"T_e6679_level1_row2\" class=\"row_heading level1 row2\" >0.900000</th>\n",
       "      <td id=\"T_e6679_row2_col0\" class=\"data row2 col0\" >65.5%</td>\n",
       "      <td id=\"T_e6679_row2_col1\" class=\"data row2 col1\" >52.8%</td>\n",
       "      <td id=\"T_e6679_row2_col2\" class=\"data row2 col2\" >70.0%</td>\n",
       "      <td id=\"T_e6679_row2_col3\" class=\"data row2 col3\" >57.3%</td>\n",
       "      <td id=\"T_e6679_row2_col4\" class=\"data row2 col4\" >26.4%</td>\n",
       "    </tr>\n",
       "  </tbody>\n",
       "</table>\n"
      ],
      "text/plain": [
       "<pandas.io.formats.style.Styler at 0x7f8b9beb6d60>"
      ]
     },
     "execution_count": 183,
     "metadata": {},
     "output_type": "execute_result"
    }
   ],
   "source": [
    "INTEGRALS = {\n",
    "    'AC(depth)': ('depth_recall', 'correct'),\n",
    "    'AC(info)': ('info_recall', 'correct'),\n",
    "    'AP(depth)': ('depth_recall', 'depth_precision'),\n",
    "    'AP(info)': ('info_recall', 'info_precision'),\n",
    "    'AC(exact)': ('exact', 'correct'),\n",
    "}\n",
    "\n",
    "auc = {\n",
    "    integral_key: {\n",
    "        name: metrics.pareto_integrate(\n",
    "            results[name]['pareto_metrics'][x],\n",
    "            results[name]['pareto_metrics'][y])\n",
    "        for name in experiments if name in results\n",
    "    } for integral_key, (x, y) in INTEGRALS.items()\n",
    "}\n",
    "\n",
    "auc = pd.DataFrame(auc)\n",
    "auc = auc.set_index(auc.index.map(experiment_hparams)).sort_index()\n",
    "auc.style.format('{:.1%}'.format)"
   ]
  },
  {
   "cell_type": "code",
   "execution_count": 184,
   "id": "05a3e2f5",
   "metadata": {},
   "outputs": [
    {
     "data": {
      "text/html": [
       "<style type=\"text/css\">\n",
       "</style>\n",
       "<table id=\"T_6889d\">\n",
       "  <thead>\n",
       "    <tr>\n",
       "      <th class=\"blank\" >&nbsp;</th>\n",
       "      <th class=\"blank level0\" >&nbsp;</th>\n",
       "      <th id=\"T_6889d_level0_col0\" class=\"col_heading level0 col0\" >AC(depth)</th>\n",
       "      <th id=\"T_6889d_level0_col1\" class=\"col_heading level0 col1\" >AC(info)</th>\n",
       "      <th id=\"T_6889d_level0_col2\" class=\"col_heading level0 col2\" >AP(depth)</th>\n",
       "      <th id=\"T_6889d_level0_col3\" class=\"col_heading level0 col3\" >AP(info)</th>\n",
       "      <th id=\"T_6889d_level0_col4\" class=\"col_heading level0 col4\" >AC(exact)</th>\n",
       "    </tr>\n",
       "  </thead>\n",
       "  <tbody>\n",
       "    <tr>\n",
       "      <th id=\"T_6889d_level0_row0\" class=\"row_heading level0 row0\" >1.000000</th>\n",
       "      <th id=\"T_6889d_level1_row0\" class=\"row_heading level1 row0\" >0.900000</th>\n",
       "      <td id=\"T_6889d_row0_col0\" class=\"data row0 col0\" >65.7%</td>\n",
       "      <td id=\"T_6889d_row0_col1\" class=\"data row0 col1\" >53.3%</td>\n",
       "      <td id=\"T_6889d_row0_col2\" class=\"data row0 col2\" >70.0%</td>\n",
       "      <td id=\"T_6889d_row0_col3\" class=\"data row0 col3\" >57.6%</td>\n",
       "      <td id=\"T_6889d_row0_col4\" class=\"data row0 col4\" >27.5%</td>\n",
       "    </tr>\n",
       "    <tr>\n",
       "      <th id=\"T_6889d_level0_row1\" class=\"row_heading level0 row1\" >2.000000</th>\n",
       "      <th id=\"T_6889d_level1_row1\" class=\"row_heading level1 row1\" >0.900000</th>\n",
       "      <td id=\"T_6889d_row1_col0\" class=\"data row1 col0\" >65.5%</td>\n",
       "      <td id=\"T_6889d_row1_col1\" class=\"data row1 col1\" >52.8%</td>\n",
       "      <td id=\"T_6889d_row1_col2\" class=\"data row1 col2\" >70.0%</td>\n",
       "      <td id=\"T_6889d_row1_col3\" class=\"data row1 col3\" >57.3%</td>\n",
       "      <td id=\"T_6889d_row1_col4\" class=\"data row1 col4\" >26.4%</td>\n",
       "    </tr>\n",
       "    <tr>\n",
       "      <th id=\"T_6889d_level0_row2\" class=\"row_heading level0 row2\" >0.000000</th>\n",
       "      <th id=\"T_6889d_level1_row2\" class=\"row_heading level1 row2\" >0.900000</th>\n",
       "      <td id=\"T_6889d_row2_col0\" class=\"data row2 col0\" >64.0%</td>\n",
       "      <td id=\"T_6889d_row2_col1\" class=\"data row2 col1\" >51.1%</td>\n",
       "      <td id=\"T_6889d_row2_col2\" class=\"data row2 col2\" >68.3%</td>\n",
       "      <td id=\"T_6889d_row2_col3\" class=\"data row2 col3\" >55.4%</td>\n",
       "      <td id=\"T_6889d_row2_col4\" class=\"data row2 col4\" >25.9%</td>\n",
       "    </tr>\n",
       "  </tbody>\n",
       "</table>\n"
      ],
      "text/plain": [
       "<pandas.io.formats.style.Styler at 0x7f8b953a23a0>"
      ]
     },
     "execution_count": 184,
     "metadata": {},
     "output_type": "execute_result"
    }
   ],
   "source": [
    "auc.sort_values('AP(info)', ascending=False).style.format('{:.1%}'.format)"
   ]
  },
  {
   "cell_type": "code",
   "execution_count": 185,
   "id": "20042c9c",
   "metadata": {},
   "outputs": [
    {
     "data": {
      "text/html": [
       "<style type=\"text/css\">\n",
       "</style>\n",
       "<table id=\"T_fdc0b\">\n",
       "  <thead>\n",
       "    <tr>\n",
       "      <th class=\"blank\" >&nbsp;</th>\n",
       "      <th class=\"blank level0\" >&nbsp;</th>\n",
       "      <th id=\"T_fdc0b_level0_col0\" class=\"col_heading level0 col0\" colspan=\"3\">95</th>\n",
       "      <th id=\"T_fdc0b_level0_col3\" class=\"col_heading level0 col3\" colspan=\"3\">90</th>\n",
       "    </tr>\n",
       "    <tr>\n",
       "      <th class=\"blank\" >&nbsp;</th>\n",
       "      <th class=\"blank level1\" >&nbsp;</th>\n",
       "      <th id=\"T_fdc0b_level1_col0\" class=\"col_heading level1 col0\" >depth_recall</th>\n",
       "      <th id=\"T_fdc0b_level1_col1\" class=\"col_heading level1 col1\" >info_recall</th>\n",
       "      <th id=\"T_fdc0b_level1_col2\" class=\"col_heading level1 col2\" >exact</th>\n",
       "      <th id=\"T_fdc0b_level1_col3\" class=\"col_heading level1 col3\" >depth_recall</th>\n",
       "      <th id=\"T_fdc0b_level1_col4\" class=\"col_heading level1 col4\" >info_recall</th>\n",
       "      <th id=\"T_fdc0b_level1_col5\" class=\"col_heading level1 col5\" >exact</th>\n",
       "    </tr>\n",
       "  </thead>\n",
       "  <tbody>\n",
       "    <tr>\n",
       "      <th id=\"T_fdc0b_level0_row0\" class=\"row_heading level0 row0\" >0.000000</th>\n",
       "      <th id=\"T_fdc0b_level1_row0\" class=\"row_heading level1 row0\" >0.900000</th>\n",
       "      <td id=\"T_fdc0b_row0_col0\" class=\"data row0 col0\" >44.3%</td>\n",
       "      <td id=\"T_fdc0b_row0_col1\" class=\"data row0 col1\" >25.5%</td>\n",
       "      <td id=\"T_fdc0b_row0_col2\" class=\"data row0 col2\" >1.5%</td>\n",
       "      <td id=\"T_fdc0b_row0_col3\" class=\"data row0 col3\" >49.8%</td>\n",
       "      <td id=\"T_fdc0b_row0_col4\" class=\"data row0 col4\" >31.4%</td>\n",
       "      <td id=\"T_fdc0b_row0_col5\" class=\"data row0 col5\" >3.7%</td>\n",
       "    </tr>\n",
       "    <tr>\n",
       "      <th id=\"T_fdc0b_level0_row1\" class=\"row_heading level0 row1\" >1.000000</th>\n",
       "      <th id=\"T_fdc0b_level1_row1\" class=\"row_heading level1 row1\" >0.900000</th>\n",
       "      <td id=\"T_fdc0b_row1_col0\" class=\"data row1 col0\" >45.8%</td>\n",
       "      <td id=\"T_fdc0b_row1_col1\" class=\"data row1 col1\" >27.0%</td>\n",
       "      <td id=\"T_fdc0b_row1_col2\" class=\"data row1 col2\" >1.3%</td>\n",
       "      <td id=\"T_fdc0b_row1_col3\" class=\"data row1 col3\" >51.2%</td>\n",
       "      <td id=\"T_fdc0b_row1_col4\" class=\"data row1 col4\" >33.0%</td>\n",
       "      <td id=\"T_fdc0b_row1_col5\" class=\"data row1 col5\" >3.4%</td>\n",
       "    </tr>\n",
       "    <tr>\n",
       "      <th id=\"T_fdc0b_level0_row2\" class=\"row_heading level0 row2\" >2.000000</th>\n",
       "      <th id=\"T_fdc0b_level1_row2\" class=\"row_heading level1 row2\" >0.900000</th>\n",
       "      <td id=\"T_fdc0b_row2_col0\" class=\"data row2 col0\" >46.0%</td>\n",
       "      <td id=\"T_fdc0b_row2_col1\" class=\"data row2 col1\" >27.0%</td>\n",
       "      <td id=\"T_fdc0b_row2_col2\" class=\"data row2 col2\" >0.9%</td>\n",
       "      <td id=\"T_fdc0b_row2_col3\" class=\"data row2 col3\" >51.1%</td>\n",
       "      <td id=\"T_fdc0b_row2_col4\" class=\"data row2 col4\" >32.6%</td>\n",
       "      <td id=\"T_fdc0b_row2_col5\" class=\"data row2 col5\" >2.6%</td>\n",
       "    </tr>\n",
       "  </tbody>\n",
       "</table>\n"
      ],
      "text/plain": [
       "<pandas.io.formats.style.Styler at 0x7f8b88d8dac0>"
      ]
     },
     "execution_count": 185,
     "metadata": {},
     "output_type": "execute_result"
    }
   ],
   "source": [
    "INTERCEPTS = [\n",
    "    'depth_recall',\n",
    "    'info_recall',\n",
    "    'exact',\n",
    "]\n",
    "\n",
    "CORRECT = [95, 90]\n",
    "\n",
    "recalls = {\n",
    "    (c, y): {\n",
    "        name: metrics.pareto_intercept(\n",
    "            results[name]['pareto_metrics']['correct'],\n",
    "            results[name]['pareto_metrics'][y],\n",
    "            c / 100)\n",
    "        for name in experiments if name in results\n",
    "    } for c in CORRECT for y in INTERCEPTS\n",
    "}\n",
    "\n",
    "recalls = pd.DataFrame(recalls)\n",
    "recalls = recalls.set_index(recalls.index.map(experiment_hparams)).sort_index()\n",
    "recalls.style.format('{:.1%}'.format)"
   ]
  },
  {
   "cell_type": "code",
   "execution_count": 186,
   "id": "2bf939a2",
   "metadata": {},
   "outputs": [
    {
     "data": {
      "text/html": [
       "<style type=\"text/css\">\n",
       "</style>\n",
       "<table id=\"T_c65e3\">\n",
       "  <thead>\n",
       "    <tr>\n",
       "      <th class=\"blank\" >&nbsp;</th>\n",
       "      <th class=\"blank level0\" >&nbsp;</th>\n",
       "      <th id=\"T_c65e3_level0_col0\" class=\"col_heading level0 col0\" colspan=\"3\">95</th>\n",
       "      <th id=\"T_c65e3_level0_col3\" class=\"col_heading level0 col3\" colspan=\"3\">90</th>\n",
       "    </tr>\n",
       "    <tr>\n",
       "      <th class=\"blank\" >&nbsp;</th>\n",
       "      <th class=\"blank level1\" >&nbsp;</th>\n",
       "      <th id=\"T_c65e3_level1_col0\" class=\"col_heading level1 col0\" >depth_recall</th>\n",
       "      <th id=\"T_c65e3_level1_col1\" class=\"col_heading level1 col1\" >info_recall</th>\n",
       "      <th id=\"T_c65e3_level1_col2\" class=\"col_heading level1 col2\" >exact</th>\n",
       "      <th id=\"T_c65e3_level1_col3\" class=\"col_heading level1 col3\" >depth_recall</th>\n",
       "      <th id=\"T_c65e3_level1_col4\" class=\"col_heading level1 col4\" >info_recall</th>\n",
       "      <th id=\"T_c65e3_level1_col5\" class=\"col_heading level1 col5\" >exact</th>\n",
       "    </tr>\n",
       "  </thead>\n",
       "  <tbody>\n",
       "    <tr>\n",
       "      <th id=\"T_c65e3_level0_row0\" class=\"row_heading level0 row0\" >1.000000</th>\n",
       "      <th id=\"T_c65e3_level1_row0\" class=\"row_heading level1 row0\" >0.900000</th>\n",
       "      <td id=\"T_c65e3_row0_col0\" class=\"data row0 col0\" >45.8%</td>\n",
       "      <td id=\"T_c65e3_row0_col1\" class=\"data row0 col1\" >27.0%</td>\n",
       "      <td id=\"T_c65e3_row0_col2\" class=\"data row0 col2\" >1.3%</td>\n",
       "      <td id=\"T_c65e3_row0_col3\" class=\"data row0 col3\" >51.2%</td>\n",
       "      <td id=\"T_c65e3_row0_col4\" class=\"data row0 col4\" >33.0%</td>\n",
       "      <td id=\"T_c65e3_row0_col5\" class=\"data row0 col5\" >3.4%</td>\n",
       "    </tr>\n",
       "    <tr>\n",
       "      <th id=\"T_c65e3_level0_row1\" class=\"row_heading level0 row1\" >2.000000</th>\n",
       "      <th id=\"T_c65e3_level1_row1\" class=\"row_heading level1 row1\" >0.900000</th>\n",
       "      <td id=\"T_c65e3_row1_col0\" class=\"data row1 col0\" >46.0%</td>\n",
       "      <td id=\"T_c65e3_row1_col1\" class=\"data row1 col1\" >27.0%</td>\n",
       "      <td id=\"T_c65e3_row1_col2\" class=\"data row1 col2\" >0.9%</td>\n",
       "      <td id=\"T_c65e3_row1_col3\" class=\"data row1 col3\" >51.1%</td>\n",
       "      <td id=\"T_c65e3_row1_col4\" class=\"data row1 col4\" >32.6%</td>\n",
       "      <td id=\"T_c65e3_row1_col5\" class=\"data row1 col5\" >2.6%</td>\n",
       "    </tr>\n",
       "    <tr>\n",
       "      <th id=\"T_c65e3_level0_row2\" class=\"row_heading level0 row2\" >0.000000</th>\n",
       "      <th id=\"T_c65e3_level1_row2\" class=\"row_heading level1 row2\" >0.900000</th>\n",
       "      <td id=\"T_c65e3_row2_col0\" class=\"data row2 col0\" >44.3%</td>\n",
       "      <td id=\"T_c65e3_row2_col1\" class=\"data row2 col1\" >25.5%</td>\n",
       "      <td id=\"T_c65e3_row2_col2\" class=\"data row2 col2\" >1.5%</td>\n",
       "      <td id=\"T_c65e3_row2_col3\" class=\"data row2 col3\" >49.8%</td>\n",
       "      <td id=\"T_c65e3_row2_col4\" class=\"data row2 col4\" >31.4%</td>\n",
       "      <td id=\"T_c65e3_row2_col5\" class=\"data row2 col5\" >3.7%</td>\n",
       "    </tr>\n",
       "  </tbody>\n",
       "</table>\n"
      ],
      "text/plain": [
       "<pandas.io.formats.style.Styler at 0x7f8b89cb94c0>"
      ]
     },
     "execution_count": 186,
     "metadata": {},
     "output_type": "execute_result"
    }
   ],
   "source": [
    "recalls.sort_values((90, 'info_recall'), ascending=False).style.format('{:.1%}'.format)"
   ]
  },
  {
   "cell_type": "code",
   "execution_count": 187,
   "id": "19078a68",
   "metadata": {},
   "outputs": [],
   "source": [
    "def plot_metrics(x, y, tickres=None, is_pr=True, save=False):\n",
    "    plt.figure(figsize=(5, 4))\n",
    "    for hparams, name in hparams_to_key.items():\n",
    "        pred_metrics = results[name]['pred_metrics']\n",
    "        pareto_scores = results[name]['pareto_scores']\n",
    "        pareto_metrics = results[name]['pareto_metrics']\n",
    "        ge = np.concatenate(([True], pareto_scores >= 0.5))\n",
    "        le = np.concatenate(([False], pareto_scores <= 0.5))\n",
    "        plt.plot(pareto_metrics[x][ge], pareto_metrics[y][ge],\n",
    "                 color=colors[hparams], label=', '.join(map(str, hparams)))\n",
    "        plt.plot(pareto_metrics[x][le], pareto_metrics[y][le],\n",
    "                 color=colors[hparams], linestyle='--')\n",
    "        for method in ['leaf', 'majority']:  # pred_metrics.items():\n",
    "            plt.plot(pred_metrics[method][x], pred_metrics[method][y],\n",
    "                     color=colors[hparams], marker=markers[method],\n",
    "                     markerfacecolor='none')\n",
    "\n",
    "    ax = plt.gca()\n",
    "    if is_pr:\n",
    "        plt.xlim(left=0)\n",
    "        plt.ylim(top=1)\n",
    "        # plt.ylim(np.clip(plt.ylim(), 0, 1))\n",
    "        # plt.xlim(np.clip(plt.xlim(), 0, 1))\n",
    "    if tickres:\n",
    "        ax.xaxis.set_major_locator(ticker.MultipleLocator(tickres))\n",
    "        ax.yaxis.set_major_locator(ticker.MultipleLocator(tickres))\n",
    "    # plt.axis('equal')\n",
    "    # plt.gca().set_aspect(1)\n",
    "    plt.grid()\n",
    "    plt.xlabel(metric_titles.get(x, x))\n",
    "    plt.ylabel(metric_titles.get(y, y))\n",
    "    plt.legend()\n",
    "\n",
    "    if save:\n",
    "        pathlib.Path(PLOT_DIR).mkdir(parents=True, exist_ok=True)\n",
    "        plt.savefig(pathlib.Path(PLOT_DIR) / f'{x}-{y}.pdf')"
   ]
  },
  {
   "cell_type": "code",
   "execution_count": 188,
   "id": "295e6cba",
   "metadata": {},
   "outputs": [
    {
     "data": {
      "image/png": "[encoded data removed]",
      "text/plain": [
       "<Figure size 360x288 with 1 Axes>"
      ]
     },
     "metadata": {
      "needs_background": "light"
     },
     "output_type": "display_data"
    }
   ],
   "source": [
    "plot_metrics('exact', 'correct', save=True)"
   ]
  },
  {
   "cell_type": "code",
   "execution_count": 189,
   "id": "7917e2b6",
   "metadata": {},
   "outputs": [
    {
     "data": {
      "image/png": "[encoded data removed]",
      "text/plain": [
       "<Figure size 360x288 with 1 Axes>"
      ]
     },
     "metadata": {
      "needs_background": "light"
     },
     "output_type": "display_data"
    }
   ],
   "source": [
    "plot_metrics('info_recall', 'correct', save=True)"
   ]
  },
  {
   "cell_type": "code",
   "execution_count": 190,
   "id": "4cbf2628",
   "metadata": {},
   "outputs": [
    {
     "data": {
      "image/png": "[encoded data removed]",
      "text/plain": [
       "<Figure size 360x288 with 1 Axes>"
      ]
     },
     "metadata": {
      "needs_background": "light"
     },
     "output_type": "display_data"
    }
   ],
   "source": [
    "plot_metrics('info_recall', 'info_precision', save=True)"
   ]
  },
  {
   "cell_type": "code",
   "execution_count": 191,
   "id": "3de93848",
   "metadata": {},
   "outputs": [
    {
     "data": {
      "image/png": "[encoded data removed]",
      "text/plain": [
       "<Figure size 360x288 with 1 Axes>"
      ]
     },
     "metadata": {
      "needs_background": "light"
     },
     "output_type": "display_data"
    }
   ],
   "source": [
    "plot_metrics('depth_recall', 'correct', save=True)"
   ]
  },
  {
   "cell_type": "code",
   "execution_count": 192,
   "id": "c187ce11",
   "metadata": {},
   "outputs": [
    {
     "data": {
      "image/png": "[encoded data removed]",
      "text/plain": [
       "<Figure size 360x288 with 1 Axes>"
      ]
     },
     "metadata": {
      "needs_background": "light"
     },
     "output_type": "display_data"
    }
   ],
   "source": [
    "plot_metrics('depth_recall', 'depth_precision', save=True)"
   ]
  },
  {
   "cell_type": "code",
   "execution_count": null,
   "id": "7defbd73",
   "metadata": {},
   "outputs": [],
   "source": []
  }
 ],
 "metadata": {
  "kernelspec": {
   "display_name": "Python 3 (ipykernel)",
   "language": "python",
   "name": "python3"
  },
  "language_info": {
   "codemirror_mode": {
    "name": "ipython",
    "version": 3
   },
   "file_extension": ".py",
   "mimetype": "text/x-python",
   "name": "python",
   "nbconvert_exporter": "python",
   "pygments_lexer": "ipython3",
   "version": "3.8.10"
  }
 },
 "nbformat": 4,
 "nbformat_minor": 5
}
