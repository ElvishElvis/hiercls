{
 "cells": [
  {
   "cell_type": "code",
   "execution_count": 1,
   "id": "aa12ae31",
   "metadata": {},
   "outputs": [],
   "source": [
    "import csv\n",
    "import pathlib\n",
    "\n",
    "import networkx as nx\n",
    "import numpy as np\n",
    "import scipy.io\n",
    "\n",
    "import util"
   ]
  },
  {
   "cell_type": "code",
   "execution_count": 2,
   "id": "f9c555fa",
   "metadata": {},
   "outputs": [],
   "source": [
    "RESOURCES_DIR = pathlib.Path('../resources')"
   ]
  },
  {
   "cell_type": "code",
   "execution_count": 3,
   "id": "044a014a",
   "metadata": {},
   "outputs": [],
   "source": [
    "# Load graph from FiveAI paper.\n",
    "with open(RESOURCES_DIR / 'hierarchy_raw/fiveai/imagenet_isa.txt') as f:\n",
    "    r = csv.reader(f, delimiter=' ')\n",
    "    edges = list(r)\n",
    "\n",
    "g = nx.DiGraph()\n",
    "for u, v in edges:\n",
    "    g.add_edge(u, v)"
   ]
  },
  {
   "cell_type": "code",
   "execution_count": 4,
   "id": "d2263223",
   "metadata": {},
   "outputs": [],
   "source": [
    "# Load label order from ILSVRC devkit.\n",
    "meta = scipy.io.loadmat(RESOURCES_DIR / 'hierarchy_raw/imagenet/meta.mat')\n",
    "synsets = meta['synsets'].squeeze()\n",
    "label_order = [x.item() for x in synsets[:1000]['WNID']]"
   ]
  },
  {
   "cell_type": "code",
   "execution_count": 5,
   "id": "c966bc54",
   "metadata": {},
   "outputs": [
    {
     "data": {
      "text/plain": [
       "True"
      ]
     },
     "execution_count": 5,
     "metadata": {},
     "output_type": "execute_result"
    }
   ],
   "source": [
    "set(label_order) == set(node for node in g if g.out_degree[node] == 0)"
   ]
  },
  {
   "cell_type": "code",
   "execution_count": 6,
   "id": "15620cc7",
   "metadata": {},
   "outputs": [],
   "source": [
    "edges = util.dfs_edges_with_order(g, label_order)"
   ]
  },
  {
   "cell_type": "code",
   "execution_count": 7,
   "id": "2ab434ac",
   "metadata": {},
   "outputs": [],
   "source": [
    "with open(RESOURCES_DIR / 'hierarchy/imagenet_fiveai.csv', 'w') as f:\n",
    "    w = csv.writer(f)\n",
    "    for edge in edges:\n",
    "        w.writerow(edge)"
   ]
  },
  {
   "cell_type": "code",
   "execution_count": 8,
   "id": "f52d11e8",
   "metadata": {},
   "outputs": [
    {
     "data": {
      "text/plain": [
       "(1372, 1372)"
      ]
     },
     "execution_count": 8,
     "metadata": {},
     "output_type": "execute_result"
    }
   ],
   "source": [
    "root, = (x for x in g if g.in_degree[x] == 0)\n",
    "h = util.remove_trivial(g, root)\n",
    "\n",
    "len(g), len(h)"
   ]
  },
  {
   "cell_type": "code",
   "execution_count": null,
   "id": "5dac737b",
   "metadata": {},
   "outputs": [],
   "source": []
  }
 ],
 "metadata": {
  "kernelspec": {
   "display_name": "Python 3 (ipykernel)",
   "language": "python",
   "name": "python3"
  },
  "language_info": {
   "codemirror_mode": {
    "name": "ipython",
    "version": 3
   },
   "file_extension": ".py",
   "mimetype": "text/x-python",
   "name": "python",
   "nbconvert_exporter": "python",
   "pygments_lexer": "ipython3",
   "version": "3.8.10"
  }
 },
 "nbformat": 4,
 "nbformat_minor": 5
}
