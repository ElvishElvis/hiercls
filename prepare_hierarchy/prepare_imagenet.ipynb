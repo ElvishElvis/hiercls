{
 "cells": [
  {
   "cell_type": "code",
   "execution_count": 1,
   "id": "aa12ae31",
   "metadata": {},
   "outputs": [],
   "source": [
    "import csv\n",
    "import json\n",
    "import pathlib\n",
    "\n",
    "import networkx as nx\n",
    "import numpy as np\n",
    "import scipy.io\n",
    "\n",
    "import util"
   ]
  },
  {
   "cell_type": "code",
   "execution_count": 2,
   "id": "f9c555fa",
   "metadata": {},
   "outputs": [],
   "source": [
    "RESOURCES_DIR = pathlib.Path('../resources')"
   ]
  },
  {
   "cell_type": "code",
   "execution_count": 3,
   "id": "044a014a",
   "metadata": {},
   "outputs": [],
   "source": [
    "# Load graph from FiveAI paper.\n",
    "with open(RESOURCES_DIR / 'hierarchy_raw/fiveai/imagenet_isa.txt') as f:\n",
    "    r = csv.reader(f, delimiter=' ')\n",
    "    edges = list(r)\n",
    "\n",
    "g = nx.DiGraph()\n",
    "for u, v in edges:\n",
    "    g.add_edge(u, v)"
   ]
  },
  {
   "cell_type": "code",
   "execution_count": 4,
   "id": "d2263223",
   "metadata": {},
   "outputs": [],
   "source": [
    "# Load label order from ILSVRC devkit.\n",
    "meta = scipy.io.loadmat(RESOURCES_DIR / 'hierarchy_raw/imagenet/meta.mat')\n",
    "synsets = meta['synsets'].squeeze()\n",
    "label_order = [x.item() for x in synsets[:1000]['WNID']]"
   ]
  },
  {
   "cell_type": "code",
   "execution_count": 5,
   "id": "c966bc54",
   "metadata": {},
   "outputs": [
    {
     "data": {
      "text/plain": [
       "True"
      ]
     },
     "execution_count": 5,
     "metadata": {},
     "output_type": "execute_result"
    }
   ],
   "source": [
    "set(label_order) == set(node for node in g if g.out_degree[node] == 0)"
   ]
  },
  {
   "cell_type": "code",
   "execution_count": 6,
   "id": "546ec8a9",
   "metadata": {},
   "outputs": [],
   "source": [
    "label_order.sort()"
   ]
  },
  {
   "cell_type": "code",
   "execution_count": 7,
   "id": "672d82c6",
   "metadata": {},
   "outputs": [],
   "source": [
    "# Sanity check (requires ImageNet dataset).\n",
    "\n",
    "# import torchvision\n",
    "# dataset = torchvision.datasets.ImageNet('/home/jack/data/torchvision/imagenet/', 'train')\n",
    "# assert label_order == dataset.wnids"
   ]
  },
  {
   "cell_type": "code",
   "execution_count": 8,
   "id": "15620cc7",
   "metadata": {},
   "outputs": [],
   "source": [
    "edges = util.dfs_edges_with_order(g, label_order)"
   ]
  },
  {
   "cell_type": "code",
   "execution_count": 9,
   "id": "2ab434ac",
   "metadata": {},
   "outputs": [],
   "source": [
    "with open(RESOURCES_DIR / 'hierarchy/imagenet_fiveai.csv', 'w') as f:\n",
    "    w = csv.writer(f)\n",
    "    for edge in edges:\n",
    "        w.writerow(edge)"
   ]
  },
  {
   "cell_type": "code",
   "execution_count": 10,
   "id": "5dac737b",
   "metadata": {},
   "outputs": [
    {
     "name": "stdout",
     "output_type": "stream",
     "text": [
      "internal nodes: 372\n",
      "non-trivial internal nodes: 372\n",
      "branch factor: mean 3.69, median 2\n"
     ]
    }
   ],
   "source": [
    "# Check number of non-trivial internal nodes.\n",
    "g = nx.DiGraph()\n",
    "g.add_edges_from(edges)\n",
    "degree = np.array([g.out_degree[x] for x in g])\n",
    "print('internal nodes:', np.sum(degree > 0))\n",
    "print('non-trivial internal nodes:', np.sum(degree > 1))\n",
    "print('branch factor: mean {:.3g}, median {:.3g}'.format(\n",
    "    np.mean(degree[degree > 1]), np.median(degree[degree > 1])))"
   ]
  },
  {
   "cell_type": "code",
   "execution_count": 11,
   "id": "682098d6",
   "metadata": {},
   "outputs": [],
   "source": [
    "# Find class names and write to file.\n",
    "\n",
    "import nltk\n",
    "from nltk.corpus import wordnet as wn\n",
    "\n",
    "key_to_name = {key: wn.synset_from_pos_and_offset(key[0], int(key[1:])).name() for key in g}\n",
    "\n",
    "with open(RESOURCES_DIR / 'class_names/imagenet_fiveai.json', 'w') as f:\n",
    "    json.dump(key_to_name, f)"
   ]
  },
  {
   "cell_type": "code",
   "execution_count": null,
   "id": "fc564d48",
   "metadata": {},
   "outputs": [],
   "source": []
  }
 ],
 "metadata": {
  "kernelspec": {
   "display_name": "Python 3 (ipykernel)",
   "language": "python",
   "name": "python3"
  },
  "language_info": {
   "codemirror_mode": {
    "name": "ipython",
    "version": 3
   },
   "file_extension": ".py",
   "mimetype": "text/x-python",
   "name": "python",
   "nbconvert_exporter": "python",
   "pygments_lexer": "ipython3",
   "version": "3.10.6"
  }
 },
 "nbformat": 4,
 "nbformat_minor": 5
}
