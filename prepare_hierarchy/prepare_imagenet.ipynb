{
 "cells": [
  {
   "cell_type": "code",
   "execution_count": 1,
   "id": "aa12ae31",
   "metadata": {},
   "outputs": [],
   "source": [
    "import csv\n",
    "import pathlib\n",
    "\n",
    "import networkx as nx\n",
    "import numpy as np\n",
    "import scipy.io"
   ]
  },
  {
   "cell_type": "code",
   "execution_count": 2,
   "id": "f9c555fa",
   "metadata": {},
   "outputs": [],
   "source": [
    "RESOURCES_DIR = pathlib.Path('../resources')"
   ]
  },
  {
   "cell_type": "code",
   "execution_count": 3,
   "id": "044a014a",
   "metadata": {},
   "outputs": [],
   "source": [
    "# Load graph from FiveAI paper.\n",
    "with open(RESOURCES_DIR / 'hierarchy_raw/fiveai/imagenet_isa.txt') as f:\n",
    "    r = csv.reader(f, delimiter=' ')\n",
    "    edges = list(r)\n",
    "\n",
    "g = nx.DiGraph()\n",
    "for u, v in edges:\n",
    "    g.add_edge(u, v)"
   ]
  },
  {
   "cell_type": "code",
   "execution_count": 4,
   "id": "d2263223",
   "metadata": {},
   "outputs": [],
   "source": [
    "# Load label order from ILSVRC devkit.\n",
    "meta = scipy.io.loadmat(RESOURCES_DIR / 'hierarchy_raw/imagenet/meta.mat')\n",
    "synsets = meta['synsets'].squeeze()\n",
    "label_order = [x.item() for x in synsets[:1000]['WNID']]"
   ]
  },
  {
   "cell_type": "code",
   "execution_count": 5,
   "id": "c966bc54",
   "metadata": {},
   "outputs": [
    {
     "data": {
      "text/plain": [
       "True"
      ]
     },
     "execution_count": 5,
     "metadata": {},
     "output_type": "execute_result"
    }
   ],
   "source": [
    "set(label_order) == set(node for node in g if g.out_degree[node] == 0)"
   ]
  },
  {
   "cell_type": "code",
   "execution_count": 6,
   "id": "747870b0",
   "metadata": {},
   "outputs": [],
   "source": [
    "# TODO: Avoid duplication with prepare_hierarchy_inat.\n",
    "\n",
    "def dfs_edges_with_order(g, order):\n",
    "    visited = set()\n",
    "    edges = []\n",
    "\n",
    "    def visit(node):\n",
    "        if node in visited:\n",
    "            return\n",
    "        visited.add(node)\n",
    "        if not g.in_degree[node]:\n",
    "            return\n",
    "        parents = list(g.predecessors(node))\n",
    "        if len(parents) > 1:\n",
    "            raise ValueError('multiple parents', node, parents)\n",
    "        parent, = parents\n",
    "        visit(parent)\n",
    "        edges.append((parent, node))\n",
    "    \n",
    "    for leaf in order:\n",
    "        visit(leaf)\n",
    "\n",
    "    return edges"
   ]
  },
  {
   "cell_type": "code",
   "execution_count": 7,
   "id": "15620cc7",
   "metadata": {},
   "outputs": [],
   "source": [
    "edges = dfs_edges_with_order(g, label_order)"
   ]
  },
  {
   "cell_type": "code",
   "execution_count": 8,
   "id": "2ab434ac",
   "metadata": {},
   "outputs": [],
   "source": [
    "with open(RESOURCES_DIR / 'hierarchy/imagenet_fiveai.csv', 'w') as f:\n",
    "    w = csv.writer(f)\n",
    "    for edge in edges:\n",
    "        w.writerow(edge)"
   ]
  },
  {
   "cell_type": "code",
   "execution_count": null,
   "id": "f52d11e8",
   "metadata": {},
   "outputs": [],
   "source": []
  }
 ],
 "metadata": {
  "kernelspec": {
   "display_name": "Python 3 (ipykernel)",
   "language": "python",
   "name": "python3"
  },
  "language_info": {
   "codemirror_mode": {
    "name": "ipython",
    "version": 3
   },
   "file_extension": ".py",
   "mimetype": "text/x-python",
   "name": "python",
   "nbconvert_exporter": "python",
   "pygments_lexer": "ipython3",
   "version": "3.8.10"
  }
 },
 "nbformat": 4,
 "nbformat_minor": 5
}
