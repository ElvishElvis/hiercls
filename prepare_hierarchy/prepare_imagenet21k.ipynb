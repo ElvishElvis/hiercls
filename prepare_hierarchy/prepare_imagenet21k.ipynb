{
 "cells": [
  {
   "cell_type": "code",
   "execution_count": 1,
   "id": "aa12ae31",
   "metadata": {},
   "outputs": [],
   "source": [
    "import csv\n",
    "import pathlib\n",
    "\n",
    "import networkx as nx\n",
    "import numpy as np\n",
    "import torch\n",
    "\n",
    "import util"
   ]
  },
  {
   "cell_type": "code",
   "execution_count": 2,
   "id": "8f7daa19",
   "metadata": {},
   "outputs": [],
   "source": [
    "RESOURCES_DIR = pathlib.Path('../resources')"
   ]
  },
  {
   "cell_type": "code",
   "execution_count": 3,
   "id": "ed68792a",
   "metadata": {},
   "outputs": [],
   "source": [
    "tree_data = torch.load(RESOURCES_DIR / 'hierarchy_raw/imagenet21k/winter21/imagenet21k_miil_tree.pth')"
   ]
  },
  {
   "cell_type": "code",
   "execution_count": 4,
   "id": "a5c5d425",
   "metadata": {},
   "outputs": [
    {
     "data": {
      "text/plain": [
       "dict_keys(['class_list', 'child_2_parent', 'class_tree_list', 'class_description'])"
      ]
     },
     "execution_count": 4,
     "metadata": {},
     "output_type": "execute_result"
    }
   ],
   "source": [
    "tree_data.keys()"
   ]
  },
  {
   "cell_type": "code",
   "execution_count": 5,
   "id": "bf63b6de",
   "metadata": {},
   "outputs": [],
   "source": [
    "order = tree_data['class_list'].tolist()"
   ]
  },
  {
   "cell_type": "code",
   "execution_count": 6,
   "id": "fbf3d5cb",
   "metadata": {},
   "outputs": [
    {
     "data": {
      "text/plain": [
       "True"
      ]
     },
     "execution_count": 6,
     "metadata": {},
     "output_type": "execute_result"
    }
   ],
   "source": [
    "order == sorted(order)"
   ]
  },
  {
   "cell_type": "code",
   "execution_count": 7,
   "id": "009a2bdb",
   "metadata": {},
   "outputs": [
    {
     "data": {
      "text/plain": [
       "(11925, 11924)"
      ]
     },
     "execution_count": 7,
     "metadata": {},
     "output_type": "execute_result"
    }
   ],
   "source": [
    "g = nx.DiGraph()\n",
    "visited = set()\n",
    "\n",
    "def add_node_and_ancestors(node):\n",
    "    if node not in tree_data['child_2_parent']:\n",
    "        return\n",
    "    if node in visited:\n",
    "        return\n",
    "    visited.add(node)\n",
    "    parent = tree_data['child_2_parent'][node]\n",
    "    g.add_edge(parent, node)\n",
    "    add_node_and_ancestors(parent)\n",
    "\n",
    "for node in order:\n",
    "    add_node_and_ancestors(node)\n",
    "\n",
    "len(g), len(g.edges)"
   ]
  },
  {
   "cell_type": "code",
   "execution_count": 8,
   "id": "c2ae0ac7",
   "metadata": {},
   "outputs": [
    {
     "data": {
      "text/plain": [
       "['n00001740']"
      ]
     },
     "execution_count": 8,
     "metadata": {},
     "output_type": "execute_result"
    }
   ],
   "source": [
    "# Check unique root node.\n",
    "[x for x in g if g.in_degree[x] == 0]"
   ]
  },
  {
   "cell_type": "code",
   "execution_count": 9,
   "id": "4f6f3fdf",
   "metadata": {},
   "outputs": [
    {
     "data": {
      "text/plain": [
       "8152"
      ]
     },
     "execution_count": 9,
     "metadata": {},
     "output_type": "execute_result"
    }
   ],
   "source": [
    "# Check number of leaf nodes.\n",
    "# Note: Some labels in ImageNet21k are not leaf nodes!\n",
    "sum(1 for x in g if g.out_degree[x] == 0)"
   ]
  },
  {
   "cell_type": "code",
   "execution_count": 10,
   "id": "705ff64b",
   "metadata": {},
   "outputs": [
    {
     "data": {
      "text/plain": [
       "[]"
      ]
     },
     "execution_count": 10,
     "metadata": {},
     "output_type": "execute_result"
    }
   ],
   "source": [
    "# Ensure no nodes with multiple parents.\n",
    "[x for x in g if g.in_degree[x] > 1]"
   ]
  },
  {
   "cell_type": "code",
   "execution_count": 11,
   "id": "32131990",
   "metadata": {},
   "outputs": [
    {
     "data": {
      "text/plain": [
       "8152"
      ]
     },
     "execution_count": 11,
     "metadata": {},
     "output_type": "execute_result"
    }
   ],
   "source": [
    "leaf_set = set(x for x in g if g.out_degree[x] == 0)\n",
    "len(leaf_set)"
   ]
  },
  {
   "cell_type": "code",
   "execution_count": 12,
   "id": "24bdbce2",
   "metadata": {},
   "outputs": [],
   "source": [
    "leaf_order = [x for x in order if x in leaf_set]"
   ]
  },
  {
   "cell_type": "code",
   "execution_count": 13,
   "id": "89db8e39",
   "metadata": {},
   "outputs": [
    {
     "data": {
      "text/plain": [
       "['n09450163']"
      ]
     },
     "execution_count": 13,
     "metadata": {},
     "output_type": "execute_result"
    }
   ],
   "source": [
    "# Check for classes that are not present in the graph.\n",
    "[x for x in order if x not in g]"
   ]
  },
  {
   "cell_type": "code",
   "execution_count": 14,
   "id": "cdd8c613",
   "metadata": {},
   "outputs": [],
   "source": [
    "# # Add a direct edge from the root to any orphan nodes.\n",
    "# # https://github.com/Alibaba-MIIL/ImageNet21K/issues/54\n",
    "# root, = [x for x in g if g.in_degree[x] == 0]\n",
    "# for x in order:\n",
    "#     if x not in g:\n",
    "#         g.add_edge(root, x)"
   ]
  },
  {
   "cell_type": "code",
   "execution_count": 15,
   "id": "ba43a742",
   "metadata": {},
   "outputs": [],
   "source": [
    "edges = util.dfs_edges_with_order(g, leaf_order)"
   ]
  },
  {
   "cell_type": "code",
   "execution_count": 16,
   "id": "cbc5150a",
   "metadata": {},
   "outputs": [],
   "source": [
    "with open(RESOURCES_DIR / 'hierarchy/imagenet21k.csv', 'w') as f:\n",
    "    w = csv.writer(f)\n",
    "    for edge in edges:\n",
    "        w.writerow(edge)"
   ]
  },
  {
   "cell_type": "code",
   "execution_count": 17,
   "id": "f52d11e8",
   "metadata": {},
   "outputs": [],
   "source": [
    "with open(RESOURCES_DIR / 'hierarchy/imagenet21k_subset.txt', 'w') as f:\n",
    "    for x in leaf_order:\n",
    "        print(x, file=f)"
   ]
  },
  {
   "cell_type": "code",
   "execution_count": null,
   "id": "bb600279",
   "metadata": {},
   "outputs": [],
   "source": []
  }
 ],
 "metadata": {
  "kernelspec": {
   "display_name": "Python 3 (ipykernel)",
   "language": "python",
   "name": "python3"
  },
  "language_info": {
   "codemirror_mode": {
    "name": "ipython",
    "version": 3
   },
   "file_extension": ".py",
   "mimetype": "text/x-python",
   "name": "python",
   "nbconvert_exporter": "python",
   "pygments_lexer": "ipython3",
   "version": "3.8.10"
  }
 },
 "nbformat": 4,
 "nbformat_minor": 5
}
