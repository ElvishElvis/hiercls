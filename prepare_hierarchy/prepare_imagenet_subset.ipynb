{
 "cells": [
  {
   "cell_type": "code",
   "execution_count": 1,
   "id": "aa12ae31",
   "metadata": {},
   "outputs": [],
   "source": [
    "import csv\n",
    "import pathlib\n",
    "\n",
    "import networkx as nx\n",
    "\n",
    "import util"
   ]
  },
  {
   "cell_type": "code",
   "execution_count": 2,
   "id": "f9c555fa",
   "metadata": {},
   "outputs": [],
   "source": [
    "RESOURCES_DIR = pathlib.Path('../resources')"
   ]
  },
  {
   "cell_type": "code",
   "execution_count": 3,
   "id": "d75348b0",
   "metadata": {},
   "outputs": [],
   "source": [
    "# Load FiveAI hierarchy for ImageNet.\n",
    "with open(RESOURCES_DIR / 'hierarchy/imagenet_fiveai.csv') as f:\n",
    "    super_edges = list(csv.reader(f))\n",
    "g = nx.DiGraph()\n",
    "for u, v in super_edges:\n",
    "    g.add_edge(u, v)"
   ]
  },
  {
   "cell_type": "code",
   "execution_count": 4,
   "id": "8d222b00",
   "metadata": {},
   "outputs": [
    {
     "data": {
      "text/plain": [
       "100"
      ]
     },
     "execution_count": 4,
     "metadata": {},
     "output_type": "execute_result"
    }
   ],
   "source": [
    "# Get label order using order of appearance.\n",
    "\n",
    "paths = [\n",
    "    RESOURCES_DIR / 'hierarchy_raw/mini_imagenet/train.csv',\n",
    "    RESOURCES_DIR / 'hierarchy_raw/mini_imagenet/val.csv',\n",
    "    RESOURCES_DIR / 'hierarchy_raw/mini_imagenet/test.csv',\n",
    "]\n",
    "\n",
    "examples = []\n",
    "for path in paths:\n",
    "    with open(path) as f:\n",
    "        r = csv.reader(f)\n",
    "        next(r)  # Skip header.\n",
    "        examples.extend(r)\n",
    "\n",
    "label_order = list(util.unique_in_order(label for _, label in examples))\n",
    "len(label_order)"
   ]
  },
  {
   "cell_type": "code",
   "execution_count": 5,
   "id": "5fa25bbf",
   "metadata": {},
   "outputs": [
    {
     "data": {
      "text/plain": [
       "259"
      ]
     },
     "execution_count": 5,
     "metadata": {},
     "output_type": "execute_result"
    }
   ],
   "source": [
    "edges = util.dfs_edges_with_order(g, label_order)\n",
    "len(edges)"
   ]
  },
  {
   "cell_type": "code",
   "execution_count": 6,
   "id": "c3dc7b3c",
   "metadata": {},
   "outputs": [],
   "source": [
    "with open(RESOURCES_DIR / 'hierarchy/mini_imagenet_fiveai.csv', 'w') as f:\n",
    "    w = csv.writer(f)\n",
    "    for edge in edges:\n",
    "        w.writerow(edge)"
   ]
  },
  {
   "cell_type": "code",
   "execution_count": 7,
   "id": "c8128246",
   "metadata": {},
   "outputs": [
    {
     "data": {
      "text/plain": [
       "200"
      ]
     },
     "execution_count": 7,
     "metadata": {},
     "output_type": "execute_result"
    }
   ],
   "source": [
    "# Load label order for Tiny ImageNet.\n",
    "\n",
    "with open(RESOURCES_DIR / 'hierarchy_raw/tiny_imagenet/wnids.txt') as f:\n",
    "    label_order = f.read().splitlines()\n",
    "len(label_order)"
   ]
  },
  {
   "cell_type": "code",
   "execution_count": 8,
   "id": "fbd0526d",
   "metadata": {},
   "outputs": [
    {
     "data": {
      "text/plain": [
       "412"
      ]
     },
     "execution_count": 8,
     "metadata": {},
     "output_type": "execute_result"
    }
   ],
   "source": [
    "edges = util.dfs_edges_with_order(g, label_order)\n",
    "len(edges)"
   ]
  },
  {
   "cell_type": "code",
   "execution_count": 9,
   "id": "bba4f640",
   "metadata": {},
   "outputs": [],
   "source": [
    "with open(RESOURCES_DIR / 'hierarchy/tiny_imagenet_fiveai.csv', 'w') as f:\n",
    "    w = csv.writer(f)\n",
    "    for edge in edges:\n",
    "        w.writerow(edge)"
   ]
  },
  {
   "cell_type": "code",
   "execution_count": null,
   "id": "494f9639",
   "metadata": {},
   "outputs": [],
   "source": []
  }
 ],
 "metadata": {
  "kernelspec": {
   "display_name": "Python 3 (ipykernel)",
   "language": "python",
   "name": "python3"
  },
  "language_info": {
   "codemirror_mode": {
    "name": "ipython",
    "version": 3
   },
   "file_extension": ".py",
   "mimetype": "text/x-python",
   "name": "python",
   "nbconvert_exporter": "python",
   "pygments_lexer": "ipython3",
   "version": "3.8.10"
  }
 },
 "nbformat": 4,
 "nbformat_minor": 5
}
