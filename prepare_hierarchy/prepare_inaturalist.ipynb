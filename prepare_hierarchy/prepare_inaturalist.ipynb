{
 "cells": [
  {
   "cell_type": "code",
   "execution_count": 1,
   "id": "aa12ae31",
   "metadata": {},
   "outputs": [],
   "source": [
    "import collections\n",
    "import csv\n",
    "import itertools\n",
    "import json\n",
    "import pathlib\n",
    "\n",
    "import networkx as nx\n",
    "import numpy as np\n",
    "\n",
    "import util"
   ]
  },
  {
   "cell_type": "code",
   "execution_count": 2,
   "id": "9860a63b",
   "metadata": {},
   "outputs": [],
   "source": [
    "RESOURCES_DIR = pathlib.Path('../resources')"
   ]
  },
  {
   "cell_type": "code",
   "execution_count": 3,
   "id": "debe1e5f",
   "metadata": {},
   "outputs": [],
   "source": [
    "INAT17_LEVELS = ['supercategory', 'name']\n",
    "INAT18_LEVELS = ['kingdom', 'phylum', 'class', 'order', 'family', 'genus', 'name']\n",
    "# INAT21_LEVELS = ['kingdom', 'phylum', 'class', 'order', 'family', 'genus', 'common_name']\n",
    "INAT21_LEVELS = INAT18_LEVELS"
   ]
  },
  {
   "cell_type": "code",
   "execution_count": 4,
   "id": "dd12e1b4",
   "metadata": {},
   "outputs": [],
   "source": [
    "# with open(RESOURCES_DIR / 'hierarchy_raw/inat18/train2018.json') as f:\n",
    "#     categories = json.load(f)['categories']\n",
    "\n",
    "# with open(RESOURCES_DIR / 'hierarchy_raw/inat18/categories_anon.json') as f:\n",
    "#     categories = json.load(f)\n",
    "\n",
    "# with open(RESOURCES_DIR / 'hierarchy_raw/inat18/categories.json') as f:\n",
    "#     categories = json.load(f)\n",
    "\n",
    "with open(RESOURCES_DIR / 'hierarchy_raw/inat21/categories.json') as f:\n",
    "    categories = json.load(f)"
   ]
  },
  {
   "cell_type": "code",
   "execution_count": 5,
   "id": "48fafa53",
   "metadata": {
    "scrolled": false
   },
   "outputs": [
    {
     "data": {
      "text/plain": [
       "[(3, 'kingdom'),\n",
       " (11, 'supercategory'),\n",
       " (13, 'phylum'),\n",
       " (51, 'class'),\n",
       " (273, 'order'),\n",
       " (1103, 'family'),\n",
       " (4884, 'genus'),\n",
       " (6485, 'specific_epithet'),\n",
       " (9962, 'common_name'),\n",
       " (10000, 'id'),\n",
       " (10000, 'image_dir_name'),\n",
       " (10000, 'name')]"
      ]
     },
     "execution_count": 5,
     "metadata": {},
     "output_type": "execute_result"
    }
   ],
   "source": [
    "def count_unique_values(categories):\n",
    "    # Count number of unique values for each field.\n",
    "    fields = set(itertools.chain.from_iterable(x.keys() for x in categories))\n",
    "    unique_values = {k: set() for k in fields}\n",
    "    for x in categories:\n",
    "        for k, v in x.items():\n",
    "            unique_values[k].add(v)\n",
    "    return {k: len(v) for k, v in unique_values.items()}\n",
    "\n",
    "sorted((v, k) for k, v in count_unique_values(categories).items())"
   ]
  },
  {
   "cell_type": "code",
   "execution_count": 6,
   "id": "c2455296",
   "metadata": {},
   "outputs": [],
   "source": [
    "def make_graph_inat(levels, categories, root_name='Life', exclude_na=False):\n",
    "    paths = []\n",
    "    for cat in categories:\n",
    "        path = [root_name] + [cat[level] for level in levels]\n",
    "        if exclude_na:\n",
    "            path = [x for x in path if x != 'NA']\n",
    "        paths.append(path)\n",
    "\n",
    "    # Find parents of each node (to check whether unique).\n",
    "    parents = collections.defaultdict(set)\n",
    "    for path in paths:\n",
    "        for u, v in zip(path, path[1:]):\n",
    "            parents[v].add(u)\n",
    "\n",
    "    # Modify path names in-place.\n",
    "    # Note that this will change the name of non-unique labels.\n",
    "    for path in paths:\n",
    "        for i in range(len(path)):\n",
    "            if len(parents[path[i]]) > 1 or path[i] == 'NA':\n",
    "                path[i] = '{parent}/{node}'.format(parent=path[i - 1], node=path[i])\n",
    "\n",
    "    g = nx.DiGraph()\n",
    "    for path in paths:\n",
    "        for u, v in zip(path, path[1:]):\n",
    "            g.add_edge(u, v)\n",
    "\n",
    "    label_order = [path[-1] for path in paths]\n",
    "    return g, label_order"
   ]
  },
  {
   "cell_type": "code",
   "execution_count": 7,
   "id": "0454ad6c",
   "metadata": {},
   "outputs": [],
   "source": [
    "g, label_order = make_graph_inat(INAT21_LEVELS, categories, exclude_na=False)"
   ]
  },
  {
   "cell_type": "code",
   "execution_count": 8,
   "id": "9994657d",
   "metadata": {
    "scrolled": false
   },
   "outputs": [],
   "source": [
    "edges = util.dfs_edges_with_order(g, label_order)"
   ]
  },
  {
   "cell_type": "code",
   "execution_count": 9,
   "id": "1a25f731",
   "metadata": {},
   "outputs": [],
   "source": [
    "def print_summary(g: nx.DiGraph):\n",
    "    degree = np.array([g.out_degree[x] for x in g])\n",
    "    print('nodes {}, leaf {}, internal {} (non-trivial {}), median branch {} (non-trivial {})'.format(\n",
    "        len(g), np.sum(degree == 0), np.sum(degree > 0), np.sum(degree > 1),\n",
    "        np.median(degree[degree > 0]), np.median(degree[degree > 1])))"
   ]
  },
  {
   "cell_type": "code",
   "execution_count": 10,
   "id": "ae9fcb76",
   "metadata": {},
   "outputs": [
    {
     "name": "stdout",
     "output_type": "stream",
     "text": [
      "nodes 16344, leaf 10000, internal 6344 (non-trivial 2445), median branch 1.0 (non-trivial 3.0)\n"
     ]
    }
   ],
   "source": [
    "print_summary(g)"
   ]
  },
  {
   "cell_type": "code",
   "execution_count": 11,
   "id": "ec987923",
   "metadata": {},
   "outputs": [],
   "source": [
    "input_dir = RESOURCES_DIR / 'hierarchy_raw'\n",
    "output_dir = RESOURCES_DIR / 'hierarchy'\n",
    "\n",
    "output_dir.mkdir(mode=0o755, parents=True, exist_ok=True)"
   ]
  },
  {
   "cell_type": "code",
   "execution_count": 12,
   "id": "ebc6f346",
   "metadata": {},
   "outputs": [
    {
     "name": "stdout",
     "output_type": "stream",
     "text": [
      "nodes 14036, leaf 8142, internal 5894 (non-trivial 2111), median branch 1.0 (non-trivial 3.0)\n"
     ]
    }
   ],
   "source": [
    "with open(input_dir / 'inat18/categories.json') as f:\n",
    "    categories = json.load(f)\n",
    "g, label_order = make_graph_inat(INAT18_LEVELS, categories)\n",
    "print_summary(g)\n",
    "edges = util.dfs_edges_with_order(g, label_order)\n",
    "with open(output_dir / 'inat18.csv', 'w') as f:\n",
    "    w = csv.writer(f)\n",
    "    for edge in edges:\n",
    "        w.writerow(edge)"
   ]
  },
  {
   "cell_type": "code",
   "execution_count": 13,
   "id": "f357f3cd",
   "metadata": {},
   "outputs": [
    {
     "name": "stdout",
     "output_type": "stream",
     "text": [
      "nodes 14036, leaf 8142, internal 5894 (non-trivial 2111), median branch 1.0 (non-trivial 3.0)\n"
     ]
    }
   ],
   "source": [
    "with open(input_dir / 'inat18/categories_anon.json') as f:\n",
    "    categories = json.load(f)\n",
    "g, label_order = make_graph_inat(INAT18_LEVELS, categories)\n",
    "print_summary(g)\n",
    "edges = util.dfs_edges_with_order(g, label_order)\n",
    "with open(output_dir / 'inat18_anon.csv', 'w') as f:\n",
    "    w = csv.writer(f)\n",
    "    for edge in edges:\n",
    "        w.writerow(edge)"
   ]
  },
  {
   "cell_type": "code",
   "execution_count": 14,
   "id": "8b6140a0",
   "metadata": {},
   "outputs": [
    {
     "name": "stdout",
     "output_type": "stream",
     "text": [
      "nodes 1190, leaf 1010, internal 180 (non-trivial 103), median branch 2.0 (non-trivial 11.0)\n"
     ]
    }
   ],
   "source": [
    "with open(input_dir / 'inat19/categories.json') as f:\n",
    "    categories = json.load(f)\n",
    "g, label_order = make_graph_inat(INAT18_LEVELS, categories)\n",
    "print_summary(g)\n",
    "edges = util.dfs_edges_with_order(g, label_order)\n",
    "with open(output_dir / 'inat19.csv', 'w') as f:\n",
    "    w = csv.writer(f)\n",
    "    for edge in edges:\n",
    "        w.writerow(edge)"
   ]
  },
  {
   "cell_type": "code",
   "execution_count": 15,
   "id": "2faa2d58",
   "metadata": {},
   "outputs": [
    {
     "name": "stdout",
     "output_type": "stream",
     "text": [
      "nodes 1190, leaf 1010, internal 180 (non-trivial 103), median branch 2.0 (non-trivial 11.0)\n"
     ]
    }
   ],
   "source": [
    "with open(input_dir / 'inat19/categories_anon.json') as f:\n",
    "    categories = json.load(f)\n",
    "g, label_order = make_graph_inat(INAT18_LEVELS, categories)\n",
    "print_summary(g)\n",
    "edges = util.dfs_edges_with_order(g, label_order)\n",
    "with open(output_dir / 'inat19_anon.csv', 'w') as f:\n",
    "    w = csv.writer(f)\n",
    "    for edge in edges:\n",
    "        w.writerow(edge)"
   ]
  },
  {
   "cell_type": "code",
   "execution_count": 16,
   "id": "4a8f2a5b",
   "metadata": {},
   "outputs": [
    {
     "name": "stdout",
     "output_type": "stream",
     "text": [
      "nodes 5103, leaf 5089, internal 14 (non-trivial 14), median branch 104.0 (non-trivial 104.0)\n"
     ]
    }
   ],
   "source": [
    "with open(input_dir / 'inat17/categories.json') as f:\n",
    "    categories = json.load(f)\n",
    "g, label_order = make_graph_inat(INAT17_LEVELS, categories)\n",
    "print_summary(g)\n",
    "edges = util.dfs_edges_with_order(g, label_order)\n",
    "with open(output_dir / 'inat17.csv', 'w') as f:\n",
    "    w = csv.writer(f)\n",
    "    for edge in edges:\n",
    "        w.writerow(edge)"
   ]
  },
  {
   "cell_type": "code",
   "execution_count": 17,
   "id": "44e7594c",
   "metadata": {},
   "outputs": [
    {
     "name": "stdout",
     "output_type": "stream",
     "text": [
      "nodes 16344, leaf 10000, internal 6344 (non-trivial 2445), median branch 1.0 (non-trivial 3.0)\n"
     ]
    }
   ],
   "source": [
    "with open(input_dir / 'inat21/categories.json') as f:\n",
    "    categories = json.load(f)\n",
    "g, label_order = make_graph_inat(INAT21_LEVELS, categories, exclude_na=False)\n",
    "print_summary(g)\n",
    "edges = util.dfs_edges_with_order(g, label_order)\n",
    "with open(output_dir / 'inat21.csv', 'w') as f:\n",
    "    w = csv.writer(f)\n",
    "    for edge in edges:\n",
    "        w.writerow(edge)"
   ]
  },
  {
   "cell_type": "code",
   "execution_count": null,
   "id": "5c6b8f02",
   "metadata": {},
   "outputs": [],
   "source": []
  }
 ],
 "metadata": {
  "kernelspec": {
   "display_name": "Python 3 (ipykernel)",
   "language": "python",
   "name": "python3"
  },
  "language_info": {
   "codemirror_mode": {
    "name": "ipython",
    "version": 3
   },
   "file_extension": ".py",
   "mimetype": "text/x-python",
   "name": "python",
   "nbconvert_exporter": "python",
   "pygments_lexer": "ipython3",
   "version": "3.8.10"
  }
 },
 "nbformat": 4,
 "nbformat_minor": 5
}
