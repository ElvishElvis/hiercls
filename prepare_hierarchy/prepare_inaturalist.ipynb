{
 "cells": [
  {
   "cell_type": "code",
   "execution_count": 1,
   "id": "aa12ae31",
   "metadata": {},
   "outputs": [],
   "source": [
    "import collections\n",
    "import csv\n",
    "import itertools\n",
    "import json\n",
    "import pathlib\n",
    "\n",
    "import networkx as nx"
   ]
  },
  {
   "cell_type": "code",
   "execution_count": 2,
   "id": "9860a63b",
   "metadata": {},
   "outputs": [],
   "source": [
    "RESOURCES_DIR = pathlib.Path('../resources')"
   ]
  },
  {
   "cell_type": "code",
   "execution_count": 3,
   "id": "debe1e5f",
   "metadata": {},
   "outputs": [],
   "source": [
    "INAT17_LEVELS = ['supercategory', 'name']\n",
    "INAT18_LEVELS = ['kingdom', 'phylum', 'class', 'order', 'family', 'genus', 'name']"
   ]
  },
  {
   "cell_type": "code",
   "execution_count": 4,
   "id": "dd12e1b4",
   "metadata": {},
   "outputs": [],
   "source": [
    "# with open(RESOURCES_DIR / 'hierarchy_raw/inat18/train2018.json') as f:\n",
    "#     categories = json.load(f)['categories']\n",
    "\n",
    "# with open(RESOURCES_DIR / 'hierarchy_raw/inat18/categories_anon.json') as f:\n",
    "#     categories = json.load(f)\n",
    "\n",
    "with open(RESOURCES_DIR / 'hierarchy_raw/inat18/categories.json') as f:\n",
    "    categories = json.load(f)"
   ]
  },
  {
   "cell_type": "code",
   "execution_count": 5,
   "id": "48fafa53",
   "metadata": {},
   "outputs": [
    {
     "data": {
      "text/plain": [
       "[(6, 'kingdom'),\n",
       " (14, 'supercategory'),\n",
       " (25, 'phylum'),\n",
       " (57, 'class'),\n",
       " (272, 'order'),\n",
       " (1118, 'family'),\n",
       " (4401, 'genus'),\n",
       " (8142, 'id'),\n",
       " (8142, 'name')]"
      ]
     },
     "execution_count": 5,
     "metadata": {},
     "output_type": "execute_result"
    }
   ],
   "source": [
    "def count_unique_values(categories):\n",
    "    # Count number of unique values for each field.\n",
    "    fields = set(itertools.chain.from_iterable(x.keys() for x in categories))\n",
    "    unique_values = {k: set() for k in fields}\n",
    "    for x in categories:\n",
    "        for k, v in x.items():\n",
    "            unique_values[k].add(v)\n",
    "    return {k: len(v) for k, v in unique_values.items()}\n",
    "\n",
    "sorted((v, k) for k, v in count_unique_values(categories).items())"
   ]
  },
  {
   "cell_type": "code",
   "execution_count": 6,
   "id": "c2455296",
   "metadata": {},
   "outputs": [],
   "source": [
    "def make_graph_inat(levels, categories, root_name='Life', exclude_na=False):\n",
    "    paths = []\n",
    "    for cat in categories:\n",
    "        path = [root_name] + [cat[level] for level in levels]\n",
    "        if exclude_na:\n",
    "            path = [x for x in path if x != 'NA']\n",
    "        paths.append(path)\n",
    "\n",
    "    # Find parents of each node (to check whether unique).\n",
    "    parents = collections.defaultdict(set)\n",
    "    for path in paths:\n",
    "        for u, v in zip(path, path[1:]):\n",
    "            parents[v].add(u)\n",
    "\n",
    "    # Modify path names in-place.\n",
    "    for path in paths:\n",
    "        for i in range(len(path)):\n",
    "            if len(parents[path[i]]) > 1:\n",
    "                path[i] = '{parent}/{node}'.format(parent=path[i - 1], node=path[i])\n",
    "\n",
    "    g = nx.DiGraph()\n",
    "    for path in paths:\n",
    "        for u, v in zip(path, path[1:]):\n",
    "            g.add_edge(u, v)\n",
    "    return g"
   ]
  },
  {
   "cell_type": "code",
   "execution_count": 7,
   "id": "0454ad6c",
   "metadata": {},
   "outputs": [],
   "source": [
    "g = make_graph_inat(INAT18_LEVELS, categories, exclude_na=False)"
   ]
  },
  {
   "cell_type": "code",
   "execution_count": 8,
   "id": "9994657d",
   "metadata": {},
   "outputs": [],
   "source": [
    "def dfs_edges_with_order(g, order):\n",
    "    visited = set()\n",
    "    edges = []\n",
    "\n",
    "    def visit(node):\n",
    "        if node in visited:\n",
    "            return\n",
    "        visited.add(node)\n",
    "        if not g.in_degree[node]:\n",
    "            return\n",
    "        parents = list(g.predecessors(node))\n",
    "        if len(parents) > 1:\n",
    "            raise ValueError('multiple parents', node, parents)\n",
    "        parent, = parents\n",
    "        visit(parent)\n",
    "        edges.append((parent, node))\n",
    "    \n",
    "    for leaf in order:\n",
    "        visit(leaf)\n",
    "\n",
    "    return edges\n",
    "\n",
    "edges = dfs_edges_with_order(g, [x['name'] for x in categories])"
   ]
  },
  {
   "cell_type": "code",
   "execution_count": 9,
   "id": "6133d75c",
   "metadata": {},
   "outputs": [
    {
     "data": {
      "text/plain": [
       "[('Life', 'Animalia'),\n",
       " ('Animalia', 'Annelida'),\n",
       " ('Annelida', 'Polychaeta'),\n",
       " ('Polychaeta', 'Phyllodocida'),\n",
       " ('Phyllodocida', 'Amphinomidae'),\n",
       " ('Amphinomidae', 'Hermodice'),\n",
       " ('Hermodice', 'Hermodice carunculata'),\n",
       " ('Polychaeta', 'Sabellida'),\n",
       " ('Sabellida', 'Sabellariidae'),\n",
       " ('Sabellariidae', 'Phragmatopoma')]"
      ]
     },
     "execution_count": 9,
     "metadata": {},
     "output_type": "execute_result"
    }
   ],
   "source": [
    "edges[:10]"
   ]
  },
  {
   "cell_type": "code",
   "execution_count": 10,
   "id": "ec987923",
   "metadata": {},
   "outputs": [],
   "source": [
    "input_dir = RESOURCES_DIR / 'hierarchy_raw'\n",
    "output_dir = RESOURCES_DIR / 'hierarchy'\n",
    "\n",
    "output_dir.mkdir(mode=0o755, parents=True, exist_ok=True)"
   ]
  },
  {
   "cell_type": "code",
   "execution_count": 11,
   "id": "ebc6f346",
   "metadata": {},
   "outputs": [],
   "source": [
    "with open(input_dir / 'inat18/categories.json') as f:\n",
    "    categories = json.load(f)\n",
    "g = make_graph_inat(INAT18_LEVELS, categories)\n",
    "edges = dfs_edges_with_order(g, [x['name'] for x in categories])\n",
    "with open(output_dir / 'inat18.csv', 'w') as f:\n",
    "    w = csv.writer(f)\n",
    "    for edge in edges:\n",
    "        w.writerow(edge)"
   ]
  },
  {
   "cell_type": "code",
   "execution_count": 12,
   "id": "f357f3cd",
   "metadata": {},
   "outputs": [],
   "source": [
    "with open(input_dir / 'inat18/categories_anon.json') as f:\n",
    "    categories = json.load(f)\n",
    "g = make_graph_inat(INAT18_LEVELS, categories)\n",
    "edges = dfs_edges_with_order(g, [x['name'] for x in categories])\n",
    "with open(output_dir / 'inat18_anon.csv', 'w') as f:\n",
    "    w = csv.writer(f)\n",
    "    for edge in edges:\n",
    "        w.writerow(edge)"
   ]
  },
  {
   "cell_type": "code",
   "execution_count": 13,
   "id": "8b6140a0",
   "metadata": {},
   "outputs": [],
   "source": [
    "with open(input_dir / 'inat19/categories.json') as f:\n",
    "    categories = json.load(f)\n",
    "g = make_graph_inat(INAT18_LEVELS, categories)\n",
    "edges = dfs_edges_with_order(g, [x['name'] for x in categories])\n",
    "with open(output_dir / 'inat19.csv', 'w') as f:\n",
    "    w = csv.writer(f)\n",
    "    for edge in edges:\n",
    "        w.writerow(edge)"
   ]
  },
  {
   "cell_type": "code",
   "execution_count": 14,
   "id": "2faa2d58",
   "metadata": {},
   "outputs": [],
   "source": [
    "with open(input_dir / 'inat19/categories_anon.json') as f:\n",
    "    categories = json.load(f)\n",
    "g = make_graph_inat(INAT18_LEVELS, categories)\n",
    "edges = dfs_edges_with_order(g, [x['name'] for x in categories])\n",
    "with open(output_dir / 'inat19_anon.csv', 'w') as f:\n",
    "    w = csv.writer(f)\n",
    "    for edge in edges:\n",
    "        w.writerow(edge)"
   ]
  },
  {
   "cell_type": "code",
   "execution_count": 15,
   "id": "4a8f2a5b",
   "metadata": {},
   "outputs": [],
   "source": [
    "with open(input_dir / 'inat17/categories.json') as f:\n",
    "    categories = json.load(f)\n",
    "g = make_graph_inat(INAT17_LEVELS, categories)\n",
    "edges = dfs_edges_with_order(g, [x['name'] for x in categories])\n",
    "with open(output_dir / 'inat17.csv', 'w') as f:\n",
    "    w = csv.writer(f)\n",
    "    for edge in edges:\n",
    "        w.writerow(edge)"
   ]
  },
  {
   "cell_type": "code",
   "execution_count": 16,
   "id": "44e7594c",
   "metadata": {},
   "outputs": [],
   "source": [
    "with open(input_dir / 'inat21/categories.json') as f:\n",
    "    categories = json.load(f)\n",
    "g = make_graph_inat(INAT18_LEVELS, categories, exclude_na=False)\n",
    "edges = dfs_edges_with_order(g, [x['name'] for x in categories])\n",
    "with open(output_dir / 'inat21.csv', 'w') as f:\n",
    "    w = csv.writer(f)\n",
    "    for edge in edges:\n",
    "        w.writerow(edge)"
   ]
  },
  {
   "cell_type": "code",
   "execution_count": null,
   "id": "c4f212c3",
   "metadata": {},
   "outputs": [],
   "source": []
  }
 ],
 "metadata": {
  "kernelspec": {
   "display_name": "Python 3 (ipykernel)",
   "language": "python",
   "name": "python3"
  },
  "language_info": {
   "codemirror_mode": {
    "name": "ipython",
    "version": 3
   },
   "file_extension": ".py",
   "mimetype": "text/x-python",
   "name": "python",
   "nbconvert_exporter": "python",
   "pygments_lexer": "ipython3",
   "version": "3.8.10"
  }
 },
 "nbformat": 4,
 "nbformat_minor": 5
}
