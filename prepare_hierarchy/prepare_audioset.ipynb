{
 "cells": [
  {
   "cell_type": "code",
   "execution_count": 22,
   "id": "ba5174a5",
   "metadata": {},
   "outputs": [],
   "source": [
    "import collections\n",
    "import csv\n",
    "import functools\n",
    "import gzip\n",
    "import itertools\n",
    "import json\n",
    "import math\n",
    "import pathlib\n",
    "\n",
    "import lmdb\n",
    "import networkx as nx\n",
    "import numpy as np\n",
    "\n",
    "import util\n",
    "\n",
    "RESOURCES_DIR = pathlib.Path('../resources')"
   ]
  },
  {
   "cell_type": "code",
   "execution_count": 163,
   "id": "b1f54277",
   "metadata": {},
   "outputs": [],
   "source": [
    "with open(RESOURCES_DIR / 'hierarchy_raw/audioset/ontology.json') as f:\n",
    "    ontology = json.load(f)\n",
    "\n",
    "tag_to_cat = {x['id']: x for x in ontology}\n",
    "tag_to_name = {x['id']: x['name'] for x in ontology}\n",
    "name_to_tag = {x['name']: x['id'] for x in ontology}\n",
    "blacklist = set(x['id'] for x in ontology if 'blacklist' in x['restrictions'])"
   ]
  },
  {
   "cell_type": "code",
   "execution_count": 164,
   "id": "5f4f9d2f",
   "metadata": {},
   "outputs": [],
   "source": [
    "g = nx.DiGraph()\n",
    "for x in ontology:\n",
    "    node = x['id']\n",
    "    for child in x['child_ids']:\n",
    "        g.add_edge(node, child)"
   ]
  },
  {
   "cell_type": "code",
   "execution_count": 165,
   "id": "48f6536f",
   "metadata": {},
   "outputs": [
    {
     "data": {
      "text/plain": [
       "['Human sounds',\n",
       " 'Animal',\n",
       " 'Music',\n",
       " 'Natural sounds',\n",
       " 'Sounds of things',\n",
       " 'Source-ambiguous sounds',\n",
       " 'Channel, environment and background']"
      ]
     },
     "execution_count": 165,
     "metadata": {},
     "output_type": "execute_result"
    }
   ],
   "source": [
    "top_nodes = [x for x in g if g.in_degree(x) == 0]\n",
    "[tag_to_name[x] for x in top_nodes]"
   ]
  },
  {
   "cell_type": "code",
   "execution_count": 166,
   "id": "ccfa8a57",
   "metadata": {},
   "outputs": [
    {
     "data": {
      "text/plain": [
       "633"
      ]
     },
     "execution_count": 166,
     "metadata": {},
     "output_type": "execute_result"
    }
   ],
   "source": [
    "# Add root node (not present in topology).\n",
    "for x in top_nodes:\n",
    "    g.add_edge('root', x)\n",
    "\n",
    "tag_to_name['root'] = 'ROOT'\n",
    "\n",
    "len(g)"
   ]
  },
  {
   "cell_type": "code",
   "execution_count": 173,
   "id": "a68ae9a0",
   "metadata": {},
   "outputs": [],
   "source": [
    "# The labels do not cover the entire hierarchy.\n",
    "# Take the subgraph that is reachable from the labels.\n",
    "\n",
    "with open(RESOURCES_DIR / 'hierarchy_raw/audioset/class_labels_indices.csv') as f:\n",
    "    reader = csv.reader(f)\n",
    "    next(reader)  # Skip header row.\n",
    "    label_order = [row[1] for row in reader]\n",
    "\n",
    "label_tags = list(label_order)"
   ]
  },
  {
   "cell_type": "code",
   "execution_count": 174,
   "id": "cf26ce64",
   "metadata": {},
   "outputs": [
    {
     "data": {
      "text/plain": [
       "{'/m/01jg1z': 'Heart murmur',\n",
       " '/m/07r4gkf': 'Patter',\n",
       " '/m/074ft': 'Song',\n",
       " '/m/01h82_': 'Engine knocking',\n",
       " '/m/02z32qm': 'Fusillade',\n",
       " '/m/0b_fwt': 'Electronic tuner',\n",
       " '/m/07s8j8t': 'Roll',\n",
       " '/m/07qmpdm': 'Clatter',\n",
       " '/m/0b9m1': 'Harmonic',\n",
       " '/m/08p9q4': 'Sidetone',\n",
       " '/m/01jwx6': 'Vibration',\n",
       " '/m/07hvw1': 'Field recording'}"
      ]
     },
     "execution_count": 174,
     "metadata": {},
     "output_type": "execute_result"
    }
   ],
   "source": [
    "# Note: Some of the *labels* are in the blacklist.\n",
    "{tag: tag_to_name[tag] for tag in label_tags if tag in blacklist}"
   ]
  },
  {
   "cell_type": "code",
   "execution_count": 176,
   "id": "3109f692",
   "metadata": {},
   "outputs": [
    {
     "data": {
      "text/plain": [
       "544"
      ]
     },
     "execution_count": 176,
     "metadata": {},
     "output_type": "execute_result"
    }
   ],
   "source": [
    "# Take the subgraph that is reachable from non-blacklisted labels.\n",
    "\n",
    "def subgraph_with_ancestors(g, nodes):\n",
    "    # Expand skeleton to include ancestors.\n",
    "    nodes = set(nodes)\n",
    "    expanded = set.union(\n",
    "        nodes,\n",
    "        set(itertools.chain.from_iterable(\n",
    "            nx.ancestors(g, node) for node in nodes)))\n",
    "    return g.subgraph(expanded)\n",
    "\n",
    "label_tags = [x for x in label_tags if x not in blacklist]\n",
    "g = subgraph_with_ancestors(g, label_tags)\n",
    "len(g)"
   ]
  },
  {
   "cell_type": "code",
   "execution_count": 177,
   "id": "f130436a",
   "metadata": {},
   "outputs": [
    {
     "data": {
      "text/plain": [
       "{'Children shouting': ['Shout', 'Human group actions'],\n",
       " 'Choir': ['Singing', 'Musical instrument'],\n",
       " 'Chant': ['Singing', 'Vocal music'],\n",
       " 'Clapping': ['Hands', 'Human group actions'],\n",
       " 'Hubbub, speech noise, speech babble': ['Human group actions', 'Noise'],\n",
       " 'Howl': ['Dog', 'Canidae, dogs, wolves'],\n",
       " 'Growling': ['Dog',\n",
       "  'Cat',\n",
       "  'Roaring cats (lions, tigers)',\n",
       "  'Canidae, dogs, wolves'],\n",
       " 'Hiss': ['Cat', 'Snake', 'Steam', 'Onomatopoeia'],\n",
       " 'Clip-clop': ['Horse', 'Clicking'],\n",
       " 'Cowbell': ['Cattle, bovinae', 'Percussion', 'Bell'],\n",
       " 'Bleat': ['Goat', 'Sheep'],\n",
       " 'Chirp, tweet': ['Bird vocalization, bird call, bird song', 'Brief tone'],\n",
       " 'Buzz': ['Fly, housefly', 'Bee, wasp, etc.', 'Brief tone'],\n",
       " 'Rattle': ['Snake', 'Onomatopoeia'],\n",
       " 'Bell': ['Musical instrument', 'Sounds of things'],\n",
       " 'Bicycle bell': ['Bell', 'Bicycle', 'Alarm'],\n",
       " 'Beatboxing': ['Hip hop music', 'Vocal music'],\n",
       " 'Wind noise (microphone)': ['Wind', 'Microphone'],\n",
       " 'Crackle': ['Fire', 'Onomatopoeia'],\n",
       " 'Vehicle horn, car horn, honking': ['Car', 'Alarm'],\n",
       " 'Car alarm': ['Car', 'Alarm'],\n",
       " 'Air horn, truck horn': ['Truck', 'Alarm'],\n",
       " 'Police car (siren)': ['Emergency vehicle', 'Siren'],\n",
       " 'Ambulance (siren)': ['Emergency vehicle', 'Siren'],\n",
       " 'Fire engine, fire truck (siren)': ['Emergency vehicle', 'Siren'],\n",
       " 'Jet engine': ['Aircraft engine', 'Engine'],\n",
       " \"Dental drill, dentist's drill\": ['Light engine (high frequency)', 'Drill'],\n",
       " 'Doorbell': ['Door', 'Alarm'],\n",
       " 'Knock': ['Door', 'Generic impact sounds'],\n",
       " 'Tap': ['Door', 'Generic impact sounds'],\n",
       " 'Squeak': ['Door', 'Brief tone'],\n",
       " 'Tick': ['Clock', 'Clicking'],\n",
       " 'Crack': ['Wood', 'Onomatopoeia'],\n",
       " 'Squish': ['Liquid', 'Onomatopoeia'],\n",
       " 'Whoosh, swoosh, swish': ['Arrow', 'Onomatopoeia'],\n",
       " 'Thump, thud': ['Arrow', 'Generic impact sounds']}"
      ]
     },
     "execution_count": 177,
     "metadata": {},
     "output_type": "execute_result"
    }
   ],
   "source": [
    "# There still exist some nodes with multiple parents.\n",
    "{tag_to_name[node]: [tag_to_name[p] for p in g.predecessors(node)]\n",
    " for node in g if g.in_degree(node) > 1}"
   ]
  },
  {
   "cell_type": "code",
   "execution_count": 178,
   "id": "b8332e5b",
   "metadata": {},
   "outputs": [
    {
     "data": {
      "text/plain": [
       "True"
      ]
     },
     "execution_count": 178,
     "metadata": {},
     "output_type": "execute_result"
    }
   ],
   "source": [
    "# Just in case, check whether every node is \"required\".\n",
    "# Each node is said to be \"required\" if\n",
    "#   i) it is a leaf node, or\n",
    "#   ii) it has a child that is \"required\" and has no other parents\n",
    "# In this case, all nodes are required.\n",
    "\n",
    "def find_required(g):\n",
    "\n",
    "    @functools.lru_cache\n",
    "    def required(x):\n",
    "        children = list(g.successors(x))\n",
    "        if len(children) == 0:\n",
    "            return True\n",
    "        return any(required(c) and g.in_degree[c] == 1 for c in children)\n",
    "\n",
    "    return {x: required(x) for x in g}\n",
    "\n",
    "required = find_required(g)\n",
    "all(required)"
   ]
  },
  {
   "cell_type": "code",
   "execution_count": 180,
   "id": "0b825cc3",
   "metadata": {},
   "outputs": [
    {
     "data": {
      "text/plain": [
       "{1: 469, 2: 41, 3: 1, 4: 4}"
      ]
     },
     "execution_count": 180,
     "metadata": {},
     "output_type": "execute_result"
    }
   ],
   "source": [
    "# Check which labels have multiple paths from root to node.\n",
    "\n",
    "def find_num_paths(g):\n",
    "    @functools.lru_cache\n",
    "    def num_paths(x):\n",
    "        parents = list(g.predecessors(x))\n",
    "        if not parents:\n",
    "            return 1  # Root node has 1 path.\n",
    "        return sum(num_paths(parent) for parent in parents)\n",
    "    return {x: num_paths(x) for x in g}\n",
    "\n",
    "num_paths = find_num_paths(g)\n",
    "\n",
    "# Most labels have a single path.\n",
    "dict(sorted(collections.Counter([num_paths[x] for x in label_tags]).items()))"
   ]
  },
  {
   "cell_type": "code",
   "execution_count": 181,
   "id": "516cf3ac",
   "metadata": {},
   "outputs": [
    {
     "name": "stdout",
     "output_type": "stream",
     "text": [
      "Children shouting\n",
      "  (Children shouting <- ['Human group actions', 'Shout'])\n",
      "  (['Human group actions', 'Human voice'] <- Human sounds)\n",
      "Choir\n",
      "  (Choir <- ['Musical instrument', 'Singing'])\n",
      "  (['Music', 'Human sounds'] <- ROOT)\n",
      "Chant\n",
      "  (Chant <- ['Vocal music', 'Singing'])\n",
      "  (['Music', 'Human sounds'] <- ROOT)\n",
      "Mantra\n",
      "  (Chant <- ['Vocal music', 'Singing'])\n",
      "  (['Music', 'Human sounds'] <- ROOT)\n",
      "Clapping\n",
      "  (Clapping <- ['Human group actions', 'Hands'])\n",
      "  (['Human group actions', 'Hands'] <- Human sounds)\n",
      "Hubbub, speech noise, speech babble\n",
      "  (Hubbub, speech noise, speech babble <- ['Noise', 'Human group actions'])\n",
      "  (['Channel, environment and background', 'Human sounds'] <- ROOT)\n",
      "Howl\n",
      "  (Howl <- ['Canidae, dogs, wolves', 'Dog'])\n",
      "  (['Domestic animals, pets', 'Wild animals'] <- Animal)\n",
      "Growling\n",
      "  (Growling <- ['Roaring cats (lions, tigers)', 'Cat', 'Canidae, dogs, wolves', 'Dog'])\n",
      "  (['Cat', 'Dog'] <- Domestic animals, pets)\n",
      "  (['Roaring cats (lions, tigers)', 'Canidae, dogs, wolves'] <- Wild animals)\n",
      "  (['Domestic animals, pets', 'Wild animals'] <- Animal)\n",
      "Hiss\n",
      "  (Hiss <- ['Snake', 'Cat', 'Steam', 'Onomatopoeia'])\n",
      "  (['Natural sounds', 'Source-ambiguous sounds', 'Animal'] <- ROOT)\n",
      "  (['Domestic animals, pets', 'Wild animals'] <- Animal)\n",
      "Clip-clop\n",
      "  (Clip-clop <- ['Horse', 'Clicking'])\n",
      "  (['Animal', 'Source-ambiguous sounds'] <- ROOT)\n",
      "Cowbell\n",
      "  (Cowbell <- ['Bell', 'Cattle, bovinae', 'Percussion'])\n",
      "  (Bell <- ['Musical instrument', 'Sounds of things'])\n",
      "  (['Bell', 'Percussion'] <- Musical instrument)\n",
      "  (['Animal', 'Music', 'Sounds of things'] <- ROOT)\n",
      "Bleat\n",
      "  (Bleat <- ['Goat', 'Sheep'])\n",
      "  (['Goat', 'Sheep'] <- Livestock, farm animals, working animals)\n",
      "Chirp, tweet\n",
      "  (Chirp, tweet <- ['Bird vocalization, bird call, bird song', 'Brief tone'])\n",
      "  (['Animal', 'Source-ambiguous sounds'] <- ROOT)\n",
      "Buzz\n",
      "  (Buzz <- ['Bee, wasp, etc.', 'Fly, housefly', 'Brief tone'])\n",
      "  (['Fly, housefly', 'Bee, wasp, etc.'] <- Insect)\n",
      "  (['Animal', 'Source-ambiguous sounds'] <- ROOT)\n",
      "Rattle\n",
      "  (Rattle <- ['Snake', 'Onomatopoeia'])\n",
      "  (['Animal', 'Source-ambiguous sounds'] <- ROOT)\n",
      "Bell\n",
      "  (Bell <- ['Musical instrument', 'Sounds of things'])\n",
      "  (['Music', 'Sounds of things'] <- ROOT)\n",
      "Church bell\n",
      "  (Bell <- ['Musical instrument', 'Sounds of things'])\n",
      "  (['Music', 'Sounds of things'] <- ROOT)\n",
      "Jingle bell\n",
      "  (Bell <- ['Musical instrument', 'Sounds of things'])\n",
      "  (['Music', 'Sounds of things'] <- ROOT)\n",
      "Bicycle bell\n",
      "  (Bicycle bell <- ['Bicycle', 'Alarm', 'Bell'])\n",
      "  (Bell <- ['Musical instrument', 'Sounds of things'])\n",
      "  (['Alarm', 'Bell', 'Vehicle'] <- Sounds of things)\n",
      "  (['Music', 'Sounds of things'] <- ROOT)\n",
      "Tuning fork\n",
      "  (Bell <- ['Musical instrument', 'Sounds of things'])\n",
      "  (['Music', 'Sounds of things'] <- ROOT)\n",
      "Chime\n",
      "  (Bell <- ['Musical instrument', 'Sounds of things'])\n",
      "  (['Music', 'Sounds of things'] <- ROOT)\n",
      "Wind chime\n",
      "  (Bell <- ['Musical instrument', 'Sounds of things'])\n",
      "  (['Music', 'Sounds of things'] <- ROOT)\n",
      "Change ringing (campanology)\n",
      "  (Bell <- ['Musical instrument', 'Sounds of things'])\n",
      "  (['Music', 'Sounds of things'] <- ROOT)\n",
      "Beatboxing\n",
      "  (Beatboxing <- ['Vocal music', 'Hip hop music'])\n",
      "  (['Vocal music', 'Hip hop music'] <- Music genre)\n",
      "Wind noise (microphone)\n",
      "  (Wind noise (microphone) <- ['Wind', 'Microphone'])\n",
      "  (['Natural sounds', 'Sounds of things'] <- ROOT)\n",
      "Crackle\n",
      "  (Crackle <- ['Onomatopoeia', 'Fire'])\n",
      "  (['Natural sounds', 'Source-ambiguous sounds'] <- ROOT)\n",
      "Vehicle horn, car horn, honking\n",
      "  (Vehicle horn, car horn, honking <- ['Alarm', 'Car'])\n",
      "  (['Alarm', 'Vehicle'] <- Sounds of things)\n",
      "Toot\n",
      "  (Vehicle horn, car horn, honking <- ['Alarm', 'Car'])\n",
      "  (['Alarm', 'Vehicle'] <- Sounds of things)\n",
      "Car alarm\n",
      "  (Car alarm <- ['Alarm', 'Car'])\n",
      "  (['Alarm', 'Vehicle'] <- Sounds of things)\n",
      "Air horn, truck horn\n",
      "  (Air horn, truck horn <- ['Alarm', 'Truck'])\n",
      "  (['Alarm', 'Vehicle'] <- Sounds of things)\n",
      "Police car (siren)\n",
      "  (Police car (siren) <- ['Emergency vehicle', 'Siren'])\n",
      "  (['Alarm', 'Vehicle'] <- Sounds of things)\n",
      "Ambulance (siren)\n",
      "  (Ambulance (siren) <- ['Emergency vehicle', 'Siren'])\n",
      "  (['Alarm', 'Vehicle'] <- Sounds of things)\n",
      "Fire engine, fire truck (siren)\n",
      "  (Fire engine, fire truck (siren) <- ['Emergency vehicle', 'Siren'])\n",
      "  (['Alarm', 'Vehicle'] <- Sounds of things)\n",
      "Jet engine\n",
      "  (Jet engine <- ['Engine', 'Aircraft engine'])\n",
      "  (['Vehicle', 'Engine'] <- Sounds of things)\n",
      "Dental drill, dentist's drill\n",
      "  (Dental drill, dentist's drill <- ['Light engine (high frequency)', 'Drill'])\n",
      "  (['Tools', 'Engine'] <- Sounds of things)\n",
      "Doorbell\n",
      "  (Doorbell <- ['Alarm', 'Door'])\n",
      "  (['Alarm', 'Domestic sounds, home sounds'] <- Sounds of things)\n",
      "Ding-dong\n",
      "  (Doorbell <- ['Alarm', 'Door'])\n",
      "  (['Alarm', 'Domestic sounds, home sounds'] <- Sounds of things)\n",
      "Knock\n",
      "  (Knock <- ['Generic impact sounds', 'Door'])\n",
      "  (['Source-ambiguous sounds', 'Sounds of things'] <- ROOT)\n",
      "Tap\n",
      "  (Tap <- ['Generic impact sounds', 'Door'])\n",
      "  (['Source-ambiguous sounds', 'Sounds of things'] <- ROOT)\n",
      "Squeak\n",
      "  (Squeak <- ['Door', 'Brief tone'])\n",
      "  (['Source-ambiguous sounds', 'Sounds of things'] <- ROOT)\n",
      "Tick\n",
      "  (Tick <- ['Clock', 'Clicking'])\n",
      "  (['Source-ambiguous sounds', 'Sounds of things'] <- ROOT)\n",
      "Crack\n",
      "  (Crack <- ['Wood', 'Onomatopoeia'])\n",
      "  (['Source-ambiguous sounds', 'Sounds of things'] <- ROOT)\n",
      "Squish\n",
      "  (Squish <- ['Liquid', 'Onomatopoeia'])\n",
      "  (['Source-ambiguous sounds', 'Sounds of things'] <- ROOT)\n",
      "Whoosh, swoosh, swish\n",
      "  (Whoosh, swoosh, swish <- ['Onomatopoeia', 'Arrow'])\n",
      "  (['Source-ambiguous sounds', 'Sounds of things'] <- ROOT)\n",
      "Thump, thud\n",
      "  (Thump, thud <- ['Generic impact sounds', 'Arrow'])\n",
      "  (['Source-ambiguous sounds', 'Sounds of things'] <- ROOT)\n",
      "Thunk\n",
      "  (Thump, thud <- ['Generic impact sounds', 'Arrow'])\n",
      "  (['Source-ambiguous sounds', 'Sounds of things'] <- ROOT)\n"
     ]
    }
   ],
   "source": [
    "# Remove the nodes that have multiple paths.\n",
    "# Check which labels we are removing.\n",
    "\n",
    "def print_multiple_paths(g, label_tags):\n",
    "    num_paths = find_num_paths(g)\n",
    "\n",
    "    for tag in label_tags:\n",
    "        if not num_paths[tag] > 1:\n",
    "            continue\n",
    "        ancestors = nx.ancestors(g, tag)\n",
    "        # Find ancestors with multiple parents.\n",
    "        many_to_one = [\n",
    "            (set(g.predecessors(u)), u) for u in\n",
    "            itertools.chain([tag], ancestors) if g.in_degree[u] > 1\n",
    "        ]\n",
    "        # Find ancestors with multiple children that are ancestors.\n",
    "        one_to_many = [\n",
    "            (u, vs) for u, vs in \n",
    "            ((u, set(g.successors(u)).intersection(ancestors)) for u in ancestors)\n",
    "            if len(vs) > 1\n",
    "        ]\n",
    "\n",
    "        print(tag_to_name[tag])\n",
    "        for us, v in many_to_one:\n",
    "            print('  ({} <- {})'.format(tag_to_name[v], [tag_to_name[u] for u in us]))\n",
    "        for u, vs in one_to_many:\n",
    "            print('  ({} <- {})'.format([tag_to_name[v] for v in vs], tag_to_name[u]))\n",
    "\n",
    "print_multiple_paths(g, label_tags)"
   ]
  },
  {
   "cell_type": "code",
   "execution_count": 208,
   "id": "bcdf42ae",
   "metadata": {},
   "outputs": [],
   "source": [
    "def delete_node(g, x):\n",
    "    if x not in g:\n",
    "        return g\n",
    "    h = nx.DiGraph(g)\n",
    "    h.remove_node(x)\n",
    "    node_subset = ['root'] + list(nx.descendants(h, 'root'))\n",
    "    return g.subgraph(node_subset)\n",
    "\n",
    "def delete_edge(g, u, v):\n",
    "    if not g.has_edge(u, v):\n",
    "        return g\n",
    "    h = nx.DiGraph(g)\n",
    "    h.remove_edge(u, v)\n",
    "    return h"
   ]
  },
  {
   "cell_type": "code",
   "execution_count": 231,
   "id": "93b0857a",
   "metadata": {
    "scrolled": false
   },
   "outputs": [
    {
     "name": "stdout",
     "output_type": "stream",
     "text": [
      "Clapping\n",
      "  (Clapping <- ['Human group actions', 'Hands'])\n",
      "  (['Human group actions', 'Hands'] <- Human sounds)\n",
      "Cowbell\n",
      "  (Cowbell <- ['Bell', 'Percussion'])\n",
      "  (Bell <- ['Musical instrument', 'Sounds of things'])\n",
      "  (['Bell', 'Percussion'] <- Musical instrument)\n",
      "  (['Music', 'Sounds of things'] <- ROOT)\n",
      "Bell\n",
      "  (Bell <- ['Musical instrument', 'Sounds of things'])\n",
      "  (['Music', 'Sounds of things'] <- ROOT)\n",
      "Church bell\n",
      "  (Bell <- ['Musical instrument', 'Sounds of things'])\n",
      "  (['Music', 'Sounds of things'] <- ROOT)\n",
      "Jingle bell\n",
      "  (Bell <- ['Musical instrument', 'Sounds of things'])\n",
      "  (['Music', 'Sounds of things'] <- ROOT)\n",
      "Bicycle bell\n",
      "  (Bicycle bell <- ['Alarm', 'Bell', 'Bicycle'])\n",
      "  (Bell <- ['Musical instrument', 'Sounds of things'])\n",
      "  (['Alarm', 'Bell', 'Vehicle'] <- Sounds of things)\n",
      "  (['Music', 'Sounds of things'] <- ROOT)\n",
      "Tuning fork\n",
      "  (Bell <- ['Musical instrument', 'Sounds of things'])\n",
      "  (['Music', 'Sounds of things'] <- ROOT)\n",
      "Chime\n",
      "  (Bell <- ['Musical instrument', 'Sounds of things'])\n",
      "  (['Music', 'Sounds of things'] <- ROOT)\n",
      "Wind chime\n",
      "  (Bell <- ['Musical instrument', 'Sounds of things'])\n",
      "  (['Music', 'Sounds of things'] <- ROOT)\n",
      "Change ringing (campanology)\n",
      "  (Bell <- ['Musical instrument', 'Sounds of things'])\n",
      "  (['Music', 'Sounds of things'] <- ROOT)\n",
      "Wind noise (microphone)\n",
      "  (Wind noise (microphone) <- ['Wind', 'Microphone'])\n",
      "  (['Natural sounds', 'Sounds of things'] <- ROOT)\n",
      "Car alarm\n",
      "  (Car alarm <- ['Alarm', 'Car'])\n",
      "  (['Alarm', 'Vehicle'] <- Sounds of things)\n",
      "Jet engine\n",
      "  (Jet engine <- ['Aircraft engine', 'Engine'])\n",
      "  (['Vehicle', 'Engine'] <- Sounds of things)\n",
      "Dental drill, dentist's drill\n",
      "  (Dental drill, dentist's drill <- ['Light engine (high frequency)', 'Drill'])\n",
      "  (['Tools', 'Engine'] <- Sounds of things)\n",
      "Doorbell\n",
      "  (Doorbell <- ['Alarm', 'Door'])\n",
      "  (['Alarm', 'Domestic sounds, home sounds'] <- Sounds of things)\n",
      "Ding-dong\n",
      "  (Doorbell <- ['Alarm', 'Door'])\n",
      "  (['Alarm', 'Domestic sounds, home sounds'] <- Sounds of things)\n"
     ]
    }
   ],
   "source": [
    "# Try to conform DAG to a tree by making classes mutually exclusive!\n",
    "# Could simply delete nodes with more than 1 path.\n",
    "# However, we often find that classes like onomatopoeia\n",
    "# lead to multiple labels per example at test time.\n",
    "\n",
    "# The hierarchy should be firstly a hierarchy of sources\n",
    "# and then a hierarchy of types of noise from that source.\n",
    "# source category -> source -> sound category\n",
    "\n",
    "# Helpful visualization:\n",
    "# http://www.jordipons.me/apps/audioset/\n",
    "\n",
    "# Channel, environment and background:\n",
    "g = delete_node(g, name_to_tag['Acoustic environment'])\n",
    "g = delete_node(g, name_to_tag['Sound reproduction'])\n",
    "# Noise:\n",
    "g = delete_node(g, name_to_tag['Background noise'])\n",
    "g = delete_node(g, name_to_tag['Hubbub, speech noise, speech babble'])\n",
    "g = delete_node(g, name_to_tag['Cacophony'])\n",
    "g = delete_node(g, name_to_tag['Throbbing'])\n",
    "g = delete_node(g, name_to_tag['Vibration'])\n",
    "\n",
    "# Animal:\n",
    "# \"Growling\" is a sound category for cat, dog, wild cats, wild dogs.\n",
    "g = delete_node(g, name_to_tag['Growling'])\n",
    "# \"Howl\" is a sound category for dog, wild dogs.\n",
    "g = delete_node(g, name_to_tag['Howl'])\n",
    "# \"Hiss\" is a sound category for cat, snake.\n",
    "g = delete_node(g, name_to_tag['Hiss'])\n",
    "# \"Buzz\" is a sound category for bee, fly.\n",
    "g = delete_node(g, name_to_tag['Buzz'])\n",
    "# \"Bleat\" is a sound category for goat, sheep.\n",
    "g = delete_node(g, name_to_tag['Bleat'])\n",
    "# \"Cowbell\" is a sound made by the bell, not the cow.\n",
    "# (Although cowbell can be both musical instrument and bell.)\n",
    "g = delete_edge(g, name_to_tag['Cattle, bovinae'], name_to_tag['Cowbell'])\n",
    "\n",
    "# Music:\n",
    "# Only the musical instrument is the source.\n",
    "g = delete_node(g, name_to_tag['Music mood'])\n",
    "g = delete_node(g, name_to_tag['Music role'])\n",
    "g = delete_node(g, name_to_tag['Musical concepts'])\n",
    "g = delete_node(g, name_to_tag['Music genre'])\n",
    "# The source of \"Choir\" is a group of people, not an object.\n",
    "g = delete_edge(g, name_to_tag['Musical instrument'], name_to_tag['Choir'])\n",
    "\n",
    "# Human sounds:\n",
    "# The source is EITHER one human or a group of humans.\n",
    "# Human voice:\n",
    "# \"Children shouting\" is inherently a group of humans.\n",
    "g = delete_edge(g, name_to_tag['Shout'], name_to_tag['Children shouting'])\n",
    "\n",
    "# Onomatopoeia is a property of the word, it does not describe a source.\n",
    "g = delete_node(g, name_to_tag['Onomatopoeia'])\n",
    "\n",
    "\n",
    "# Silence is the absence of a sound.\n",
    "g = delete_node(g, name_to_tag['Silence'])\n",
    "\n",
    "\n",
    "# Remove source-ambiguous sounds.\n",
    "g = delete_node(g, name_to_tag['Source-ambiguous sounds'])\n",
    "\n",
    "\n",
    "# The source is EITHER a group or a single person.\n",
    "# Detach human group actions from their other parents.\n",
    "\n",
    "# Often we have two classes that are a part and a whole.\n",
    "# The part is what makes the sound.\n",
    "# We eliminate the whole.\n",
    "# The cowbell is part of the cow.\n",
    "# The engine is part of the car, aeroplane, etc.\n",
    "# The bell is part of the bicycle.\n",
    "\n",
    "# \"Police car (siren)\" belongs to \"Siren\" and not to \"Emergency vehicle\".\n",
    "g = delete_node(g, name_to_tag['Emergency vehicle'])\n",
    "# \"Vehicle horn, car horn, honking\" is not the sound of the car.\n",
    "g = delete_edge(g, name_to_tag['Car'], name_to_tag['Vehicle horn, car horn, honking'])\n",
    "g = delete_edge(g, name_to_tag['Truck'], name_to_tag['Air horn, truck horn'])\n",
    "\n",
    "label_tags = [x for x in label_tags if x in g]\n",
    "\n",
    "print_multiple_paths(g, label_tags)"
   ]
  },
  {
   "cell_type": "code",
   "execution_count": null,
   "id": "b28bbc84",
   "metadata": {},
   "outputs": [],
   "source": []
  },
  {
   "cell_type": "code",
   "execution_count": null,
   "id": "4933197d",
   "metadata": {},
   "outputs": [],
   "source": []
  },
  {
   "cell_type": "code",
   "execution_count": null,
   "id": "bc5e9c45",
   "metadata": {},
   "outputs": [],
   "source": []
  },
  {
   "cell_type": "code",
   "execution_count": null,
   "id": "95542390",
   "metadata": {},
   "outputs": [],
   "source": []
  },
  {
   "cell_type": "code",
   "execution_count": null,
   "id": "dc932ff1",
   "metadata": {},
   "outputs": [],
   "source": []
  },
  {
   "cell_type": "code",
   "execution_count": 72,
   "id": "b361be92",
   "metadata": {},
   "outputs": [
    {
     "data": {
      "text/plain": [
       "(544, True)"
      ]
     },
     "execution_count": 72,
     "metadata": {},
     "output_type": "execute_result"
    }
   ],
   "source": []
  },
  {
   "cell_type": "code",
   "execution_count": null,
   "id": "06663a09",
   "metadata": {},
   "outputs": [],
   "source": [
    "# Check for nodes whose entire subtrees are blacklisted.\n",
    "blacklisted = [\n",
    "    node for node in g if node != 'root'\n",
    "    and node in blacklist\n",
    "    and all(x in blacklist for x in nx.descendants(g, node))]\n",
    "\n",
    "[tag_to_name[node] for node in blacklisted]"
   ]
  },
  {
   "cell_type": "code",
   "execution_count": null,
   "id": "ab02e67e",
   "metadata": {},
   "outputs": [],
   "source": [
    "# Delete all blacklisted classes.\n",
    "g = nx.DiGraph(g_present)\n",
    "g.remove_nodes_from(blacklisted)\n",
    "len(g)"
   ]
  },
  {
   "cell_type": "code",
   "execution_count": null,
   "id": "ae8eefe5",
   "metadata": {},
   "outputs": [],
   "source": [
    "leaf_nodes = set(x for x in g if g.out_degree[x] == 0)\n",
    "len(leaf_nodes)"
   ]
  },
  {
   "cell_type": "code",
   "execution_count": null,
   "id": "e79c6fba",
   "metadata": {},
   "outputs": [],
   "source": [
    "# Check for nodes with multiple parents.\n",
    "sum(1 for x in g if g.in_degree[x] > 1)"
   ]
  },
  {
   "cell_type": "code",
   "execution_count": null,
   "id": "9c816ad6",
   "metadata": {},
   "outputs": [],
   "source": [
    "for node in g:\n",
    "    parents = list(g.predecessors(node))\n",
    "    if len(parents) > 1:\n",
    "        print('{!r} has multiple parents: {!r}'.format(\n",
    "            tag_to_name[node],\n",
    "            [tag_to_name[p] for p in parents]))"
   ]
  },
  {
   "cell_type": "code",
   "execution_count": null,
   "id": "74d4305f",
   "metadata": {},
   "outputs": [],
   "source": [
    "# Find LCA of parents for nodes that have multiple parents.\n",
    "for node in g:\n",
    "    parents = list(g.predecessors(node))\n",
    "    if len(parents) > 1:\n",
    "        lca = functools.reduce(\n",
    "            functools.partial(nx.lowest_common_ancestor, g),\n",
    "            parents)\n",
    "        print('{!r} <- {!r} <- ... <- {!r}'.format(\n",
    "              tag_to_name[node],\n",
    "              [tag_to_name[p] for p in parents],\n",
    "              tag_to_name[lca]))"
   ]
  },
  {
   "cell_type": "code",
   "execution_count": null,
   "id": "c8b73d92",
   "metadata": {},
   "outputs": [],
   "source": [
    "leaf_descendants = {x: set(nx.descendants(g, x)).union({x}).intersection(leaf_nodes) for x in g}\n",
    "num_leaf_descendants = {k: len(v) for k, v in leaf_descendants.items()}"
   ]
  },
  {
   "cell_type": "code",
   "execution_count": null,
   "id": "d9bcee43",
   "metadata": {},
   "outputs": [],
   "source": [
    "min(num_leaf_descendants.values()), max(num_leaf_descendants.values())"
   ]
  },
  {
   "cell_type": "code",
   "execution_count": null,
   "id": "f7102fb3",
   "metadata": {},
   "outputs": [],
   "source": [
    "information = {x: math.log(len(leaf_nodes)) - math.log(num_leaf_descendants[x]) for x in g}"
   ]
  },
  {
   "cell_type": "code",
   "execution_count": null,
   "id": "f1b97ec5",
   "metadata": {},
   "outputs": [],
   "source": [
    "# Compare amount of information in different parents.\n",
    "for node in g:\n",
    "    parents = list(g.predecessors(node))\n",
    "    if len(parents) > 1:\n",
    "        lca = functools.reduce(\n",
    "            functools.partial(nx.lowest_common_ancestor, g),\n",
    "            parents)\n",
    "        print('{!r} <- {!r} <- ... <- {!r}'.format(\n",
    "              tag_to_name[node],\n",
    "              [(tag_to_name[p], round(information[p], 2)) for p in parents],\n",
    "              tag_to_name[lca]))"
   ]
  },
  {
   "cell_type": "code",
   "execution_count": null,
   "id": "8a85e0c8",
   "metadata": {},
   "outputs": [],
   "source": [
    "# Take subgraph containing problematic nodes for visualization.\n",
    "subg = subgraph_with_ancestors(g, [x for x in g if g.in_degree[x] > 1])\n",
    "len(subg)"
   ]
  },
  {
   "cell_type": "code",
   "execution_count": null,
   "id": "a3aeba4d",
   "metadata": {},
   "outputs": [],
   "source": [
    "from matplotlib import pyplot as plt"
   ]
  },
  {
   "cell_type": "code",
   "execution_count": null,
   "id": "d6fbdbc7",
   "metadata": {},
   "outputs": [],
   "source": [
    "subg.graph['graph'] = dict(rankdir='LR')\n",
    "pos = nx.nx_pydot.graphviz_layout(subg, prog='dot')\n",
    "plt.figure(figsize=[20, 30])\n",
    "nx.draw(\n",
    "    subg, pos,\n",
    "    node_color='#ccccff',\n",
    "    with_labels=True,\n",
    "    labels={k: tag_to_name[k] for k in subg},\n",
    "    nodelist=list(subg))"
   ]
  },
  {
   "cell_type": "code",
   "execution_count": null,
   "id": "00b49fa6",
   "metadata": {},
   "outputs": [],
   "source": [
    "whitelist_label_tags = [x for x in label_tags if x not in blacklist]\n",
    "len(whitelist_label_tags), len(label_tags)"
   ]
  },
  {
   "cell_type": "code",
   "execution_count": null,
   "id": "3c88c562",
   "metadata": {},
   "outputs": [],
   "source": [
    "# What fraction of labels have multiple paths?\n",
    "sum(1 for x in whitelist_label_tags if num_paths[x] > 1), len(whitelist_label_tags)"
   ]
  },
  {
   "cell_type": "code",
   "execution_count": null,
   "id": "174c5c80",
   "metadata": {},
   "outputs": [],
   "source": [
    "# What's the distribution of number of paths?\n",
    "dict(collections.Counter(num_paths[tag] for tag in whitelist_label_tags).items())"
   ]
  },
  {
   "cell_type": "code",
   "execution_count": null,
   "id": "9dee4cb5",
   "metadata": {},
   "outputs": [],
   "source": [
    "{tag_to_name[tag]: num_paths[tag] for tag in whitelist_label_tags if num_paths[tag] >= 3}"
   ]
  },
  {
   "cell_type": "code",
   "execution_count": null,
   "id": "a46717db",
   "metadata": {},
   "outputs": [],
   "source": [
    "{tag_to_name[tag]: num_paths[tag] for tag in whitelist_label_tags if num_paths[tag] == 2}"
   ]
  },
  {
   "cell_type": "code",
   "execution_count": null,
   "id": "2e878f16",
   "metadata": {},
   "outputs": [],
   "source": [
    "# Get subset of (whitelisted) labels that have a single path from the root.\n",
    "tree_labels = set([x for x in whitelist_label_tags if num_paths[x] == 1])\n",
    "len(tree_labels)"
   ]
  },
  {
   "cell_type": "code",
   "execution_count": null,
   "id": "d043e794",
   "metadata": {},
   "outputs": [],
   "source": [
    "tree = subgraph_with_ancestors(g, tree_labels)\n",
    "len(tree)"
   ]
  },
  {
   "cell_type": "code",
   "execution_count": null,
   "id": "6766c0fd",
   "metadata": {},
   "outputs": [],
   "source": [
    "# Write hierarchy with subset of labels.\n",
    "edges = util.dfs_edges_with_order(tree, [x for x in label_tags if x in tree_labels])\n",
    "with open(RESOURCES_DIR / 'hierarchy/audioset_tree.csv', 'w') as f:\n",
    "    w = csv.writer(f)\n",
    "    for edge in edges:\n",
    "        w.writerow(edge)"
   ]
  },
  {
   "cell_type": "code",
   "execution_count": null,
   "id": "8e434a59",
   "metadata": {},
   "outputs": [],
   "source": [
    "# Write label subset.\n",
    "with open(RESOURCES_DIR / 'hierarchy/audioset_tree_subset.txt', 'w') as f:\n",
    "    f.writelines([x + '\\n' for x in label_tags if x in tree])"
   ]
  },
  {
   "cell_type": "code",
   "execution_count": null,
   "id": "7da76a21",
   "metadata": {},
   "outputs": [],
   "source": [
    "len([x for x in label_tags if x in tree]), len(tree)"
   ]
  },
  {
   "cell_type": "code",
   "execution_count": null,
   "id": "6af002e2",
   "metadata": {},
   "outputs": [],
   "source": [
    "# What happens if we remove trivial nodes (1 child)?\n",
    "tree_nontrivial = util.remove_trivial(tree, root='root')\n",
    "len(tree_nontrivial)"
   ]
  },
  {
   "cell_type": "code",
   "execution_count": null,
   "id": "01f37364",
   "metadata": {},
   "outputs": [],
   "source": [
    "# edges = util.dfs_edges_with_order(tree_nontrivial, tree_labels)\n",
    "# with open(RESOURCES_DIR / 'hierarchy/audioset_tree_nontrivial.csv', 'w') as f:\n",
    "#     w = csv.writer(f)\n",
    "#     for edge in edges:\n",
    "#         w.writerow(edge)"
   ]
  },
  {
   "cell_type": "code",
   "execution_count": null,
   "id": "a61a6439",
   "metadata": {},
   "outputs": [],
   "source": [
    "import tensorflow as tf"
   ]
  },
  {
   "cell_type": "code",
   "execution_count": null,
   "id": "a53bdd98",
   "metadata": {},
   "outputs": [],
   "source": [
    "data_dir = pathlib.Path('~/data/manual/audioset/audioset_v1_embeddings').expanduser()\n",
    "split = 'bal_train'\n",
    "\n",
    "def get_labels(record):\n",
    "    example = tf.train.SequenceExample.FromString(record.numpy())\n",
    "    return tuple(example.context.feature['labels'].int64_list.value)\n",
    "\n",
    "split_dir = data_dir / split\n",
    "tfrecord_files = list(map(str, split_dir.iterdir()))\n",
    "len(tfrecord_files)"
   ]
  },
  {
   "cell_type": "code",
   "execution_count": null,
   "id": "8384a7a6",
   "metadata": {},
   "outputs": [],
   "source": [
    "dataset = tf.data.TFRecordDataset(tfrecord_files)\n",
    "labels = list(map(get_labels, dataset))\n",
    "del dataset"
   ]
  },
  {
   "cell_type": "code",
   "execution_count": null,
   "id": "07604433",
   "metadata": {},
   "outputs": [],
   "source": [
    "len(labels)"
   ]
  },
  {
   "cell_type": "code",
   "execution_count": null,
   "id": "c39ce82c",
   "metadata": {},
   "outputs": [],
   "source": [
    "# Convert from integers to tags.\n",
    "original_tags = [tuple(map(label_tags.__getitem__, x)) for x in labels]\n",
    "example_tags = list(original_tags)"
   ]
  },
  {
   "cell_type": "code",
   "execution_count": null,
   "id": "90d3a7e0",
   "metadata": {},
   "outputs": [],
   "source": [
    "# Are all labels used?\n",
    "len(set(itertools.chain.from_iterable(example_tags))), len(label_tags)"
   ]
  },
  {
   "cell_type": "code",
   "execution_count": null,
   "id": "1b59ae8f",
   "metadata": {},
   "outputs": [],
   "source": [
    "# Exclude labels that are not in the tree.\n",
    "example_tags = [tuple(tag for tag in tags if tag in tree) for tags in example_tags]"
   ]
  },
  {
   "cell_type": "code",
   "execution_count": null,
   "id": "29757deb",
   "metadata": {},
   "outputs": [],
   "source": [
    "# Exclude tags that are ancestors of other tags.\n",
    "ancestors = {x: nx.ancestors(tree, x) for x in tree}\n",
    "example_tags = [tuple(u for u in tags if not any(u in ancestors[v] for v in tags)) for tags in example_tags]"
   ]
  },
  {
   "cell_type": "code",
   "execution_count": null,
   "id": "2b3728f2",
   "metadata": {},
   "outputs": [],
   "source": [
    "# How many examples have no labels?\n",
    "sum(1 for tags in example_tags if not tags) / len(example_tags)"
   ]
  },
  {
   "cell_type": "code",
   "execution_count": null,
   "id": "f975794a",
   "metadata": {},
   "outputs": [],
   "source": [
    "leaf_nodes = [x for x in tree if tree.out_degree[x] == 0]\n",
    "len(leaf_nodes)"
   ]
  },
  {
   "cell_type": "code",
   "execution_count": null,
   "id": "3bd51256",
   "metadata": {},
   "outputs": [],
   "source": [
    "# Count the number of times that each tag occurs.\n",
    "counts = collections.Counter(itertools.chain.from_iterable(example_tags))\n",
    "{tag_to_name[k]: counts[k] for k in leaf_nodes}"
   ]
  },
  {
   "cell_type": "code",
   "execution_count": null,
   "id": "829d5bab",
   "metadata": {},
   "outputs": [],
   "source": [
    "# Check how many times each tag occurs by itself.\n",
    "singular_tags = [tags[0] if len(tags) == 1 else None for tags in example_tags]\n",
    "singular_counts = collections.Counter(x for x in singular_tags if x)"
   ]
  },
  {
   "cell_type": "code",
   "execution_count": null,
   "id": "b1f127ed",
   "metadata": {},
   "outputs": [],
   "source": [
    "# What fraction were kept after excluding non-singular labels?\n",
    "sorted((singular_counts[k] / counts[k], tag_to_name[k]) for k in leaf_nodes)"
   ]
  },
  {
   "cell_type": "code",
   "execution_count": null,
   "id": "26aad5a9",
   "metadata": {},
   "outputs": [],
   "source": [
    "# Which labels appeared together the most?\n",
    "pair_counts = collections.Counter(itertools.chain.from_iterable(\n",
    "    ((a, b) for a, b in itertools.product(tags, tags) if a < b)\n",
    "    for tags in example_tags\n",
    "))"
   ]
  },
  {
   "cell_type": "code",
   "execution_count": null,
   "id": "134a06b2",
   "metadata": {},
   "outputs": [],
   "source": [
    "sorted(((n, (tag_to_name[a], tag_to_name[b])) for (a, b), n in pair_counts.items()), reverse=True)"
   ]
  },
  {
   "cell_type": "code",
   "execution_count": null,
   "id": "795f9d45",
   "metadata": {},
   "outputs": [],
   "source": [
    "# Which leaf-node labels appeared together the most?\n",
    "leaf_pair_counts = collections.Counter(itertools.chain.from_iterable(\n",
    "    ((a, b) for a, b in itertools.product(tags, tags) if a < b and a in leaf_nodes and b in leaf_nodes)\n",
    "    for tags in example_tags\n",
    "))"
   ]
  },
  {
   "cell_type": "code",
   "execution_count": null,
   "id": "11aae903",
   "metadata": {},
   "outputs": [],
   "source": [
    "sorted(((n, (tag_to_name[a], tag_to_name[b])) for (a, b), n in leaf_pair_counts.items()), reverse=True)"
   ]
  },
  {
   "cell_type": "code",
   "execution_count": null,
   "id": "633c319c",
   "metadata": {},
   "outputs": [],
   "source": [
    "len(leaf_nodes)"
   ]
  },
  {
   "cell_type": "code",
   "execution_count": null,
   "id": "e84440cc",
   "metadata": {},
   "outputs": [],
   "source": []
  },
  {
   "cell_type": "code",
   "execution_count": null,
   "id": "072c9c49",
   "metadata": {},
   "outputs": [],
   "source": []
  },
  {
   "cell_type": "code",
   "execution_count": null,
   "id": "bf0b186f",
   "metadata": {},
   "outputs": [],
   "source": []
  },
  {
   "cell_type": "code",
   "execution_count": null,
   "id": "120253cc",
   "metadata": {},
   "outputs": [],
   "source": []
  },
  {
   "cell_type": "code",
   "execution_count": null,
   "id": "7b1b5538",
   "metadata": {},
   "outputs": [],
   "source": [
    "# What fraction of examples contains only labels with 1 path?\n",
    "sum(1 for tags in example_tags if len(tags) > 0 and all(num_paths[tag] == 1 for tag in tags)), len(example_tags)"
   ]
  },
  {
   "cell_type": "code",
   "execution_count": null,
   "id": "56563208",
   "metadata": {},
   "outputs": [],
   "source": [
    "# What fraction of examples has a single label?\n",
    "sum(1 for tags in example_tags if len(tags) == 1), len(example_tags)"
   ]
  },
  {
   "cell_type": "code",
   "execution_count": null,
   "id": "c242ff93",
   "metadata": {},
   "outputs": [],
   "source": [
    "# What fraction of examples has a single label that has 1 path?\n",
    "sum(1 for tags in example_tags if len(tags) == 1 and num_paths[tags[0]] == 1), len(example_tags)"
   ]
  },
  {
   "cell_type": "code",
   "execution_count": null,
   "id": "5ef7cc86",
   "metadata": {},
   "outputs": [],
   "source": [
    "ancestors = {x: nx.ancestors(g, x) for x in g}\n",
    "\n",
    "def remove_ancestors(nodes):\n",
    "    return [u for u in nodes if not any(u in ancestors[v] for v in nodes)]"
   ]
  },
  {
   "cell_type": "code",
   "execution_count": null,
   "id": "2a742803",
   "metadata": {},
   "outputs": [],
   "source": [
    "without_ancestors = list(map(remove_ancestors, example_tags))"
   ]
  },
  {
   "cell_type": "code",
   "execution_count": null,
   "id": "fe1642a2",
   "metadata": {},
   "outputs": [],
   "source": [
    "np.mean([len(tags) for tags in example_tags if tags])"
   ]
  },
  {
   "cell_type": "code",
   "execution_count": null,
   "id": "5047e99b",
   "metadata": {},
   "outputs": [],
   "source": [
    "# Did removing the ancestors have an effect?\n",
    "np.mean([len(tags) for tags in without_ancestors if tags])"
   ]
  },
  {
   "cell_type": "code",
   "execution_count": null,
   "id": "a74e9462",
   "metadata": {},
   "outputs": [],
   "source": [
    "# What fraction of examples contains one label (plus ancestors of that label)?\n",
    "sum(1 for tags in without_ancestors if len(tags) == 1), len(example_tags)"
   ]
  },
  {
   "cell_type": "code",
   "execution_count": null,
   "id": "fa949bbf",
   "metadata": {},
   "outputs": [],
   "source": [
    "# And if we further exclude example with multiple paths?\n",
    "sum(1 for tags in without_ancestors if len(tags) == 1 and num_paths[tags[0]] == 1), len(example_tags)"
   ]
  },
  {
   "cell_type": "code",
   "execution_count": null,
   "id": "64d8d796",
   "metadata": {},
   "outputs": [],
   "source": [
    "# Write labels to file with empty string for excluded examples.\n",
    "final_labels = [\n",
    "    tags[0] if len(tags) == 1 and num_paths[tags[0]] == 1 else ''\n",
    "    for tags in without_ancestors\n",
    "]"
   ]
  },
  {
   "cell_type": "code",
   "execution_count": null,
   "id": "fe5c74bc",
   "metadata": {},
   "outputs": [],
   "source": [
    "# How many labels are not leaf nodes?\n",
    "np.mean([tree.out_degree[label] == 0 for label in final_labels if label])"
   ]
  },
  {
   "cell_type": "code",
   "execution_count": null,
   "id": "2104ced8",
   "metadata": {},
   "outputs": [],
   "source": [
    "with gzip.open(RESOURCES_DIR / f'override_labels/audioset-{split}-tree.txt.gz', 'wt') as f:\n",
    "    f.writelines([x + '\\n' for x in final_labels])"
   ]
  }
 ],
 "metadata": {
  "kernelspec": {
   "display_name": "Python 3 (ipykernel)",
   "language": "python",
   "name": "python3"
  },
  "language_info": {
   "codemirror_mode": {
    "name": "ipython",
    "version": 3
   },
   "file_extension": ".py",
   "mimetype": "text/x-python",
   "name": "python",
   "nbconvert_exporter": "python",
   "pygments_lexer": "ipython3",
   "version": "3.8.10"
  }
 },
 "nbformat": 4,
 "nbformat_minor": 5
}
