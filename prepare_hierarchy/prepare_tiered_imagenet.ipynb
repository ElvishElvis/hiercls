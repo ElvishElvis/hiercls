{
 "cells": [
  {
   "cell_type": "code",
   "execution_count": 1,
   "id": "aa12ae31",
   "metadata": {},
   "outputs": [],
   "source": [
    "import csv\n",
    "import pathlib"
   ]
  },
  {
   "cell_type": "code",
   "execution_count": 2,
   "id": "83413fbd",
   "metadata": {},
   "outputs": [],
   "source": [
    "RESOURCES_DIR = pathlib.Path('../resources')"
   ]
  },
  {
   "cell_type": "code",
   "execution_count": 3,
   "id": "a55dd2fb",
   "metadata": {},
   "outputs": [],
   "source": [
    "paths = [\n",
    "    RESOURCES_DIR / 'hierarchy_raw/tiered_imagenet/train.csv',\n",
    "    RESOURCES_DIR / 'hierarchy_raw/tiered_imagenet/val.csv',\n",
    "    RESOURCES_DIR / 'hierarchy_raw/tiered_imagenet/test.csv',\n",
    "]"
   ]
  },
  {
   "cell_type": "code",
   "execution_count": 4,
   "id": "134a4f6a",
   "metadata": {},
   "outputs": [],
   "source": [
    "rows = []\n",
    "for path in paths:\n",
    "    with open(path) as f:\n",
    "        rows.extend(csv.reader(f))"
   ]
  },
  {
   "cell_type": "code",
   "execution_count": 5,
   "id": "bcf13498",
   "metadata": {},
   "outputs": [],
   "source": [
    "root = 'root'"
   ]
  },
  {
   "cell_type": "code",
   "execution_count": 6,
   "id": "a4d6f5ac",
   "metadata": {},
   "outputs": [],
   "source": [
    "edges = []\n",
    "visited = set()\n",
    "for leaf, middle in rows:\n",
    "    if middle not in visited:\n",
    "        edges.append((root, middle))\n",
    "        visited.add(middle)\n",
    "    edges.append((middle, leaf))"
   ]
  },
  {
   "cell_type": "code",
   "execution_count": 7,
   "id": "6641199f",
   "metadata": {},
   "outputs": [],
   "source": [
    "with open(RESOURCES_DIR / 'hierarchy/tiered_imagenet.csv', 'w') as f:\n",
    "    w = csv.writer(f)\n",
    "    for edge in edges:\n",
    "        w.writerow(edge)"
   ]
  },
  {
   "cell_type": "code",
   "execution_count": null,
   "id": "f52d11e8",
   "metadata": {},
   "outputs": [],
   "source": []
  }
 ],
 "metadata": {
  "kernelspec": {
   "display_name": "Python 3 (ipykernel)",
   "language": "python",
   "name": "python3"
  },
  "language_info": {
   "codemirror_mode": {
    "name": "ipython",
    "version": 3
   },
   "file_extension": ".py",
   "mimetype": "text/x-python",
   "name": "python",
   "nbconvert_exporter": "python",
   "pygments_lexer": "ipython3",
   "version": "3.8.10"
  }
 },
 "nbformat": 4,
 "nbformat_minor": 5
}
