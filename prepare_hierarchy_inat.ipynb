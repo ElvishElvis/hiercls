{
 "cells": [
  {
   "cell_type": "code",
   "execution_count": 1,
   "id": "aa12ae31",
   "metadata": {},
   "outputs": [],
   "source": [
    "import csv\n",
    "import itertools\n",
    "import json\n",
    "import pathlib\n",
    "\n",
    "import networkx as nx"
   ]
  },
  {
   "cell_type": "code",
   "execution_count": 2,
   "id": "debe1e5f",
   "metadata": {},
   "outputs": [],
   "source": [
    "INAT17_LEVELS = ['supercategory', 'name']\n",
    "INAT18_LEVELS = ['kingdom', 'phylum', 'class', 'order', 'family', 'genus', 'name']"
   ]
  },
  {
   "cell_type": "code",
   "execution_count": 3,
   "id": "dd12e1b4",
   "metadata": {},
   "outputs": [],
   "source": [
    "# with open('resources/hierarchy_raw/inat18/train2018.json') as f:\n",
    "#     categories = json.load(f)['categories']\n",
    "\n",
    "# with open('resources/hierarchy_raw/inat18/train2018_categories.json') as f:\n",
    "#     categories = json.load(f)\n",
    "\n",
    "with open('resources/hierarchy_raw/inat18/categories.json') as f:\n",
    "    categories = json.load(f)"
   ]
  },
  {
   "cell_type": "code",
   "execution_count": 4,
   "id": "48fafa53",
   "metadata": {},
   "outputs": [
    {
     "data": {
      "text/plain": [
       "[(6, 'kingdom'),\n",
       " (14, 'supercategory'),\n",
       " (25, 'phylum'),\n",
       " (57, 'class'),\n",
       " (272, 'order'),\n",
       " (1118, 'family'),\n",
       " (4401, 'genus'),\n",
       " (8142, 'id'),\n",
       " (8142, 'name')]"
      ]
     },
     "execution_count": 4,
     "metadata": {},
     "output_type": "execute_result"
    }
   ],
   "source": [
    "def count_unique_values(categories):\n",
    "    # Count number of unique values for each field.\n",
    "    fields = set(itertools.chain.from_iterable(x.keys() for x in categories))\n",
    "    unique_values = {k: set() for k in fields}\n",
    "    for x in categories:\n",
    "        for k, v in x.items():\n",
    "            unique_values[k].add(v)\n",
    "    return {k: len(v) for k, v in unique_values.items()}\n",
    "\n",
    "sorted((v, k) for k, v in count_unique_values(categories).items())"
   ]
  },
  {
   "cell_type": "code",
   "execution_count": 5,
   "id": "c2455296",
   "metadata": {},
   "outputs": [],
   "source": [
    "def make_graph_inat(levels, categories, root_name='Life', name_fn=None, exclude_na=False):\n",
    "    # The function name_fn maps list of (level, name) pairs to a unique identifier.\n",
    "    # This permits the whole path to be used if the names are not unique.\n",
    "\n",
    "    def default_name_fn(path):\n",
    "        k, v = path[-1]\n",
    "        return v\n",
    "\n",
    "    if name_fn is None:\n",
    "        name_fn = default_name_fn\n",
    "\n",
    "    def path_name(path):\n",
    "        return name_fn(path) if path else root_name\n",
    "\n",
    "    g = nx.DiGraph()\n",
    "    for x in categories:\n",
    "        path = tuple((k, x[k]) for k in levels[:-1])\n",
    "        if exclude_na:\n",
    "            path = tuple((k, v) for k, v in path if v != 'NA')\n",
    "        for i in range(len(path)):\n",
    "            g.add_edge(path_name(path[:i]), path_name(path[:i+1]))\n",
    "        g.add_edge(path_name(path), x[levels[-1]])\n",
    "\n",
    "    # Check that each node has at most one parent.\n",
    "    multiple_parents = [k for k in g if g.in_degree[k] > 1]\n",
    "    if multiple_parents:\n",
    "        raise ValueError('nodes with multiple parents', multiple_parents)\n",
    "\n",
    "    return g"
   ]
  },
  {
   "cell_type": "code",
   "execution_count": 6,
   "id": "5704662b",
   "metadata": {},
   "outputs": [],
   "source": [
    "# Functions that give naming convention for internal nodes.\n",
    "\n",
    "def full_path(path):\n",
    "    return '/'.join(v for _, v in path)\n",
    "\n",
    "def node_with_level(path):\n",
    "    k, v = path[-1]\n",
    "    return f'{k} {v}'"
   ]
  },
  {
   "cell_type": "code",
   "execution_count": 7,
   "id": "0454ad6c",
   "metadata": {},
   "outputs": [],
   "source": [
    "g = make_graph_inat(INAT18_LEVELS, categories, name_fn=full_path, exclude_na=False)"
   ]
  },
  {
   "cell_type": "code",
   "execution_count": 8,
   "id": "9994657d",
   "metadata": {},
   "outputs": [],
   "source": [
    "def dfs_edges_with_order(g, order):\n",
    "    visited = set()\n",
    "    edges = []\n",
    "\n",
    "    def visit(node):\n",
    "        if node in visited:\n",
    "            return\n",
    "        visited.add(node)\n",
    "        if not g.in_degree[node]:\n",
    "            return\n",
    "        parents = list(g.predecessors(node))\n",
    "        if len(parents) > 1:\n",
    "            raise ValueError('multiple parents', node, parents)\n",
    "        parent, = parents\n",
    "        visit(parent)\n",
    "        edges.append((parent, node))\n",
    "    \n",
    "    for leaf in order:\n",
    "        visit(leaf)\n",
    "\n",
    "    return edges\n",
    "\n",
    "edges = dfs_edges_with_order(g, [x['name'] for x in categories])"
   ]
  },
  {
   "cell_type": "code",
   "execution_count": 9,
   "id": "6133d75c",
   "metadata": {},
   "outputs": [
    {
     "data": {
      "text/plain": [
       "[('Life', 'Animalia'),\n",
       " ('Animalia', 'Animalia/Annelida'),\n",
       " ('Animalia/Annelida', 'Animalia/Annelida/Polychaeta'),\n",
       " ('Animalia/Annelida/Polychaeta', 'Animalia/Annelida/Polychaeta/Phyllodocida'),\n",
       " ('Animalia/Annelida/Polychaeta/Phyllodocida',\n",
       "  'Animalia/Annelida/Polychaeta/Phyllodocida/Amphinomidae'),\n",
       " ('Animalia/Annelida/Polychaeta/Phyllodocida/Amphinomidae',\n",
       "  'Animalia/Annelida/Polychaeta/Phyllodocida/Amphinomidae/Hermodice'),\n",
       " ('Animalia/Annelida/Polychaeta/Phyllodocida/Amphinomidae/Hermodice',\n",
       "  'Hermodice carunculata'),\n",
       " ('Animalia/Annelida/Polychaeta', 'Animalia/Annelida/Polychaeta/Sabellida'),\n",
       " ('Animalia/Annelida/Polychaeta/Sabellida',\n",
       "  'Animalia/Annelida/Polychaeta/Sabellida/Sabellariidae'),\n",
       " ('Animalia/Annelida/Polychaeta/Sabellida/Sabellariidae',\n",
       "  'Animalia/Annelida/Polychaeta/Sabellida/Sabellariidae/Phragmatopoma')]"
      ]
     },
     "execution_count": 9,
     "metadata": {},
     "output_type": "execute_result"
    }
   ],
   "source": [
    "edges[:10]"
   ]
  },
  {
   "cell_type": "code",
   "execution_count": 10,
   "id": "ec987923",
   "metadata": {},
   "outputs": [],
   "source": [
    "input_dir = pathlib.Path('resources/hierarchy_raw')\n",
    "output_dir = pathlib.Path('resources/hierarchy')\n",
    "\n",
    "output_dir.mkdir(mode=0o755, parents=True, exist_ok=True)"
   ]
  },
  {
   "cell_type": "code",
   "execution_count": 11,
   "id": "ebc6f346",
   "metadata": {},
   "outputs": [],
   "source": [
    "with open(input_dir / 'inat18/categories.json') as f:\n",
    "    categories = json.load(f)\n",
    "g = make_graph_inat(INAT18_LEVELS, categories, name_fn=full_path)\n",
    "edges = dfs_edges_with_order(g, [x['name'] for x in categories])\n",
    "with open(output_dir / 'inat18.csv', 'w') as f:\n",
    "    w = csv.writer(f)\n",
    "    for edge in edges:\n",
    "        w.writerow(edge)"
   ]
  },
  {
   "cell_type": "code",
   "execution_count": 12,
   "id": "f357f3cd",
   "metadata": {},
   "outputs": [],
   "source": [
    "with open(input_dir / 'inat18/train2018_categories.json') as f:\n",
    "    categories = json.load(f)\n",
    "g = make_graph_inat(INAT18_LEVELS, categories)\n",
    "edges = dfs_edges_with_order(g, [x['name'] for x in categories])\n",
    "with open(output_dir / 'inat18_anon.csv', 'w') as f:\n",
    "    w = csv.writer(f)\n",
    "    for edge in edges:\n",
    "        w.writerow(edge)"
   ]
  },
  {
   "cell_type": "code",
   "execution_count": 13,
   "id": "8b6140a0",
   "metadata": {},
   "outputs": [],
   "source": [
    "with open(input_dir / 'inat19/categories.json') as f:\n",
    "    categories = json.load(f)\n",
    "g = make_graph_inat(INAT18_LEVELS, categories)\n",
    "edges = dfs_edges_with_order(g, [x['name'] for x in categories])\n",
    "with open(output_dir / 'inat19.csv', 'w') as f:\n",
    "    w = csv.writer(f)\n",
    "    for edge in edges:\n",
    "        w.writerow(edge)"
   ]
  },
  {
   "cell_type": "code",
   "execution_count": 14,
   "id": "2faa2d58",
   "metadata": {},
   "outputs": [],
   "source": [
    "with open(input_dir / 'inat19/train2019_categories.json') as f:\n",
    "    categories = json.load(f)\n",
    "g = make_graph_inat(INAT18_LEVELS, categories)\n",
    "edges = dfs_edges_with_order(g, [x['name'] for x in categories])\n",
    "with open(output_dir / 'inat19_anon.csv', 'w') as f:\n",
    "    w = csv.writer(f)\n",
    "    for edge in edges:\n",
    "        w.writerow(edge)"
   ]
  },
  {
   "cell_type": "code",
   "execution_count": 15,
   "id": "4a8f2a5b",
   "metadata": {},
   "outputs": [],
   "source": [
    "with open(input_dir / 'inat17/train2017_categories.json') as f:\n",
    "    categories = json.load(f)\n",
    "g = make_graph_inat(INAT17_LEVELS, categories)\n",
    "edges = dfs_edges_with_order(g, [x['name'] for x in categories])\n",
    "with open(output_dir / 'inat17.csv', 'w') as f:\n",
    "    w = csv.writer(f)\n",
    "    for edge in edges:\n",
    "        w.writerow(edge)"
   ]
  },
  {
   "cell_type": "code",
   "execution_count": 16,
   "id": "44e7594c",
   "metadata": {},
   "outputs": [],
   "source": [
    "with open(input_dir / 'inat21/train_categories.json') as f:\n",
    "    categories = json.load(f)\n",
    "g = make_graph_inat(INAT18_LEVELS, categories, name_fn=full_path, exclude_na=False)\n",
    "edges = dfs_edges_with_order(g, [x['name'] for x in categories])\n",
    "with open(output_dir / 'inat21.csv', 'w') as f:\n",
    "    w = csv.writer(f)\n",
    "    for edge in edges:\n",
    "        w.writerow(edge)"
   ]
  },
  {
   "cell_type": "code",
   "execution_count": null,
   "id": "c4f212c3",
   "metadata": {},
   "outputs": [],
   "source": []
  }
 ],
 "metadata": {
  "kernelspec": {
   "display_name": "Python 3 (ipykernel)",
   "language": "python",
   "name": "python3"
  },
  "language_info": {
   "codemirror_mode": {
    "name": "ipython",
    "version": 3
   },
   "file_extension": ".py",
   "mimetype": "text/x-python",
   "name": "python",
   "nbconvert_exporter": "python",
   "pygments_lexer": "ipython3",
   "version": "3.9.7"
  }
 },
 "nbformat": 4,
 "nbformat_minor": 5
}
