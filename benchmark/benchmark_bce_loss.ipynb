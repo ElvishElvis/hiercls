{
 "cells": [
  {
   "cell_type": "code",
   "execution_count": 10,
   "id": "bf226190",
   "metadata": {},
   "outputs": [],
   "source": [
    "from functools import partial\n",
    "import pathlib\n",
    "\n",
    "import numpy as np\n",
    "import torch\n",
    "from torch import nn\n",
    "from torch.utils import benchmark\n",
    "import torch.nn.functional as F"
   ]
  },
  {
   "cell_type": "code",
   "execution_count": 28,
   "id": "b18ee382",
   "metadata": {},
   "outputs": [],
   "source": [
    "import sys\n",
    "\n",
    "# TODO: pip install -e hier\n",
    "PROJECT_ROOT = pathlib.Path('.').absolute().parent\n",
    "sys.path.insert(0, str(PROJECT_ROOT))\n",
    "\n",
    "import hier\n",
    "import hier_torch"
   ]
  },
  {
   "cell_type": "code",
   "execution_count": 17,
   "id": "e0881173",
   "metadata": {},
   "outputs": [],
   "source": [
    "RESOURCE_DIR = pathlib.Path('../resources')\n",
    "with open(RESOURCE_DIR / 'hierarchy/imagenet_fiveai.csv') as f:\n",
    "    edges = hier.load_edges(f)\n",
    "tree, names = hier.make_hierarchy_from_edges(edges)"
   ]
  },
  {
   "cell_type": "code",
   "execution_count": 18,
   "id": "f0f10347",
   "metadata": {},
   "outputs": [
    {
     "data": {
      "text/plain": [
       "(1000, 1372)"
      ]
     },
     "execution_count": 18,
     "metadata": {},
     "output_type": "execute_result"
    }
   ],
   "source": [
    "tree.num_leaf_nodes(), tree.num_nodes()"
   ]
  },
  {
   "cell_type": "code",
   "execution_count": 19,
   "id": "0667f860",
   "metadata": {},
   "outputs": [],
   "source": [
    "b = 1024\n",
    "device = torch.device('cuda')"
   ]
  },
  {
   "cell_type": "code",
   "execution_count": 22,
   "id": "f5767d01",
   "metadata": {},
   "outputs": [],
   "source": [
    "num_nodes = tree.num_nodes()\n",
    "num_edges = tree.num_nodes() - 1\n",
    "num_internal = tree.num_internal_nodes()\n",
    "num_leaf = tree.num_leaf_nodes()\n",
    "max_children = max(map(len, tree.children().values()))"
   ]
  },
  {
   "cell_type": "code",
   "execution_count": 61,
   "id": "b61c227e",
   "metadata": {},
   "outputs": [
    {
     "data": {
      "text/plain": [
       "<torch.utils.benchmark.utils.common.Measurement object at 0x7f22e84182e0>\n",
       "loss(theta, labels)\n",
       "  291.31 us\n",
       "  1 measurement, 1000 runs , 1 thread"
      ]
     },
     "execution_count": 61,
     "metadata": {},
     "output_type": "execute_result"
    }
   ],
   "source": [
    "# Benchmark a vanilla softmax function, for reference.\n",
    "\n",
    "theta = torch.randn([b, num_nodes - 1]).to(device)\n",
    "labels = torch.randint(2, size=[b, num_nodes - 1]).float().to(device)\n",
    "\n",
    "timer = benchmark.Timer(\n",
    "    stmt='loss(theta, labels)',\n",
    "    globals={\n",
    "        'theta': theta,\n",
    "        'labels': labels,\n",
    "        'loss': nn.BCEWithLogitsLoss(reduction='mean'),\n",
    "    })\n",
    "timer.blocked_autorange()"
   ]
  },
  {
   "cell_type": "code",
   "execution_count": 53,
   "id": "1877f80a",
   "metadata": {},
   "outputs": [
    {
     "data": {
      "text/plain": [
       "<torch.utils.benchmark.utils.common.Measurement object at 0x7f22e8465a60>\n",
       "loss(theta, labels, dim=-1)\n",
       "  443.80 us\n",
       "  1 measurement, 1000 runs , 1 thread"
      ]
     },
     "execution_count": 53,
     "metadata": {},
     "output_type": "execute_result"
    }
   ],
   "source": [
    "theta = torch.randn([b, num_nodes - 1]).to(device)\n",
    "labels = torch.randint(tree.num_leaf_nodes(), size=[b]).to(device)\n",
    "\n",
    "timer = benchmark.Timer(\n",
    "    stmt='loss(theta, labels, dim=-1)',\n",
    "    globals={\n",
    "        'theta': theta,\n",
    "        'labels': labels,\n",
    "        'loss': hier_torch.MultiLabelNLL(tree, with_leaf_targets=True).to(device),\n",
    "    })\n",
    "timer.blocked_autorange()"
   ]
  },
  {
   "cell_type": "code",
   "execution_count": 63,
   "id": "7bf4fff9",
   "metadata": {},
   "outputs": [
    {
     "data": {
      "text/plain": [
       "<torch.utils.benchmark.utils.common.Measurement object at 0x7f22e8459490>\n",
       "loss(theta, labels)\n",
       "  Median: 44.58 us\n",
       "  IQR:    15.27 us (42.68 to 57.95)\n",
       "  4 measurements, 1000 runs per measurement, 1 thread\n",
       "  WARNING: Interquartile range is 34.2% of the median measurement.\n",
       "           This suggests significant environmental influence."
      ]
     },
     "execution_count": 63,
     "metadata": {},
     "output_type": "execute_result"
    }
   ],
   "source": [
    "# Compare to cross-entropy loss: much faster!\n",
    "\n",
    "theta = torch.randn([b, num_nodes - 1]).to(device)\n",
    "labels = torch.randint(num_nodes - 1, size=[b]).to(device)\n",
    "\n",
    "timer = benchmark.Timer(\n",
    "    stmt='loss(theta, labels)',\n",
    "    globals={\n",
    "        'theta': theta,\n",
    "        'labels': labels,\n",
    "        'loss': nn.CrossEntropyLoss(),\n",
    "    })\n",
    "timer.blocked_autorange()"
   ]
  },
  {
   "cell_type": "code",
   "execution_count": 24,
   "id": "165e972c",
   "metadata": {},
   "outputs": [
    {
     "data": {
      "text/plain": [
       "<torch.utils.benchmark.utils.common.Measurement object at 0x7f24083959a0>\n",
       "torch.nn.functional.logsigmoid(theta)\n",
       "  33.95 us\n",
       "  1 measurement, 10000 runs , 1 thread"
      ]
     },
     "execution_count": 24,
     "metadata": {},
     "output_type": "execute_result"
    }
   ],
   "source": [
    "theta = torch.randn([b, num_nodes - 1]).to(device)\n",
    "\n",
    "timer = benchmark.Timer(\n",
    "    stmt='torch.nn.functional.logsigmoid(theta)',\n",
    "    globals={'theta': theta})\n",
    "timer.blocked_autorange()"
   ]
  },
  {
   "cell_type": "code",
   "execution_count": 40,
   "id": "d806b466",
   "metadata": {},
   "outputs": [
    {
     "data": {
      "text/plain": [
       "<torch.utils.benchmark.utils.common.Measurement object at 0x7f23fca0be20>\n",
       "f(tree, theta, dim=-1)\n",
       "  Median: 58.65 us\n",
       "  3 measurements, 1000 runs per measurement, 1 thread\n",
       "  WARNING: Interquartile range is 48.4% of the median measurement.\n",
       "           This suggests significant environmental influence."
      ]
     },
     "execution_count": 40,
     "metadata": {},
     "output_type": "execute_result"
    }
   ],
   "source": [
    "# Benchmark a vanilla softmax function, for reference.\n",
    "\n",
    "theta = torch.randn([b, num_nodes - 1]).to(device)\n",
    "\n",
    "timer = benchmark.Timer(\n",
    "    stmt='f(tree, theta, dim=-1)',\n",
    "    globals={\n",
    "        'tree': tree,\n",
    "        'theta': theta,\n",
    "        'f': hier_torch.multilabel_likelihood,\n",
    "    })\n",
    "timer.blocked_autorange()"
   ]
  },
  {
   "cell_type": "code",
   "execution_count": null,
   "id": "09d4b638",
   "metadata": {},
   "outputs": [],
   "source": []
  }
 ],
 "metadata": {
  "kernelspec": {
   "display_name": "Python 3 (ipykernel)",
   "language": "python",
   "name": "python3"
  },
  "language_info": {
   "codemirror_mode": {
    "name": "ipython",
    "version": 3
   },
   "file_extension": ".py",
   "mimetype": "text/x-python",
   "name": "python",
   "nbconvert_exporter": "python",
   "pygments_lexer": "ipython3",
   "version": "3.8.10"
  }
 },
 "nbformat": 4,
 "nbformat_minor": 5
}
