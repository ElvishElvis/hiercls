{
 "cells": [
  {
   "cell_type": "code",
   "execution_count": 1,
   "id": "bf226190",
   "metadata": {},
   "outputs": [],
   "source": [
    "from functools import partial\n",
    "import pathlib\n",
    "\n",
    "import numpy as np\n",
    "import torch\n",
    "from torch import nn\n",
    "from torch.utils import benchmark"
   ]
  },
  {
   "cell_type": "code",
   "execution_count": 2,
   "id": "b18ee382",
   "metadata": {},
   "outputs": [],
   "source": [
    "import sys\n",
    "\n",
    "# TODO: pip install -e hier\n",
    "PROJECT_ROOT = pathlib.Path('.').absolute().parent\n",
    "sys.path.insert(0, str(PROJECT_ROOT))\n",
    "\n",
    "import hier"
   ]
  },
  {
   "cell_type": "code",
   "execution_count": 3,
   "id": "e0881173",
   "metadata": {},
   "outputs": [],
   "source": [
    "RESOURCE_DIR = pathlib.Path('../resources')\n",
    "with open(RESOURCE_DIR / 'hierarchy/imagenet_fiveai.csv') as f:\n",
    "    edges = hier.load_edges(f)\n",
    "tree, names = hier.make_hierarchy_from_edges(edges)"
   ]
  },
  {
   "cell_type": "code",
   "execution_count": 4,
   "id": "f0f10347",
   "metadata": {},
   "outputs": [
    {
     "data": {
      "text/plain": [
       "(1000, 1372)"
      ]
     },
     "execution_count": 4,
     "metadata": {},
     "output_type": "execute_result"
    }
   ],
   "source": [
    "tree.num_leaf_nodes(), tree.num_nodes()"
   ]
  },
  {
   "cell_type": "code",
   "execution_count": 5,
   "id": "0667f860",
   "metadata": {},
   "outputs": [],
   "source": [
    "b = 1024\n",
    "device = torch.device('cuda')"
   ]
  },
  {
   "cell_type": "code",
   "execution_count": 6,
   "id": "f5767d01",
   "metadata": {},
   "outputs": [],
   "source": [
    "num_nodes = tree.num_nodes()\n",
    "num_edges = tree.num_nodes() - 1\n",
    "num_internal = tree.num_internal_nodes()\n",
    "num_leaf = tree.num_leaf_nodes()\n",
    "max_children = max(map(len, tree.children().values()))"
   ]
  },
  {
   "cell_type": "code",
   "execution_count": 7,
   "id": "fdaafe9d",
   "metadata": {},
   "outputs": [],
   "source": [
    "with_leaf_targets = True"
   ]
  },
  {
   "cell_type": "code",
   "execution_count": 8,
   "id": "8db2010d",
   "metadata": {},
   "outputs": [],
   "source": [
    "node_depth = tree.depths()\n",
    "is_leaf = tree.leaf_mask()\n",
    "max_depth = np.max(node_depth)\n",
    "num_levels = max_depth\n",
    "level_depth = np.arange(1, max_depth + 1)\n",
    "level_masks = ((level_depth[:, None] == node_depth) |\n",
    "               ((level_depth[:, None] > node_depth) & is_leaf))\n",
    "level_sizes = np.count_nonzero(level_masks, axis=1)\n",
    "level_nodes = [np.flatnonzero(mask) for mask in level_masks]\n",
    "\n",
    "# Construct map from nodes to index within softmax at each level.\n",
    "node_to_level_target = np.full([num_levels, tree.num_nodes()], -1, dtype=int)\n",
    "for i in range(num_levels):\n",
    "    node_to_level_target[i, level_nodes[i]] = np.arange(level_sizes[i])\n",
    "\n",
    "if with_leaf_targets:\n",
    "    label_to_node = tree.leaf_subset()\n",
    "else:\n",
    "    label_to_node = np.arange(tree.num_nodes())\n",
    "\n",
    "paths = tree.paths_padded(method='self', exclude_root=True)\n",
    "label_to_level_target = np.full([num_levels, len(label_to_node)], -1, dtype=int)\n",
    "for i in range(num_levels):\n",
    "    label_to_level_target[i, :] = node_to_level_target[i, paths[label_to_node, i]]\n",
    "    # Every label should give a valid target.\n",
    "    # Note that this will fail for non-leaf targets.\n",
    "    # TODO: Implement no loss descendants of label?\n",
    "    assert np.all(label_to_level_target[i, :] >= 0)\n",
    "    assert np.all(label_to_level_target < level_sizes[i])"
   ]
  },
  {
   "cell_type": "code",
   "execution_count": 9,
   "id": "7930a5d5",
   "metadata": {},
   "outputs": [
    {
     "data": {
      "text/plain": [
       "[2, 5, 22, 47, 112, 240, 403, 587, 736, 819, 887, 921, 977, 999, 1000]"
      ]
     },
     "execution_count": 9,
     "metadata": {},
     "output_type": "execute_result"
    }
   ],
   "source": [
    "level_sizes.tolist()"
   ]
  },
  {
   "cell_type": "code",
   "execution_count": 10,
   "id": "5f408e69",
   "metadata": {},
   "outputs": [
    {
     "data": {
      "text/plain": [
       "<torch.utils.benchmark.utils.common.Measurement object at 0x7f7148fbedf0>\n",
       "torch.nn.functional.log_softmax(theta, dim=-1)\n",
       "  Median: 536.40 us\n",
       "  IQR:    65.29 us (505.95 to 571.25)\n",
       "  4 measurements, 100 runs per measurement, 1 thread\n",
       "  WARNING: Interquartile range is 12.2% of the median measurement.\n",
       "           This could indicate system fluctuation."
      ]
     },
     "execution_count": 10,
     "metadata": {},
     "output_type": "execute_result"
    }
   ],
   "source": [
    "# Vectorized padded softmax.\n",
    "\n",
    "theta = torch.randn([b, num_levels, max(level_sizes)]).to(device)\n",
    "for i, size in enumerate(level_sizes):\n",
    "    theta[i, size:] = -torch.inf\n",
    "\n",
    "timer = benchmark.Timer(\n",
    "    stmt='torch.nn.functional.log_softmax(theta, dim=-1)',\n",
    "    globals={'theta': theta})\n",
    "timer.blocked_autorange()"
   ]
  },
  {
   "cell_type": "code",
   "execution_count": 11,
   "id": "359496df",
   "metadata": {},
   "outputs": [
    {
     "data": {
      "text/plain": [
       "<torch.utils.benchmark.utils.common.Measurement object at 0x7f7149001a30>\n",
       "[torch.nn.functional.log_softmax(theta_i, dim=-1) for theta_i in theta]\n",
       "  344.14 us\n",
       "  1 measurement, 1000 runs , 1 thread"
      ]
     },
     "execution_count": 11,
     "metadata": {},
     "output_type": "execute_result"
    }
   ],
   "source": [
    "# Individual softmaxes.\n",
    "\n",
    "theta = [torch.randn([b, size]).to(device) for size in level_sizes]\n",
    "\n",
    "timer = benchmark.Timer(\n",
    "    stmt='[torch.nn.functional.log_softmax(theta_i, dim=-1) for theta_i in theta]',\n",
    "    globals={'theta': theta})\n",
    "timer.blocked_autorange()"
   ]
  },
  {
   "cell_type": "code",
   "execution_count": null,
   "id": "09d4b638",
   "metadata": {},
   "outputs": [],
   "source": []
  }
 ],
 "metadata": {
  "kernelspec": {
   "display_name": "Python 3 (ipykernel)",
   "language": "python",
   "name": "python3"
  },
  "language_info": {
   "codemirror_mode": {
    "name": "ipython",
    "version": 3
   },
   "file_extension": ".py",
   "mimetype": "text/x-python",
   "name": "python",
   "nbconvert_exporter": "python",
   "pygments_lexer": "ipython3",
   "version": "3.8.10"
  }
 },
 "nbformat": 4,
 "nbformat_minor": 5
}
