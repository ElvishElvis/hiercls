{
 "cells": [
  {
   "cell_type": "code",
   "execution_count": 31,
   "id": "bf226190",
   "metadata": {},
   "outputs": [],
   "source": [
    "from functools import partial\n",
    "import pathlib\n",
    "\n",
    "import numpy as np\n",
    "import torch\n",
    "from torch import nn\n",
    "from torch.nn import functional as F\n",
    "from torch.utils import benchmark"
   ]
  },
  {
   "cell_type": "code",
   "execution_count": 2,
   "id": "b18ee382",
   "metadata": {},
   "outputs": [],
   "source": [
    "import sys\n",
    "\n",
    "# TODO: pip install -e hier\n",
    "PROJECT_ROOT = pathlib.Path('.').absolute().parent\n",
    "sys.path.insert(0, str(PROJECT_ROOT))\n",
    "\n",
    "import hier\n",
    "import hier_torch"
   ]
  },
  {
   "cell_type": "code",
   "execution_count": 3,
   "id": "e0881173",
   "metadata": {},
   "outputs": [],
   "source": [
    "RESOURCE_DIR = pathlib.Path('../resources')\n",
    "with open(RESOURCE_DIR / 'hierarchy/imagenet_fiveai.csv') as f:\n",
    "    edges = hier.load_edges(f)\n",
    "tree, names = hier.make_hierarchy_from_edges(edges)"
   ]
  },
  {
   "cell_type": "code",
   "execution_count": 4,
   "id": "f0f10347",
   "metadata": {},
   "outputs": [
    {
     "data": {
      "text/plain": [
       "(1000, 1372)"
      ]
     },
     "execution_count": 4,
     "metadata": {},
     "output_type": "execute_result"
    }
   ],
   "source": [
    "tree.num_leaf_nodes(), tree.num_nodes()"
   ]
  },
  {
   "cell_type": "code",
   "execution_count": 5,
   "id": "0667f860",
   "metadata": {},
   "outputs": [],
   "source": [
    "b = 128\n",
    "device = torch.device('cuda')"
   ]
  },
  {
   "cell_type": "code",
   "execution_count": 6,
   "id": "f5767d01",
   "metadata": {},
   "outputs": [],
   "source": [
    "num_nodes = tree.num_nodes()\n",
    "num_edges = tree.num_nodes() - 1\n",
    "num_internal = tree.num_internal_nodes()\n",
    "num_leaf = tree.num_leaf_nodes()\n",
    "max_children = max(map(len, tree.children().values()))"
   ]
  },
  {
   "cell_type": "code",
   "execution_count": 7,
   "id": "7ff43bcb",
   "metadata": {},
   "outputs": [],
   "source": [
    "labels = torch.randint(tree.num_leaf_nodes(), size=(64,)).to(device)"
   ]
  },
  {
   "cell_type": "code",
   "execution_count": 21,
   "id": "165e972c",
   "metadata": {
    "scrolled": false
   },
   "outputs": [
    {
     "data": {
      "text/plain": [
       "<torch.utils.benchmark.utils.common.Measurement object at 0x7fcf651b02e0>\n",
       "loss_fn(scores, labels)\n",
       "  2.85 ms\n",
       "  1 measurement, 100 runs , 1 thread"
      ]
     },
     "execution_count": 21,
     "metadata": {},
     "output_type": "execute_result"
    }
   ],
   "source": [
    "# Benchmark the descendant softmax for reference.\n",
    "\n",
    "scores = torch.randn((*labels.shape, tree.num_nodes())).to(device)\n",
    "\n",
    "loss_fn = hier_torch.MaxCutSoftmaxLoss(tree, with_leaf_targets=True, reduction='mean').to(device)\n",
    "loss_fn(scores, labels)\n",
    "\n",
    "timer = benchmark.Timer(\n",
    "    stmt='loss_fn(scores, labels)',\n",
    "    globals=dict(\n",
    "        scores=scores,\n",
    "        labels=labels,\n",
    "        loss_fn=loss_fn,\n",
    "    ))\n",
    "timer.blocked_autorange()"
   ]
  },
  {
   "cell_type": "code",
   "execution_count": 22,
   "id": "7eba4af1",
   "metadata": {},
   "outputs": [
    {
     "data": {
      "text/plain": [
       "<torch.utils.benchmark.utils.common.Measurement object at 0x7fcf6a698eb0>\n",
       "loss_fn(scores, labels)\n",
       "  3.06 ms\n",
       "  1 measurement, 100 runs , 1 thread"
      ]
     },
     "execution_count": 22,
     "metadata": {},
     "output_type": "execute_result"
    }
   ],
   "source": [
    "# Benchmark the descendant softmax for reference.\n",
    "\n",
    "scores = torch.randn((*labels.shape, tree.num_leaf_nodes())).to(device)\n",
    "\n",
    "loss_fn = hier_torch.FlatBertinettoHXE(tree, alpha=0.1, with_leaf_targets=True).to(device)\n",
    "loss_fn(scores, labels)\n",
    "\n",
    "timer = benchmark.Timer(\n",
    "    stmt='loss_fn(scores, labels)',\n",
    "    globals=dict(\n",
    "        scores=scores,\n",
    "        labels=labels,\n",
    "        loss_fn=loss_fn,\n",
    "    ))\n",
    "timer.blocked_autorange()"
   ]
  },
  {
   "cell_type": "code",
   "execution_count": 23,
   "id": "5e7a4abd",
   "metadata": {},
   "outputs": [
    {
     "data": {
      "text/plain": [
       "<torch.utils.benchmark.utils.common.Measurement object at 0x7fcf6cd39430>\n",
       "loss_fn(scores, labels)\n",
       "  Median: 98.34 us\n",
       "  3 measurements, 1000 runs per measurement, 1 thread"
      ]
     },
     "execution_count": 23,
     "metadata": {},
     "output_type": "execute_result"
    }
   ],
   "source": [
    "# Benchmark the softmax-margin loss.\n",
    "\n",
    "scores = torch.randn((*labels.shape, tree.num_nodes())).to(device)\n",
    "\n",
    "loss_fn = hier_torch.MarginLoss(tree, margin='incorrect', tau=5.0, hardness='soft', with_leaf_targets=True).to(device)\n",
    "loss_fn(scores, labels)\n",
    "\n",
    "timer = benchmark.Timer(\n",
    "    stmt='loss_fn(scores, labels)',\n",
    "    globals=dict(\n",
    "        scores=scores,\n",
    "        labels=labels,\n",
    "        loss_fn=loss_fn,\n",
    "    ))\n",
    "timer.blocked_autorange()"
   ]
  },
  {
   "cell_type": "code",
   "execution_count": 33,
   "id": "f231afbf",
   "metadata": {},
   "outputs": [
    {
     "data": {
      "text/plain": [
       "<torch.utils.benchmark.utils.common.Measurement object at 0x7fce2fe79c40>\n",
       "loss_fn(scores, label_nodes)\n",
       "  Median: 10.07 ms\n",
       "  3 measurements, 10 runs per measurement, 1 thread"
      ]
     },
     "execution_count": 33,
     "metadata": {},
     "output_type": "execute_result"
    }
   ],
   "source": [
    "# Benchmark the flat-softmax loss (with possibility of internal labels).\n",
    "\n",
    "scores = torch.randn((*labels.shape, tree.num_leaf_nodes())).to(device)\n",
    "\n",
    "label_nodes = torch.from_numpy(tree.leaf_subset()).to(device)[labels]\n",
    "\n",
    "loss_fn = hier_torch.FlatSoftmaxNLL(tree).to(device)\n",
    "loss_fn(scores, label_nodes)\n",
    "\n",
    "timer = benchmark.Timer(\n",
    "    stmt='loss_fn(scores, label_nodes)',\n",
    "    globals=dict(\n",
    "        scores=scores,\n",
    "        label_nodes=label_nodes,\n",
    "        loss_fn=loss_fn,\n",
    "    ))\n",
    "timer.blocked_autorange()"
   ]
  },
  {
   "cell_type": "code",
   "execution_count": 34,
   "id": "8fa0615f",
   "metadata": {},
   "outputs": [],
   "source": [
    "class FlatSoftmaxNLL(nn.Module):\n",
    "    \"\"\"Like cross_entropy() but supports internal labels.\"\"\"\n",
    "\n",
    "    def __init__(self, tree):\n",
    "        super().__init__()\n",
    "        # The value is_ancestor[i, j] is true if node i is an ancestor of node j.\n",
    "        is_ancestor = tree.ancestor_mask(strict=False)\n",
    "        # The value is_ancestor_leaf[i, k] is true if node i is an ancestor of leaf k.\n",
    "        node_to_leaf_mask = is_ancestor[:, tree.leaf_mask()]\n",
    "        self.node_to_leaf_mask = torch.from_numpy(node_to_leaf_mask)\n",
    "\n",
    "    def _apply(self, fn):\n",
    "        super()._apply(fn)\n",
    "        self.node_to_leaf_mask = fn(self.node_to_leaf_mask)\n",
    "        return self\n",
    "\n",
    "    def forward(self, scores: torch.Tensor, labels: torch.Tensor) -> torch.Tensor:\n",
    "        logp_leaf = F.log_softmax(scores, dim=-1)\n",
    "        # Obtain logp for leaf descendants, -inf for other nodes.\n",
    "        label_leaf_mask = self.node_to_leaf_mask[labels, :]\n",
    "        inf = torch.tensor(torch.inf, device=scores.device)\n",
    "        logp_descendants = torch.where(label_leaf_mask, logp_leaf, -inf)\n",
    "        logp_label = torch.logsumexp(logp_descendants, dim=-1)\n",
    "        return torch.mean(-logp_label)"
   ]
  },
  {
   "cell_type": "code",
   "execution_count": 35,
   "id": "83b52714",
   "metadata": {},
   "outputs": [
    {
     "data": {
      "text/plain": [
       "<torch.utils.benchmark.utils.common.Measurement object at 0x7fcf6cd9daf0>\n",
       "loss_fn(scores, label_nodes)\n",
       "  206.47 us\n",
       "  1 measurement, 1000 runs , 1 thread"
      ]
     },
     "execution_count": 35,
     "metadata": {},
     "output_type": "execute_result"
    }
   ],
   "source": [
    "# Compare.\n",
    "\n",
    "scores = torch.randn((*labels.shape, tree.num_leaf_nodes())).to(device)\n",
    "\n",
    "label_nodes = torch.from_numpy(tree.leaf_subset()).to(device)[labels]\n",
    "\n",
    "loss_fn = FlatSoftmaxNLL(tree).to(device)\n",
    "loss_fn(scores, label_nodes)\n",
    "\n",
    "timer = benchmark.Timer(\n",
    "    stmt='loss_fn(scores, label_nodes)',\n",
    "    globals=dict(\n",
    "        scores=scores,\n",
    "        label_nodes=label_nodes,\n",
    "        loss_fn=loss_fn,\n",
    "    ))\n",
    "timer.blocked_autorange()"
   ]
  },
  {
   "cell_type": "code",
   "execution_count": null,
   "id": "49dafb27",
   "metadata": {},
   "outputs": [],
   "source": []
  }
 ],
 "metadata": {
  "kernelspec": {
   "display_name": "Python 3 (ipykernel)",
   "language": "python",
   "name": "python3"
  },
  "language_info": {
   "codemirror_mode": {
    "name": "ipython",
    "version": 3
   },
   "file_extension": ".py",
   "mimetype": "text/x-python",
   "name": "python",
   "nbconvert_exporter": "python",
   "pygments_lexer": "ipython3",
   "version": "3.8.10"
  }
 },
 "nbformat": 4,
 "nbformat_minor": 5
}
